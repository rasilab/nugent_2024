{
 "cells": [
  {
   "cell_type": "markdown",
   "metadata": {},
   "source": [
    "# Filter barcodes to remove ones aligning to multiple inserts or second barcode\n",
    "\n",
    "Arvind Rasi Subramaniam\n",
    "\n",
    "27 Oct 2021"
   ]
  },
  {
   "cell_type": "markdown",
   "metadata": {},
   "source": [
    "**Edit this Rscript only in the accompanying .ipynb file. The `snakemake` workflow will automatically export it as a .R script.**"
   ]
  },
  {
   "cell_type": "markdown",
   "metadata": {},
   "source": [
    "## Load libraries"
   ]
  },
  {
   "cell_type": "code",
   "execution_count": 2,
   "metadata": {
    "vscode": {
     "languageId": "r"
    }
   },
   "outputs": [],
   "source": [
    "options(warn = -1)\n",
    "\n",
    "suppressPackageStartupMessages({\n",
    "\n",
    "  library(Biostrings)\n",
    "  library(GenomicAlignments)\n",
    "  library(plyranges)\n",
    "  library(tidyverse)\n",
    "\n",
    "})"
   ]
  },
  {
   "cell_type": "markdown",
   "metadata": {},
   "source": [
    "## Define analysis-specific variables"
   ]
  },
  {
   "cell_type": "code",
   "execution_count": null,
   "metadata": {
    "vscode": {
     "languageId": "r"
    }
   },
   "outputs": [],
   "source": [
    "args <- commandArgs(trailingOnly = T)\n",
    "barcode1_alignment_file <- args[1]\n",
    "barcode2_alignment_file <- args[2]\n",
    "barcode_insert_file <- args[3]\n",
    "read_count_cutoff <- as.numeric(args[4])\n",
    "output_file <- args[5]\n",
    "\n",
    "# barcode1_alignment_file <- \"../data/ref_vs_ref_alignments/rbp_collision/alignment_barcode1.bam\"\n",
    "# barcode2_alignment_file <- \"../data/ref_vs_ref_alignments/rbp_collision/alignment_barcode2.bam\"\n",
    "# barcode_insert_file <- \"../data/insert_barcode_counts/rbp_collision.tsv.gz\"\n",
    "# output_file <- \"../data/filtered_barcodes/rbp_collision.tsv.gz\""
   ]
  },
  {
   "cell_type": "markdown",
   "metadata": {},
   "source": [
    "## Read insert-barcode pair counts "
   ]
  },
  {
   "cell_type": "code",
   "execution_count": null,
   "metadata": {
    "vscode": {
     "languageId": "r"
    }
   },
   "outputs": [],
   "source": [
    "insert_barcodes <- read_csv(barcode_insert_file) %>% \n",
    "  filter(count >= read_count_cutoff) %>%\n",
    "  print()"
   ]
  },
  {
   "cell_type": "markdown",
   "metadata": {},
   "source": [
    "## How many barcode1 have multiple inserts or barcode2?"
   ]
  },
  {
   "cell_type": "code",
   "execution_count": null,
   "metadata": {
    "vscode": {
     "languageId": "r"
    }
   },
   "outputs": [],
   "source": [
    "many_to_one_barcode_combinations <- insert_barcodes %>% \n",
    "  group_by(barcode1) %>% \n",
    "  mutate(n1 = dplyr::n()) %>% \n",
    "  ungroup() %>% \n",
    "  group_by(barcode2) %>% \n",
    "  mutate(n2 = dplyr::n()) %>% \n",
    "  ungroup() %>% \n",
    "  filter((n1 > 1) | (n2 > 1)) %>% \n",
    "  print()"
   ]
  },
  {
   "cell_type": "markdown",
   "metadata": {},
   "source": [
    "## Fields to read from BAM file"
   ]
  },
  {
   "cell_type": "code",
   "execution_count": null,
   "metadata": {
    "vscode": {
     "languageId": "r"
    }
   },
   "outputs": [],
   "source": [
    "# extract the number of mismatches and total edits\n",
    "param <- ScanBamParam(\n",
    "  # what = scanBamWhat(),\n",
    "  what = c(\"qname\", \"flag\"),\n",
    "  # extract number of mismatches\n",
    "  tag = c(\"XM\"), \n",
    "  # include only snps; exclude indels\n",
    "  simpleCigar = T\n",
    ")"
   ]
  },
  {
   "cell_type": "markdown",
   "metadata": {},
   "source": [
    "## Read barcode vs barcode alignments for barcodes 1"
   ]
  },
  {
   "cell_type": "code",
   "execution_count": null,
   "metadata": {
    "vscode": {
     "languageId": "r"
    }
   },
   "outputs": [],
   "source": [
    "bamfile1 <- BamFile(barcode1_alignment_file)\n",
    "alns1 <- readGAlignments(bamfile1, param = param) %>% \n",
    "  as_tibble() %>% \n",
    "  mutate(rname = as.character(seqnames)) %>% \n",
    "  select(rname, qname, flag, XM) %>% \n",
    "  type_convert() %>% \n",
    "  print()"
   ]
  },
  {
   "cell_type": "markdown",
   "metadata": {},
   "source": [
    "## Read barcode vs barcode alignments for barcodes 2"
   ]
  },
  {
   "cell_type": "code",
   "execution_count": null,
   "metadata": {
    "vscode": {
     "languageId": "r"
    }
   },
   "outputs": [],
   "source": [
    "bamfile2 <- BamFile(barcode2_alignment_file)\n",
    "alns2 <- readGAlignments(bamfile2, param = param) %>% \n",
    "  as_tibble() %>% \n",
    "  mutate(rname = as.character(seqnames)) %>% \n",
    "  select(rname, qname, flag, XM) %>% \n",
    "  type_convert() %>% \n",
    "  print()"
   ]
  },
  {
   "cell_type": "markdown",
   "metadata": {},
   "source": [
    "## Find barcode1 that are linked to distinct insert or might be sequencing errors"
   ]
  },
  {
   "cell_type": "code",
   "execution_count": null,
   "metadata": {
    "vscode": {
     "languageId": "r"
    }
   },
   "outputs": [],
   "source": [
    "exclude1 <- alns1 %>% \n",
    "  filter(rname != qname) %>%\n",
    "  left_join(select(insert_barcodes, insert_num, barcode_num, count), by = c(\"rname\" = \"barcode_num\")) %>%\n",
    "  rename(rinsert = insert_num, rcount = count) %>%\n",
    "  right_join(select(insert_barcodes, insert_num, barcode_num, count), by = c(\"qname\" = \"barcode_num\")) %>%\n",
    "  rename(qinsert = insert_num, qcount = count) %>%\n",
    "  # this exludes:\n",
    "  # 1. barcodes that map to two distinct inserts\n",
    "  # 2. barcodes that got lower count than another homologous barcode with same insert\n",
    "  filter(!(qinsert == rinsert & qcount > rcount)) %>%\n",
    "  arrange(qname) %>% \n",
    "  distinct(qname) %>%\n",
    "  print()"
   ]
  },
  {
   "cell_type": "markdown",
   "metadata": {},
   "source": [
    "## Find barcode2 that are linked to distinct insert or might be sequencing errors"
   ]
  },
  {
   "cell_type": "code",
   "execution_count": null,
   "metadata": {
    "vscode": {
     "languageId": "r"
    }
   },
   "outputs": [],
   "source": [
    "exclude2 <- alns2 %>% \n",
    "  filter(rname != qname) %>%\n",
    "  left_join(select(insert_barcodes, insert_num, barcode_num, count), by = c(\"rname\" = \"barcode_num\")) %>%\n",
    "  rename(rinsert = insert_num, rcount = count) %>%\n",
    "  right_join(select(insert_barcodes, insert_num, barcode_num, count), by = c(\"qname\" = \"barcode_num\")) %>%\n",
    "  rename(qinsert = insert_num, qcount = count) %>%\n",
    "  # this exludes:\n",
    "  # 1. barcodes that map to two distinct inserts\n",
    "  # 2. barcodes that got lower count than another homologous barcode with same insert\n",
    "  filter(!(qinsert == rinsert & qcount > rcount)) %>%\n",
    "  arrange(qname) %>% \n",
    "  distinct(qname) %>%\n",
    "  print()"
   ]
  },
  {
   "cell_type": "markdown",
   "metadata": {},
   "source": [
    "## Write barcodes that do not clash to output"
   ]
  },
  {
   "cell_type": "code",
   "execution_count": null,
   "metadata": {
    "vscode": {
     "languageId": "r"
    }
   },
   "outputs": [],
   "source": [
    "filtered_barcodes <- insert_barcodes %>% \n",
    "  anti_join(select(exclude1, qname), by = c(\"barcode_num\" = \"qname\")) %>%\n",
    "  anti_join(select(exclude2, qname), by = c(\"barcode_num\" = \"qname\")) %>%\n",
    "  anti_join(select(many_to_one_barcode_combinations, barcode_num), by = \"barcode_num\") %>%\n",
    "  mutate(barcode2 = as.character(reverseComplement(DNAStringSet(barcode2)))) %>%\n",
    "  select(insert_num, barcode_num, barcode1, barcode2, count) %>%\n",
    "  arrange(desc(count)) %>%\n",
    "  rename(linkage_count = count) %>%\n",
    "  mutate(barcode_num = 1:dplyr::n()) %>%\n",
    "  write_csv(output_file) %>%\n",
    "  print()"
   ]
  }
 ],
 "metadata": {
  "kernelspec": {
   "display_name": "R",
   "language": "R",
   "name": "ir"
  },
  "language_info": {
   "codemirror_mode": "r",
   "file_extension": ".r",
   "mimetype": "text/x-r-source",
   "name": "R",
   "pygments_lexer": "r",
   "version": "4.2.2"
  },
  "orig_nbformat": 4
 },
 "nbformat": 4,
 "nbformat_minor": 2
}
