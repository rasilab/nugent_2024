{
 "cells": [
  {
   "attachments": {},
   "cell_type": "markdown",
   "metadata": {},
   "source": [
    "# Create input files for MaGeCK"
   ]
  },
  {
   "attachments": {},
   "cell_type": "markdown",
   "metadata": {},
   "source": [
    "### Load libraries"
   ]
  },
  {
   "cell_type": "code",
   "execution_count": null,
   "metadata": {
    "vscode": {
     "languageId": "r"
    }
   },
   "outputs": [],
   "source": [
    "suppressPackageStartupMessages(library(tidyverse))"
   ]
  },
  {
   "cell_type": "code",
   "execution_count": null,
   "metadata": {
    "vscode": {
     "languageId": "r"
    }
   },
   "outputs": [],
   "source": [
    "args <- commandArgs(trailingOnly = TRUE)\n",
    "treatment_counts_file <- args[1]\n",
    "control_counts_file <- args[2]\n",
    "insert_annotation_file <- args[3]\n",
    "umi_cutoff <- as.numeric(args[4])\n",
    "output_file <- args[5]"
   ]
  },
  {
   "cell_type": "code",
   "execution_count": null,
   "metadata": {
    "vscode": {
     "languageId": "r"
    }
   },
   "outputs": [],
   "source": [
    "insert_annotations <- read_csv(insert_annotation_file, show_col_types = FALSE) %>%\n",
    "  select(insert_num, gene, sgrna)"
   ]
  },
  {
   "cell_type": "code",
   "execution_count": null,
   "metadata": {
    "vscode": {
     "languageId": "r"
    }
   },
   "outputs": [],
   "source": [
    "counts <- list(\n",
    "  \"treatment\" = read_csv(treatment_counts_file, show_col_types = FALSE),\n",
    "  \"control\" = read_csv(control_counts_file, show_col_types = FALSE)\n",
    ") %>%\n",
    "  bind_rows(.id = \"sample\") %>%\n",
    "  select(insert_num, sample, umi_count) %>%\n",
    "  pivot_wider(names_from = sample, values_from = umi_count, values_fill = umi_cutoff) %>%\n",
    "  left_join(insert_annotations, by = \"insert_num\") %>%\n",
    "  select(sgrna, gene, treatment, control) %>%\n",
    "  write_tsv(output_file)\n"
   ]
  }
 ],
 "metadata": {
  "kernelspec": {
   "display_name": "R",
   "language": "R",
   "name": "ir"
  },
  "language_info": {
   "codemirror_mode": "r",
   "file_extension": ".r",
   "mimetype": "text/x-r-source",
   "name": "R",
   "pygments_lexer": "r",
   "version": "4.2.2"
  },
  "orig_nbformat": 4,
  "vscode": {
   "interpreter": {
    "hash": "31f2aee4e71d21fbe5cf8b01ff0e069b9275f58929596ceb00d14d90e3e16cd6"
   }
  }
 },
 "nbformat": 4,
 "nbformat_minor": 2
}
