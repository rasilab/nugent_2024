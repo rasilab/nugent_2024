{
 "cells": [
  {
   "cell_type": "markdown",
   "metadata": {},
   "source": [
    "# Analyze EYFP harringtonine screen"
   ]
  },
  {
   "cell_type": "markdown",
   "metadata": {},
   "source": [
    "## Load libraries and define analysis parameters"
   ]
  },
  {
   "cell_type": "code",
   "execution_count": 1,
   "metadata": {
    "vscode": {
     "languageId": "r"
    }
   },
   "outputs": [],
   "source": [
    "options(warn = -1, repr.matrix.max.rows = 10, display.matrix.max.cols = 1000)\n",
    "\n",
    "suppressPackageStartupMessages({\n",
    "  library(org.Hs.eg.db)\n",
    "  library(tidyverse)\n",
    "  library(rasilabRtemplates)\n",
    "})\n",
    "\n",
    "cbPalette_12 <- c(\n",
    "  \"#DDCC77\", \"#CC6677\", \"#6699CC\", \"#661100\", \"#117733\", \"#999933\",\n",
    "  \"#332288\", \"#AA4499\", \"#44AA99\", \"#882255\", \"#88CCEE\", \"#999999\"\n",
    ")\n",
    "\n",
    "theme_set(theme_rasilab() +\n",
    "  theme(\n",
    "    axis.line = element_line(color = \"grey\"),\n",
    "    axis.title.y = element_text(margin = margin(r = 10)),\n",
    "    axis.title.x = element_text(margin = margin(t = 10))\n",
    "  ))\n",
    "\n",
    "fdr_cutoff <- 0.05\n",
    "p_value_cutoff <- 0.05\n",
    "\n",
    "set.seed(111)\n"
   ]
  },
  {
   "cell_type": "markdown",
   "metadata": {},
   "source": [
    "## Load MaGeCK gene-level results for EYFP screens"
   ]
  },
  {
   "cell_type": "code",
   "execution_count": 2,
   "metadata": {
    "vscode": {
     "languageId": "r"
    }
   },
   "outputs": [
    {
     "name": "stdout",
     "output_type": "stream",
     "text": [
      "\u001b[90m# A tibble: 2,186 × 19\u001b[39m\n",
      "   sample_…¹ treat…² control gene    num neg_s…³ neg_p…⁴ neg_fdr neg_r…⁵ neg_g…⁶\n",
      "   \u001b[3m\u001b[90m<chr>\u001b[39m\u001b[23m     \u001b[3m\u001b[90m<chr>\u001b[39m\u001b[23m   \u001b[3m\u001b[90m<chr>\u001b[39m\u001b[23m   \u001b[3m\u001b[90m<chr>\u001b[39m\u001b[23m \u001b[3m\u001b[90m<dbl>\u001b[39m\u001b[23m   \u001b[3m\u001b[90m<dbl>\u001b[39m\u001b[23m   \u001b[3m\u001b[90m<dbl>\u001b[39m\u001b[23m   \u001b[3m\u001b[90m<dbl>\u001b[39m\u001b[23m   \u001b[3m\u001b[90m<dbl>\u001b[39m\u001b[23m   \u001b[3m\u001b[90m<dbl>\u001b[39m\u001b[23m\n",
      "\u001b[90m 1\u001b[39m eyfpwt_h… eyfpwt… eyfpwt… GCN1      4  1       1           \u001b[31mNA\u001b[39m    \u001b[4m2\u001b[24m186       0\n",
      "\u001b[90m 2\u001b[39m eyfpwt_h… eyfpwt… eyfpwt… PDIA4     4  0.020\u001b[4m1\u001b[24m  0.058\u001b[4m6\u001b[24m      \u001b[31mNA\u001b[39m     140       2\n",
      "\u001b[90m 3\u001b[39m eyfpwt_h… eyfpwt… eyfpwt… PTCD2     4  0.047\u001b[4m2\u001b[24m  0.114       \u001b[31mNA\u001b[39m     249       1\n",
      "\u001b[90m 4\u001b[39m eyfpwt_h… eyfpwt… eyfpwt… TNPO3     4  0.901   0.902       \u001b[31mNA\u001b[39m    \u001b[4m1\u001b[24m960       0\n",
      "\u001b[90m 5\u001b[39m eyfpwt_h… eyfpwt… eyfpwt… EIF3A     3  0.607   0.618       \u001b[31mNA\u001b[39m    \u001b[4m1\u001b[24m425       1\n",
      "\u001b[90m 6\u001b[39m eyfpwt_h… eyfpwt… eyfpwt… NXF2B     4  0.998   0.998       \u001b[31mNA\u001b[39m    \u001b[4m2\u001b[24m182       0\n",
      "\u001b[90m 7\u001b[39m eyfpwt_h… eyfpwt… eyfpwt… CISD2     4  0.550   0.630       \u001b[31mNA\u001b[39m    \u001b[4m1\u001b[24m348       1\n",
      "\u001b[90m 8\u001b[39m eyfpwt_h… eyfpwt… eyfpwt… NOL7      4  0.656   0.691       \u001b[31mNA\u001b[39m    \u001b[4m1\u001b[24m492       1\n",
      "\u001b[90m 9\u001b[39m eyfpwt_h… eyfpwt… eyfpwt… EIF5…     4  0.999   0.999       \u001b[31mNA\u001b[39m    \u001b[4m2\u001b[24m185       0\n",
      "\u001b[90m10\u001b[39m eyfpwt_h… eyfpwt… eyfpwt… FAST…     4  0.999   0.999       \u001b[31mNA\u001b[39m    \u001b[4m2\u001b[24m184       0\n",
      "\u001b[90m# … with 2,176 more rows, 9 more variables: pos_score <dbl>, pos_p_value <dbl>,\u001b[39m\n",
      "\u001b[90m#   pos_fdr <dbl>, pos_rank <dbl>, pos_goodsgrna <dbl>, lfc <dbl>,\u001b[39m\n",
      "\u001b[90m#   p_value <dbl>, fdr <dbl>, goodsgrna <dbl>, and abbreviated variable names\u001b[39m\n",
      "\u001b[90m#   ¹​sample_name, ²​treatment, ³​neg_score, ⁴​neg_p_value, ⁵​neg_rank,\u001b[39m\n",
      "\u001b[90m#   ⁶​neg_goodsgrna\u001b[39m\n"
     ]
    }
   ],
   "source": [
    "mageck_gene <- list.files(\"../data/mageck/\", full.names = T, recursive = T, pattern = \"gene_summary.tsv$\") %>%\n",
    "  as_tibble_col(\"file\") %>%\n",
    "  filter(str_detect(file, \"eyfp\")) %>%\n",
    "  mutate(sample_name = str_extract(file, \"(?<=mageck//).+(?=/mageck.)\")) %>%\n",
    "  separate(sample_name, c(\"treatment\", \"control\"), sep = \"_vs_\", remove = F) %>%\n",
    "  mutate(data = map(file, . %>% read_tsv(show_col_types = F))) %>%\n",
    "  select(-file) %>%\n",
    "  unnest(data) %>%\n",
    "  janitor::clean_names() %>%\n",
    "  select(-neg_lfc) %>%\n",
    "  rename(lfc = pos_lfc, gene = id) %>%\n",
    "  mutate(p_value = if_else(lfc > 0, pos_p_value, neg_p_value)) %>%\n",
    "  mutate(fdr = if_else(lfc > 0, pos_fdr, neg_fdr)) %>%\n",
    "  mutate(goodsgrna = if_else(lfc > 0, pos_goodsgrna, neg_goodsgrna)) %>%\n",
    "  mutate(fdr = if_else(is.na(fdr), 1, fdr)) %>%\n",
    "  print()\n"
   ]
  },
  {
   "cell_type": "markdown",
   "metadata": {},
   "source": [
    "## Load MaGeCK sgRNA-level results for EYFP screens"
   ]
  },
  {
   "cell_type": "code",
   "execution_count": 3,
   "metadata": {
    "vscode": {
     "languageId": "r"
    }
   },
   "outputs": [
    {
     "name": "stdout",
     "output_type": "stream",
     "text": [
      "\u001b[90m# A tibble: 8,622 × 18\u001b[39m\n",
      "   sample_n…¹ treat…² control sgrna gene  contr…³ treat…⁴ contr…⁵ treat…⁶    lfc\n",
      "   \u001b[3m\u001b[90m<chr>\u001b[39m\u001b[23m      \u001b[3m\u001b[90m<chr>\u001b[39m\u001b[23m   \u001b[3m\u001b[90m<chr>\u001b[39m\u001b[23m   \u001b[3m\u001b[90m<chr>\u001b[39m\u001b[23m \u001b[3m\u001b[90m<chr>\u001b[39m\u001b[23m   \u001b[3m\u001b[90m<dbl>\u001b[39m\u001b[23m   \u001b[3m\u001b[90m<dbl>\u001b[39m\u001b[23m   \u001b[3m\u001b[90m<dbl>\u001b[39m\u001b[23m   \u001b[3m\u001b[90m<dbl>\u001b[39m\u001b[23m  \u001b[3m\u001b[90m<dbl>\u001b[39m\u001b[23m\n",
      "\u001b[90m 1\u001b[39m eyfpwt_ho… eyfpwt… eyfpwt… PTCD… PTCD2  \u001b[4m1\u001b[24m632.    \u001b[4m5\u001b[24m281   \u001b[4m1\u001b[24m632.    \u001b[4m5\u001b[24m281   1.69 \n",
      "\u001b[90m 2\u001b[39m eyfpwt_ho… eyfpwt… eyfpwt… EIF3… EIF3A    50.2    472.    50.2    472.  3.21 \n",
      "\u001b[90m 3\u001b[39m eyfpwt_ho… eyfpwt… eyfpwt… GTF3… GTF3A  \u001b[4m5\u001b[24m434.    \u001b[4m1\u001b[24m980.  \u001b[4m5\u001b[24m434.    \u001b[4m1\u001b[24m980. -\u001b[31m1\u001b[39m\u001b[31m.\u001b[39m\u001b[31m46\u001b[39m \n",
      "\u001b[90m 4\u001b[39m eyfpwt_ho… eyfpwt… eyfpwt… POLR… POLR…    42.5    290.    42.5    290.  2.74 \n",
      "\u001b[90m 5\u001b[39m eyfpwt_ho… eyfpwt… eyfpwt… RBM2… RBM25   155.     624.   155.     624.  2.00 \n",
      "\u001b[90m 6\u001b[39m eyfpwt_ho… eyfpwt… eyfpwt… METT… METT…   670.    \u001b[4m1\u001b[24m523.   670.    \u001b[4m1\u001b[24m523.  1.18 \n",
      "\u001b[90m 7\u001b[39m eyfpwt_ho… eyfpwt… eyfpwt… CCT7… CCT7     94.6    414.    94.6    414.  2.12 \n",
      "\u001b[90m 8\u001b[39m eyfpwt_ho… eyfpwt… eyfpwt… PDIA… PDIA4  \u001b[4m2\u001b[24m432.    \u001b[4m3\u001b[24m965.  \u001b[4m2\u001b[24m432.    \u001b[4m3\u001b[24m965.  0.705\n",
      "\u001b[90m 9\u001b[39m eyfpwt_ho… eyfpwt… eyfpwt… USO1… USO1   \u001b[4m2\u001b[24m288.    \u001b[4m3\u001b[24m770.  \u001b[4m2\u001b[24m288.    \u001b[4m3\u001b[24m770.  0.720\n",
      "\u001b[90m10\u001b[39m eyfpwt_ho… eyfpwt… eyfpwt… FTSJ… FTSJ1    63.7    306.    63.7    306.  2.25 \n",
      "\u001b[90m# … with 8,612 more rows, 8 more variables: control_var <dbl>, adj_var <dbl>,\u001b[39m\n",
      "\u001b[90m#   score <dbl>, p_low <dbl>, p_high <dbl>, p_twosided <dbl>, fdr <dbl>,\u001b[39m\n",
      "\u001b[90m#   high_in_treatment <lgl>, and abbreviated variable names ¹​sample_name,\u001b[39m\n",
      "\u001b[90m#   ²​treatment, ³​control_count, ⁴​treatment_count, ⁵​control_mean, ⁶​treat_mean\u001b[39m\n"
     ]
    }
   ],
   "source": [
    "mageck_sgrna <- list.files(\"../data/mageck/\", full.names = T, recursive = T, pattern = \"sgrna_summary.tsv$\") %>%\n",
    "  as_tibble_col(\"file\") %>%\n",
    "  filter(str_detect(file, \"eyfp\")) %>%\n",
    "  mutate(sample_name = str_extract(file, \"(?<=mageck//).+(?=/mageck.)\")) %>%\n",
    "  separate(sample_name, c(\"treatment\", \"control\"), sep = \"_vs_\", remove = F) %>%\n",
    "  mutate(data = map(file, . %>% read_tsv(show_col_types = F))) %>%\n",
    "  select(-file) %>%\n",
    "  unnest(data) %>%\n",
    "  janitor::clean_names() %>%\n",
    "  print()\n"
   ]
  },
  {
   "cell_type": "code",
   "execution_count": 4,
   "metadata": {
    "vscode": {
     "languageId": "r"
    }
   },
   "outputs": [
    {
     "data": {
      "image/png": "[encoded data removed]",
      "text/plain": [
       "plot without title"
      ]
     },
     "metadata": {
      "image/png": {
       "height": 150,
       "width": 144
      }
     },
     "output_type": "display_data"
    }
   ],
   "source": [
    "options(repr.plot.width = 2.4, repr.plot.height = 2.5)\n",
    "\n",
    "plot_data <- mageck_gene %>%\n",
    "  filter(str_detect(sample_name, \"harr\")) %>%\n",
    "  filter(!str_detect(gene, \"MCHERRY|PURO\"))\n",
    "\n",
    "plot_data %>%\n",
    "  ggplot(aes(x = lfc, y = -log10(pos_fdr))) +\n",
    "  geom_hline(aes(yintercept = -log10(fdr_cutoff)), linetype = 2, linewidth = 0.5, color = \"grey\") +\n",
    "  geom_point(size = 1, alpha = 1, data = plot_data %>% filter(fdr > fdr_cutoff | lfc < 0), color = \"grey\", fill = \"grey\") +\n",
    "  geom_point(\n",
    "    size = 2, alpha = 1,\n",
    "    data = plot_data %>% filter(fdr < fdr_cutoff & lfc > 0), show.legend = F\n",
    "  ) +\n",
    "  geom_text(aes(label = gene), data = plot_data %>% filter(fdr < fdr_cutoff & lfc > 0), nudge_x = -0.25, nudge_y = -0.25, size = 3) +\n",
    "  scale_x_continuous(breaks = scales::pretty_breaks(n = 3)) +\n",
    "  scale_y_continuous(breaks = scales::pretty_breaks(n = 3)) +\n",
    "  scale_color_manual(values = cbPalette_12[c(3,12)]) +\n",
    "  scale_fill_manual(values = cbPalette_12[c(3,12)]) +\n",
    "  scale_shape_manual(values = rep(c(\"circle filled\", \"square filled\", \"diamond filled\", \"circle\", \"plus\", \"triangle filled\", \"triangle down filled\", \"diamond filled\"), 5)) +\n",
    "  labs(x = \"log2 mRNA ratio\\n(HHT / DMSO)\", y = \"-log10 FDR\") +\n",
    "  theme(legend.title = element_blank())\n",
    "\n",
    "ggsave(\"../figures/eyfp_harr_volcano.pdf\", width = 2.4, height = 2.5, units = \"in\")\n"
   ]
  },
  {
   "cell_type": "code",
   "execution_count": 5,
   "metadata": {
    "vscode": {
     "languageId": "r"
    }
   },
   "outputs": [
    {
     "data": {
      "image/png": "[encoded data removed]",
      "text/plain": [
       "plot without title"
      ]
     },
     "metadata": {
      "image/png": {
       "height": 108,
       "width": 150
      }
     },
     "output_type": "display_data"
    }
   ],
   "source": [
    "options(repr.plot.width = 2.5, repr.plot.height = 1.8)\n",
    "\n",
    "plot_data <- mageck_sgrna %>%\n",
    "  filter(str_detect(sample_name, \"harr\")) %>%\n",
    "  filter(str_detect(gene, \"GCN1|EIF2AK4|ZNF598|GIGYF2|DDX6$|NLUC$\")) %>%\n",
    "  mutate(gene = if_else(gene == \"EIF2AK4\", \"GCN2\", gene)) %>%\n",
    "  mutate(gene = fct_relevel(gene, \"GCN1\", \"GCN2\", \"ZNF598\", \"GIGYF2\", \"DDX6\", \"NLUC\")) %>%\n",
    "  mutate(sgrna = case_when(\n",
    "    str_detect(sgrna, \"1_2\") ~ 1,\n",
    "    str_detect(sgrna, \"2_3\") ~ 2,\n",
    "    str_detect(sgrna, \"3_4\") ~ 3,\n",
    "    str_detect(sgrna, \"4_1\") ~ 4,\n",
    "  ))\n",
    "\n",
    "mean_data <- plot_data %>% \n",
    "    group_by(gene) %>% \n",
    "    summarize(lfc_se = sd(lfc) / sqrt(n()), lfc = mean(lfc))\n",
    "\n",
    "plot_data %>%\n",
    "  ggplot(aes(x = gene, y = lfc, color = gene)) +\n",
    "  geom_jitter(height = 0, width = 0.2, size = 1, show.legend = F) +\n",
    "  # geom_point(data = mean_data, shape = 1, size = 2, color = \"grey\") +\n",
    "  # geom_errorbar(aes(ymin = lfc - lfc_se, ymax = lfc + lfc_se), data = mean_data, linewidth = 1, width = 0.3, color = \"black\") +\n",
    "  geom_hline(aes(yintercept = 0), linetype = 2, linewidth = 0.5, color = \"grey\") +\n",
    "  theme(axis.text.x = element_text(angle = 45, hjust = 1)) +\n",
    "  scale_y_continuous(limits = c(-0.5, 1)) +\n",
    "  scale_color_manual(values = cbPalette_12[c(3,4,5,6,7,12)]) +\n",
    "  labs(y = \"log2 mRNA ratio\\n(HHT / DMSO)\", x = \"sgRNA\")\n",
    "\n",
    "ggsave(\"../figures/gcn1_sgrna_hht.pdf\", width = 2.5, height = 1.8, units = \"in\")"
   ]
  },
  {
   "cell_type": "code",
   "execution_count": 6,
   "metadata": {
    "vscode": {
     "languageId": "r"
    }
   },
   "outputs": [
    {
     "data": {
      "text/html": [
       "<table class=\"dataframe\">\n",
       "<caption>A grouped_df: 6 × 3</caption>\n",
       "<thead>\n",
       "\t<tr><th scope=col>gene</th><th scope=col>data</th><th scope=col>t</th></tr>\n",
       "\t<tr><th scope=col>&lt;fct&gt;</th><th scope=col>&lt;list&gt;</th><th scope=col>&lt;dbl&gt;</th></tr>\n",
       "</thead>\n",
       "<tbody>\n",
       "\t<tr><td>GCN1  </td><td>c(1, 3, ....</td><td>0.003023818</td></tr>\n",
       "\t<tr><td>GIGYF2</td><td>c(2, 1, ....</td><td>0.696418198</td></tr>\n",
       "\t<tr><td>NLUC  </td><td>c(2, 3, ....</td><td>0.917611429</td></tr>\n",
       "\t<tr><td>GCN2  </td><td>c(2, 1, ....</td><td>0.342990459</td></tr>\n",
       "\t<tr><td>ZNF598</td><td>c(2, 3, ....</td><td>0.418791406</td></tr>\n",
       "\t<tr><td>DDX6  </td><td>c(1, 4, ....</td><td>0.519364951</td></tr>\n",
       "</tbody>\n",
       "</table>\n"
      ],
      "text/latex": [
       "A grouped\\_df: 6 × 3\n",
       "\\begin{tabular}{lll}\n",
       " gene & data & t\\\\\n",
       " <fct> & <list> & <dbl>\\\\\n",
       "\\hline\n",
       "\t GCN1   & c(1, 3, .... & 0.003023818\\\\\n",
       "\t GIGYF2 & c(2, 1, .... & 0.696418198\\\\\n",
       "\t NLUC   & c(2, 3, .... & 0.917611429\\\\\n",
       "\t GCN2   & c(2, 1, .... & 0.342990459\\\\\n",
       "\t ZNF598 & c(2, 3, .... & 0.418791406\\\\\n",
       "\t DDX6   & c(1, 4, .... & 0.519364951\\\\\n",
       "\\end{tabular}\n"
      ],
      "text/markdown": [
       "\n",
       "A grouped_df: 6 × 3\n",
       "\n",
       "| gene &lt;fct&gt; | data &lt;list&gt; | t &lt;dbl&gt; |\n",
       "|---|---|---|\n",
       "| GCN1   | c(1, 3, .... | 0.003023818 |\n",
       "| GIGYF2 | c(2, 1, .... | 0.696418198 |\n",
       "| NLUC   | c(2, 3, .... | 0.917611429 |\n",
       "| GCN2   | c(2, 1, .... | 0.342990459 |\n",
       "| ZNF598 | c(2, 3, .... | 0.418791406 |\n",
       "| DDX6   | c(1, 4, .... | 0.519364951 |\n",
       "\n"
      ],
      "text/plain": [
       "  gene   data         t          \n",
       "1 GCN1   c(1, 3, .... 0.003023818\n",
       "2 GIGYF2 c(2, 1, .... 0.696418198\n",
       "3 NLUC   c(2, 3, .... 0.917611429\n",
       "4 GCN2   c(2, 1, .... 0.342990459\n",
       "5 ZNF598 c(2, 3, .... 0.418791406\n",
       "6 DDX6   c(1, 4, .... 0.519364951"
      ]
     },
     "metadata": {},
     "output_type": "display_data"
    }
   ],
   "source": [
    "plot_data  %>%\n",
    "  select(sgrna, gene, lfc) %>%\n",
    "  group_by(gene) %>%\n",
    "  nest() %>%\n",
    "  mutate(t = map_dbl(data, ~ t.test(.$lfc, mu = 0)$p.value))"
   ]
  }
 ],
 "metadata": {
  "kernelspec": {
   "display_name": "R",
   "language": "R",
   "name": "ir"
  },
  "language_info": {
   "codemirror_mode": "r",
   "file_extension": ".r",
   "mimetype": "text/x-r-source",
   "name": "R",
   "pygments_lexer": "r",
   "version": "4.2.2"
  }
 },
 "nbformat": 4,
 "nbformat_minor": 2
}
