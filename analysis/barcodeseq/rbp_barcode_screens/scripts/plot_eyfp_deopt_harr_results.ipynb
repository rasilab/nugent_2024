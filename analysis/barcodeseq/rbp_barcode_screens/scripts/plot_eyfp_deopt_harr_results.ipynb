{
 "cells": [
  {
   "cell_type": "markdown",
   "metadata": {},
   "source": [
    "# Analyze EYFP harringtonine screen"
   ]
  },
  {
   "cell_type": "markdown",
   "metadata": {},
   "source": [
    "## Load libraries and define analysis parameters"
   ]
  },
  {
   "cell_type": "code",
   "execution_count": 1,
   "metadata": {
    "vscode": {
     "languageId": "r"
    }
   },
   "outputs": [],
   "source": [
    "options(warn = -1, repr.matrix.max.rows = 10, display.matrix.max.cols = 1000)\n",
    "\n",
    "suppressPackageStartupMessages({\n",
    "  library(org.Hs.eg.db)\n",
    "  library(tidyverse)\n",
    "  library(rasilabRtemplates)\n",
    "})\n",
    "\n",
    "cbPalette_12 <- c(\n",
    "  \"#DDCC77\", \"#CC6677\", \"#6699CC\", \"#661100\", \"#117733\", \"#999933\",\n",
    "  \"#332288\", \"#AA4499\", \"#44AA99\", \"#882255\", \"#88CCEE\", \"#999999\"\n",
    ")\n",
    "\n",
    "theme_set(theme_rasilab() +\n",
    "  theme(\n",
    "    axis.line = element_line(color = \"grey\"),\n",
    "    axis.title.y = element_text(margin = margin(r = 10)),\n",
    "    axis.title.x = element_text(margin = margin(t = 10))\n",
    "  ))\n",
    "\n",
    "fdr_cutoff <- 0.05\n",
    "p_value_cutoff <- 0.05\n",
    "\n",
    "set.seed(111)\n"
   ]
  },
  {
   "cell_type": "markdown",
   "metadata": {},
   "source": [
    "## Load MaGeCK gene-level results for EYFP screens"
   ]
  },
  {
   "cell_type": "code",
   "execution_count": 2,
   "metadata": {
    "vscode": {
     "languageId": "r"
    }
   },
   "outputs": [
    {
     "name": "stdout",
     "output_type": "stream",
     "text": [
      "\u001b[90m# A tibble: 2,186 × 19\u001b[39m\n",
      "   sample_…¹ treat…² control gene    num neg_s…³ neg_p…⁴ neg_fdr neg_r…⁵ neg_g…⁶\n",
      "   \u001b[3m\u001b[90m<chr>\u001b[39m\u001b[23m     \u001b[3m\u001b[90m<chr>\u001b[39m\u001b[23m   \u001b[3m\u001b[90m<chr>\u001b[39m\u001b[23m   \u001b[3m\u001b[90m<chr>\u001b[39m\u001b[23m \u001b[3m\u001b[90m<dbl>\u001b[39m\u001b[23m   \u001b[3m\u001b[90m<dbl>\u001b[39m\u001b[23m   \u001b[3m\u001b[90m<dbl>\u001b[39m\u001b[23m   \u001b[3m\u001b[90m<dbl>\u001b[39m\u001b[23m   \u001b[3m\u001b[90m<dbl>\u001b[39m\u001b[23m   \u001b[3m\u001b[90m<dbl>\u001b[39m\u001b[23m\n",
      "\u001b[90m 1\u001b[39m eyfpwt_h… eyfpwt… eyfpwt… GCN1      4  1       1           \u001b[31mNA\u001b[39m    \u001b[4m2\u001b[24m186       0\n",
      "\u001b[90m 2\u001b[39m eyfpwt_h… eyfpwt… eyfpwt… PDIA4     4  0.020\u001b[4m1\u001b[24m  0.058\u001b[4m6\u001b[24m      \u001b[31mNA\u001b[39m     140       2\n",
      "\u001b[90m 3\u001b[39m eyfpwt_h… eyfpwt… eyfpwt… PTCD2     4  0.047\u001b[4m2\u001b[24m  0.114       \u001b[31mNA\u001b[39m     249       1\n",
      "\u001b[90m 4\u001b[39m eyfpwt_h… eyfpwt… eyfpwt… TNPO3     4  0.901   0.902       \u001b[31mNA\u001b[39m    \u001b[4m1\u001b[24m960       0\n",
      "\u001b[90m 5\u001b[39m eyfpwt_h… eyfpwt… eyfpwt… EIF3A     3  0.607   0.618       \u001b[31mNA\u001b[39m    \u001b[4m1\u001b[24m425       1\n",
      "\u001b[90m 6\u001b[39m eyfpwt_h… eyfpwt… eyfpwt… NXF2B     4  0.998   0.998       \u001b[31mNA\u001b[39m    \u001b[4m2\u001b[24m182       0\n",
      "\u001b[90m 7\u001b[39m eyfpwt_h… eyfpwt… eyfpwt… CISD2     4  0.550   0.630       \u001b[31mNA\u001b[39m    \u001b[4m1\u001b[24m348       1\n",
      "\u001b[90m 8\u001b[39m eyfpwt_h… eyfpwt… eyfpwt… NOL7      4  0.656   0.691       \u001b[31mNA\u001b[39m    \u001b[4m1\u001b[24m492       1\n",
      "\u001b[90m 9\u001b[39m eyfpwt_h… eyfpwt… eyfpwt… EIF5…     4  0.999   0.999       \u001b[31mNA\u001b[39m    \u001b[4m2\u001b[24m185       0\n",
      "\u001b[90m10\u001b[39m eyfpwt_h… eyfpwt… eyfpwt… FAST…     4  0.999   0.999       \u001b[31mNA\u001b[39m    \u001b[4m2\u001b[24m184       0\n",
      "\u001b[90m# … with 2,176 more rows, 9 more variables: pos_score <dbl>, pos_p_value <dbl>,\u001b[39m\n",
      "\u001b[90m#   pos_fdr <dbl>, pos_rank <dbl>, pos_goodsgrna <dbl>, lfc <dbl>,\u001b[39m\n",
      "\u001b[90m#   p_value <dbl>, fdr <dbl>, goodsgrna <dbl>, and abbreviated variable names\u001b[39m\n",
      "\u001b[90m#   ¹​sample_name, ²​treatment, ³​neg_score, ⁴​neg_p_value, ⁵​neg_rank,\u001b[39m\n",
      "\u001b[90m#   ⁶​neg_goodsgrna\u001b[39m\n"
     ]
    }
   ],
   "source": [
    "mageck_gene <- list.files(\"../data/mageck/\", full.names = T, recursive = T, pattern = \"gene_summary.tsv$\") %>%\n",
    "  as_tibble_col(\"file\") %>%\n",
    "  filter(str_detect(file, \"eyfp\")) %>%\n",
    "  mutate(sample_name = str_extract(file, \"(?<=mageck//).+(?=/mageck.)\")) %>%\n",
    "  separate(sample_name, c(\"treatment\", \"control\"), sep = \"_vs_\", remove = F) %>%\n",
    "  mutate(data = map(file, . %>% read_tsv(show_col_types = F))) %>%\n",
    "  select(-file) %>%\n",
    "  unnest(data) %>%\n",
    "  janitor::clean_names() %>%\n",
    "  select(-neg_lfc) %>%\n",
    "  rename(lfc = pos_lfc, gene = id) %>%\n",
    "  mutate(p_value = if_else(lfc > 0, pos_p_value, neg_p_value)) %>%\n",
    "  mutate(fdr = if_else(lfc > 0, pos_fdr, neg_fdr)) %>%\n",
    "  mutate(goodsgrna = if_else(lfc > 0, pos_goodsgrna, neg_goodsgrna)) %>%\n",
    "  mutate(fdr = if_else(is.na(fdr), 1, fdr)) %>%\n",
    "  print()\n"
   ]
  },
  {
   "cell_type": "markdown",
   "metadata": {},
   "source": [
    "## Load MaGeCK sgRNA-level results for EYFP screens"
   ]
  },
  {
   "cell_type": "code",
   "execution_count": 3,
   "metadata": {
    "vscode": {
     "languageId": "r"
    }
   },
   "outputs": [
    {
     "name": "stdout",
     "output_type": "stream",
     "text": [
      "\u001b[90m# A tibble: 8,622 × 18\u001b[39m\n",
      "   sample_n…¹ treat…² control sgrna gene  contr…³ treat…⁴ contr…⁵ treat…⁶    lfc\n",
      "   \u001b[3m\u001b[90m<chr>\u001b[39m\u001b[23m      \u001b[3m\u001b[90m<chr>\u001b[39m\u001b[23m   \u001b[3m\u001b[90m<chr>\u001b[39m\u001b[23m   \u001b[3m\u001b[90m<chr>\u001b[39m\u001b[23m \u001b[3m\u001b[90m<chr>\u001b[39m\u001b[23m   \u001b[3m\u001b[90m<dbl>\u001b[39m\u001b[23m   \u001b[3m\u001b[90m<dbl>\u001b[39m\u001b[23m   \u001b[3m\u001b[90m<dbl>\u001b[39m\u001b[23m   \u001b[3m\u001b[90m<dbl>\u001b[39m\u001b[23m  \u001b[3m\u001b[90m<dbl>\u001b[39m\u001b[23m\n",
      "\u001b[90m 1\u001b[39m eyfpwt_ho… eyfpwt… eyfpwt… PTCD… PTCD2  \u001b[4m1\u001b[24m632.    \u001b[4m5\u001b[24m281   \u001b[4m1\u001b[24m632.    \u001b[4m5\u001b[24m281   1.69 \n",
      "\u001b[90m 2\u001b[39m eyfpwt_ho… eyfpwt… eyfpwt… EIF3… EIF3A    50.2    472.    50.2    472.  3.21 \n",
      "\u001b[90m 3\u001b[39m eyfpwt_ho… eyfpwt… eyfpwt… GTF3… GTF3A  \u001b[4m5\u001b[24m434.    \u001b[4m1\u001b[24m980.  \u001b[4m5\u001b[24m434.    \u001b[4m1\u001b[24m980. -\u001b[31m1\u001b[39m\u001b[31m.\u001b[39m\u001b[31m46\u001b[39m \n",
      "\u001b[90m 4\u001b[39m eyfpwt_ho… eyfpwt… eyfpwt… POLR… POLR…    42.5    290.    42.5    290.  2.74 \n",
      "\u001b[90m 5\u001b[39m eyfpwt_ho… eyfpwt… eyfpwt… RBM2… RBM25   155.     624.   155.     624.  2.00 \n",
      "\u001b[90m 6\u001b[39m eyfpwt_ho… eyfpwt… eyfpwt… METT… METT…   670.    \u001b[4m1\u001b[24m523.   670.    \u001b[4m1\u001b[24m523.  1.18 \n",
      "\u001b[90m 7\u001b[39m eyfpwt_ho… eyfpwt… eyfpwt… CCT7… CCT7     94.6    414.    94.6    414.  2.12 \n",
      "\u001b[90m 8\u001b[39m eyfpwt_ho… eyfpwt… eyfpwt… PDIA… PDIA4  \u001b[4m2\u001b[24m432.    \u001b[4m3\u001b[24m965.  \u001b[4m2\u001b[24m432.    \u001b[4m3\u001b[24m965.  0.705\n",
      "\u001b[90m 9\u001b[39m eyfpwt_ho… eyfpwt… eyfpwt… USO1… USO1   \u001b[4m2\u001b[24m288.    \u001b[4m3\u001b[24m770.  \u001b[4m2\u001b[24m288.    \u001b[4m3\u001b[24m770.  0.720\n",
      "\u001b[90m10\u001b[39m eyfpwt_ho… eyfpwt… eyfpwt… FTSJ… FTSJ1    63.7    306.    63.7    306.  2.25 \n",
      "\u001b[90m# … with 8,612 more rows, 8 more variables: control_var <dbl>, adj_var <dbl>,\u001b[39m\n",
      "\u001b[90m#   score <dbl>, p_low <dbl>, p_high <dbl>, p_twosided <dbl>, fdr <dbl>,\u001b[39m\n",
      "\u001b[90m#   high_in_treatment <lgl>, and abbreviated variable names ¹​sample_name,\u001b[39m\n",
      "\u001b[90m#   ²​treatment, ³​control_count, ⁴​treatment_count, ⁵​control_mean, ⁶​treat_mean\u001b[39m\n"
     ]
    }
   ],
   "source": [
    "mageck_sgrna <- list.files(\"../data/mageck/\", full.names = T, recursive = T, pattern = \"sgrna_summary.tsv$\") %>%\n",
    "  as_tibble_col(\"file\") %>%\n",
    "  filter(str_detect(file, \"eyfp\")) %>%\n",
    "  mutate(sample_name = str_extract(file, \"(?<=mageck//).+(?=/mageck.)\")) %>%\n",
    "  separate(sample_name, c(\"treatment\", \"control\"), sep = \"_vs_\", remove = F) %>%\n",
    "  mutate(data = map(file, . %>% read_tsv(show_col_types = F))) %>%\n",
    "  select(-file) %>%\n",
    "  unnest(data) %>%\n",
    "  janitor::clean_names() %>%\n",
    "  print()\n"
   ]
  },
  {
   "cell_type": "code",
   "execution_count": 8,
   "metadata": {
    "vscode": {
     "languageId": "r"
    }
   },
   "outputs": [
    {
     "data": {
      "image/png": "[encoded data removed]",
      "text/plain": [
       "plot without title"
      ]
     },
     "metadata": {
      "image/png": {
       "height": 150,
       "width": 144
      }
     },
     "output_type": "display_data"
    }
   ],
   "source": [
    "options(repr.plot.width = 2.4, repr.plot.height = 2.5)\n",
    "\n",
    "plot_data <- mageck_gene %>%\n",
    "  filter(str_detect(sample_name, \"harr\")) %>%\n",
    "  filter(!str_detect(gene, \"MCHERRY|PURO\"))\n",
    "\n",
    "plot_data %>%\n",
    "  ggplot(aes(x = lfc, y = -log10(p_value))) +\n",
    "  geom_vline(xintercept = 0, linetype = 2, linewidth = 0.5, color = \"grey\") +\n",
    "  geom_point(size = 1, alpha = 1, data = plot_data %>% filter(fdr > fdr_cutoff | lfc < 0), color = \"grey\", fill = \"grey\") +\n",
    "  geom_point(\n",
    "    size = 2, alpha = 1,\n",
    "    data = plot_data %>% filter(fdr < fdr_cutoff & lfc > 0), show.legend = F\n",
    "  ) +\n",
    "  geom_text(aes(label = gene), data = plot_data %>% filter(fdr < fdr_cutoff & lfc > 0), nudge_x = 0, nudge_y = -0.5, size = 3) +\n",
    "  scale_x_continuous(breaks = scales::pretty_breaks(n = 3)) +\n",
    "  scale_y_continuous(breaks = scales::pretty_breaks(n = 3)) +\n",
    "  scale_color_manual(values = cbPalette_12[c(3,12)]) +\n",
    "  scale_fill_manual(values = cbPalette_12[c(3,12)]) +\n",
    "  scale_shape_manual(values = rep(c(\"circle filled\", \"square filled\", \"diamond filled\", \"circle\", \"plus\", \"triangle filled\", \"triangle down filled\", \"diamond filled\"), 5)) +\n",
    "  labs(x = \"log2 mRNA ratio\\n(HHT / DMSO)\", y = \"-log10 P-value\") +\n",
    "  theme(legend.title = element_blank())\n",
    "\n",
    "ggsave(\"../figures/eyfp_harr_volcano.pdf\", width = 2.4, height = 2.5, units = \"in\")\n"
   ]
  },
  {
   "cell_type": "code",
   "execution_count": 10,
   "metadata": {
    "vscode": {
     "languageId": "r"
    }
   },
   "outputs": [
    {
     "data": {
      "text/html": [
       "<table class=\"dataframe\">\n",
       "<caption>A tibble: 2184 × 19</caption>\n",
       "<thead>\n",
       "\t<tr><th scope=col>sample_name</th><th scope=col>treatment</th><th scope=col>control</th><th scope=col>gene</th><th scope=col>num</th><th scope=col>neg_score</th><th scope=col>neg_p_value</th><th scope=col>neg_fdr</th><th scope=col>neg_rank</th><th scope=col>neg_goodsgrna</th><th scope=col>pos_score</th><th scope=col>pos_p_value</th><th scope=col>pos_fdr</th><th scope=col>pos_rank</th><th scope=col>pos_goodsgrna</th><th scope=col>lfc</th><th scope=col>p_value</th><th scope=col>fdr</th><th scope=col>goodsgrna</th></tr>\n",
       "\t<tr><th scope=col>&lt;chr&gt;</th><th scope=col>&lt;chr&gt;</th><th scope=col>&lt;chr&gt;</th><th scope=col>&lt;chr&gt;</th><th scope=col>&lt;dbl&gt;</th><th scope=col>&lt;dbl&gt;</th><th scope=col>&lt;dbl&gt;</th><th scope=col>&lt;dbl&gt;</th><th scope=col>&lt;dbl&gt;</th><th scope=col>&lt;dbl&gt;</th><th scope=col>&lt;dbl&gt;</th><th scope=col>&lt;dbl&gt;</th><th scope=col>&lt;dbl&gt;</th><th scope=col>&lt;dbl&gt;</th><th scope=col>&lt;dbl&gt;</th><th scope=col>&lt;dbl&gt;</th><th scope=col>&lt;dbl&gt;</th><th scope=col>&lt;dbl&gt;</th><th scope=col>&lt;dbl&gt;</th></tr>\n",
       "</thead>\n",
       "<tbody>\n",
       "\t<tr><td>eyfpwt_homoharringtonine_bc1_total_vs_eyfpwt_untreated_bc1_total</td><td>eyfpwt_homoharringtonine_bc1_total</td><td>eyfpwt_untreated_bc1_total</td><td>GCN1 </td><td>4</td><td>1.00000000</td><td>1.00000000</td><td>      NA</td><td>2186</td><td>0</td><td>7.7556e-10</td><td>2.2646e-06</td><td>0.00065</td><td>   1</td><td>4</td><td> 0.64232</td><td>2.2646e-06</td><td>0.000650</td><td>4</td></tr>\n",
       "\t<tr><td>eyfpwt_homoharringtonine_bc1_total_vs_eyfpwt_untreated_bc1_total</td><td>eyfpwt_homoharringtonine_bc1_total</td><td>eyfpwt_untreated_bc1_total</td><td>IPO5 </td><td>4</td><td>0.00025778</td><td>0.00105310</td><td>0.096881</td><td>   4</td><td>4</td><td>9.9974e-01</td><td>9.9981e-01</td><td>     NA</td><td>2184</td><td>0</td><td>-0.19821</td><td>1.0531e-03</td><td>0.096881</td><td>4</td></tr>\n",
       "\t<tr><td>eyfpwt_homoharringtonine_bc1_total_vs_eyfpwt_untreated_bc1_total</td><td>eyfpwt_homoharringtonine_bc1_total</td><td>eyfpwt_untreated_bc1_total</td><td>CPEB1</td><td>4</td><td>0.00020485</td><td>0.00084018</td><td>0.096881</td><td>   2</td><td>4</td><td>9.9980e-01</td><td>9.9985e-01</td><td>     NA</td><td>2185</td><td>0</td><td>-0.21944</td><td>8.4018e-04</td><td>0.096881</td><td>4</td></tr>\n",
       "\t<tr><td>eyfpwt_homoharringtonine_bc1_total_vs_eyfpwt_untreated_bc1_total</td><td>eyfpwt_homoharringtonine_bc1_total</td><td>eyfpwt_untreated_bc1_total</td><td>CWC22</td><td>4</td><td>0.00019549</td><td>0.00079489</td><td>0.096881</td><td>   1</td><td>4</td><td>9.9980e-01</td><td>9.9986e-01</td><td>     NA</td><td>2186</td><td>0</td><td>-1.85610</td><td>7.9489e-04</td><td>0.096881</td><td>4</td></tr>\n",
       "\t<tr><td>eyfpwt_homoharringtonine_bc1_total_vs_eyfpwt_untreated_bc1_total</td><td>eyfpwt_homoharringtonine_bc1_total</td><td>eyfpwt_untreated_bc1_total</td><td>PHAX </td><td>3</td><td>0.00056149</td><td>0.00173700</td><td>0.119851</td><td>   6</td><td>3</td><td>9.9149e-01</td><td>9.9150e-01</td><td>     NA</td><td>2160</td><td>0</td><td>-0.56079</td><td>1.7370e-03</td><td>0.119851</td><td>3</td></tr>\n",
       "\t<tr><td>⋮</td><td>⋮</td><td>⋮</td><td>⋮</td><td>⋮</td><td>⋮</td><td>⋮</td><td>⋮</td><td>⋮</td><td>⋮</td><td>⋮</td><td>⋮</td><td>⋮</td><td>⋮</td><td>⋮</td><td>⋮</td><td>⋮</td><td>⋮</td><td>⋮</td></tr>\n",
       "\t<tr><td>eyfpwt_homoharringtonine_bc1_total_vs_eyfpwt_untreated_bc1_total</td><td>eyfpwt_homoharringtonine_bc1_total</td><td>eyfpwt_untreated_bc1_total</td><td>ZC3H12C</td><td>4</td><td>0.807570</td><td>0.80840</td><td>NA</td><td>1760</td><td>1</td><td>0.97620</td><td>0.97614</td><td>NA</td><td>2117</td><td>0</td><td>-0.060437</td><td>0.80840</td><td>1</td><td>1</td></tr>\n",
       "\t<tr><td>eyfpwt_homoharringtonine_bc1_total_vs_eyfpwt_untreated_bc1_total</td><td>eyfpwt_homoharringtonine_bc1_total</td><td>eyfpwt_untreated_bc1_total</td><td>POLR2E </td><td>4</td><td>0.092846</td><td>0.20074</td><td>NA</td><td> 444</td><td>2</td><td>0.97690</td><td>0.97684</td><td>NA</td><td>2119</td><td>0</td><td>-0.157220</td><td>0.20074</td><td>1</td><td>2</td></tr>\n",
       "\t<tr><td>eyfpwt_homoharringtonine_bc1_total_vs_eyfpwt_untreated_bc1_total</td><td>eyfpwt_homoharringtonine_bc1_total</td><td>eyfpwt_untreated_bc1_total</td><td>SIDT2  </td><td>4</td><td>0.051996</td><td>0.12354</td><td>NA</td><td> 269</td><td>2</td><td>0.97730</td><td>0.97717</td><td>NA</td><td>2121</td><td>0</td><td>-0.197970</td><td>0.12354</td><td>1</td><td>2</td></tr>\n",
       "\t<tr><td>eyfpwt_homoharringtonine_bc1_total_vs_eyfpwt_untreated_bc1_total</td><td>eyfpwt_homoharringtonine_bc1_total</td><td>eyfpwt_untreated_bc1_total</td><td>ALKBH2 </td><td>4</td><td>0.355860</td><td>0.50064</td><td>NA</td><td>1082</td><td>2</td><td>0.97909</td><td>0.97914</td><td>NA</td><td>2126</td><td>0</td><td>-0.068939</td><td>0.50064</td><td>1</td><td>2</td></tr>\n",
       "\t<tr><td>eyfpwt_homoharringtonine_bc1_total_vs_eyfpwt_untreated_bc1_total</td><td>eyfpwt_homoharringtonine_bc1_total</td><td>eyfpwt_untreated_bc1_total</td><td>RBM24  </td><td>4</td><td>0.542880</td><td>0.62663</td><td>NA</td><td>1344</td><td>1</td><td>0.97930</td><td>0.97937</td><td>NA</td><td>2128</td><td>0</td><td>-0.105020</td><td>0.62663</td><td>1</td><td>1</td></tr>\n",
       "</tbody>\n",
       "</table>\n"
      ],
      "text/latex": [
       "A tibble: 2184 × 19\n",
       "\\begin{tabular}{lllllllllllllllllll}\n",
       " sample\\_name & treatment & control & gene & num & neg\\_score & neg\\_p\\_value & neg\\_fdr & neg\\_rank & neg\\_goodsgrna & pos\\_score & pos\\_p\\_value & pos\\_fdr & pos\\_rank & pos\\_goodsgrna & lfc & p\\_value & fdr & goodsgrna\\\\\n",
       " <chr> & <chr> & <chr> & <chr> & <dbl> & <dbl> & <dbl> & <dbl> & <dbl> & <dbl> & <dbl> & <dbl> & <dbl> & <dbl> & <dbl> & <dbl> & <dbl> & <dbl> & <dbl>\\\\\n",
       "\\hline\n",
       "\t eyfpwt\\_homoharringtonine\\_bc1\\_total\\_vs\\_eyfpwt\\_untreated\\_bc1\\_total & eyfpwt\\_homoharringtonine\\_bc1\\_total & eyfpwt\\_untreated\\_bc1\\_total & GCN1  & 4 & 1.00000000 & 1.00000000 &       NA & 2186 & 0 & 7.7556e-10 & 2.2646e-06 & 0.00065 &    1 & 4 &  0.64232 & 2.2646e-06 & 0.000650 & 4\\\\\n",
       "\t eyfpwt\\_homoharringtonine\\_bc1\\_total\\_vs\\_eyfpwt\\_untreated\\_bc1\\_total & eyfpwt\\_homoharringtonine\\_bc1\\_total & eyfpwt\\_untreated\\_bc1\\_total & IPO5  & 4 & 0.00025778 & 0.00105310 & 0.096881 &    4 & 4 & 9.9974e-01 & 9.9981e-01 &      NA & 2184 & 0 & -0.19821 & 1.0531e-03 & 0.096881 & 4\\\\\n",
       "\t eyfpwt\\_homoharringtonine\\_bc1\\_total\\_vs\\_eyfpwt\\_untreated\\_bc1\\_total & eyfpwt\\_homoharringtonine\\_bc1\\_total & eyfpwt\\_untreated\\_bc1\\_total & CPEB1 & 4 & 0.00020485 & 0.00084018 & 0.096881 &    2 & 4 & 9.9980e-01 & 9.9985e-01 &      NA & 2185 & 0 & -0.21944 & 8.4018e-04 & 0.096881 & 4\\\\\n",
       "\t eyfpwt\\_homoharringtonine\\_bc1\\_total\\_vs\\_eyfpwt\\_untreated\\_bc1\\_total & eyfpwt\\_homoharringtonine\\_bc1\\_total & eyfpwt\\_untreated\\_bc1\\_total & CWC22 & 4 & 0.00019549 & 0.00079489 & 0.096881 &    1 & 4 & 9.9980e-01 & 9.9986e-01 &      NA & 2186 & 0 & -1.85610 & 7.9489e-04 & 0.096881 & 4\\\\\n",
       "\t eyfpwt\\_homoharringtonine\\_bc1\\_total\\_vs\\_eyfpwt\\_untreated\\_bc1\\_total & eyfpwt\\_homoharringtonine\\_bc1\\_total & eyfpwt\\_untreated\\_bc1\\_total & PHAX  & 3 & 0.00056149 & 0.00173700 & 0.119851 &    6 & 3 & 9.9149e-01 & 9.9150e-01 &      NA & 2160 & 0 & -0.56079 & 1.7370e-03 & 0.119851 & 3\\\\\n",
       "\t ⋮ & ⋮ & ⋮ & ⋮ & ⋮ & ⋮ & ⋮ & ⋮ & ⋮ & ⋮ & ⋮ & ⋮ & ⋮ & ⋮ & ⋮ & ⋮ & ⋮ & ⋮ & ⋮\\\\\n",
       "\t eyfpwt\\_homoharringtonine\\_bc1\\_total\\_vs\\_eyfpwt\\_untreated\\_bc1\\_total & eyfpwt\\_homoharringtonine\\_bc1\\_total & eyfpwt\\_untreated\\_bc1\\_total & ZC3H12C & 4 & 0.807570 & 0.80840 & NA & 1760 & 1 & 0.97620 & 0.97614 & NA & 2117 & 0 & -0.060437 & 0.80840 & 1 & 1\\\\\n",
       "\t eyfpwt\\_homoharringtonine\\_bc1\\_total\\_vs\\_eyfpwt\\_untreated\\_bc1\\_total & eyfpwt\\_homoharringtonine\\_bc1\\_total & eyfpwt\\_untreated\\_bc1\\_total & POLR2E  & 4 & 0.092846 & 0.20074 & NA &  444 & 2 & 0.97690 & 0.97684 & NA & 2119 & 0 & -0.157220 & 0.20074 & 1 & 2\\\\\n",
       "\t eyfpwt\\_homoharringtonine\\_bc1\\_total\\_vs\\_eyfpwt\\_untreated\\_bc1\\_total & eyfpwt\\_homoharringtonine\\_bc1\\_total & eyfpwt\\_untreated\\_bc1\\_total & SIDT2   & 4 & 0.051996 & 0.12354 & NA &  269 & 2 & 0.97730 & 0.97717 & NA & 2121 & 0 & -0.197970 & 0.12354 & 1 & 2\\\\\n",
       "\t eyfpwt\\_homoharringtonine\\_bc1\\_total\\_vs\\_eyfpwt\\_untreated\\_bc1\\_total & eyfpwt\\_homoharringtonine\\_bc1\\_total & eyfpwt\\_untreated\\_bc1\\_total & ALKBH2  & 4 & 0.355860 & 0.50064 & NA & 1082 & 2 & 0.97909 & 0.97914 & NA & 2126 & 0 & -0.068939 & 0.50064 & 1 & 2\\\\\n",
       "\t eyfpwt\\_homoharringtonine\\_bc1\\_total\\_vs\\_eyfpwt\\_untreated\\_bc1\\_total & eyfpwt\\_homoharringtonine\\_bc1\\_total & eyfpwt\\_untreated\\_bc1\\_total & RBM24   & 4 & 0.542880 & 0.62663 & NA & 1344 & 1 & 0.97930 & 0.97937 & NA & 2128 & 0 & -0.105020 & 0.62663 & 1 & 1\\\\\n",
       "\\end{tabular}\n"
      ],
      "text/markdown": [
       "\n",
       "A tibble: 2184 × 19\n",
       "\n",
       "| sample_name &lt;chr&gt; | treatment &lt;chr&gt; | control &lt;chr&gt; | gene &lt;chr&gt; | num &lt;dbl&gt; | neg_score &lt;dbl&gt; | neg_p_value &lt;dbl&gt; | neg_fdr &lt;dbl&gt; | neg_rank &lt;dbl&gt; | neg_goodsgrna &lt;dbl&gt; | pos_score &lt;dbl&gt; | pos_p_value &lt;dbl&gt; | pos_fdr &lt;dbl&gt; | pos_rank &lt;dbl&gt; | pos_goodsgrna &lt;dbl&gt; | lfc &lt;dbl&gt; | p_value &lt;dbl&gt; | fdr &lt;dbl&gt; | goodsgrna &lt;dbl&gt; |\n",
       "|---|---|---|---|---|---|---|---|---|---|---|---|---|---|---|---|---|---|---|\n",
       "| eyfpwt_homoharringtonine_bc1_total_vs_eyfpwt_untreated_bc1_total | eyfpwt_homoharringtonine_bc1_total | eyfpwt_untreated_bc1_total | GCN1  | 4 | 1.00000000 | 1.00000000 |       NA | 2186 | 0 | 7.7556e-10 | 2.2646e-06 | 0.00065 |    1 | 4 |  0.64232 | 2.2646e-06 | 0.000650 | 4 |\n",
       "| eyfpwt_homoharringtonine_bc1_total_vs_eyfpwt_untreated_bc1_total | eyfpwt_homoharringtonine_bc1_total | eyfpwt_untreated_bc1_total | IPO5  | 4 | 0.00025778 | 0.00105310 | 0.096881 |    4 | 4 | 9.9974e-01 | 9.9981e-01 |      NA | 2184 | 0 | -0.19821 | 1.0531e-03 | 0.096881 | 4 |\n",
       "| eyfpwt_homoharringtonine_bc1_total_vs_eyfpwt_untreated_bc1_total | eyfpwt_homoharringtonine_bc1_total | eyfpwt_untreated_bc1_total | CPEB1 | 4 | 0.00020485 | 0.00084018 | 0.096881 |    2 | 4 | 9.9980e-01 | 9.9985e-01 |      NA | 2185 | 0 | -0.21944 | 8.4018e-04 | 0.096881 | 4 |\n",
       "| eyfpwt_homoharringtonine_bc1_total_vs_eyfpwt_untreated_bc1_total | eyfpwt_homoharringtonine_bc1_total | eyfpwt_untreated_bc1_total | CWC22 | 4 | 0.00019549 | 0.00079489 | 0.096881 |    1 | 4 | 9.9980e-01 | 9.9986e-01 |      NA | 2186 | 0 | -1.85610 | 7.9489e-04 | 0.096881 | 4 |\n",
       "| eyfpwt_homoharringtonine_bc1_total_vs_eyfpwt_untreated_bc1_total | eyfpwt_homoharringtonine_bc1_total | eyfpwt_untreated_bc1_total | PHAX  | 3 | 0.00056149 | 0.00173700 | 0.119851 |    6 | 3 | 9.9149e-01 | 9.9150e-01 |      NA | 2160 | 0 | -0.56079 | 1.7370e-03 | 0.119851 | 3 |\n",
       "| ⋮ | ⋮ | ⋮ | ⋮ | ⋮ | ⋮ | ⋮ | ⋮ | ⋮ | ⋮ | ⋮ | ⋮ | ⋮ | ⋮ | ⋮ | ⋮ | ⋮ | ⋮ | ⋮ |\n",
       "| eyfpwt_homoharringtonine_bc1_total_vs_eyfpwt_untreated_bc1_total | eyfpwt_homoharringtonine_bc1_total | eyfpwt_untreated_bc1_total | ZC3H12C | 4 | 0.807570 | 0.80840 | NA | 1760 | 1 | 0.97620 | 0.97614 | NA | 2117 | 0 | -0.060437 | 0.80840 | 1 | 1 |\n",
       "| eyfpwt_homoharringtonine_bc1_total_vs_eyfpwt_untreated_bc1_total | eyfpwt_homoharringtonine_bc1_total | eyfpwt_untreated_bc1_total | POLR2E  | 4 | 0.092846 | 0.20074 | NA |  444 | 2 | 0.97690 | 0.97684 | NA | 2119 | 0 | -0.157220 | 0.20074 | 1 | 2 |\n",
       "| eyfpwt_homoharringtonine_bc1_total_vs_eyfpwt_untreated_bc1_total | eyfpwt_homoharringtonine_bc1_total | eyfpwt_untreated_bc1_total | SIDT2   | 4 | 0.051996 | 0.12354 | NA |  269 | 2 | 0.97730 | 0.97717 | NA | 2121 | 0 | -0.197970 | 0.12354 | 1 | 2 |\n",
       "| eyfpwt_homoharringtonine_bc1_total_vs_eyfpwt_untreated_bc1_total | eyfpwt_homoharringtonine_bc1_total | eyfpwt_untreated_bc1_total | ALKBH2  | 4 | 0.355860 | 0.50064 | NA | 1082 | 2 | 0.97909 | 0.97914 | NA | 2126 | 0 | -0.068939 | 0.50064 | 1 | 2 |\n",
       "| eyfpwt_homoharringtonine_bc1_total_vs_eyfpwt_untreated_bc1_total | eyfpwt_homoharringtonine_bc1_total | eyfpwt_untreated_bc1_total | RBM24   | 4 | 0.542880 | 0.62663 | NA | 1344 | 1 | 0.97930 | 0.97937 | NA | 2128 | 0 | -0.105020 | 0.62663 | 1 | 1 |\n",
       "\n"
      ],
      "text/plain": [
       "     sample_name                                                     \n",
       "1    eyfpwt_homoharringtonine_bc1_total_vs_eyfpwt_untreated_bc1_total\n",
       "2    eyfpwt_homoharringtonine_bc1_total_vs_eyfpwt_untreated_bc1_total\n",
       "3    eyfpwt_homoharringtonine_bc1_total_vs_eyfpwt_untreated_bc1_total\n",
       "4    eyfpwt_homoharringtonine_bc1_total_vs_eyfpwt_untreated_bc1_total\n",
       "5    eyfpwt_homoharringtonine_bc1_total_vs_eyfpwt_untreated_bc1_total\n",
       "⋮    ⋮                                                               \n",
       "2180 eyfpwt_homoharringtonine_bc1_total_vs_eyfpwt_untreated_bc1_total\n",
       "2181 eyfpwt_homoharringtonine_bc1_total_vs_eyfpwt_untreated_bc1_total\n",
       "2182 eyfpwt_homoharringtonine_bc1_total_vs_eyfpwt_untreated_bc1_total\n",
       "2183 eyfpwt_homoharringtonine_bc1_total_vs_eyfpwt_untreated_bc1_total\n",
       "2184 eyfpwt_homoharringtonine_bc1_total_vs_eyfpwt_untreated_bc1_total\n",
       "     treatment                          control                    gene    num\n",
       "1    eyfpwt_homoharringtonine_bc1_total eyfpwt_untreated_bc1_total GCN1    4  \n",
       "2    eyfpwt_homoharringtonine_bc1_total eyfpwt_untreated_bc1_total IPO5    4  \n",
       "3    eyfpwt_homoharringtonine_bc1_total eyfpwt_untreated_bc1_total CPEB1   4  \n",
       "4    eyfpwt_homoharringtonine_bc1_total eyfpwt_untreated_bc1_total CWC22   4  \n",
       "5    eyfpwt_homoharringtonine_bc1_total eyfpwt_untreated_bc1_total PHAX    3  \n",
       "⋮    ⋮                                  ⋮                          ⋮       ⋮  \n",
       "2180 eyfpwt_homoharringtonine_bc1_total eyfpwt_untreated_bc1_total ZC3H12C 4  \n",
       "2181 eyfpwt_homoharringtonine_bc1_total eyfpwt_untreated_bc1_total POLR2E  4  \n",
       "2182 eyfpwt_homoharringtonine_bc1_total eyfpwt_untreated_bc1_total SIDT2   4  \n",
       "2183 eyfpwt_homoharringtonine_bc1_total eyfpwt_untreated_bc1_total ALKBH2  4  \n",
       "2184 eyfpwt_homoharringtonine_bc1_total eyfpwt_untreated_bc1_total RBM24   4  \n",
       "     neg_score  neg_p_value neg_fdr  neg_rank neg_goodsgrna pos_score \n",
       "1    1.00000000 1.00000000        NA 2186     0             7.7556e-10\n",
       "2    0.00025778 0.00105310  0.096881    4     4             9.9974e-01\n",
       "3    0.00020485 0.00084018  0.096881    2     4             9.9980e-01\n",
       "4    0.00019549 0.00079489  0.096881    1     4             9.9980e-01\n",
       "5    0.00056149 0.00173700  0.119851    6     3             9.9149e-01\n",
       "⋮    ⋮          ⋮           ⋮        ⋮        ⋮             ⋮         \n",
       "2180 0.807570   0.80840     NA       1760     1             0.97620   \n",
       "2181 0.092846   0.20074     NA        444     2             0.97690   \n",
       "2182 0.051996   0.12354     NA        269     2             0.97730   \n",
       "2183 0.355860   0.50064     NA       1082     2             0.97909   \n",
       "2184 0.542880   0.62663     NA       1344     1             0.97930   \n",
       "     pos_p_value pos_fdr pos_rank pos_goodsgrna lfc       p_value    fdr     \n",
       "1    2.2646e-06  0.00065    1     4              0.64232  2.2646e-06 0.000650\n",
       "2    9.9981e-01       NA 2184     0             -0.19821  1.0531e-03 0.096881\n",
       "3    9.9985e-01       NA 2185     0             -0.21944  8.4018e-04 0.096881\n",
       "4    9.9986e-01       NA 2186     0             -1.85610  7.9489e-04 0.096881\n",
       "5    9.9150e-01       NA 2160     0             -0.56079  1.7370e-03 0.119851\n",
       "⋮    ⋮           ⋮       ⋮        ⋮             ⋮         ⋮          ⋮       \n",
       "2180 0.97614     NA      2117     0             -0.060437 0.80840    1       \n",
       "2181 0.97684     NA      2119     0             -0.157220 0.20074    1       \n",
       "2182 0.97717     NA      2121     0             -0.197970 0.12354    1       \n",
       "2183 0.97914     NA      2126     0             -0.068939 0.50064    1       \n",
       "2184 0.97937     NA      2128     0             -0.105020 0.62663    1       \n",
       "     goodsgrna\n",
       "1    4        \n",
       "2    4        \n",
       "3    4        \n",
       "4    4        \n",
       "5    3        \n",
       "⋮    ⋮        \n",
       "2180 1        \n",
       "2181 2        \n",
       "2182 2        \n",
       "2183 2        \n",
       "2184 1        "
      ]
     },
     "metadata": {},
     "output_type": "display_data"
    }
   ],
   "source": [
    "plot_data  %>% \n",
    " arrange(fdr)"
   ]
  },
  {
   "cell_type": "code",
   "execution_count": 5,
   "metadata": {
    "vscode": {
     "languageId": "r"
    }
   },
   "outputs": [
    {
     "data": {
      "image/png": "[encoded data removed]",
      "text/plain": [
       "plot without title"
      ]
     },
     "metadata": {
      "image/png": {
       "height": 108,
       "width": 150
      }
     },
     "output_type": "display_data"
    }
   ],
   "source": [
    "options(repr.plot.width = 2.5, repr.plot.height = 1.8)\n",
    "\n",
    "plot_data <- mageck_sgrna %>%\n",
    "  filter(str_detect(sample_name, \"harr\")) %>%\n",
    "  filter(str_detect(gene, \"GCN1|EIF2AK4|ZNF598|GIGYF2|DDX6$|NLUC$\")) %>%\n",
    "  mutate(gene = if_else(gene == \"EIF2AK4\", \"GCN2\", gene)) %>%\n",
    "  mutate(gene = fct_relevel(gene, \"GCN1\", \"GCN2\", \"ZNF598\", \"GIGYF2\", \"DDX6\", \"NLUC\")) %>%\n",
    "  mutate(sgrna = case_when(\n",
    "    str_detect(sgrna, \"1_2\") ~ 1,\n",
    "    str_detect(sgrna, \"2_3\") ~ 2,\n",
    "    str_detect(sgrna, \"3_4\") ~ 3,\n",
    "    str_detect(sgrna, \"4_1\") ~ 4,\n",
    "  ))\n",
    "\n",
    "mean_data <- plot_data %>% \n",
    "    group_by(gene) %>% \n",
    "    summarize(lfc_se = sd(lfc) / sqrt(n()), lfc = mean(lfc))\n",
    "\n",
    "plot_data %>%\n",
    "  ggplot(aes(x = gene, y = lfc, color = gene)) +\n",
    "  geom_jitter(height = 0, width = 0.2, size = 1, show.legend = F) +\n",
    "  # geom_point(data = mean_data, shape = 1, size = 2, color = \"grey\") +\n",
    "  # geom_errorbar(aes(ymin = lfc - lfc_se, ymax = lfc + lfc_se), data = mean_data, linewidth = 1, width = 0.3, color = \"black\") +\n",
    "  geom_hline(aes(yintercept = 0), linetype = 2, linewidth = 0.5, color = \"grey\") +\n",
    "  theme(axis.text.x = element_text(angle = 45, hjust = 1)) +\n",
    "  scale_y_continuous(limits = c(-0.5, 1)) +\n",
    "  scale_color_manual(values = cbPalette_12[c(3,4,5,6,7,12)]) +\n",
    "  labs(y = \"log2 mRNA ratio\\n(HHT / DMSO)\", x = \"sgRNA\")\n",
    "\n",
    "ggsave(\"../figures/gcn1_sgrna_hht.pdf\", width = 2.5, height = 1.8, units = \"in\")"
   ]
  },
  {
   "cell_type": "code",
   "execution_count": 6,
   "metadata": {
    "vscode": {
     "languageId": "r"
    }
   },
   "outputs": [
    {
     "data": {
      "text/html": [
       "<table class=\"dataframe\">\n",
       "<caption>A grouped_df: 6 × 3</caption>\n",
       "<thead>\n",
       "\t<tr><th scope=col>gene</th><th scope=col>data</th><th scope=col>t</th></tr>\n",
       "\t<tr><th scope=col>&lt;fct&gt;</th><th scope=col>&lt;list&gt;</th><th scope=col>&lt;dbl&gt;</th></tr>\n",
       "</thead>\n",
       "<tbody>\n",
       "\t<tr><td>GCN1  </td><td>c(1, 3, ....</td><td>0.003023818</td></tr>\n",
       "\t<tr><td>GIGYF2</td><td>c(2, 1, ....</td><td>0.696418198</td></tr>\n",
       "\t<tr><td>NLUC  </td><td>c(2, 3, ....</td><td>0.917611429</td></tr>\n",
       "\t<tr><td>GCN2  </td><td>c(2, 1, ....</td><td>0.342990459</td></tr>\n",
       "\t<tr><td>ZNF598</td><td>c(2, 3, ....</td><td>0.418791406</td></tr>\n",
       "\t<tr><td>DDX6  </td><td>c(1, 4, ....</td><td>0.519364951</td></tr>\n",
       "</tbody>\n",
       "</table>\n"
      ],
      "text/latex": [
       "A grouped\\_df: 6 × 3\n",
       "\\begin{tabular}{lll}\n",
       " gene & data & t\\\\\n",
       " <fct> & <list> & <dbl>\\\\\n",
       "\\hline\n",
       "\t GCN1   & c(1, 3, .... & 0.003023818\\\\\n",
       "\t GIGYF2 & c(2, 1, .... & 0.696418198\\\\\n",
       "\t NLUC   & c(2, 3, .... & 0.917611429\\\\\n",
       "\t GCN2   & c(2, 1, .... & 0.342990459\\\\\n",
       "\t ZNF598 & c(2, 3, .... & 0.418791406\\\\\n",
       "\t DDX6   & c(1, 4, .... & 0.519364951\\\\\n",
       "\\end{tabular}\n"
      ],
      "text/markdown": [
       "\n",
       "A grouped_df: 6 × 3\n",
       "\n",
       "| gene &lt;fct&gt; | data &lt;list&gt; | t &lt;dbl&gt; |\n",
       "|---|---|---|\n",
       "| GCN1   | c(1, 3, .... | 0.003023818 |\n",
       "| GIGYF2 | c(2, 1, .... | 0.696418198 |\n",
       "| NLUC   | c(2, 3, .... | 0.917611429 |\n",
       "| GCN2   | c(2, 1, .... | 0.342990459 |\n",
       "| ZNF598 | c(2, 3, .... | 0.418791406 |\n",
       "| DDX6   | c(1, 4, .... | 0.519364951 |\n",
       "\n"
      ],
      "text/plain": [
       "  gene   data         t          \n",
       "1 GCN1   c(1, 3, .... 0.003023818\n",
       "2 GIGYF2 c(2, 1, .... 0.696418198\n",
       "3 NLUC   c(2, 3, .... 0.917611429\n",
       "4 GCN2   c(2, 1, .... 0.342990459\n",
       "5 ZNF598 c(2, 3, .... 0.418791406\n",
       "6 DDX6   c(1, 4, .... 0.519364951"
      ]
     },
     "metadata": {},
     "output_type": "display_data"
    }
   ],
   "source": [
    "plot_data  %>%\n",
    "  select(sgrna, gene, lfc) %>%\n",
    "  group_by(gene) %>%\n",
    "  nest() %>%\n",
    "  mutate(t = map_dbl(data, ~ t.test(.$lfc, mu = 0)$p.value))"
   ]
  }
 ],
 "metadata": {
  "kernelspec": {
   "display_name": "R",
   "language": "R",
   "name": "ir"
  },
  "language_info": {
   "codemirror_mode": "r",
   "file_extension": ".r",
   "mimetype": "text/x-r-source",
   "name": "R",
   "pygments_lexer": "r",
   "version": "4.2.2"
  }
 },
 "nbformat": 4,
 "nbformat_minor": 2
}
