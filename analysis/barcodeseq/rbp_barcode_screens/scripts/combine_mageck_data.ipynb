{
 "cells": [
  {
   "cell_type": "code",
   "execution_count": 1,
   "metadata": {
    "vscode": {
     "languageId": "r"
    }
   },
   "outputs": [
    {
     "name": "stderr",
     "output_type": "stream",
     "text": [
      "── \u001b[1mAttaching packages\u001b[22m ─────────────────────────────────────── tidyverse 1.3.2 ──\n",
      "\u001b[32m✔\u001b[39m \u001b[34mggplot2\u001b[39m 3.4.2      \u001b[32m✔\u001b[39m \u001b[34mpurrr  \u001b[39m 1.0.0 \n",
      "\u001b[32m✔\u001b[39m \u001b[34mtibble \u001b[39m 3.1.8      \u001b[32m✔\u001b[39m \u001b[34mdplyr  \u001b[39m 1.0.10\n",
      "\u001b[32m✔\u001b[39m \u001b[34mtidyr  \u001b[39m 1.2.1      \u001b[32m✔\u001b[39m \u001b[34mstringr\u001b[39m 1.5.0 \n",
      "\u001b[32m✔\u001b[39m \u001b[34mreadr  \u001b[39m 2.1.3      \u001b[32m✔\u001b[39m \u001b[34mforcats\u001b[39m 0.5.2 \n",
      "Warning message:\n",
      "“package ‘ggplot2’ was built under R version 4.2.3”\n",
      "── \u001b[1mConflicts\u001b[22m ────────────────────────────────────────── tidyverse_conflicts() ──\n",
      "\u001b[31m✖\u001b[39m \u001b[34mdplyr\u001b[39m::\u001b[32mfilter()\u001b[39m masks \u001b[34mstats\u001b[39m::filter()\n",
      "\u001b[31m✖\u001b[39m \u001b[34mdplyr\u001b[39m::\u001b[32mlag()\u001b[39m    masks \u001b[34mstats\u001b[39m::lag()\n"
     ]
    }
   ],
   "source": [
    "library(tidyverse)"
   ]
  },
  {
   "cell_type": "code",
   "execution_count": 2,
   "metadata": {
    "vscode": {
     "languageId": "r"
    }
   },
   "outputs": [],
   "source": [
    "  # Get a list of all tsv files in the subfolders\n",
    "  gene_files <- list.files(path = \"../data/mageck/\", pattern = \"mageck.gene_summary.tsv$\", recursive = TRUE, full.names = TRUE)\n",
    "  sgrna_files <- list.files(path = \"../data/mageck/\", pattern = \"mageck.sgrna_summary.tsv$\", recursive = TRUE, full.names = TRUE)"
   ]
  },
  {
   "cell_type": "code",
   "execution_count": 9,
   "metadata": {
    "vscode": {
     "languageId": "r"
    }
   },
   "outputs": [
    {
     "name": "stdout",
     "output_type": "stream",
     "text": [
      "\u001b[90m# A tibble: 72,065 × 15\u001b[39m\n",
      "   sample_…¹ id    num   neg|s…² neg|p…³ neg|f…⁴ neg|r…⁵ neg|g…⁶ neg|l…⁷ pos|s…⁸\n",
      "   \u001b[3m\u001b[90m<chr>\u001b[39m\u001b[23m     \u001b[3m\u001b[90m<chr>\u001b[39m\u001b[23m \u001b[3m\u001b[90m<chr>\u001b[39m\u001b[23m \u001b[3m\u001b[90m<chr>\u001b[39m\u001b[23m   \u001b[3m\u001b[90m<chr>\u001b[39m\u001b[23m   \u001b[3m\u001b[90m<chr>\u001b[39m\u001b[23m   \u001b[3m\u001b[90m<chr>\u001b[39m\u001b[23m   \u001b[3m\u001b[90m<chr>\u001b[39m\u001b[23m   \u001b[3m\u001b[90m<chr>\u001b[39m\u001b[23m   \u001b[3m\u001b[90m<chr>\u001b[39m\u001b[23m  \n",
      "\u001b[90m 1\u001b[39m eyfpwt_h… GCN1  4     1.0     1.0     0.9999… 2186    0       0.64232 7.7556…\n",
      "\u001b[90m 2\u001b[39m eyfpwt_h… PDIA4 4     0.0201… 0.0586… 0.9155… 140     2       0.2664  0.0001…\n",
      "\u001b[90m 3\u001b[39m eyfpwt_h… PTCD2 4     0.0471… 0.11392 0.9546… 249     1       0.17335 0.0002…\n",
      "\u001b[90m 4\u001b[39m eyfpwt_h… TNPO3 4     0.90131 0.90228 0.99972 1960    0       0.39844 0.0003…\n",
      "\u001b[90m 5\u001b[39m eyfpwt_h… EIF3A 3     0.60737 0.61779 0.9985… 1425    1       0.75275 0.0005…\n",
      "\u001b[90m 6\u001b[39m eyfpwt_h… NXF2B 4     0.99816 0.99824 0.9997… 2182    0       0.36909 0.0006…\n",
      "\u001b[90m 7\u001b[39m eyfpwt_h… CISD2 4     0.54955 0.63002 0.9985… 1348    1       0.27735 0.0006…\n",
      "\u001b[90m 8\u001b[39m eyfpwt_h… NOL7  4     0.6555  0.69063 0.9985… 1492    1       0.27046 0.0006…\n",
      "\u001b[90m 9\u001b[39m eyfpwt_h… EIF5… 4     0.99932 0.99942 0.99988 2185    0       0.27492 0.0006…\n",
      "\u001b[90m10\u001b[39m eyfpwt_h… FAST… 4     0.99883 0.99887 0.9997… 2184    0       0.39405 0.0007…\n",
      "\u001b[90m# … with 72,055 more rows, 5 more variables: `pos|p-value` <chr>,\u001b[39m\n",
      "\u001b[90m#   `pos|fdr` <chr>, `pos|rank` <chr>, `pos|goodsgrna` <chr>, `pos|lfc` <chr>,\u001b[39m\n",
      "\u001b[90m#   and abbreviated variable names ¹​sample_name, ²​`neg|score`, ³​`neg|p-value`,\u001b[39m\n",
      "\u001b[90m#   ⁴​`neg|fdr`, ⁵​`neg|rank`, ⁶​`neg|goodsgrna`, ⁷​`neg|lfc`, ⁸​`pos|score`\u001b[39m\n",
      "\u001b[90m# A tibble: 280,786 × 16\u001b[39m\n",
      "   sample_name sgrna Gene  contr…¹ treat…² contr…³ treat…⁴ LFC   contr…⁵ adj_var\n",
      "   \u001b[3m\u001b[90m<chr>\u001b[39m\u001b[23m       \u001b[3m\u001b[90m<chr>\u001b[39m\u001b[23m \u001b[3m\u001b[90m<chr>\u001b[39m\u001b[23m \u001b[3m\u001b[90m<chr>\u001b[39m\u001b[23m   \u001b[3m\u001b[90m<chr>\u001b[39m\u001b[23m   \u001b[3m\u001b[90m<chr>\u001b[39m\u001b[23m   \u001b[3m\u001b[90m<chr>\u001b[39m\u001b[23m   \u001b[3m\u001b[90m<chr>\u001b[39m\u001b[23m \u001b[3m\u001b[90m<chr>\u001b[39m\u001b[23m   \u001b[3m\u001b[90m<chr>\u001b[39m\u001b[23m  \n",
      "\u001b[90m 1\u001b[39m eyfpwt_hom… PTCD… PTCD2 1632.2  5281    1632.2  5281    1.69… 6.6567… 21545  \n",
      "\u001b[90m 2\u001b[39m eyfpwt_hom… EIF3… EIF3A 50.193  472.26  50.193  472.26  3.20… 89069   662.52 \n",
      "\u001b[90m 3\u001b[39m eyfpwt_hom… GTF3… GTF3A 5434.3  1980.4  5434.3  1980.4  -1.4… 5.965e… 71731  \n",
      "\u001b[90m 4\u001b[39m eyfpwt_hom… POLR… POLR… 42.471  289.58  42.471  289.58  2.74… 30532   560.6  \n",
      "\u001b[90m 5\u001b[39m eyfpwt_hom… RBM2… RBM25 155.4   623.8   155.4   623.8   1.99… 1.097e… 2051.3 \n",
      "\u001b[90m 6\u001b[39m eyfpwt_hom… METT… METT… 669.88  1522.6  669.88  1522.6  1.18… 3.636e… 8842.1 \n",
      "\u001b[90m 7\u001b[39m eyfpwt_hom… CCT7… CCT7  94.594  414.13  94.594  414.13  2.11… 51053   1248.6 \n",
      "\u001b[90m 8\u001b[39m eyfpwt_hom… PDIA… PDIA4 2432.4  3964.9  2432.4  3964.9  0.70… 1.1742… 32107  \n",
      "\u001b[90m 9\u001b[39m eyfpwt_hom… USO1… USO1  2287.6  3769.8  2287.6  3769.8  0.72… 1.0983… 30196  \n",
      "\u001b[90m10\u001b[39m eyfpwt_hom… FTSJ… FTSJ1 63.706  306.19  63.706  306.19  2.24… 29399   840.9  \n",
      "\u001b[90m# … with 280,776 more rows, 6 more variables: score <chr>, p.low <chr>,\u001b[39m\n",
      "\u001b[90m#   p.high <chr>, p.twosided <chr>, FDR <chr>, high_in_treatment <chr>, and\u001b[39m\n",
      "\u001b[90m#   abbreviated variable names ¹​control_count, ²​treatment_count, ³​control_mean,\u001b[39m\n",
      "\u001b[90m#   ⁴​treat_mean, ⁵​control_var\u001b[39m\n"
     ]
    }
   ],
   "source": [
    "  # Read and concatenate the tsv files\n",
    "  gene_data <- read_tsv(gene_files, col_types = cols(.default = \"c\"), id = \"sample_name\") %>%\n",
    "    mutate(sample_name = str_extract(sample_name, \"[^/]+(?=/mageck.gene_summary)\")) %>% \n",
    "    print()\n",
    "  sgrna_data <- read_tsv(sgrna_files, col_types = cols(.default = \"c\"), id = \"sample_name\" ) %>%\n",
    "    mutate(sample_name = str_extract(sample_name, \"[^/]+(?=/mageck.sgrna_summary)\")) %>% \n",
    "    print()"
   ]
  },
  {
   "cell_type": "code",
   "execution_count": 10,
   "metadata": {
    "vscode": {
     "languageId": "r"
    }
   },
   "outputs": [],
   "source": [
    "write_csv(gene_data, \"../data/mageck/gene_summary_table.csv\")\n",
    "write_csv(sgrna_data, \"../data/mageck/sgrna_summary_table.csv\")"
   ]
  }
 ],
 "metadata": {
  "kernelspec": {
   "display_name": "R",
   "language": "R",
   "name": "ir"
  },
  "language_info": {
   "codemirror_mode": "r",
   "file_extension": ".r",
   "mimetype": "text/x-r-source",
   "name": "R",
   "pygments_lexer": "r",
   "version": "4.2.2"
  }
 },
 "nbformat": 4,
 "nbformat_minor": 2
}
