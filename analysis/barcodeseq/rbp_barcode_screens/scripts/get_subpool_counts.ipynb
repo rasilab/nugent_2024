{
 "cells": [
  {
   "cell_type": "code",
   "execution_count": null,
   "metadata": {
    "vscode": {
     "languageId": "r"
    }
   },
   "outputs": [],
   "source": [
    "options(warn = -1)\n",
    "suppressPackageStartupMessages(library(tidyverse))"
   ]
  },
  {
   "cell_type": "code",
   "execution_count": null,
   "metadata": {
    "vscode": {
     "languageId": "r"
    }
   },
   "outputs": [],
   "source": [
    "args <- commandArgs(trailingOnly = TRUE)\n",
    "\n",
    "subpool_barcode <- args[1]\n",
    "sample_id <- args[2]\n",
    "linked_count_file <- args[3]\n",
    "output_file <- args[4]\n",
    "# subpool_barcode <- \"CGTGAT\"\n",
    "# single_sample_id <- \"179p1\"\n",
    "# linked_count_file <- \"../data/linked_barcode_counts/pn_179p1_179p2_179p3_179p4.csv\"\n",
    "# output_file <- \"../data/subpooled_barcode_counts/pn_179p1.csv\""
   ]
  },
  {
   "cell_type": "code",
   "execution_count": null,
   "metadata": {
    "vscode": {
     "languageId": "r"
    }
   },
   "outputs": [],
   "source": [
    "characters <- c(\"A\", \"T\", \"G\", \"C\")\n",
    "\n",
    "generate_hamming_variants <- function(barcode, characters) {\n",
    "  n <- nchar(barcode)\n",
    "  variants <- tibble(pos = 1:n, orig_char = strsplit(barcode, \"\")[[1]])\n",
    "\n",
    "  variants %>%\n",
    "    expand(nesting(pos, orig_char), new_char = characters) %>%\n",
    "    filter(orig_char != new_char) %>%\n",
    "    mutate(new_barcode = map2_chr(pos, new_char, ~{\n",
    "      str_c(str_sub(barcode, 1, .x - 1), .y, str_sub(barcode, .x + 1, n))\n",
    "    })) %>%\n",
    "    pull(new_barcode)\n",
    "}"
   ]
  },
  {
   "cell_type": "code",
   "execution_count": null,
   "metadata": {
    "vscode": {
     "languageId": "r"
    }
   },
   "outputs": [],
   "source": [
    "subpool_barcodes <- subpool_barcode %>%\n",
    "  as_tibble_col(\"subpool_barcode\") %>%\n",
    "  mutate(subpool_barcode1 = map(subpool_barcode, ~(generate_hamming_variants(.x,characters)))) %>%\n",
    "  unnest(subpool_barcode1) %>%\n",
    "  mutate(subpool_barcode2 = map(subpool_barcode1, ~(generate_hamming_variants(.x,characters)))) %>%\n",
    "  unnest(subpool_barcode2) %>%\n",
    "  distinct(subpool_barcode2, .keep_all = T) %>%\n",
    "  mutate(subpool_barcode = subpool_barcode2) %>%\n",
    "  select(subpool_barcode)"
   ]
  },
  {
   "cell_type": "code",
   "execution_count": null,
   "metadata": {
    "vscode": {
     "languageId": "r"
    }
   },
   "outputs": [],
   "source": [
    "counts <- read_csv(linked_count_file, show_col_types = F) %>%\n",
    "  right_join(subpool_barcodes, by = \"subpool_barcode\") %>%\n",
    "  group_by(insert_num, barcode_num) %>%\n",
    "  summarise(umi_count = sum(umi_count), read_count = sum(read_count), .groups = \"drop\") %>%\n",
    "  drop_na() %>%\n",
    "  arrange(insert_num, desc(umi_count)) %>%\n",
    "  mutate(barcode_group = if_else(barcode_num %% 2 == 1, \"A\", \"B\")) %>%\n",
    "  write_csv(output_file)"
   ]
  }
 ],
 "metadata": {
  "kernelspec": {
   "display_name": "R",
   "language": "R",
   "name": "ir"
  },
  "language_info": {
   "codemirror_mode": "r",
   "file_extension": ".r",
   "mimetype": "text/x-r-source",
   "name": "R",
   "pygments_lexer": "r",
   "version": "4.2.2"
  }
 },
 "nbformat": 4,
 "nbformat_minor": 2
}
