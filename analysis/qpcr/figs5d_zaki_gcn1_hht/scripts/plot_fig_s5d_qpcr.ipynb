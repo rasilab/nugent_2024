{
 "cells": [
  {
   "attachments": {},
   "cell_type": "markdown",
   "metadata": {},
   "source": [
    "# Minimum code for Extended Data Figure 5d qPCR panel"
   ]
  },
  {
   "attachments": {},
   "cell_type": "markdown",
   "metadata": {},
   "source": [
    "## Load libraries"
   ]
  },
  {
   "cell_type": "code",
   "execution_count": 1,
   "metadata": {
    "vscode": {
     "languageId": "r"
    }
   },
   "outputs": [],
   "source": [
    "options(warn = -1)\n",
    "suppressPackageStartupMessages({\n",
    "  library(tidyverse)\n",
    "  library(rasilabRtemplates)\n",
    "})"
   ]
  },
  {
   "cell_type": "code",
   "execution_count": 2,
   "metadata": {
    "vscode": {
     "languageId": "r"
    }
   },
   "outputs": [],
   "source": [
    "if (!file.exists('../figures')){\n",
    "    dir.create('../figures')\n",
    "}"
   ]
  },
  {
   "attachments": {},
   "cell_type": "markdown",
   "metadata": {},
   "source": [
    "## Read in annotations"
   ]
  },
  {
   "cell_type": "code",
   "execution_count": 3,
   "metadata": {
    "vscode": {
     "languageId": "r"
    }
   },
   "outputs": [
    {
     "name": "stderr",
     "output_type": "stream",
     "text": [
      "\u001b[1mRows: \u001b[22m\u001b[34m96\u001b[39m \u001b[1mColumns: \u001b[22m\u001b[34m5\u001b[39m\n",
      "\u001b[36m──\u001b[39m \u001b[1mColumn specification\u001b[22m \u001b[36m────────────────────────────────────────────────────────\u001b[39m\n",
      "\u001b[1mDelimiter:\u001b[22m \",\"\n",
      "\u001b[31mchr\u001b[39m (4): Well, Amplicon, sgRNA, Treatment\n",
      "\u001b[32mdbl\u001b[39m (1): Plate\n",
      "\n",
      "\u001b[36mℹ\u001b[39m Use `spec()` to retrieve the full column specification for this data.\n",
      "\u001b[36mℹ\u001b[39m Specify the column types or set `show_col_types = FALSE` to quiet this message.\n"
     ]
    },
    {
     "name": "stdout",
     "output_type": "stream",
     "text": [
      "\u001b[90m# A tibble: 96 × 5\u001b[39m\n",
      "   Plate Well  Amplicon sgRNA Treatment      \n",
      "   \u001b[3m\u001b[90m<chr>\u001b[39m\u001b[23m \u001b[3m\u001b[90m<chr>\u001b[39m\u001b[23m \u001b[3m\u001b[90m<chr>\u001b[39m\u001b[23m    \u001b[3m\u001b[90m<chr>\u001b[39m\u001b[23m \u001b[3m\u001b[90m<chr>\u001b[39m\u001b[23m          \n",
      "\u001b[90m 1\u001b[39m 1     A09   GAPDH    GCN1  Nilotinib+HHT  \n",
      "\u001b[90m 2\u001b[39m 1     A10   GAPDH    GCN1  Vemurafenib+HHT\n",
      "\u001b[90m 3\u001b[39m 1     A11   GAPDH    GCN1  GCN2iB+HHT     \n",
      "\u001b[90m 4\u001b[39m 1     A12   GAPDH    GCN1  HHT            \n",
      "\u001b[90m 5\u001b[39m 1     B09   GAPDH    GCN1  Nilotinib+HHT  \n",
      "\u001b[90m 6\u001b[39m 1     B10   GAPDH    GCN1  Vemurafenib+HHT\n",
      "\u001b[90m 7\u001b[39m 1     B11   GAPDH    GCN1  GCN2iB+HHT     \n",
      "\u001b[90m 8\u001b[39m 1     B12   GAPDH    GCN1  HHT            \n",
      "\u001b[90m 9\u001b[39m 1     C09   GAPDH    FLUC  Nilotinib+HHT  \n",
      "\u001b[90m10\u001b[39m 1     C10   GAPDH    FLUC  Vemurafenib+HHT\n",
      "\u001b[90m# … with 86 more rows\u001b[39m\n"
     ]
    }
   ],
   "source": [
    "annotations <- read_csv(\"../annotations/sampleannotations.csv\") %>% \n",
    "  mutate(Well = as.character(Well),\n",
    "         Plate = as.character(Plate)) %>%\n",
    "  print()"
   ]
  },
  {
   "cell_type": "markdown",
   "metadata": {},
   "source": [
    "## Read in Cq data from Cfx Duet"
   ]
  },
  {
   "cell_type": "code",
   "execution_count": 4,
   "metadata": {
    "vscode": {
     "languageId": "r"
    }
   },
   "outputs": [
    {
     "name": "stderr",
     "output_type": "stream",
     "text": [
      "\u001b[1m\u001b[22mNew names:\n",
      "\u001b[36m•\u001b[39m `` -> `...1`\n",
      "\u001b[1mRows: \u001b[22m\u001b[34m96\u001b[39m \u001b[1mColumns: \u001b[22m\u001b[34m16\u001b[39m\n",
      "\u001b[36m──\u001b[39m \u001b[1mColumn specification\u001b[22m \u001b[36m────────────────────────────────────────────────────────\u001b[39m\n",
      "\u001b[1mDelimiter:\u001b[22m \",\"\n",
      "\u001b[31mchr\u001b[39m (3): Well, Fluor, Content\n",
      "\u001b[32mdbl\u001b[39m (8): Cq, Cq Mean, Cq Std. Dev, Starting Quantity (SQ), Log Starting Quan...\n",
      "\u001b[33mlgl\u001b[39m (5): ...1, Target, Sample, Biological Set Name, Well Note\n",
      "\n",
      "\u001b[36mℹ\u001b[39m Use `spec()` to retrieve the full column specification for this data.\n",
      "\u001b[36mℹ\u001b[39m Specify the column types or set `show_col_types = FALSE` to quiet this message.\n",
      "\u001b[1m\u001b[22mNew names:\n",
      "\u001b[36m•\u001b[39m `` -> `...1`\n",
      "\u001b[1mRows: \u001b[22m\u001b[34m72\u001b[39m \u001b[1mColumns: \u001b[22m\u001b[34m16\u001b[39m\n",
      "\u001b[36m──\u001b[39m \u001b[1mColumn specification\u001b[22m \u001b[36m────────────────────────────────────────────────────────\u001b[39m\n",
      "\u001b[1mDelimiter:\u001b[22m \",\"\n",
      "\u001b[31mchr\u001b[39m (3): Well, Fluor, Content\n",
      "\u001b[32mdbl\u001b[39m (8): Cq, Cq Mean, Cq Std. Dev, Starting Quantity (SQ), Log Starting Quan...\n",
      "\u001b[33mlgl\u001b[39m (5): ...1, Target, Sample, Biological Set Name, Well Note\n",
      "\n",
      "\u001b[36mℹ\u001b[39m Use `spec()` to retrieve the full column specification for this data.\n",
      "\u001b[36mℹ\u001b[39m Specify the column types or set `show_col_types = FALSE` to quiet this message.\n",
      "\u001b[1m\u001b[22mJoining, by = c(\"Well\", \"Plate\")\n"
     ]
    },
    {
     "name": "stdout",
     "output_type": "stream",
     "text": [
      "\u001b[90m# A tibble: 94 × 7\u001b[39m\n",
      "      CT Well  Plate Amplicon sgRNA Treatment       platewell\n",
      "   \u001b[3m\u001b[90m<dbl>\u001b[39m\u001b[23m \u001b[3m\u001b[90m<chr>\u001b[39m\u001b[23m \u001b[3m\u001b[90m<chr>\u001b[39m\u001b[23m \u001b[3m\u001b[90m<chr>\u001b[39m\u001b[23m    \u001b[3m\u001b[90m<chr>\u001b[39m\u001b[23m \u001b[3m\u001b[90m<fct>\u001b[39m\u001b[23m           \u001b[3m\u001b[90m<chr>\u001b[39m\u001b[23m    \n",
      "\u001b[90m 1\u001b[39m  22.4 A09   1     GAPDH    GCN1  Nilotinib+HHT   1A09     \n",
      "\u001b[90m 2\u001b[39m  21.9 A10   1     GAPDH    GCN1  Vemurafenib+HHT 1A10     \n",
      "\u001b[90m 3\u001b[39m  21.9 A11   1     GAPDH    GCN1  GCN2iB+HHT      1A11     \n",
      "\u001b[90m 4\u001b[39m  22.8 A12   1     GAPDH    GCN1  HHT             1A12     \n",
      "\u001b[90m 5\u001b[39m  22.4 B09   1     GAPDH    GCN1  Nilotinib+HHT   1B09     \n",
      "\u001b[90m 6\u001b[39m  22.2 B10   1     GAPDH    GCN1  Vemurafenib+HHT 1B10     \n",
      "\u001b[90m 7\u001b[39m  21.7 B11   1     GAPDH    GCN1  GCN2iB+HHT      1B11     \n",
      "\u001b[90m 8\u001b[39m  22.6 B12   1     GAPDH    GCN1  HHT             1B12     \n",
      "\u001b[90m 9\u001b[39m  21.3 C09   1     GAPDH    FLUC  Nilotinib+HHT   1C09     \n",
      "\u001b[90m10\u001b[39m  21.6 C10   1     GAPDH    FLUC  Vemurafenib+HHT 1C10     \n",
      "\u001b[90m# … with 84 more rows\u001b[39m\n"
     ]
    }
   ],
   "source": [
    "cq_data <- list.files(\"../../../../data/qpcr/zaki_gcn1_hht/\", full.names = T) %>% \n",
    "   as_tibble_col(\"file\") %>%\n",
    "   mutate(data = map(file, . %>% read_csv() %>% as_tibble)) %>%\n",
    "   mutate(Plate = str_extract(file, \"(?<=plate)\\\\d\")) %>%\n",
    "   unnest(\"data\") %>%\n",
    "   select(Cq, Well, Plate) %>%\n",
    "   rename(CT = Cq) %>%\n",
    "   inner_join(annotations) %>%\n",
    "   # Remove outlier\n",
    "   mutate(platewell = str_c(Plate, Well)) %>%\n",
    "   filter(platewell != \"6E03\") %>%\n",
    "   filter(!is.na(CT)) %>%\n",
    "   mutate(Treatment = fct_relevel(Treatment, \"HHT\")) %>%\n",
    "   print()\n",
    "\n",
    "# cq_data"
   ]
  },
  {
   "attachments": {},
   "cell_type": "markdown",
   "metadata": {},
   "source": [
    "## Normalize expression to GAPDH"
   ]
  },
  {
   "cell_type": "code",
   "execution_count": 7,
   "metadata": {
    "vscode": {
     "languageId": "r"
    }
   },
   "outputs": [
    {
     "name": "stderr",
     "output_type": "stream",
     "text": [
      "\u001b[1m\u001b[22m`summarise()` has grouped output by 'Amplicon', 'Treatment'. You can override\n",
      "using the `.groups` argument.\n"
     ]
    },
    {
     "name": "stdout",
     "output_type": "stream",
     "text": [
      "\u001b[90m# A tibble: 16 × 8\u001b[39m\n",
      "\u001b[90m# Groups:   Treatment, sgRNA [8]\u001b[39m\n",
      "   Amplicon Treatment       sgRNA std_error     n    CT norm_ct norm_error\n",
      "   \u001b[3m\u001b[90m<chr>\u001b[39m\u001b[23m    \u001b[3m\u001b[90m<fct>\u001b[39m\u001b[23m           \u001b[3m\u001b[90m<chr>\u001b[39m\u001b[23m     \u001b[3m\u001b[90m<dbl>\u001b[39m\u001b[23m \u001b[3m\u001b[90m<int>\u001b[39m\u001b[23m \u001b[3m\u001b[90m<dbl>\u001b[39m\u001b[23m   \u001b[3m\u001b[90m<dbl>\u001b[39m\u001b[23m      \u001b[3m\u001b[90m<dbl>\u001b[39m\u001b[23m\n",
      "\u001b[90m 1\u001b[39m EGR1     HHT             FLUC     0.206      3  31.5   -\u001b[31m4\u001b[39m\u001b[31m.\u001b[39m\u001b[31m56\u001b[39m      0.364\n",
      "\u001b[90m 2\u001b[39m EGR1     HHT             GCN1     0.168      3  23.7    3.79      0.271\n",
      "\u001b[90m 3\u001b[39m EGR1     GCN2iB+HHT      FLUC     0.162      3  30.0   -\u001b[31m3\u001b[39m\u001b[31m.\u001b[39m\u001b[31m48\u001b[39m      0.194\n",
      "\u001b[90m 4\u001b[39m EGR1     GCN2iB+HHT      GCN1     0.180      3  30.9   -\u001b[31m4\u001b[39m\u001b[31m.\u001b[39m\u001b[31m42\u001b[39m      0.352\n",
      "\u001b[90m 5\u001b[39m EGR1     Nilotinib+HHT   FLUC     0.064\u001b[4m5\u001b[24m     3  29.4   -\u001b[31m2\u001b[39m\u001b[31m.\u001b[39m\u001b[31m98\u001b[39m      0.154\n",
      "\u001b[90m 6\u001b[39m EGR1     Nilotinib+HHT   GCN1     0.627      3  30.8   -\u001b[31m3\u001b[39m\u001b[31m.\u001b[39m\u001b[31m19\u001b[39m      0.681\n",
      "\u001b[90m 7\u001b[39m EGR1     Vemurafenib+HHT FLUC     0.049\u001b[4m3\u001b[24m     3  29.1   -\u001b[31m2\u001b[39m\u001b[31m.\u001b[39m\u001b[31m72\u001b[39m      0.226\n",
      "\u001b[90m 8\u001b[39m EGR1     Vemurafenib+HHT GCN1     0.355      2  29.6   -\u001b[31m2\u001b[39m\u001b[31m.\u001b[39m\u001b[31m49\u001b[39m      0.403\n",
      "\u001b[90m 9\u001b[39m JUN      HHT             FLUC     0.268      3  23.6    3.41      0.403\n",
      "\u001b[90m10\u001b[39m JUN      HHT             GCN1     0.041\u001b[4m2\u001b[24m     3  20.7    6.85      0.216\n",
      "\u001b[90m11\u001b[39m JUN      GCN2iB+HHT      FLUC     0.097\u001b[4m4\u001b[24m     2  23.8    2.77      0.145\n",
      "\u001b[90m12\u001b[39m JUN      GCN2iB+HHT      GCN1     0.092\u001b[4m3\u001b[24m     3  23.7    2.78      0.316\n",
      "\u001b[90m13\u001b[39m JUN      Nilotinib+HHT   FLUC     0.081\u001b[4m6\u001b[24m     3  22.4    4.02      0.162\n",
      "\u001b[90m14\u001b[39m JUN      Nilotinib+HHT   GCN1     0.028\u001b[4m2\u001b[24m     3  23.2    4.38      0.269\n",
      "\u001b[90m15\u001b[39m JUN      Vemurafenib+HHT FLUC     0.037\u001b[4m5\u001b[24m     3  23.5    2.85      0.224\n",
      "\u001b[90m16\u001b[39m JUN      Vemurafenib+HHT GCN1     0.052\u001b[4m7\u001b[24m     3  23.1    4.09      0.198\n"
     ]
    }
   ],
   "source": [
    "norm_ct_inverted <- cq_data  %>%\n",
    "  filter(!is.na(CT)) %>%\n",
    "  group_by(Amplicon, Treatment, sgRNA) %>%\n",
    "  summarize(std_error = sd(CT),\n",
    "            n = n(),\n",
    "            CT = mean(CT)) %>%\n",
    "  ungroup() %>%\n",
    "  group_by(Treatment, sgRNA) %>%\n",
    "  mutate(norm_ct = CT - CT[Amplicon == \"GAPDH\"],\n",
    "         norm_error = sqrt(std_error^2 + std_error[Amplicon == \"GAPDH\"]^2)) %>%\n",
    "  filter(Amplicon != \"GAPDH\") %>%\n",
    "  mutate(norm_ct = 5 - norm_ct) %>%\n",
    "  write_csv(\"../../../../source_data/figure_s5d.csv\") %>%\n",
    "  print()"
   ]
  },
  {
   "cell_type": "code",
   "execution_count": 6,
   "metadata": {
    "vscode": {
     "languageId": "r"
    }
   },
   "outputs": [
    {
     "data": {
      "image/png": "[encoded data removed]",
      "text/plain": [
       "plot without title"
      ]
     },
     "metadata": {
      "image/png": {
       "height": 168,
       "width": 360
      }
     },
     "output_type": "display_data"
    }
   ],
   "source": [
    "options(repr.plot.width=6, repr.plot.height=2.8)\n",
    "\n",
    "norm_ct_inverted %>% \n",
    "  ggplot(aes(x = Treatment, y = norm_ct, ymax = norm_ct + norm_error, ymin = norm_ct - norm_error, color = sgRNA)) +\n",
    "  geom_point() +\n",
    "  geom_errorbar(width = 0.2) +\n",
    "  facet_wrap(~Amplicon, scales = \"free_y\") +\n",
    "  ylab(\"log2 mRNA level\\n(-ΔΔCT)\") +\n",
    "  theme(axis.text.x = element_text()) +\n",
    "  scale_x_discrete(guide = guide_axis(angle = 30)) +\n",
    "  theme(axis.line = element_line(color = \"grey\")) +\n",
    "  scale_color_manual(values = cbPalette) \n",
    "\n",
    "ggsave(\"../figures/egr1_jun_mrna_levels.pdf\", height = 2.8, width = 6) "
   ]
  }
 ],
 "metadata": {
  "kernelspec": {
   "display_name": "R",
   "language": "R",
   "name": "ir"
  },
  "language_info": {
   "codemirror_mode": "r",
   "file_extension": ".r",
   "mimetype": "text/x-r-source",
   "name": "R",
   "pygments_lexer": "r",
   "version": "4.2.2"
  },
  "orig_nbformat": 4
 },
 "nbformat": 4,
 "nbformat_minor": 2
}
