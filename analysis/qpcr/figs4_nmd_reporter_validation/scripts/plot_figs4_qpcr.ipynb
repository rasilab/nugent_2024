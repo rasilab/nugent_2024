{
 "cells": [
  {
   "cell_type": "markdown",
   "metadata": {},
   "source": [
    "# Minimum code for Extended Data Figure 4 qPCR panel"
   ]
  },
  {
   "cell_type": "code",
   "execution_count": null,
   "metadata": {
    "metadata": {},
    "vscode": {
     "languageId": "r"
    }
   },
   "outputs": [],
   "source": [
    "options(warn = -1)\n",
    "suppressPackageStartupMessages({\n",
    "  library(tidyverse)\n",
    "  library(rasilabRtemplates)\n",
    "})"
   ]
  },
  {
   "cell_type": "code",
   "execution_count": null,
   "metadata": {
    "metadata": {},
    "vscode": {
     "languageId": "r"
    }
   },
   "outputs": [],
   "source": [
    "if (!file.exists('../figures')){\n",
    "    dir.create('../figures')\n",
    "}\n",
    "    "
   ]
  },
  {
   "cell_type": "markdown",
   "metadata": {},
   "source": [
    "## Read in annotations"
   ]
  },
  {
   "cell_type": "code",
   "execution_count": null,
   "metadata": {
    "metadata": {},
    "vscode": {
     "languageId": "r"
    }
   },
   "outputs": [],
   "source": [
    "annotations <- read_csv(\"../annotations/sampleannotations.csv\") %>% \n",
    "  mutate(Well = as.character(Well),\n",
    "         Plate = as.character(Plate)) %>%\n",
    "  print()"
   ]
  },
  {
   "cell_type": "markdown",
   "metadata": {},
   "source": [
    "## Read in Ct data; join with annotations"
   ]
  },
  {
   "cell_type": "code",
   "execution_count": null,
   "metadata": {
    "metadata": {},
    "vscode": {
     "languageId": "r"
    }
   },
   "outputs": [],
   "source": [
    "cq_data <- read_csv(\"../../../../data/qpcr/nmd_reporter_validation/cq_values.csv\") %>%\n",
    "   select(Cq, Well) %>%\n",
    "   rename(CT = Cq) %>%\n",
    "   inner_join(annotations) %>%\n",
    "   select(CT, Amplicon, Treatment, Reporter) %>%\n",
    "   mutate(Treatment = fct_relevel(Treatment, \"DMSO\")) %>%\n",
    "   print()"
   ]
  },
  {
   "cell_type": "markdown",
   "metadata": {},
   "source": [
    "## Normalize β-globin expression to mCherry"
   ]
  },
  {
   "cell_type": "code",
   "execution_count": null,
   "metadata": {
    "metadata": {},
    "vscode": {
     "languageId": "r"
    }
   },
   "outputs": [],
   "source": [
    "norm_ct_inverted <- cq_data  %>%\n",
    "  filter(!is.na(CT)) %>%\n",
    "  group_by(Amplicon, Treatment, Reporter) %>%\n",
    "  summarize(std_error = sd(CT),\n",
    "            n = n(),\n",
    "            CT = mean(CT)) %>%\n",
    "  ungroup() %>%\n",
    "  group_by(Treatment, Reporter) %>%\n",
    "  mutate(norm_ct = CT - CT[Amplicon == \"mCherry\"],\n",
    "         norm_error = sqrt(std_error^2 + std_error[Amplicon == \"mCherry\"]^2)) %>%\n",
    "  filter(Amplicon == \"globin\") %>%\n",
    "  mutate(norm_ct = -5 - norm_ct) %>%\n",
    "  print()"
   ]
  },
  {
   "cell_type": "markdown",
   "metadata": {},
   "source": [
    "## Plot normalized β-globin reporter expression"
   ]
  },
  {
   "cell_type": "code",
   "execution_count": null,
   "metadata": {
    "metadata": {},
    "vscode": {
     "languageId": "r"
    }
   },
   "outputs": [],
   "source": [
    "options(repr.plot.width=3, repr.plot.height=2)\n",
    "\n",
    "norm_ct_inverted %>% \n",
    "  ggplot(aes(x = Treatment, y = norm_ct, ymax = norm_ct + norm_error, ymin = norm_ct - norm_error, color = Reporter)) +\n",
    "  geom_point() +\n",
    "  geom_errorbar(width = 0.2) +\n",
    "  ylab(\"log2 mRNA level\\n(-ΔΔCT)\") +\n",
    "  theme(axis.text.x = element_text(),\n",
    "        axis.line = element_line(color = \"grey\")) +\n",
    "  scale_x_discrete(guide = guide_axis(angle = 30)) +\n",
    "  scale_color_manual(values = cbPalette) \n",
    "\n",
    "ggsave(\"../figures/mcherry_normalized_ct_values_inverted.pdf\", height = 2, width = 3) "
   ]
  }
 ],
 "metadata": {
  "kernelspec": {
   "display_name": "R_project_repo_1.13.0",
   "language": "R",
   "name": "ir_project_repo_1.13.0"
  },
  "language_info": {
   "codemirror_mode": "r",
   "file_extension": ".r",
   "mimetype": "text/x-r-source",
   "name": "R",
   "pygments_lexer": "r",
   "version": "4.1.3"
  },
  "orig_nbformat": 4
 },
 "nbformat": 4,
 "nbformat_minor": 2
}
