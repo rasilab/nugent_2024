{
 "cells": [
  {
   "cell_type": "markdown",
   "metadata": {},
   "source": [
    "# Minimum code for Extended Data Figure 4 qPCR panel"
   ]
  },
  {
   "cell_type": "code",
   "execution_count": 1,
   "metadata": {
    "metadata": {},
    "vscode": {
     "languageId": "r"
    }
   },
   "outputs": [],
   "source": [
    "options(warn = -1)\n",
    "suppressPackageStartupMessages({\n",
    "  library(tidyverse)\n",
    "  library(rasilabRtemplates)\n",
    "})"
   ]
  },
  {
   "cell_type": "code",
   "execution_count": 2,
   "metadata": {
    "metadata": {},
    "vscode": {
     "languageId": "r"
    }
   },
   "outputs": [],
   "source": [
    "if (!file.exists('../figures')){\n",
    "    dir.create('../figures')\n",
    "}\n",
    "    "
   ]
  },
  {
   "cell_type": "markdown",
   "metadata": {},
   "source": [
    "## Read in annotations"
   ]
  },
  {
   "cell_type": "code",
   "execution_count": 8,
   "metadata": {
    "metadata": {},
    "vscode": {
     "languageId": "r"
    }
   },
   "outputs": [
    {
     "name": "stderr",
     "output_type": "stream",
     "text": [
      "\u001b[1mRows: \u001b[22m\u001b[34m48\u001b[39m \u001b[1mColumns: \u001b[22m\u001b[34m4\u001b[39m\n",
      "\u001b[36m──\u001b[39m \u001b[1mColumn specification\u001b[22m \u001b[36m────────────────────────────────────────────────────────\u001b[39m\n",
      "\u001b[1mDelimiter:\u001b[22m \",\"\n",
      "\u001b[31mchr\u001b[39m (4): Well, Amplicon, Treatment, Reporter\n",
      "\n",
      "\u001b[36mℹ\u001b[39m Use `spec()` to retrieve the full column specification for this data.\n",
      "\u001b[36mℹ\u001b[39m Specify the column types or set `show_col_types = FALSE` to quiet this message.\n"
     ]
    },
    {
     "name": "stdout",
     "output_type": "stream",
     "text": [
      "\u001b[90m# A tibble: 48 × 4\u001b[39m\n",
      "   Well  Amplicon Treatment Reporter\n",
      "   \u001b[3m\u001b[90m<chr>\u001b[39m\u001b[23m \u001b[3m\u001b[90m<chr>\u001b[39m\u001b[23m    \u001b[3m\u001b[90m<chr>\u001b[39m\u001b[23m     \u001b[3m\u001b[90m<chr>\u001b[39m\u001b[23m   \n",
      "\u001b[90m 1\u001b[39m B02   globin   eFT226    PTC     \n",
      "\u001b[90m 2\u001b[39m B03   globin   4E1RCat   PTC     \n",
      "\u001b[90m 3\u001b[39m B04   globin   SMG1i     PTC     \n",
      "\u001b[90m 4\u001b[39m B05   globin   DMSO      PTC     \n",
      "\u001b[90m 5\u001b[39m B06   globin   eFT226    NTC     \n",
      "\u001b[90m 6\u001b[39m B07   globin   4E1RCat   NTC     \n",
      "\u001b[90m 7\u001b[39m B08   globin   SMG1i     NTC     \n",
      "\u001b[90m 8\u001b[39m B09   globin   DMSO      NTC     \n",
      "\u001b[90m 9\u001b[39m C02   globin   eFT226    PTC     \n",
      "\u001b[90m10\u001b[39m C03   globin   4E1RCat   PTC     \n",
      "\u001b[90m# … with 38 more rows\u001b[39m\n"
     ]
    }
   ],
   "source": [
    "annotations <- read_csv(\"../annotations/sampleannotations.csv\") %>% \n",
    "  print()"
   ]
  },
  {
   "cell_type": "markdown",
   "metadata": {},
   "source": [
    "## Read in Ct data; join with annotations"
   ]
  },
  {
   "cell_type": "code",
   "execution_count": 9,
   "metadata": {
    "metadata": {},
    "vscode": {
     "languageId": "r"
    }
   },
   "outputs": [
    {
     "name": "stderr",
     "output_type": "stream",
     "text": [
      "\u001b[1m\u001b[22mNew names:\n",
      "\u001b[36m•\u001b[39m `` -> `...1`\n",
      "\u001b[1mRows: \u001b[22m\u001b[34m60\u001b[39m \u001b[1mColumns: \u001b[22m\u001b[34m16\u001b[39m\n",
      "\u001b[36m──\u001b[39m \u001b[1mColumn specification\u001b[22m \u001b[36m────────────────────────────────────────────────────────\u001b[39m\n",
      "\u001b[1mDelimiter:\u001b[22m \",\"\n",
      "\u001b[31mchr\u001b[39m (3): Well, Fluor, Content\n",
      "\u001b[32mdbl\u001b[39m (8): Cq, Cq Mean, Cq Std. Dev, Starting Quantity (SQ), Log Starting Quan...\n",
      "\u001b[33mlgl\u001b[39m (5): ...1, Target, Sample, Biological Set Name, Well Note\n",
      "\n",
      "\u001b[36mℹ\u001b[39m Use `spec()` to retrieve the full column specification for this data.\n",
      "\u001b[36mℹ\u001b[39m Specify the column types or set `show_col_types = FALSE` to quiet this message.\n",
      "\u001b[1m\u001b[22mJoining, by = \"Well\"\n"
     ]
    },
    {
     "name": "stdout",
     "output_type": "stream",
     "text": [
      "\u001b[90m# A tibble: 48 × 4\u001b[39m\n",
      "      CT Amplicon Treatment Reporter\n",
      "   \u001b[3m\u001b[90m<dbl>\u001b[39m\u001b[23m \u001b[3m\u001b[90m<chr>\u001b[39m\u001b[23m    \u001b[3m\u001b[90m<fct>\u001b[39m\u001b[23m     \u001b[3m\u001b[90m<chr>\u001b[39m\u001b[23m   \n",
      "\u001b[90m 1\u001b[39m  24.0 globin   eFT226    PTC     \n",
      "\u001b[90m 2\u001b[39m  24.6 globin   4E1RCat   PTC     \n",
      "\u001b[90m 3\u001b[39m  22.7 globin   SMG1i     PTC     \n",
      "\u001b[90m 4\u001b[39m  26.2 globin   DMSO      PTC     \n",
      "\u001b[90m 5\u001b[39m  21.6 globin   eFT226    NTC     \n",
      "\u001b[90m 6\u001b[39m  20.3 globin   4E1RCat   NTC     \n",
      "\u001b[90m 7\u001b[39m  20.9 globin   SMG1i     NTC     \n",
      "\u001b[90m 8\u001b[39m  20.1 globin   DMSO      NTC     \n",
      "\u001b[90m 9\u001b[39m  24.0 globin   eFT226    PTC     \n",
      "\u001b[90m10\u001b[39m  24.3 globin   4E1RCat   PTC     \n",
      "\u001b[90m# … with 38 more rows\u001b[39m\n"
     ]
    }
   ],
   "source": [
    "cq_data <- read_csv(\"../../../../data/qpcr/nmd_reporter_validation/cq_values.csv\") %>%\n",
    "   select(Cq, Well) %>%\n",
    "   rename(CT = Cq) %>%\n",
    "   inner_join(annotations) %>%\n",
    "   select(CT, Amplicon, Treatment, Reporter) %>%\n",
    "   mutate(Treatment = fct_relevel(Treatment, \"DMSO\")) %>%\n",
    "   print()"
   ]
  },
  {
   "cell_type": "markdown",
   "metadata": {},
   "source": [
    "## Normalize β-globin expression to mCherry"
   ]
  },
  {
   "cell_type": "code",
   "execution_count": 12,
   "metadata": {
    "metadata": {},
    "vscode": {
     "languageId": "r"
    }
   },
   "outputs": [
    {
     "name": "stderr",
     "output_type": "stream",
     "text": [
      "\u001b[1m\u001b[22m`summarise()` has grouped output by 'Amplicon', 'Treatment'. You can override\n",
      "using the `.groups` argument.\n"
     ]
    },
    {
     "name": "stdout",
     "output_type": "stream",
     "text": [
      "\u001b[90m# A tibble: 8 × 8\u001b[39m\n",
      "\u001b[90m# Groups:   Treatment, Reporter [8]\u001b[39m\n",
      "  Amplicon Treatment Reporter std_error     n    CT norm_ct norm_error\n",
      "  \u001b[3m\u001b[90m<chr>\u001b[39m\u001b[23m    \u001b[3m\u001b[90m<fct>\u001b[39m\u001b[23m     \u001b[3m\u001b[90m<chr>\u001b[39m\u001b[23m        \u001b[3m\u001b[90m<dbl>\u001b[39m\u001b[23m \u001b[3m\u001b[90m<int>\u001b[39m\u001b[23m \u001b[3m\u001b[90m<dbl>\u001b[39m\u001b[23m   \u001b[3m\u001b[90m<dbl>\u001b[39m\u001b[23m      \u001b[3m\u001b[90m<dbl>\u001b[39m\u001b[23m\n",
      "\u001b[90m1\u001b[39m globin   DMSO      NTC         0.246      3  20.4  -\u001b[31m0\u001b[39m\u001b[31m.\u001b[39m\u001b[31m366\u001b[39m      0.457\n",
      "\u001b[90m2\u001b[39m globin   DMSO      PTC         0.090\u001b[4m1\u001b[24m     3  26.3  -\u001b[31m4\u001b[39m\u001b[31m.\u001b[39m\u001b[31m80\u001b[39m       0.294\n",
      "\u001b[90m3\u001b[39m globin   4E1RCat   NTC         0.063\u001b[4m8\u001b[24m     3  20.3  -\u001b[31m0\u001b[39m\u001b[31m.\u001b[39m\u001b[31m109\u001b[39m      0.302\n",
      "\u001b[90m4\u001b[39m globin   4E1RCat   PTC         0.178      3  24.4  -\u001b[31m3\u001b[39m\u001b[31m.\u001b[39m\u001b[31m19\u001b[39m       0.208\n",
      "\u001b[90m5\u001b[39m globin   eFT226    NTC         0.119      3  21.6  -\u001b[31m0\u001b[39m\u001b[31m.\u001b[39m\u001b[31m395\u001b[39m      0.347\n",
      "\u001b[90m6\u001b[39m globin   eFT226    PTC         0.025\u001b[4m6\u001b[24m     3  24.0  -\u001b[31m2\u001b[39m\u001b[31m.\u001b[39m\u001b[31m37\u001b[39m       0.145\n",
      "\u001b[90m7\u001b[39m globin   SMG1i     NTC         0.117      3  21.0  -\u001b[31m0\u001b[39m\u001b[31m.\u001b[39m\u001b[31m984\u001b[39m      0.528\n",
      "\u001b[90m8\u001b[39m globin   SMG1i     PTC         0.060\u001b[4m9\u001b[24m     3  22.6  -\u001b[31m1\u001b[39m\u001b[31m.\u001b[39m\u001b[31m26\u001b[39m       0.148\n"
     ]
    }
   ],
   "source": [
    "norm_ct_inverted <- cq_data  %>%\n",
    "  filter(!is.na(CT)) %>%\n",
    "  group_by(Amplicon, Treatment, Reporter) %>%\n",
    "  summarize(std_error = sd(CT),\n",
    "            n = n(),\n",
    "            CT = mean(CT)) %>%\n",
    "  ungroup() %>%\n",
    "  group_by(Treatment, Reporter) %>%\n",
    "  mutate(norm_ct = CT - CT[Amplicon == \"mCherry\"],\n",
    "         norm_error = sqrt(std_error^2 + std_error[Amplicon == \"mCherry\"]^2)) %>%\n",
    "  filter(Amplicon == \"globin\") %>%\n",
    "  mutate(norm_ct = -5 - norm_ct) %>%\n",
    "  write_csv(\"../../../../source_data/figure_s4a.csv\") %>%\n",
    "  print()"
   ]
  },
  {
   "cell_type": "markdown",
   "metadata": {},
   "source": [
    "## Plot normalized β-globin reporter expression"
   ]
  },
  {
   "cell_type": "code",
   "execution_count": 11,
   "metadata": {
    "metadata": {},
    "vscode": {
     "languageId": "r"
    }
   },
   "outputs": [
    {
     "data": {
      "image/png": "[encoded data removed]",
      "text/plain": [
       "plot without title"
      ]
     },
     "metadata": {
      "image/png": {
       "height": 120,
       "width": 180
      }
     },
     "output_type": "display_data"
    }
   ],
   "source": [
    "options(repr.plot.width=3, repr.plot.height=2)\n",
    "\n",
    "norm_ct_inverted %>% \n",
    "  ggplot(aes(x = Treatment, y = norm_ct, ymax = norm_ct + norm_error, ymin = norm_ct - norm_error, color = Reporter)) +\n",
    "  geom_point() +\n",
    "  geom_errorbar(width = 0.2) +\n",
    "  ylab(\"log2 mRNA level\\n(-ΔΔCT)\") +\n",
    "  theme(axis.text.x = element_text(),\n",
    "        axis.line = element_line(color = \"grey\")) +\n",
    "  scale_x_discrete(guide = guide_axis(angle = 30)) +\n",
    "  scale_color_manual(values = cbPalette) \n",
    "\n",
    "ggsave(\"../figures/mcherry_normalized_ct_values_inverted.pdf\", height = 2, width = 3) "
   ]
  }
 ],
 "metadata": {
  "kernelspec": {
   "display_name": "R",
   "language": "R",
   "name": "ir"
  },
  "language_info": {
   "codemirror_mode": "r",
   "file_extension": ".r",
   "mimetype": "text/x-r-source",
   "name": "R",
   "pygments_lexer": "r",
   "version": "4.2.2"
  },
  "orig_nbformat": 4
 },
 "nbformat": 4,
 "nbformat_minor": 2
}
