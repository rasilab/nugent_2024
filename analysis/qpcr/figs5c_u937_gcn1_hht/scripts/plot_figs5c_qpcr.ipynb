{
 "cells": [
  {
   "attachments": {},
   "cell_type": "markdown",
   "metadata": {},
   "source": [
    "# Minimum code for Extended Data Figure 5c qPCR panel"
   ]
  },
  {
   "cell_type": "code",
   "execution_count": 1,
   "metadata": {
    "vscode": {
     "languageId": "r"
    }
   },
   "outputs": [],
   "source": [
    "options(warn = -1)\n",
    "suppressPackageStartupMessages({\n",
    "  library(tidyverse)\n",
    "  library(rasilabRtemplates)\n",
    "})"
   ]
  },
  {
   "cell_type": "code",
   "execution_count": 2,
   "metadata": {
    "vscode": {
     "languageId": "r"
    }
   },
   "outputs": [],
   "source": [
    "if (!file.exists('../figures')){\n",
    "    dir.create('../figures')\n",
    "}"
   ]
  },
  {
   "attachments": {},
   "cell_type": "markdown",
   "metadata": {},
   "source": [
    "## Read in annotations"
   ]
  },
  {
   "cell_type": "code",
   "execution_count": 3,
   "metadata": {
    "vscode": {
     "languageId": "r"
    }
   },
   "outputs": [
    {
     "name": "stderr",
     "output_type": "stream",
     "text": [
      "\u001b[1mRows: \u001b[22m\u001b[34m108\u001b[39m \u001b[1mColumns: \u001b[22m\u001b[34m5\u001b[39m\n",
      "\u001b[36m──\u001b[39m \u001b[1mColumn specification\u001b[22m \u001b[36m────────────────────────────────────────────────────────\u001b[39m\n",
      "\u001b[1mDelimiter:\u001b[22m \",\"\n",
      "\u001b[31mchr\u001b[39m (4): Well, Amplicon, sgRNA, Treatment\n",
      "\u001b[32mdbl\u001b[39m (1): Plate\n",
      "\n",
      "\u001b[36mℹ\u001b[39m Use `spec()` to retrieve the full column specification for this data.\n",
      "\u001b[36mℹ\u001b[39m Specify the column types or set `show_col_types = FALSE` to quiet this message.\n"
     ]
    },
    {
     "name": "stdout",
     "output_type": "stream",
     "text": [
      "\u001b[90m# A tibble: 108 × 5\u001b[39m\n",
      "   Plate Well  Amplicon sgRNA    Treatment\n",
      "   \u001b[3m\u001b[90m<chr>\u001b[39m\u001b[23m \u001b[3m\u001b[90m<chr>\u001b[39m\u001b[23m \u001b[3m\u001b[90m<chr>\u001b[39m\u001b[23m    \u001b[3m\u001b[90m<chr>\u001b[39m\u001b[23m    \u001b[3m\u001b[90m<chr>\u001b[39m\u001b[23m    \n",
      "\u001b[90m 1\u001b[39m 4     A01   GAPDH    GCN1-1_2 DMSO     \n",
      "\u001b[90m 2\u001b[39m 4     A02   GAPDH    GCN1-1_2 100nM    \n",
      "\u001b[90m 3\u001b[39m 4     A03   GAPDH    GCN1-1_2 1μM      \n",
      "\u001b[90m 4\u001b[39m 4     A04   GAPDH    GCN1-3_4 DMSO     \n",
      "\u001b[90m 5\u001b[39m 4     A05   GAPDH    GCN1-3_4 100nM    \n",
      "\u001b[90m 6\u001b[39m 4     A06   GAPDH    GCN1-3_4 1μM      \n",
      "\u001b[90m 7\u001b[39m 4     A07   GAPDH    FLUC-1_2 DMSO     \n",
      "\u001b[90m 8\u001b[39m 4     A08   GAPDH    FLUC-1_2 100nM    \n",
      "\u001b[90m 9\u001b[39m 4     A09   GAPDH    FLUC-1_2 1μM      \n",
      "\u001b[90m10\u001b[39m 4     B01   GAPDH    GCN1-1_2 DMSO     \n",
      "\u001b[90m# … with 98 more rows\u001b[39m\n"
     ]
    }
   ],
   "source": [
    "annotations <- read_csv(\"../annotations/sampleannotations.csv\") %>% \n",
    "  mutate(Well = as.character(Well),\n",
    "         Plate = as.character(Plate)) %>%\n",
    "  print()"
   ]
  },
  {
   "cell_type": "markdown",
   "metadata": {},
   "source": [
    "## Read in Cq data from Cfx Duet"
   ]
  },
  {
   "cell_type": "code",
   "execution_count": 4,
   "metadata": {
    "vscode": {
     "languageId": "r"
    }
   },
   "outputs": [
    {
     "name": "stderr",
     "output_type": "stream",
     "text": [
      "\u001b[1m\u001b[22mNew names:\n",
      "\u001b[36m•\u001b[39m `` -> `...1`\n",
      "\u001b[1mRows: \u001b[22m\u001b[34m96\u001b[39m \u001b[1mColumns: \u001b[22m\u001b[34m16\u001b[39m\n",
      "\u001b[36m──\u001b[39m \u001b[1mColumn specification\u001b[22m \u001b[36m────────────────────────────────────────────────────────\u001b[39m\n",
      "\u001b[1mDelimiter:\u001b[22m \",\"\n",
      "\u001b[31mchr\u001b[39m (3): Well, Fluor, Content\n",
      "\u001b[32mdbl\u001b[39m (8): Cq, Cq Mean, Cq Std. Dev, Starting Quantity (SQ), Log Starting Quan...\n",
      "\u001b[33mlgl\u001b[39m (5): ...1, Target, Sample, Biological Set Name, Well Note\n",
      "\n",
      "\u001b[36mℹ\u001b[39m Use `spec()` to retrieve the full column specification for this data.\n",
      "\u001b[36mℹ\u001b[39m Specify the column types or set `show_col_types = FALSE` to quiet this message.\n",
      "\u001b[1m\u001b[22mNew names:\n",
      "\u001b[36m•\u001b[39m `` -> `...1`\n",
      "\u001b[1mRows: \u001b[22m\u001b[34m81\u001b[39m \u001b[1mColumns: \u001b[22m\u001b[34m16\u001b[39m\n",
      "\u001b[36m──\u001b[39m \u001b[1mColumn specification\u001b[22m \u001b[36m────────────────────────────────────────────────────────\u001b[39m\n",
      "\u001b[1mDelimiter:\u001b[22m \",\"\n",
      "\u001b[31mchr\u001b[39m (3): Well, Fluor, Content\n",
      "\u001b[32mdbl\u001b[39m (8): Cq, Cq Mean, Cq Std. Dev, Starting Quantity (SQ), Log Starting Quan...\n",
      "\u001b[33mlgl\u001b[39m (5): ...1, Target, Sample, Biological Set Name, Well Note\n",
      "\n",
      "\u001b[36mℹ\u001b[39m Use `spec()` to retrieve the full column specification for this data.\n",
      "\u001b[36mℹ\u001b[39m Specify the column types or set `show_col_types = FALSE` to quiet this message.\n",
      "\u001b[1m\u001b[22mJoining, by = c(\"Well\", \"Plate\")\n"
     ]
    },
    {
     "name": "stdout",
     "output_type": "stream",
     "text": [
      "\u001b[90m# A tibble: 107 × 4\u001b[39m\n",
      "      CT Amplicon sgRNA    Treatment\n",
      "   \u001b[3m\u001b[90m<dbl>\u001b[39m\u001b[23m \u001b[3m\u001b[90m<chr>\u001b[39m\u001b[23m    \u001b[3m\u001b[90m<chr>\u001b[39m\u001b[23m    \u001b[3m\u001b[90m<fct>\u001b[39m\u001b[23m    \n",
      "\u001b[90m 1\u001b[39m  22.1 GAPDH    GCN1-1_2 DMSO     \n",
      "\u001b[90m 2\u001b[39m  21.1 GAPDH    GCN1-1_2 100nM    \n",
      "\u001b[90m 3\u001b[39m  22.1 GAPDH    GCN1-1_2 1μM      \n",
      "\u001b[90m 4\u001b[39m  21.0 GAPDH    GCN1-3_4 DMSO     \n",
      "\u001b[90m 5\u001b[39m  20.7 GAPDH    GCN1-3_4 100nM    \n",
      "\u001b[90m 6\u001b[39m  22.0 GAPDH    GCN1-3_4 1μM      \n",
      "\u001b[90m 7\u001b[39m  20.8 GAPDH    FLUC-1_2 DMSO     \n",
      "\u001b[90m 8\u001b[39m  20.6 GAPDH    FLUC-1_2 100nM    \n",
      "\u001b[90m 9\u001b[39m  21.0 GAPDH    FLUC-1_2 1μM      \n",
      "\u001b[90m10\u001b[39m  22.0 GAPDH    GCN1-1_2 DMSO     \n",
      "\u001b[90m# … with 97 more rows\u001b[39m\n"
     ]
    }
   ],
   "source": [
    "cq_data <- list.files(\"../../../../data/qpcr/u937_gcn1_hht/\", full.names = T) %>% \n",
    "   as_tibble_col(\"file\") %>%\n",
    "   mutate(data = map(file, . %>% read_csv() %>% as_tibble)) %>%\n",
    "   mutate(Plate = str_extract(file, \"(?<=plate)\\\\d\")) %>%\n",
    "   unnest(\"data\") %>%\n",
    "   select(Cq, Well, Plate) %>%\n",
    "   rename(CT = Cq) %>%\n",
    "   inner_join(annotations) %>%\n",
    "   filter(!is.na(CT)) %>%\n",
    "   # Remove outlier\n",
    "   mutate(platewell = str_c(Plate, Well)) %>%\n",
    "   filter(platewell != \"7F07\") %>%\n",
    "   select(CT, Amplicon, sgRNA, Treatment) %>%\n",
    "   mutate(Treatment = fct_relevel(Treatment, \"DMSO\")) %>%\n",
    "   print()"
   ]
  },
  {
   "attachments": {},
   "cell_type": "markdown",
   "metadata": {},
   "source": [
    "## Normalize expression to GAPDH"
   ]
  },
  {
   "cell_type": "code",
   "execution_count": 7,
   "metadata": {
    "vscode": {
     "languageId": "r"
    }
   },
   "outputs": [
    {
     "name": "stderr",
     "output_type": "stream",
     "text": [
      "\u001b[1m\u001b[22m`summarise()` has grouped output by 'Amplicon', 'Treatment'. You can override\n",
      "using the `.groups` argument.\n"
     ]
    },
    {
     "name": "stdout",
     "output_type": "stream",
     "text": [
      "\u001b[90m# A tibble: 18 × 8\u001b[39m\n",
      "\u001b[90m# Groups:   Treatment, sgRNA [9]\u001b[39m\n",
      "   Amplicon Treatment sgRNA    std_error     n    CT norm_ct norm_error\n",
      "   \u001b[3m\u001b[90m<chr>\u001b[39m\u001b[23m    \u001b[3m\u001b[90m<fct>\u001b[39m\u001b[23m     \u001b[3m\u001b[90m<chr>\u001b[39m\u001b[23m        \u001b[3m\u001b[90m<dbl>\u001b[39m\u001b[23m \u001b[3m\u001b[90m<int>\u001b[39m\u001b[23m \u001b[3m\u001b[90m<dbl>\u001b[39m\u001b[23m   \u001b[3m\u001b[90m<dbl>\u001b[39m\u001b[23m      \u001b[3m\u001b[90m<dbl>\u001b[39m\u001b[23m\n",
      "\u001b[90m 1\u001b[39m EGR1     DMSO      FLUC-1_2    0.810      3  35.8   -\u001b[31m4\u001b[39m\u001b[31m.\u001b[39m\u001b[31m73\u001b[39m     0.841 \n",
      "\u001b[90m 2\u001b[39m EGR1     DMSO      GCN1-1_2    0.212      3  35.5   -\u001b[31m3\u001b[39m\u001b[31m.\u001b[39m\u001b[31m47\u001b[39m     0.238 \n",
      "\u001b[90m 3\u001b[39m EGR1     DMSO      GCN1-3_4    0.475      3  35.6   -\u001b[31m4\u001b[39m\u001b[31m.\u001b[39m\u001b[31m57\u001b[39m     0.478 \n",
      "\u001b[90m 4\u001b[39m EGR1     100nM     FLUC-1_2    0.554      3  33.3   -\u001b[31m2\u001b[39m\u001b[31m.\u001b[39m\u001b[31m62\u001b[39m     0.557 \n",
      "\u001b[90m 5\u001b[39m EGR1     100nM     GCN1-1_2    0.163      3  29.1    2.05     0.185 \n",
      "\u001b[90m 6\u001b[39m EGR1     100nM     GCN1-3_4    0.340      3  28.3    2.64     0.391 \n",
      "\u001b[90m 7\u001b[39m EGR1     1μM       FLUC-1_2    0.261      3  32.6   -\u001b[31m1\u001b[39m\u001b[31m.\u001b[39m\u001b[31m31\u001b[39m     0.331 \n",
      "\u001b[90m 8\u001b[39m EGR1     1μM       GCN1-1_2    0.576      3  26.9    5.34     0.613 \n",
      "\u001b[90m 9\u001b[39m EGR1     1μM       GCN1-3_4    0.163      2  27.9    4.18     0.212 \n",
      "\u001b[90m10\u001b[39m JUN      DMSO      FLUC-1_2    0.036\u001b[4m7\u001b[24m     3  28.7    2.29     0.227 \n",
      "\u001b[90m11\u001b[39m JUN      DMSO      GCN1-1_2    0.133      3  28.9    3.08     0.172 \n",
      "\u001b[90m12\u001b[39m JUN      DMSO      GCN1-3_4    0.050\u001b[4m3\u001b[24m     3  28.0    3.02     0.068\u001b[4m7\u001b[24m\n",
      "\u001b[90m13\u001b[39m JUN      100nM     FLUC-1_2    0.062\u001b[4m5\u001b[24m     3  26.6    4.02     0.084\u001b[4m3\u001b[24m\n",
      "\u001b[90m14\u001b[39m JUN      100nM     GCN1-1_2    0.033\u001b[4m8\u001b[24m     3  22.7    8.44     0.092\u001b[4m7\u001b[24m\n",
      "\u001b[90m15\u001b[39m JUN      100nM     GCN1-3_4    0.087\u001b[4m5\u001b[24m     3  22.4    8.51     0.211 \n",
      "\u001b[90m16\u001b[39m JUN      1μM       FLUC-1_2    0.054\u001b[4m6\u001b[24m     3  26.4    4.81     0.211 \n",
      "\u001b[90m17\u001b[39m JUN      1μM       GCN1-1_2    0.072\u001b[4m2\u001b[24m     3  22.8    9.41     0.224 \n",
      "\u001b[90m18\u001b[39m JUN      1μM       GCN1-3_4    0.030\u001b[4m5\u001b[24m     3  23.1    8.97     0.139 \n"
     ]
    }
   ],
   "source": [
    "norm_ct_inverted <- cq_data  %>%\n",
    "  filter(!is.na(CT)) %>%\n",
    "  group_by(Amplicon, Treatment, sgRNA) %>%\n",
    "  summarize(std_error = sd(CT),\n",
    "            n = n(),\n",
    "            CT = mean(CT)) %>%\n",
    "  ungroup() %>%\n",
    "  group_by(Treatment, sgRNA) %>%\n",
    "  mutate(norm_ct = CT - CT[Amplicon == \"GAPDH\"],\n",
    "         norm_error = sqrt(std_error^2 + std_error[Amplicon == \"GAPDH\"]^2)) %>%\n",
    "  filter(Amplicon != \"GAPDH\") %>%\n",
    "  mutate(norm_ct = 10 - norm_ct) %>%\n",
    "  write_csv(\"../../../../source_data/figure_s5c.csv\") %>%\n",
    "  print()"
   ]
  },
  {
   "cell_type": "code",
   "execution_count": 6,
   "metadata": {
    "vscode": {
     "languageId": "r"
    }
   },
   "outputs": [
    {
     "data": {
      "image/png": "[encoded data removed]",
      "text/plain": [
       "plot without title"
      ]
     },
     "metadata": {
      "image/png": {
       "height": 132,
       "width": 360
      }
     },
     "output_type": "display_data"
    }
   ],
   "source": [
    "options(repr.plot.width=6, repr.plot.height=2.2)\n",
    "\n",
    "norm_ct_inverted %>% \n",
    "  ggplot(aes(x = Treatment, y = norm_ct, ymax = norm_ct + norm_error, ymin = norm_ct - norm_error, color = sgRNA)) +\n",
    "  geom_point() +\n",
    "  geom_errorbar(width = 0.2) +\n",
    "  facet_wrap(~Amplicon, scales = \"free_y\") +\n",
    "  ylab(\"Relative mRNA level\\n(-ΔΔCT)\") +\n",
    "  theme(axis.text.x = element_text(),\n",
    "        axis.line = element_line(color = \"grey\")) +\n",
    "  scale_color_manual(values = cbPalette) \n",
    "\n",
    "ggsave(\"../figures/egr1_jun_mrna_levels.pdf\", height = 2.2, width = 6) "
   ]
  }
 ],
 "metadata": {
  "kernelspec": {
   "display_name": "R",
   "language": "R",
   "name": "ir"
  },
  "language_info": {
   "codemirror_mode": "r",
   "file_extension": ".r",
   "mimetype": "text/x-r-source",
   "name": "R",
   "pygments_lexer": "r",
   "version": "4.2.2"
  },
  "orig_nbformat": 4
 },
 "nbformat": 4,
 "nbformat_minor": 2
}
