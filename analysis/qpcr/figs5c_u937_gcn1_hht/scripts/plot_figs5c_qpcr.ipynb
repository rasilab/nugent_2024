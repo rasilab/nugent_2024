{
 "cells": [
  {
   "attachments": {},
   "cell_type": "markdown",
   "metadata": {},
   "source": [
    "# Minimum code for Extended Data Figure 5c qPCR panel"
   ]
  },
  {
   "cell_type": "code",
   "execution_count": null,
   "metadata": {
    "vscode": {
     "languageId": "r"
    }
   },
   "outputs": [],
   "source": [
    "options(warn = -1)\n",
    "suppressPackageStartupMessages({\n",
    "  library(tidyverse)\n",
    "  library(rasilabRtemplates)\n",
    "})"
   ]
  },
  {
   "cell_type": "code",
   "execution_count": null,
   "metadata": {
    "vscode": {
     "languageId": "r"
    }
   },
   "outputs": [],
   "source": [
    "if (!file.exists('../figures')){\n",
    "    dir.create('../figures')\n",
    "}"
   ]
  },
  {
   "attachments": {},
   "cell_type": "markdown",
   "metadata": {},
   "source": [
    "## Read in annotations"
   ]
  },
  {
   "cell_type": "code",
   "execution_count": null,
   "metadata": {
    "vscode": {
     "languageId": "r"
    }
   },
   "outputs": [],
   "source": [
    "annotations <- read_csv(\"../annotations/sampleannotations.csv\") %>% \n",
    "  mutate(Well = as.character(Well),\n",
    "         Plate = as.character(Plate)) %>%\n",
    "  print()"
   ]
  },
  {
   "cell_type": "markdown",
   "metadata": {},
   "source": [
    "## Read in Cq data from Cfx Duet"
   ]
  },
  {
   "cell_type": "code",
   "execution_count": null,
   "metadata": {
    "vscode": {
     "languageId": "r"
    }
   },
   "outputs": [],
   "source": [
    "cq_data <- list.files(\"../../../../data/qpcr/u937_gcn1_hht/\", full.names = T) %>% \n",
    "   as_tibble_col(\"file\") %>%\n",
    "   mutate(data = map(file, . %>% read_csv() %>% as_tibble)) %>%\n",
    "   mutate(Plate = str_extract(file, \"(?<=plate)\\\\d\")) %>%\n",
    "   unnest(\"data\") %>%\n",
    "   select(Cq, Well, Plate) %>%\n",
    "   rename(CT = Cq) %>%\n",
    "   inner_join(annotations) %>%\n",
    "   filter(!is.na(CT)) %>%\n",
    "   # Remove outlier\n",
    "   mutate(platewell = str_c(Plate, Well)) %>%\n",
    "   filter(platewell != \"7F07\") %>%\n",
    "   select(CT, Amplicon, sgRNA, Treatment) %>%\n",
    "   mutate(Treatment = fct_relevel(Treatment, \"DMSO\")) %>%\n",
    "   print()"
   ]
  },
  {
   "attachments": {},
   "cell_type": "markdown",
   "metadata": {},
   "source": [
    "## Normalize expression to GAPDH"
   ]
  },
  {
   "cell_type": "code",
   "execution_count": null,
   "metadata": {
    "vscode": {
     "languageId": "r"
    }
   },
   "outputs": [],
   "source": [
    "norm_ct_inverted <- cq_data  %>%\n",
    "  filter(!is.na(CT)) %>%\n",
    "  group_by(Amplicon, Treatment, sgRNA) %>%\n",
    "  summarize(std_error = sd(CT),\n",
    "            n = n(),\n",
    "            CT = mean(CT)) %>%\n",
    "  ungroup() %>%\n",
    "  group_by(Treatment, sgRNA) %>%\n",
    "  mutate(norm_ct = CT - CT[Amplicon == \"GAPDH\"],\n",
    "         norm_error = sqrt(std_error^2 + std_error[Amplicon == \"GAPDH\"]^2)) %>%\n",
    "  filter(Amplicon != \"GAPDH\") %>%\n",
    "  mutate(norm_ct = 10 - norm_ct) %>%\n",
    "  print()"
   ]
  },
  {
   "cell_type": "code",
   "execution_count": null,
   "metadata": {
    "vscode": {
     "languageId": "r"
    }
   },
   "outputs": [],
   "source": [
    "options(repr.plot.width=6, repr.plot.height=2.2)\n",
    "\n",
    "norm_ct_inverted %>% \n",
    "  ggplot(aes(x = Treatment, y = norm_ct, ymax = norm_ct + norm_error, ymin = norm_ct - norm_error, color = sgRNA)) +\n",
    "  geom_point() +\n",
    "  geom_errorbar(width = 0.2) +\n",
    "  facet_wrap(~Amplicon, scales = \"free_y\") +\n",
    "  ylab(\"Relative mRNA level\\n(-ΔΔCT)\") +\n",
    "  theme(axis.text.x = element_text(),\n",
    "        axis.line = element_line(color = \"grey\")) +\n",
    "  scale_color_manual(values = cbPalette) \n",
    "\n",
    "ggsave(\"../figures/egr1_jun_mrna_levels.pdf\", height = 2.2, width = 6) "
   ]
  }
 ],
 "metadata": {
  "kernelspec": {
   "display_name": "R_project_repo_1.13.0",
   "language": "R",
   "name": "ir_project_repo_1.13.0"
  },
  "language_info": {
   "codemirror_mode": "r",
   "file_extension": ".r",
   "mimetype": "text/x-r-source",
   "name": "R",
   "pygments_lexer": "r",
   "version": "4.1.3"
  },
  "orig_nbformat": 4
 },
 "nbformat": 4,
 "nbformat_minor": 2
}
