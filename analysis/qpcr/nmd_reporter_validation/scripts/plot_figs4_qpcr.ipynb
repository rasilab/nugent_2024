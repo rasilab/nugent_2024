{
 "cells": [
  {
   "cell_type": "markdown",
   "metadata": {},
   "source": [
    "# Minimum code for Figure S4 qPCR panel"
   ]
  },
  {
   "cell_type": "code",
   "execution_count": 1,
   "metadata": {
    "metadata": {},
    "vscode": {
     "languageId": "r"
    }
   },
   "outputs": [],
   "source": [
    "options(warn = -1)\n",
    "suppressPackageStartupMessages({\n",
    "  library(tidyverse)\n",
    "  library(rasilabRtemplates)\n",
    "})"
   ]
  },
  {
   "cell_type": "code",
   "execution_count": 2,
   "metadata": {
    "metadata": {},
    "vscode": {
     "languageId": "r"
    }
   },
   "outputs": [],
   "source": [
    "if (!file.exists('../figures')){\n",
    "    dir.create('../figures')\n",
    "}\n",
    "    "
   ]
  },
  {
   "cell_type": "markdown",
   "metadata": {},
   "source": [
    "## Read in annotations"
   ]
  },
  {
   "cell_type": "code",
   "execution_count": 3,
   "metadata": {
    "metadata": {},
    "vscode": {
     "languageId": "r"
    }
   },
   "outputs": [
    {
     "name": "stdout",
     "output_type": "stream",
     "text": [
      "\u001b[90m# A tibble: 12 × 3\u001b[39m\n",
      "    Well Amplicon Reporter\n",
      "   \u001b[3m\u001b[90m<dbl>\u001b[39m\u001b[23m \u001b[3m\u001b[90m<chr>\u001b[39m\u001b[23m    \u001b[3m\u001b[90m<chr>\u001b[39m\u001b[23m   \n",
      "\u001b[90m 1\u001b[39m    16 mCherry  PTC     \n",
      "\u001b[90m 2\u001b[39m    17 mCherry  NTC     \n",
      "\u001b[90m 3\u001b[39m    28 mCherry  PTC     \n",
      "\u001b[90m 4\u001b[39m    29 mCherry  NTC     \n",
      "\u001b[90m 5\u001b[39m    40 mCherry  PTC     \n",
      "\u001b[90m 6\u001b[39m    41 mCherry  NTC     \n",
      "\u001b[90m 7\u001b[39m    52 B-globin PTC     \n",
      "\u001b[90m 8\u001b[39m    53 B-globin NTC     \n",
      "\u001b[90m 9\u001b[39m    64 B-globin PTC     \n",
      "\u001b[90m10\u001b[39m    65 B-globin NTC     \n",
      "\u001b[90m11\u001b[39m    76 B-globin PTC     \n",
      "\u001b[90m12\u001b[39m    77 B-globin NTC     \n"
     ]
    }
   ],
   "source": [
    "annotations <- read_csv(\"../annotations/sampleannotations.csv\", show_col_types = F) %>% \n",
    "  print()"
   ]
  },
  {
   "cell_type": "markdown",
   "metadata": {},
   "source": [
    "## Read in Ct data; join with annotations"
   ]
  },
  {
   "cell_type": "code",
   "execution_count": 4,
   "metadata": {
    "metadata": {},
    "vscode": {
     "languageId": "r"
    }
   },
   "outputs": [
    {
     "name": "stderr",
     "output_type": "stream",
     "text": [
      "\u001b[1m\u001b[22mJoining, by = \"Well\"\n"
     ]
    },
    {
     "name": "stdout",
     "output_type": "stream",
     "text": [
      "\u001b[90m# A tibble: 12 × 3\u001b[39m\n",
      "      CT Amplicon Reporter\n",
      "   \u001b[3m\u001b[90m<dbl>\u001b[39m\u001b[23m \u001b[3m\u001b[90m<chr>\u001b[39m\u001b[23m    \u001b[3m\u001b[90m<chr>\u001b[39m\u001b[23m   \n",
      "\u001b[90m 1\u001b[39m  25.6 mCherry  PTC     \n",
      "\u001b[90m 2\u001b[39m  25.3 mCherry  NTC     \n",
      "\u001b[90m 3\u001b[39m  25.5 mCherry  PTC     \n",
      "\u001b[90m 4\u001b[39m  25.5 mCherry  NTC     \n",
      "\u001b[90m 5\u001b[39m  25.6 mCherry  PTC     \n",
      "\u001b[90m 6\u001b[39m  25.5 mCherry  NTC     \n",
      "\u001b[90m 7\u001b[39m  24.8 B-globin PTC     \n",
      "\u001b[90m 8\u001b[39m  19.2 B-globin NTC     \n",
      "\u001b[90m 9\u001b[39m  24.7 B-globin PTC     \n",
      "\u001b[90m10\u001b[39m  19.1 B-globin NTC     \n",
      "\u001b[90m11\u001b[39m  24.5 B-globin PTC     \n",
      "\u001b[90m12\u001b[39m  19.0 B-globin NTC     \n"
     ]
    }
   ],
   "source": [
    "ct_data <- read_csv(\"../../../../data/qpcr/nmd_reporter_validation/ct_values.csv\", skip = 47, col_types = cols(CT = col_double())) %>% \n",
    "   select(CT, Well) %>%\n",
    "   inner_join(annotations) %>%\n",
    "   select(-Well) %>%\n",
    "   print()"
   ]
  },
  {
   "cell_type": "markdown",
   "metadata": {},
   "source": [
    "## Plot raw CT values "
   ]
  },
  {
   "cell_type": "code",
   "execution_count": 5,
   "metadata": {
    "metadata": {},
    "vscode": {
     "languageId": "r"
    }
   },
   "outputs": [
    {
     "data": {
      "image/png": "[encoded data removed]",
      "text/plain": [
       "plot without title"
      ]
     },
     "metadata": {
      "image/png": {
       "height": 180,
       "width": 240
      }
     },
     "output_type": "display_data"
    }
   ],
   "source": [
    "options(repr.plot.width=4, repr.plot.height=3)\n",
    "\n",
    "ct_data %>% \n",
    "  ggplot(aes(x = Reporter, y = CT, color = Amplicon)) +\n",
    "  geom_point() +\n",
    "  scale_color_manual(values = cbPalette) +\n",
    "  # theme(axis.text.x = element_text(angle = 45, hjust = 1))\n",
    "  NULL \n",
    "\n",
    "ggsave(\"../figures/bglobin_ct_values.pdf\", height = 3, width = 4) "
   ]
  },
  {
   "cell_type": "markdown",
   "metadata": {},
   "source": [
    "## Normalize β-globin expression to mCherry"
   ]
  },
  {
   "cell_type": "code",
   "execution_count": 6,
   "metadata": {
    "metadata": {},
    "vscode": {
     "languageId": "r"
    }
   },
   "outputs": [
    {
     "name": "stderr",
     "output_type": "stream",
     "text": [
      "\u001b[1m\u001b[22m`summarise()` has grouped output by 'Amplicon'. You can override using the\n",
      "`.groups` argument.\n"
     ]
    },
    {
     "name": "stdout",
     "output_type": "stream",
     "text": [
      "\u001b[90m# A tibble: 4 × 6\u001b[39m\n",
      "  Amplicon Reporter std_error    CT mcherry_norm_ct mcherry_norm_error\n",
      "  \u001b[3m\u001b[90m<chr>\u001b[39m\u001b[23m    \u001b[3m\u001b[90m<chr>\u001b[39m\u001b[23m        \u001b[3m\u001b[90m<dbl>\u001b[39m\u001b[23m \u001b[3m\u001b[90m<dbl>\u001b[39m\u001b[23m           \u001b[3m\u001b[90m<dbl>\u001b[39m\u001b[23m              \u001b[3m\u001b[90m<dbl>\u001b[39m\u001b[23m\n",
      "\u001b[90m1\u001b[39m B-globin NTC         0.077\u001b[4m4\u001b[24m  19.1          -\u001b[31m6\u001b[39m\u001b[31m.\u001b[39m\u001b[31m36\u001b[39m               0.136\n",
      "\u001b[90m2\u001b[39m B-globin PTC         0.160   24.7          -\u001b[31m0\u001b[39m\u001b[31m.\u001b[39m\u001b[31m933\u001b[39m              0.175\n",
      "\u001b[90m3\u001b[39m mCherry  NTC         0.112   25.4           0                  0.158\n",
      "\u001b[90m4\u001b[39m mCherry  PTC         0.071\u001b[4m9\u001b[24m  25.6           0                  0.102\n"
     ]
    }
   ],
   "source": [
    "norm_yfp <- ct_data  %>%\n",
    "  group_by(Amplicon, Reporter) %>%\n",
    "  summarize(std_error = sd(CT),\n",
    "            CT = mean(CT)) %>%\n",
    "  ungroup() %>%\n",
    "  mutate(mcherry_norm_ct = CT - CT[Amplicon == \"mCherry\"],\n",
    "         mcherry_norm_error = sqrt(std_error^2 + std_error[Amplicon == \"mCherry\"]^2)) %>%\n",
    "  print()"
   ]
  },
  {
   "cell_type": "markdown",
   "metadata": {},
   "source": [
    "## Plot normalized β-globin reporter expression"
   ]
  },
  {
   "cell_type": "code",
   "execution_count": 7,
   "metadata": {
    "metadata": {},
    "vscode": {
     "languageId": "r"
    }
   },
   "outputs": [
    {
     "data": {
      "image/png": "[encoded data removed]",
      "text/plain": [
       "plot without title"
      ]
     },
     "metadata": {
      "image/png": {
       "height": 90,
       "width": 168
      }
     },
     "output_type": "display_data"
    }
   ],
   "source": [
    "options(repr.plot.width=2.8, repr.plot.height=1.5)\n",
    "\n",
    "norm_yfp %>% \n",
    "  filter(Amplicon == \"B-globin\") %>%\n",
    "  # mutate(Reporter = if_else(Reporter == \"NTC\", \"CTRL\", Reporter)) %>% \n",
    "  mutate(mcherry_norm_ct = - mcherry_norm_ct + min(mcherry_norm_ct)) %>%\n",
    "  ggplot(aes(x = Reporter, y = mcherry_norm_ct, ymax = mcherry_norm_ct + mcherry_norm_error, ymin = mcherry_norm_ct - mcherry_norm_error)) +\n",
    "  geom_point(aes(color = Reporter)) +\n",
    "  geom_errorbar(width = 0.3, aes(color = Reporter)) +\n",
    "  # theme(axis.text.x = element_text(angle = 45, hjust = 1)) +\n",
    "  scale_color_manual(values = cbPalette) +\n",
    "  theme(axis.line = element_line(color = \"grey\"), axis.ticks = element_line(color = \"grey\")) +\n",
    "  labs(x = \"Reporter\", y = \"mRNA level\\n(log2, a.u.)\")\n",
    "\n",
    "\n",
    "ggsave(\"../figures/bglobin_normalized_yfp_ct_values_inverted.pdf\", height = 1.5, width = 2.8) "
   ]
  }
 ],
 "metadata": {
  "kernelspec": {
   "display_name": "R",
   "language": "R",
   "name": "ir"
  },
  "language_info": {
   "codemirror_mode": "r",
   "file_extension": ".r",
   "mimetype": "text/x-r-source",
   "name": "R",
   "pygments_lexer": "r",
   "version": "4.2.2"
  },
  "orig_nbformat": 4
 },
 "nbformat": 4,
 "nbformat_minor": 2
}
