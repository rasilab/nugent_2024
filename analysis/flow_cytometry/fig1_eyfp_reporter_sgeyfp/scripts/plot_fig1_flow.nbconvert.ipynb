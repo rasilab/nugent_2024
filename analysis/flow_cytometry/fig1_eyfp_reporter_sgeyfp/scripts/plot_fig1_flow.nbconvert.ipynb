{
 "cells": [
  {
   "attachments": {},
   "cell_type": "markdown",
   "metadata": {},
   "source": [
    "# Flow cytometry analysis, Fig. 1b"
   ]
  },
  {
   "cell_type": "code",
   "execution_count": 1,
   "metadata": {
    "execution": {
     "iopub.execute_input": "2025-07-10T17:50:04.587972Z",
     "iopub.status.busy": "2025-07-10T17:50:04.584068Z",
     "iopub.status.idle": "2025-07-10T17:50:13.440972Z",
     "shell.execute_reply": "2025-07-10T17:50:13.438532Z"
    },
    "metadata": {},
    "vscode": {
     "languageId": "r"
    }
   },
   "outputs": [
    {
     "name": "stdout",
     "output_type": "stream",
     "text": [
      "recover called non-interactively; frames dumped, use debugger() to view\n"
     ]
    }
   ],
   "source": [
    "options(warn = -1)\n",
    "\n",
    "# Load required libraries\n",
    "suppressPackageStartupMessages({\n",
    "  library(flowCore)       # For reading .fcs files\n",
    "  library(broom)          # For extracting statistical fits\n",
    "  library(tidyverse)      # For analysis and plotting\n",
    "  library(rasilabRtemplates) # Lab ggplot2 theme and color-blind palette\n",
    "})\n",
    "\n",
    "# Define data folder and channel names\n",
    "fcs_file_folder <- c(\n",
    "  \"../../../../data/flow_cytometry/fig1_eyfp_reporter_sgeyfp/day2/\", \n",
    "  \"../../../../data/flow_cytometry/fig1_eyfp_reporter_sgeyfp/day5/\", \n",
    "  \"../../../../data/flow_cytometry/fig1_eyfp_reporter_sgeyfp/day7/\"\n",
    ")\n",
    "\n",
    "channels <- c(\n",
    "  \"fitc_a\" = \"yfp\", \n",
    "  \"pe_texas_rd_a\" = \"rfp\",\n",
    "  \"bv421_a\" = \"bfp\"\n",
    ")\n",
    "\n",
    "if (!file.exists('../figures')){\n",
    "    dir.create('../figures')\n",
    "}\n"
   ]
  },
  {
   "cell_type": "markdown",
   "metadata": {},
   "source": [
    "## Read in annotations"
   ]
  },
  {
   "cell_type": "code",
   "execution_count": 2,
   "metadata": {
    "execution": {
     "iopub.execute_input": "2025-07-10T17:50:13.523345Z",
     "iopub.status.busy": "2025-07-10T17:50:13.481160Z",
     "iopub.status.idle": "2025-07-10T17:50:14.077632Z",
     "shell.execute_reply": "2025-07-10T17:50:14.075485Z"
    },
    "metadata": {},
    "vscode": {
     "languageId": "r"
    }
   },
   "outputs": [
    {
     "name": "stdout",
     "output_type": "stream",
     "text": [
      "\u001b[90m# A tibble: 3 × 2\u001b[39m\n",
      "   file sgrna\n",
      "  \u001b[3m\u001b[90m<dbl>\u001b[39m\u001b[23m \u001b[3m\u001b[90m<chr>\u001b[39m\u001b[23m\n",
      "\u001b[90m1\u001b[39m   266 none \n",
      "\u001b[90m2\u001b[39m     5 fluc \n",
      "\u001b[90m3\u001b[39m     6 yfp  \n"
     ]
    }
   ],
   "source": [
    "annotations <- read_csv(\"../annotations/sampleannotations.csv\", show_col_types = F) %>% \n",
    "  print()"
   ]
  },
  {
   "cell_type": "markdown",
   "metadata": {},
   "source": [
    "## Read in flow data"
   ]
  },
  {
   "cell_type": "code",
   "execution_count": 3,
   "metadata": {
    "execution": {
     "iopub.execute_input": "2025-07-10T17:50:14.083740Z",
     "iopub.status.busy": "2025-07-10T17:50:14.081850Z",
     "iopub.status.idle": "2025-07-10T17:50:25.353218Z",
     "shell.execute_reply": "2025-07-10T17:50:25.350852Z"
    },
    "metadata": {},
    "vscode": {
     "languageId": "r"
    }
   },
   "outputs": [
    {
     "name": "stdout",
     "output_type": "stream",
     "text": [
      "\u001b[90m# A tibble: 90,000 × 6\u001b[39m\n",
      "     day  file ssc_a    bfp    yfp    rfp\n",
      "   \u001b[3m\u001b[90m<int>\u001b[39m\u001b[23m \u001b[3m\u001b[90m<int>\u001b[39m\u001b[23m \u001b[3m\u001b[90m<dbl>\u001b[39m\u001b[23m  \u001b[3m\u001b[90m<dbl>\u001b[39m\u001b[23m  \u001b[3m\u001b[90m<dbl>\u001b[39m\u001b[23m  \u001b[3m\u001b[90m<dbl>\u001b[39m\u001b[23m\n",
      "\u001b[90m 1\u001b[39m     2   266  23.3 \u001b[4m1\u001b[24m562.  -\u001b[31m34\u001b[39m\u001b[31m.\u001b[39m\u001b[31m7\u001b[39m  -\u001b[31m40\u001b[39m\u001b[31m.\u001b[39m\u001b[31m8\u001b[39m \n",
      "\u001b[90m 2\u001b[39m     2   266 225.  \u001b[4m2\u001b[24m205.   31.2   42.9 \n",
      "\u001b[90m 3\u001b[39m     2   266 178.  \u001b[4m2\u001b[24m962.  -\u001b[31m18\u001b[39m\u001b[31m.\u001b[39m\u001b[31m9\u001b[39m   -\u001b[31m9\u001b[39m\u001b[31m.\u001b[39m\u001b[31m29\u001b[39m\n",
      "\u001b[90m 4\u001b[39m     2   266  54.5 \u001b[4m3\u001b[24m339.   -\u001b[31m5\u001b[39m\u001b[31m.\u001b[39m\u001b[31m93\u001b[39m  36.6 \n",
      "\u001b[90m 5\u001b[39m     2   266 180.    83.0 -\u001b[31m16\u001b[39m\u001b[31m.\u001b[39m\u001b[31m7\u001b[39m   24.9 \n",
      "\u001b[90m 6\u001b[39m     2   266 161.  \u001b[4m1\u001b[24m844.   39.3   -\u001b[31m5\u001b[39m\u001b[31m.\u001b[39m\u001b[31m40\u001b[39m\n",
      "\u001b[90m 7\u001b[39m     2   266 220.  \u001b[4m3\u001b[24m010.   10.2   12.5 \n",
      "\u001b[90m 8\u001b[39m     2   266 130.   232.   28.7  113.  \n",
      "\u001b[90m 9\u001b[39m     2   266 126.  \u001b[4m1\u001b[24m294.   -\u001b[31m1\u001b[39m\u001b[31m.\u001b[39m\u001b[31m30\u001b[39m -\u001b[31m34\u001b[39m\u001b[31m.\u001b[39m\u001b[31m5\u001b[39m \n",
      "\u001b[90m10\u001b[39m     2   266 154.  \u001b[4m2\u001b[24m257.   29.4    8.80\n",
      "\u001b[90m# … with 89,990 more rows\u001b[39m\n"
     ]
    }
   ],
   "source": [
    "flowdata <- list.files(fcs_file_folder, full.names = TRUE, pattern = \".fcs\") %>%\n",
    "  as_tibble_col(\"file\") %>%\n",
    "  mutate(\n",
    "    data = map(file, ~ read.FCS(.x, transformation = FALSE, alter.names = TRUE) %>%\n",
    "      exprs %>%\n",
    "      as_tibble)\n",
    "  ) %>%\n",
    "  unnest(data) %>%\n",
    "  janitor::clean_names() %>%\n",
    "  rename_with(~ channels[.x], names(channels)) %>%\n",
    "  mutate(\n",
    "    day = str_extract(file, \"(?<=day).\") %>% as.integer(),\n",
    "    file = str_extract(file, \"(?<=events_)[:graph:]+(?=.fcs$)\") %>% as.integer()\n",
    "  ) %>%\n",
    "  select(day, file, ssc_a, bfp, yfp, rfp) %>%\n",
    "  print()"
   ]
  },
  {
   "cell_type": "markdown",
   "metadata": {},
   "source": [
    "## Join data with annotations"
   ]
  },
  {
   "cell_type": "code",
   "execution_count": 4,
   "metadata": {
    "execution": {
     "iopub.execute_input": "2025-07-10T17:50:25.359604Z",
     "iopub.status.busy": "2025-07-10T17:50:25.357631Z",
     "iopub.status.idle": "2025-07-10T17:50:25.462708Z",
     "shell.execute_reply": "2025-07-10T17:50:25.460635Z"
    },
    "metadata": {},
    "vscode": {
     "languageId": "r"
    }
   },
   "outputs": [
    {
     "name": "stdout",
     "output_type": "stream",
     "text": [
      "\u001b[90m# A tibble: 90,000 × 7\u001b[39m\n",
      "     day  file ssc_a    bfp    yfp    rfp sgrna\n",
      "   \u001b[3m\u001b[90m<int>\u001b[39m\u001b[23m \u001b[3m\u001b[90m<dbl>\u001b[39m\u001b[23m \u001b[3m\u001b[90m<dbl>\u001b[39m\u001b[23m  \u001b[3m\u001b[90m<dbl>\u001b[39m\u001b[23m  \u001b[3m\u001b[90m<dbl>\u001b[39m\u001b[23m  \u001b[3m\u001b[90m<dbl>\u001b[39m\u001b[23m \u001b[3m\u001b[90m<chr>\u001b[39m\u001b[23m\n",
      "\u001b[90m 1\u001b[39m     2   266  23.3 \u001b[4m1\u001b[24m562.  -\u001b[31m34\u001b[39m\u001b[31m.\u001b[39m\u001b[31m7\u001b[39m  -\u001b[31m40\u001b[39m\u001b[31m.\u001b[39m\u001b[31m8\u001b[39m  none \n",
      "\u001b[90m 2\u001b[39m     2   266 225.  \u001b[4m2\u001b[24m205.   31.2   42.9  none \n",
      "\u001b[90m 3\u001b[39m     2   266 178.  \u001b[4m2\u001b[24m962.  -\u001b[31m18\u001b[39m\u001b[31m.\u001b[39m\u001b[31m9\u001b[39m   -\u001b[31m9\u001b[39m\u001b[31m.\u001b[39m\u001b[31m29\u001b[39m none \n",
      "\u001b[90m 4\u001b[39m     2   266  54.5 \u001b[4m3\u001b[24m339.   -\u001b[31m5\u001b[39m\u001b[31m.\u001b[39m\u001b[31m93\u001b[39m  36.6  none \n",
      "\u001b[90m 5\u001b[39m     2   266 180.    83.0 -\u001b[31m16\u001b[39m\u001b[31m.\u001b[39m\u001b[31m7\u001b[39m   24.9  none \n",
      "\u001b[90m 6\u001b[39m     2   266 161.  \u001b[4m1\u001b[24m844.   39.3   -\u001b[31m5\u001b[39m\u001b[31m.\u001b[39m\u001b[31m40\u001b[39m none \n",
      "\u001b[90m 7\u001b[39m     2   266 220.  \u001b[4m3\u001b[24m010.   10.2   12.5  none \n",
      "\u001b[90m 8\u001b[39m     2   266 130.   232.   28.7  113.   none \n",
      "\u001b[90m 9\u001b[39m     2   266 126.  \u001b[4m1\u001b[24m294.   -\u001b[31m1\u001b[39m\u001b[31m.\u001b[39m\u001b[31m30\u001b[39m -\u001b[31m34\u001b[39m\u001b[31m.\u001b[39m\u001b[31m5\u001b[39m  none \n",
      "\u001b[90m10\u001b[39m     2   266 154.  \u001b[4m2\u001b[24m257.   29.4    8.80 none \n",
      "\u001b[90m# … with 89,990 more rows\u001b[39m\n"
     ]
    }
   ],
   "source": [
    "data <- flowdata %>% \n",
    "     inner_join(annotations, by = c(\"file\")) %>% \n",
    "     print() "
   ]
  },
  {
   "cell_type": "markdown",
   "metadata": {},
   "source": [
    "## Plot data"
   ]
  },
  {
   "cell_type": "code",
   "execution_count": 5,
   "metadata": {
    "execution": {
     "iopub.execute_input": "2025-07-10T17:50:25.468398Z",
     "iopub.status.busy": "2025-07-10T17:50:25.466657Z",
     "iopub.status.idle": "2025-07-10T17:50:29.277549Z",
     "shell.execute_reply": "2025-07-10T17:50:29.275655Z"
    },
    "metadata": {},
    "vscode": {
     "languageId": "r"
    }
   },
   "outputs": [
    {
     "name": "stderr",
     "output_type": "stream",
     "text": [
      "Picking joint bandwidth of 0.0674\n",
      "\n",
      "Picking joint bandwidth of 0.0674\n",
      "\n"
     ]
    },
    {
     "data": {
      "image/png": "[encoded data removed]",
      "text/plain": [
       "plot without title"
      ]
     },
     "metadata": {
      "image/png": {
       "height": 120,
       "width": 210
      }
     },
     "output_type": "display_data"
    }
   ],
   "source": [
    "options(repr.plot.width = 3.5, repr.plot.height = 2)\n",
    "\n",
    "plot_data <- data %>%\n",
    "  pivot_longer(c(\"bfp\", \"yfp\", \"rfp\", \"ssc_a\"), names_to = \"channel\") %>%\n",
    "  filter(channel == \"yfp\", value >= 1) %>%\n",
    "  mutate(\n",
    "    sgrna = recode(sgrna, \"none\" = \"Background\", \"fluc\" = \"sgCTRL\", \"yfp\" = \"sgEYFP\"),\n",
    "    channel = recode(channel, \"yfp\" = \"EYFP\"),\n",
    "    value = round(value, 2)\n",
    "  ) %>%\n",
    "  write_csv(\"../../../../source_data/figure_1b.csv\")\n",
    "\n",
    "plot_data %>%\n",
    "  ggplot(aes(x = value, y = as.factor(day), fill = sgrna)) +\n",
    "  ggridges::geom_density_ridges(alpha = 0.8) +\n",
    "  scale_x_log10(\n",
    "    limits = c(1, 1e5),\n",
    "    breaks = scales::trans_breaks(\"log10\", function(x) 100^x),\n",
    "    labels = scales::trans_format(\"log10\", scales::math_format(10^.x))\n",
    "  ) +\n",
    "  scale_fill_manual(values = cbPalette[c(1, 3, 2)]) +\n",
    "  labs(x = \"Fluorescence (a.u.)\", y = \"Days post Cas9\", fill = \"\") +\n",
    "  theme(\n",
    "    axis.line = element_line(color = \"grey\"),\n",
    "    axis.ticks = element_line(color = \"grey\")\n",
    "  )\n",
    "\n",
    "ggsave(\"../figures/sgyfp_sgfluc_effects_for_validation.pdf\", width = 3.5, height = 2)"
   ]
  }
 ],
 "metadata": {
  "interpreter": {
   "hash": "3e70078cb6b15a307a9d5f52457bb5fd47aec8ae565b8757a34a1e75b81d4c4a"
  },
  "kernelspec": {
   "display_name": "R",
   "language": "R",
   "name": "ir"
  },
  "language_info": {
   "codemirror_mode": "r",
   "file_extension": ".r",
   "mimetype": "text/x-r-source",
   "name": "R",
   "pygments_lexer": "r",
   "version": "4.2.2"
  }
 },
 "nbformat": 4,
 "nbformat_minor": 2
}
