{
 "cells": [
  {
   "attachments": {},
   "cell_type": "markdown",
   "metadata": {},
   "source": [
    "# Minimal code for Figure 1 flow cytometry panel"
   ]
  },
  {
   "cell_type": "code",
   "execution_count": 12,
   "metadata": {
    "metadata": {},
    "vscode": {
     "languageId": "r"
    }
   },
   "outputs": [],
   "source": [
    "# library for reading .fcs files\n",
    "suppressPackageStartupMessages(library(flowCore))\n",
    "# library for extracting statistical fits\n",
    "suppressPackageStartupMessages(library(broom))\n",
    "# standard analysis and plotting functions, includes dplyr, ggplot2\n",
    "suppressPackageStartupMessages(library(tidyverse))\n",
    "# loads lab default ggplot2 theme and provides color-blind friendly palette\n",
    "suppressPackageStartupMessages(library(rasilabRtemplates))\n",
    "# this folder contains the data and annotations\n",
    "fcs_file_folder <- c(\"../../../../data/flow_cytometry/eyfp_reporter_sgeyfp/day2/\", \n",
    "                     \"../../../../data/flow_cytometry/eyfp_reporter_sgeyfp/day5/\", \n",
    "                     \"../../../../data/flow_cytometry/eyfp_reporter_sgeyfp/day7/\")\n",
    "# nice channel names\n",
    "channels <- c(\n",
    "  \"fitc_a\" = \"yfp\", \"pe_texas_rd_a\" = \"rfp\",\n",
    "  \"bv421_a\" = \"bfp\"\n",
    ")"
   ]
  },
  {
   "cell_type": "code",
   "execution_count": 2,
   "metadata": {
    "metadata": {},
    "vscode": {
     "languageId": "r"
    }
   },
   "outputs": [],
   "source": [
    "if (!file.exists('../figures')){\n",
    "    dir.create('../figures')\n",
    "}"
   ]
  },
  {
   "cell_type": "markdown",
   "metadata": {},
   "source": [
    "## Read in annotations"
   ]
  },
  {
   "cell_type": "code",
   "execution_count": 18,
   "metadata": {
    "metadata": {},
    "vscode": {
     "languageId": "r"
    }
   },
   "outputs": [
    {
     "name": "stderr",
     "output_type": "stream",
     "text": [
      "\u001b[1mRows: \u001b[22m\u001b[34m3\u001b[39m \u001b[1mColumns: \u001b[22m\u001b[34m2\u001b[39m\n",
      "\u001b[36m──\u001b[39m \u001b[1mColumn specification\u001b[22m \u001b[36m────────────────────────────────────────────────────────\u001b[39m\n",
      "\u001b[1mDelimiter:\u001b[22m \",\"\n",
      "\u001b[31mchr\u001b[39m (1): sgrna\n",
      "\u001b[32mdbl\u001b[39m (1): file\n",
      "\n",
      "\u001b[36mℹ\u001b[39m Use `spec()` to retrieve the full column specification for this data.\n",
      "\u001b[36mℹ\u001b[39m Specify the column types or set `show_col_types = FALSE` to quiet this message.\n"
     ]
    },
    {
     "name": "stdout",
     "output_type": "stream",
     "text": [
      "\u001b[90m# A tibble: 3 × 2\u001b[39m\n",
      "   file sgrna\n",
      "  \u001b[3m\u001b[90m<dbl>\u001b[39m\u001b[23m \u001b[3m\u001b[90m<chr>\u001b[39m\u001b[23m\n",
      "\u001b[90m1\u001b[39m   266 none \n",
      "\u001b[90m2\u001b[39m     5 fluc \n",
      "\u001b[90m3\u001b[39m     6 yfp  \n"
     ]
    }
   ],
   "source": [
    "annotations <- read_csv(\"../annotations/sampleannotations.csv\") %>% \n",
    "  print()"
   ]
  },
  {
   "cell_type": "markdown",
   "metadata": {},
   "source": [
    "## Read in flow data"
   ]
  },
  {
   "cell_type": "code",
   "execution_count": 23,
   "metadata": {
    "metadata": {},
    "vscode": {
     "languageId": "r"
    }
   },
   "outputs": [
    {
     "name": "stderr",
     "output_type": "stream",
     "text": [
      "Warning message in readFCSdata(con, offsets, txt, transformation, which.lines, scale, :\n",
      "“Some data values of 'FITC.A' channel exceed its $PnR value 262144 and will be truncated!\n",
      " To avoid truncation, either fix $PnR before generating FCS or set 'truncate_max_range = FALSE'”\n",
      "Warning message in readFCSdata(con, offsets, txt, transformation, which.lines, scale, :\n",
      "“Some data values of 'FITC.A' channel exceed its $PnR value 262144 and will be truncated!\n",
      " To avoid truncation, either fix $PnR before generating FCS or set 'truncate_max_range = FALSE'”\n",
      "Warning message in readFCSdata(con, offsets, txt, transformation, which.lines, scale, :\n",
      "“Some data values of 'FITC.A' channel exceed its $PnR value 262144 and will be truncated!\n",
      " To avoid truncation, either fix $PnR before generating FCS or set 'truncate_max_range = FALSE'”\n",
      "Warning message in readFCSdata(con, offsets, txt, transformation, which.lines, scale, :\n",
      "“Some data values of 'FITC.A' channel exceed its $PnR value 262144 and will be truncated!\n",
      " To avoid truncation, either fix $PnR before generating FCS or set 'truncate_max_range = FALSE'”\n",
      "\n",
      "\u001b[36m──\u001b[39m \u001b[1mColumn specification\u001b[22m \u001b[36m────────────────────────────────────────────────────────\u001b[39m\n",
      "cols(\n",
      "  file = \u001b[32mcol_double()\u001b[39m\n",
      ")\n",
      "\n"
     ]
    },
    {
     "name": "stdout",
     "output_type": "stream",
     "text": [
      "\u001b[90m# A tibble: 90,000 × 6\u001b[39m\n",
      "     day  file ssc_a    bfp    yfp    rfp\n",
      "   \u001b[3m\u001b[90m<int>\u001b[39m\u001b[23m \u001b[3m\u001b[90m<dbl>\u001b[39m\u001b[23m \u001b[3m\u001b[90m<dbl>\u001b[39m\u001b[23m  \u001b[3m\u001b[90m<dbl>\u001b[39m\u001b[23m  \u001b[3m\u001b[90m<dbl>\u001b[39m\u001b[23m  \u001b[3m\u001b[90m<dbl>\u001b[39m\u001b[23m\n",
      "\u001b[90m 1\u001b[39m     2   266  23.3 \u001b[4m1\u001b[24m562.  -\u001b[31m34\u001b[39m\u001b[31m.\u001b[39m\u001b[31m7\u001b[39m  -\u001b[31m40\u001b[39m\u001b[31m.\u001b[39m\u001b[31m8\u001b[39m \n",
      "\u001b[90m 2\u001b[39m     2   266 225.  \u001b[4m2\u001b[24m205.   31.2   42.9 \n",
      "\u001b[90m 3\u001b[39m     2   266 178.  \u001b[4m2\u001b[24m962.  -\u001b[31m18\u001b[39m\u001b[31m.\u001b[39m\u001b[31m9\u001b[39m   -\u001b[31m9\u001b[39m\u001b[31m.\u001b[39m\u001b[31m29\u001b[39m\n",
      "\u001b[90m 4\u001b[39m     2   266  54.5 \u001b[4m3\u001b[24m339.   -\u001b[31m5\u001b[39m\u001b[31m.\u001b[39m\u001b[31m93\u001b[39m  36.6 \n",
      "\u001b[90m 5\u001b[39m     2   266 180.    83.0 -\u001b[31m16\u001b[39m\u001b[31m.\u001b[39m\u001b[31m7\u001b[39m   24.9 \n",
      "\u001b[90m 6\u001b[39m     2   266 161.  \u001b[4m1\u001b[24m844.   39.3   -\u001b[31m5\u001b[39m\u001b[31m.\u001b[39m\u001b[31m40\u001b[39m\n",
      "\u001b[90m 7\u001b[39m     2   266 220.  \u001b[4m3\u001b[24m010.   10.2   12.5 \n",
      "\u001b[90m 8\u001b[39m     2   266 130.   232.   28.7  113.  \n",
      "\u001b[90m 9\u001b[39m     2   266 126.  \u001b[4m1\u001b[24m294.   -\u001b[31m1\u001b[39m\u001b[31m.\u001b[39m\u001b[31m30\u001b[39m -\u001b[31m34\u001b[39m\u001b[31m.\u001b[39m\u001b[31m5\u001b[39m \n",
      "\u001b[90m10\u001b[39m     2   266 154.  \u001b[4m2\u001b[24m257.   29.4    8.80\n",
      "\u001b[90m# … with 89,990 more rows\u001b[39m\n"
     ]
    }
   ],
   "source": [
    "flowdata  <- list.files(fcs_file_folder, full.names = T, pattern = \".fcs\") %>% \n",
    "  as_tibble_col(\"file\") %>%\n",
    "  mutate(day = as.integer(str_extract(file, \"(?<=day).\"))) %>% \n",
    "  mutate(data = map(file, . %>% read.FCS(transformation = F, alter.names = T) %>% exprs %>% as_tibble)) %>%\n",
    "  mutate(file = str_extract(file, \"(?<=events_)[:graph:]+(?=.fcs$)\")) %>%\n",
    "  unnest(\"data\") %>%\n",
    "  janitor::clean_names() %>%\n",
    "  rename_with(. %>% channels[.], names(channels)) %>%\n",
    "  select(day, file, ssc_a, bfp, yfp, rfp) %>%\n",
    "  type_convert() %>% \n",
    "  print()"
   ]
  },
  {
   "cell_type": "markdown",
   "metadata": {},
   "source": [
    "## Join data with annotations"
   ]
  },
  {
   "cell_type": "code",
   "execution_count": 25,
   "metadata": {
    "metadata": {},
    "vscode": {
     "languageId": "r"
    }
   },
   "outputs": [
    {
     "name": "stdout",
     "output_type": "stream",
     "text": [
      "\u001b[90m# A tibble: 90,000 × 7\u001b[39m\n",
      "     day  file ssc_a    bfp    yfp    rfp sgrna\n",
      "   \u001b[3m\u001b[90m<int>\u001b[39m\u001b[23m \u001b[3m\u001b[90m<dbl>\u001b[39m\u001b[23m \u001b[3m\u001b[90m<dbl>\u001b[39m\u001b[23m  \u001b[3m\u001b[90m<dbl>\u001b[39m\u001b[23m  \u001b[3m\u001b[90m<dbl>\u001b[39m\u001b[23m  \u001b[3m\u001b[90m<dbl>\u001b[39m\u001b[23m \u001b[3m\u001b[90m<chr>\u001b[39m\u001b[23m\n",
      "\u001b[90m 1\u001b[39m     2   266  23.3 \u001b[4m1\u001b[24m562.  -\u001b[31m34\u001b[39m\u001b[31m.\u001b[39m\u001b[31m7\u001b[39m  -\u001b[31m40\u001b[39m\u001b[31m.\u001b[39m\u001b[31m8\u001b[39m  none \n",
      "\u001b[90m 2\u001b[39m     2   266 225.  \u001b[4m2\u001b[24m205.   31.2   42.9  none \n",
      "\u001b[90m 3\u001b[39m     2   266 178.  \u001b[4m2\u001b[24m962.  -\u001b[31m18\u001b[39m\u001b[31m.\u001b[39m\u001b[31m9\u001b[39m   -\u001b[31m9\u001b[39m\u001b[31m.\u001b[39m\u001b[31m29\u001b[39m none \n",
      "\u001b[90m 4\u001b[39m     2   266  54.5 \u001b[4m3\u001b[24m339.   -\u001b[31m5\u001b[39m\u001b[31m.\u001b[39m\u001b[31m93\u001b[39m  36.6  none \n",
      "\u001b[90m 5\u001b[39m     2   266 180.    83.0 -\u001b[31m16\u001b[39m\u001b[31m.\u001b[39m\u001b[31m7\u001b[39m   24.9  none \n",
      "\u001b[90m 6\u001b[39m     2   266 161.  \u001b[4m1\u001b[24m844.   39.3   -\u001b[31m5\u001b[39m\u001b[31m.\u001b[39m\u001b[31m40\u001b[39m none \n",
      "\u001b[90m 7\u001b[39m     2   266 220.  \u001b[4m3\u001b[24m010.   10.2   12.5  none \n",
      "\u001b[90m 8\u001b[39m     2   266 130.   232.   28.7  113.   none \n",
      "\u001b[90m 9\u001b[39m     2   266 126.  \u001b[4m1\u001b[24m294.   -\u001b[31m1\u001b[39m\u001b[31m.\u001b[39m\u001b[31m30\u001b[39m -\u001b[31m34\u001b[39m\u001b[31m.\u001b[39m\u001b[31m5\u001b[39m  none \n",
      "\u001b[90m10\u001b[39m     2   266 154.  \u001b[4m2\u001b[24m257.   29.4    8.80 none \n",
      "\u001b[90m# … with 89,990 more rows\u001b[39m\n"
     ]
    }
   ],
   "source": [
    "data <- flowdata %>% \n",
    "     inner_join(annotations, by = c(\"file\")) %>% \n",
    "     print() "
   ]
  },
  {
   "cell_type": "markdown",
   "metadata": {},
   "source": [
    "## Plot data"
   ]
  },
  {
   "cell_type": "code",
   "execution_count": 27,
   "metadata": {
    "metadata": {},
    "vscode": {
     "languageId": "r"
    }
   },
   "outputs": [
    {
     "name": "stderr",
     "output_type": "stream",
     "text": [
      "Picking joint bandwidth of 0.0674\n",
      "\n",
      "Warning message:\n",
      "“Removed 298 rows containing non-finite values (stat_density_ridges).”\n",
      "Picking joint bandwidth of 0.0674\n",
      "\n",
      "Warning message:\n",
      "“Removed 298 rows containing non-finite values (stat_density_ridges).”\n"
     ]
    },
    {
     "data": {
      "image/png": "[encoded data removed]",
      "text/plain": [
       "plot without title"
      ]
     },
     "metadata": {
      "image/png": {
       "height": 120,
       "width": 210
      }
     },
     "output_type": "display_data"
    }
   ],
   "source": [
    "options(repr.plot.width = 3.5, repr.plot.height = 2)\n",
    "\n",
    "plot_data <- data %>%\n",
    "  # # collapse all channels\n",
    "  pivot_longer(c(\"bfp\", \"yfp\", \"rfp\", \"ssc_a\"), names_to = \"channel\") %>% \n",
    "  filter(channel %in% c(\"yfp\")) %>% \n",
    "  mutate(sgrna = case_when(\n",
    "    sgrna == \"none\" ~ \"Background\",\n",
    "    sgrna == \"fluc\" ~ \"sgCTRL\",\n",
    "    sgrna == \"yfp\" ~ \"sgEYFP\",\n",
    "  )) %>%\n",
    "  # filter(sgrna == \"sgEYFP\") %>% \n",
    "  mutate(channel = case_when(\n",
    "    channel == \"yfp\" ~ \"EYFP\",\n",
    "  )) %>%\n",
    "  filter(value >= 1)\n",
    "\n",
    "plot_data %>%\n",
    "  ggplot(aes(x = value, y = as.factor(day), fill = sgrna)) +\n",
    "  ggridges::geom_density_ridges(alpha = 0.8) +\n",
    "  scale_x_log10(limits = c(1, 1e5), breaks = scales::trans_breaks(\"log10\", function(x) 100^x),\n",
    "  labels = scales::trans_format(\"log10\", scales::math_format(10^.x))) +\n",
    "  # annotation_logticks(sides = \"b\") +\n",
    "  scale_fill_manual(values = cbPalette[c(1,3,2)]) +\n",
    "  labs(x = \"Fluorescence (a.u.)\", y = \"Days post Cas9\", fill = \"\") +\n",
    "  theme(axis.line = element_line(color = \"grey\"),\n",
    "  axis.ticks = element_line(color = \"grey\")) +\n",
    "  NULL\n",
    "  \n",
    "ggsave(\"../figures/sgyfp_sgfluc_effects_for_validation.pdf\", width = 3.5, height = 2)"
   ]
  }
 ],
 "metadata": {
  "interpreter": {
   "hash": "3e70078cb6b15a307a9d5f52457bb5fd47aec8ae565b8757a34a1e75b81d4c4a"
  },
  "kernelspec": {
   "display_name": "R",
   "language": "R",
   "name": "ir"
  },
  "language_info": {
   "codemirror_mode": "r",
   "file_extension": ".r",
   "mimetype": "text/x-r-source",
   "name": "R",
   "pygments_lexer": "r",
   "version": "4.1.1"
  },
  "orig_nbformat": 4
 },
 "nbformat": 4,
 "nbformat_minor": 2
}
