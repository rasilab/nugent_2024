{
 "cells": [
  {
   "attachments": {},
   "cell_type": "markdown",
   "metadata": {},
   "source": [
    "# Minimal code for Extended Data Figure 1b flow cytometry panel"
   ]
  },
  {
   "cell_type": "code",
   "execution_count": 1,
   "metadata": {
    "vscode": {
     "languageId": "r"
    }
   },
   "outputs": [
    {
     "name": "stderr",
     "output_type": "stream",
     "text": [
      "Warning message:\n",
      "“package ‘ggplot2’ was built under R version 4.2.3”\n"
     ]
    }
   ],
   "source": [
    "# library for reading .fcs files\n",
    "suppressPackageStartupMessages(library(flowCore))\n",
    "# library for extracting statistical fits\n",
    "suppressPackageStartupMessages(library(broom))\n",
    "# standard analysis and plotting functions, includes dplyr, ggplot2\n",
    "suppressPackageStartupMessages(library(tidyverse))\n",
    "# loads lab default ggplot2 theme and provides color-blind friendly palette\n",
    "suppressPackageStartupMessages(library(rasilabRtemplates))\n",
    "# this folder contains the data and annotations\n",
    "fcs_file_folder <- \"../../../../data/flow_cytometry/figs1b_integration_efficiency_u2os_293t/\"\n",
    "# nice channel names\n",
    "channels <- c(\n",
    "  \"fitc_a\" = \"yfp\", \"pe_texas_red_a\" = \"rfp\",\n",
    "  \"bv421_a\" = \"bfp\"\n",
    ")"
   ]
  },
  {
   "cell_type": "code",
   "execution_count": 2,
   "metadata": {
    "vscode": {
     "languageId": "r"
    }
   },
   "outputs": [],
   "source": [
    "if (!file.exists('../figures')){\n",
    "    dir.create('../figures')\n",
    "}"
   ]
  },
  {
   "attachments": {},
   "cell_type": "markdown",
   "metadata": {},
   "source": [
    "## Read in annotations"
   ]
  },
  {
   "cell_type": "code",
   "execution_count": 3,
   "metadata": {
    "vscode": {
     "languageId": "r"
    }
   },
   "outputs": [
    {
     "name": "stdout",
     "output_type": "stream",
     "text": [
      "\u001b[90m# A tibble: 4 × 3\u001b[39m\n",
      "  file  cell_line sgrna   \n",
      "  \u001b[3m\u001b[90m<chr>\u001b[39m\u001b[23m \u001b[3m\u001b[90m<chr>\u001b[39m\u001b[23m     \u001b[3m\u001b[90m<chr>\u001b[39m\u001b[23m   \n",
      "\u001b[90m1\u001b[39m 1     293T      Reporter\n",
      "\u001b[90m2\u001b[39m 9     U2OS      Reporter\n",
      "\u001b[90m3\u001b[39m 64    293T      None    \n",
      "\u001b[90m4\u001b[39m 280   U2OS      None    \n"
     ]
    }
   ],
   "source": [
    "annotations <- read_csv(\"../annotations/sample_annotations.csv\", show_col_types = F) %>% \n",
    "  mutate(file = as.character(file)) %>%\n",
    "  print()"
   ]
  },
  {
   "attachments": {},
   "cell_type": "markdown",
   "metadata": {},
   "source": [
    "## Read in flow data"
   ]
  },
  {
   "cell_type": "code",
   "execution_count": 4,
   "metadata": {
    "vscode": {
     "languageId": "r"
    }
   },
   "outputs": [
    {
     "name": "stdout",
     "output_type": "stream",
     "text": [
      "\u001b[90m# A tibble: 40,000 × 4\u001b[39m\n",
      "   file   ssc_a    bfp    rfp\n",
      "   \u001b[3m\u001b[90m<chr>\u001b[39m\u001b[23m  \u001b[3m\u001b[90m<dbl>\u001b[39m\u001b[23m  \u001b[3m\u001b[90m<dbl>\u001b[39m\u001b[23m  \u001b[3m\u001b[90m<dbl>\u001b[39m\u001b[23m\n",
      "\u001b[90m 1\u001b[39m 1      \u001b[4m9\u001b[24m033. \u001b[4m3\u001b[24m046.   39.7 \n",
      "\u001b[90m 2\u001b[39m 1      \u001b[4m7\u001b[24m672. \u001b[4m4\u001b[24m321.    8.60\n",
      "\u001b[90m 3\u001b[39m 1      \u001b[4m6\u001b[24m014. \u001b[4m4\u001b[24m951.   -\u001b[31m3\u001b[39m\u001b[31m.\u001b[39m\u001b[31m29\u001b[39m\n",
      "\u001b[90m 4\u001b[39m 1      \u001b[4m6\u001b[24m138. \u001b[4m4\u001b[24m528.   31.1 \n",
      "\u001b[90m 5\u001b[39m 1      \u001b[4m6\u001b[24m111.  116.   19.7 \n",
      "\u001b[90m 6\u001b[39m 1      \u001b[4m6\u001b[24m694. \u001b[4m4\u001b[24m206.  -\u001b[31m29\u001b[39m\u001b[31m.\u001b[39m\u001b[31m7\u001b[39m \n",
      "\u001b[90m 7\u001b[39m 1      \u001b[4m6\u001b[24m143.  538.   22.6 \n",
      "\u001b[90m 8\u001b[39m 1      \u001b[4m5\u001b[24m236.   72.7  27.7 \n",
      "\u001b[90m 9\u001b[39m 1     \u001b[4m1\u001b[24m\u001b[4m0\u001b[24m416. \u001b[4m7\u001b[24m986.    1.32\n",
      "\u001b[90m10\u001b[39m 1     \u001b[4m1\u001b[24m\u001b[4m2\u001b[24m903. \u001b[4m8\u001b[24m630.   39.7 \n",
      "\u001b[90m# … with 39,990 more rows\u001b[39m\n"
     ]
    }
   ],
   "source": [
    "flowdata  <- list.files(fcs_file_folder, full.names = T, pattern = \".fcs\") %>% \n",
    "  as_tibble_col(\"file\") %>%\n",
    "  mutate(data = map(file, . %>% read.FCS(transformation = F, alter.names = T) %>% exprs %>% as_tibble)) %>%\n",
    "  mutate(file = str_extract(file, \"(?<=001_)[:graph:]+(?=.fcs$)\")) %>%\n",
    "  unnest(\"data\") %>%\n",
    "  janitor::clean_names() %>%\n",
    "  rename_with(. %>% channels[.], names(channels)) %>%\n",
    "  select(-time, -yfp, -fsc_a) %>%\n",
    "  print()"
   ]
  },
  {
   "attachments": {},
   "cell_type": "markdown",
   "metadata": {},
   "source": [
    "## Join data with annotations"
   ]
  },
  {
   "cell_type": "code",
   "execution_count": 7,
   "metadata": {
    "vscode": {
     "languageId": "r"
    }
   },
   "outputs": [
    {
     "name": "stdout",
     "output_type": "stream",
     "text": [
      "\u001b[90m# A tibble: 40,000 × 6\u001b[39m\n",
      "   file   ssc_a    bfp    rfp cell_line sgrna   \n",
      "   \u001b[3m\u001b[90m<chr>\u001b[39m\u001b[23m  \u001b[3m\u001b[90m<dbl>\u001b[39m\u001b[23m  \u001b[3m\u001b[90m<dbl>\u001b[39m\u001b[23m  \u001b[3m\u001b[90m<dbl>\u001b[39m\u001b[23m \u001b[3m\u001b[90m<fct>\u001b[39m\u001b[23m     \u001b[3m\u001b[90m<chr>\u001b[39m\u001b[23m   \n",
      "\u001b[90m 1\u001b[39m 1      \u001b[4m9\u001b[24m033. \u001b[4m3\u001b[24m046.   39.7  293T      Reporter\n",
      "\u001b[90m 2\u001b[39m 1      \u001b[4m7\u001b[24m672. \u001b[4m4\u001b[24m321.    8.60 293T      Reporter\n",
      "\u001b[90m 3\u001b[39m 1      \u001b[4m6\u001b[24m014. \u001b[4m4\u001b[24m951.   -\u001b[31m3\u001b[39m\u001b[31m.\u001b[39m\u001b[31m29\u001b[39m 293T      Reporter\n",
      "\u001b[90m 4\u001b[39m 1      \u001b[4m6\u001b[24m138. \u001b[4m4\u001b[24m528.   31.1  293T      Reporter\n",
      "\u001b[90m 5\u001b[39m 1      \u001b[4m6\u001b[24m111.  116.   19.7  293T      Reporter\n",
      "\u001b[90m 6\u001b[39m 1      \u001b[4m6\u001b[24m694. \u001b[4m4\u001b[24m206.  -\u001b[31m29\u001b[39m\u001b[31m.\u001b[39m\u001b[31m7\u001b[39m  293T      Reporter\n",
      "\u001b[90m 7\u001b[39m 1      \u001b[4m6\u001b[24m143.  538.   22.6  293T      Reporter\n",
      "\u001b[90m 8\u001b[39m 1      \u001b[4m5\u001b[24m236.   72.7  27.7  293T      Reporter\n",
      "\u001b[90m 9\u001b[39m 1     \u001b[4m1\u001b[24m\u001b[4m0\u001b[24m416. \u001b[4m7\u001b[24m986.    1.32 293T      Reporter\n",
      "\u001b[90m10\u001b[39m 1     \u001b[4m1\u001b[24m\u001b[4m2\u001b[24m903. \u001b[4m8\u001b[24m630.   39.7  293T      Reporter\n",
      "\u001b[90m# … with 39,990 more rows\u001b[39m\n"
     ]
    }
   ],
   "source": [
    "data <- flowdata %>%\n",
    "  inner_join(annotations, by = \"file\") %>%\n",
    "  mutate(cell_line = fct_relevel(cell_line, \"293T\", \"U2OS\")) %>% \n",
    "  write_csv(\"../../../../source_data/figure_s1b.csv\") %>%\n",
    "  print()"
   ]
  },
  {
   "attachments": {},
   "cell_type": "markdown",
   "metadata": {},
   "source": [
    "## Plot BFP vs mCherry fluorescence"
   ]
  },
  {
   "cell_type": "code",
   "execution_count": 6,
   "metadata": {
    "vscode": {
     "languageId": "r"
    }
   },
   "outputs": [
    {
     "data": {
      "image/png": "[encoded data removed]",
      "text/plain": [
       "plot without title"
      ]
     },
     "metadata": {
      "image/png": {
       "height": 180,
       "width": 180
      }
     },
     "output_type": "display_data"
    }
   ],
   "source": [
    "options(repr.plot.width=3, repr.plot.height=3, warn=-1)\n",
    "\n",
    "# As scatter\n",
    "data %>%\n",
    "  mutate(color = if_else(bfp < 950 & rfp > 1200, \"red\", \"black\")) %>%\n",
    "  ggplot(aes(x = bfp, y = rfp, color = color, size = color)) +\n",
    "  facet_grid(fct_rev(sgrna) ~ cell_line, scales = \"fixed\", labeller = \"label_value\") +\n",
    "  geom_point() +\n",
    "  scale_size_manual(values = c(0.1, 0.5)) +\n",
    "  scale_x_log10(labels = scales::trans_format(\"log10\", scales::math_format(10^.x))) +\n",
    "  scale_y_log10(labels = scales::trans_format(\"log10\", scales::math_format(10^.x))) +\n",
    "  theme(axis.line = element_line(color = \"grey\"), axis.ticks = element_line(color = \"grey\")) +\n",
    "  guides(color = FALSE, size = FALSE) +\n",
    "  labs(x = \"BFP (a.u.)\", y = \"RFP (a.u.)\") \n",
    "\n",
    "ggsave(\"../figures/bfp_vs_rfp.pdf\", width = 3, height = 3, units = \"in\")"
   ]
  },
  {
   "cell_type": "code",
   "execution_count": 8,
   "metadata": {
    "vscode": {
     "languageId": "r"
    }
   },
   "outputs": [
    {
     "data": {
      "text/html": [
       "<table class=\"dataframe\">\n",
       "<caption>A grouped_df: 6 × 5</caption>\n",
       "<thead>\n",
       "\t<tr><th scope=col>cell_line</th><th scope=col>sgrna</th><th scope=col>color</th><th scope=col>n</th><th scope=col>percent</th></tr>\n",
       "\t<tr><th scope=col>&lt;fct&gt;</th><th scope=col>&lt;chr&gt;</th><th scope=col>&lt;chr&gt;</th><th scope=col>&lt;int&gt;</th><th scope=col>&lt;dbl&gt;</th></tr>\n",
       "</thead>\n",
       "<tbody>\n",
       "\t<tr><td>293T</td><td>None    </td><td>black</td><td>10000</td><td>100.0</td></tr>\n",
       "\t<tr><td>293T</td><td>Reporter</td><td>black</td><td> 9886</td><td> 98.9</td></tr>\n",
       "\t<tr><td>293T</td><td>Reporter</td><td>red  </td><td>  114</td><td>  1.1</td></tr>\n",
       "\t<tr><td>U2OS</td><td>None    </td><td>black</td><td>10000</td><td>100.0</td></tr>\n",
       "\t<tr><td>U2OS</td><td>Reporter</td><td>black</td><td> 9986</td><td> 99.9</td></tr>\n",
       "\t<tr><td>U2OS</td><td>Reporter</td><td>red  </td><td>   14</td><td>  0.1</td></tr>\n",
       "</tbody>\n",
       "</table>\n"
      ],
      "text/latex": [
       "A grouped\\_df: 6 × 5\n",
       "\\begin{tabular}{lllll}\n",
       " cell\\_line & sgrna & color & n & percent\\\\\n",
       " <fct> & <chr> & <chr> & <int> & <dbl>\\\\\n",
       "\\hline\n",
       "\t 293T & None     & black & 10000 & 100.0\\\\\n",
       "\t 293T & Reporter & black &  9886 &  98.9\\\\\n",
       "\t 293T & Reporter & red   &   114 &   1.1\\\\\n",
       "\t U2OS & None     & black & 10000 & 100.0\\\\\n",
       "\t U2OS & Reporter & black &  9986 &  99.9\\\\\n",
       "\t U2OS & Reporter & red   &    14 &   0.1\\\\\n",
       "\\end{tabular}\n"
      ],
      "text/markdown": [
       "\n",
       "A grouped_df: 6 × 5\n",
       "\n",
       "| cell_line &lt;fct&gt; | sgrna &lt;chr&gt; | color &lt;chr&gt; | n &lt;int&gt; | percent &lt;dbl&gt; |\n",
       "|---|---|---|---|---|\n",
       "| 293T | None     | black | 10000 | 100.0 |\n",
       "| 293T | Reporter | black |  9886 |  98.9 |\n",
       "| 293T | Reporter | red   |   114 |   1.1 |\n",
       "| U2OS | None     | black | 10000 | 100.0 |\n",
       "| U2OS | Reporter | black |  9986 |  99.9 |\n",
       "| U2OS | Reporter | red   |    14 |   0.1 |\n",
       "\n"
      ],
      "text/plain": [
       "  cell_line sgrna    color n     percent\n",
       "1 293T      None     black 10000 100.0  \n",
       "2 293T      Reporter black  9886  98.9  \n",
       "3 293T      Reporter red     114   1.1  \n",
       "4 U2OS      None     black 10000 100.0  \n",
       "5 U2OS      Reporter black  9986  99.9  \n",
       "6 U2OS      Reporter red      14   0.1  "
      ]
     },
     "metadata": {},
     "output_type": "display_data"
    }
   ],
   "source": [
    "data %>% \n",
    "  mutate(color = if_else(bfp < 950 & rfp > 1200, \"red\", \"black\")) %>%\n",
    "  group_by(cell_line, sgrna, color) %>%\n",
    "  count() %>%\n",
    "  mutate(percent = round(n/100, 1))"
   ]
  },
  {
   "cell_type": "code",
   "execution_count": 9,
   "metadata": {
    "vscode": {
     "languageId": "r"
    }
   },
   "outputs": [
    {
     "data": {
      "text/html": [
       "<table class=\"dataframe\">\n",
       "<caption>A grouped_df: 2 × 5</caption>\n",
       "<thead>\n",
       "\t<tr><th scope=col>file</th><th scope=col>cell_line</th><th scope=col>sgrna</th><th scope=col>n</th><th scope=col>top_left_percent</th></tr>\n",
       "\t<tr><th scope=col>&lt;chr&gt;</th><th scope=col>&lt;fct&gt;</th><th scope=col>&lt;chr&gt;</th><th scope=col>&lt;int&gt;</th><th scope=col>&lt;dbl&gt;</th></tr>\n",
       "</thead>\n",
       "<tbody>\n",
       "\t<tr><td>1</td><td>293T</td><td>Reporter</td><td>114</td><td>1.14</td></tr>\n",
       "\t<tr><td>9</td><td>U2OS</td><td>Reporter</td><td> 14</td><td>0.14</td></tr>\n",
       "</tbody>\n",
       "</table>\n"
      ],
      "text/latex": [
       "A grouped\\_df: 2 × 5\n",
       "\\begin{tabular}{lllll}\n",
       " file & cell\\_line & sgrna & n & top\\_left\\_percent\\\\\n",
       " <chr> & <fct> & <chr> & <int> & <dbl>\\\\\n",
       "\\hline\n",
       "\t 1 & 293T & Reporter & 114 & 1.14\\\\\n",
       "\t 9 & U2OS & Reporter &  14 & 0.14\\\\\n",
       "\\end{tabular}\n"
      ],
      "text/markdown": [
       "\n",
       "A grouped_df: 2 × 5\n",
       "\n",
       "| file &lt;chr&gt; | cell_line &lt;fct&gt; | sgrna &lt;chr&gt; | n &lt;int&gt; | top_left_percent &lt;dbl&gt; |\n",
       "|---|---|---|---|---|\n",
       "| 1 | 293T | Reporter | 114 | 1.14 |\n",
       "| 9 | U2OS | Reporter |  14 | 0.14 |\n",
       "\n"
      ],
      "text/plain": [
       "  file cell_line sgrna    n   top_left_percent\n",
       "1 1    293T      Reporter 114 1.14            \n",
       "2 9    U2OS      Reporter  14 0.14            "
      ]
     },
     "metadata": {},
     "output_type": "display_data"
    }
   ],
   "source": [
    "top_left <- data %>%\n",
    "    filter(rfp > 1200 & bfp < 950) %>% \n",
    "    group_by(file, cell_line, sgrna) %>%\n",
    "    count() %>%\n",
    "    mutate(top_left_percent = n/100) %>%\n",
    "    arrange(cell_line, sgrna)\n",
    "\n",
    "top_left"
   ]
  }
 ],
 "metadata": {
  "kernelspec": {
   "display_name": "R",
   "language": "R",
   "name": "ir"
  },
  "language_info": {
   "codemirror_mode": "r",
   "file_extension": ".r",
   "mimetype": "text/x-r-source",
   "name": "R",
   "pygments_lexer": "r",
   "version": "4.2.2"
  },
  "orig_nbformat": 4
 },
 "nbformat": 4,
 "nbformat_minor": 2
}
