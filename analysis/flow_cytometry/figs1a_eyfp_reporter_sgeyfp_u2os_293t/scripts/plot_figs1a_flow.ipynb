{
 "cells": [
  {
   "attachments": {},
   "cell_type": "markdown",
   "metadata": {},
   "source": [
    "# Minimal code for Extended Data Figure 1a flow cytometry panel"
   ]
  },
  {
   "cell_type": "code",
   "execution_count": null,
   "metadata": {
    "vscode": {
     "languageId": "r"
    }
   },
   "outputs": [],
   "source": [
    "# library for reading .fcs files\n",
    "suppressPackageStartupMessages(library(flowCore))\n",
    "# library for extracting statistical fits\n",
    "suppressPackageStartupMessages(library(broom))\n",
    "# standard analysis and plotting functions, includes dplyr, ggplot2\n",
    "suppressPackageStartupMessages(library(tidyverse))\n",
    "# loads lab default ggplot2 theme and provides color-blind friendly palette\n",
    "suppressPackageStartupMessages(library(rasilabRtemplates))\n",
    "# this folder contains the data and annotations\n",
    "fcs_file_folder <- c(\"../../../../data/flow_cytometry/figs1a_eyfp_reporter_sgeyfp_u2os_293t/day1/\", \n",
    "                     \"../../../../data/flow_cytometry/figs1a_eyfp_reporter_sgeyfp_u2os_293t/day3/\", \n",
    "                     \"../../../../data/flow_cytometry/figs1a_eyfp_reporter_sgeyfp_u2os_293t/day5/\",\n",
    "                     \"../../../../data/flow_cytometry/figs1a_eyfp_reporter_sgeyfp_u2os_293t/day8/\",\n",
    "                     \"../../../../data/flow_cytometry/figs1a_eyfp_reporter_sgeyfp_u2os_293t/day11/\")\n",
    "# nice channel names\n",
    "channels <- c(\n",
    "  \"fitc_a\" = \"yfp\", \"pe_texas_rd_a\" = \"rfp\",\n",
    "  \"bv421_a\" = \"bfp\"\n",
    ")"
   ]
  },
  {
   "cell_type": "code",
   "execution_count": null,
   "metadata": {
    "vscode": {
     "languageId": "r"
    }
   },
   "outputs": [],
   "source": [
    "if (!file.exists('../figures')){\n",
    "    dir.create('../figures')\n",
    "}"
   ]
  },
  {
   "cell_type": "markdown",
   "metadata": {},
   "source": [
    "## Read in annotations"
   ]
  },
  {
   "cell_type": "code",
   "execution_count": null,
   "metadata": {
    "vscode": {
     "languageId": "r"
    }
   },
   "outputs": [],
   "source": [
    "annotations <- read_csv(\"../annotations/sample_annotations.csv\") %>% \n",
    "  mutate(file = as.character(file)) %>%\n",
    "  print()"
   ]
  },
  {
   "cell_type": "markdown",
   "metadata": {},
   "source": [
    "## Read in flow data"
   ]
  },
  {
   "cell_type": "code",
   "execution_count": null,
   "metadata": {
    "vscode": {
     "languageId": "r"
    }
   },
   "outputs": [],
   "source": [
    "options(warn=-1)\n",
    "\n",
    "flowdata  <- list.files(fcs_file_folder, full.names = T, recursive = T, pattern = \".fcs\") %>% \n",
    "  as_tibble_col(\"file\") %>%\n",
    "  mutate(day = as.integer(str_extract(file, \"(?<=day)\\\\d+\"))) %>% \n",
    "  mutate(data = map(file, . %>% read.FCS(transformation = F, alter.names = T) %>% exprs %>% as_tibble)) %>%\n",
    "  mutate(file = str_extract(file, \"(?<=events_)[:graph:]+(?=.fcs$)\")) %>%\n",
    "  unnest(\"data\") %>%\n",
    "  janitor::clean_names() %>%\n",
    "  rename_with(. %>% channels[.], names(channels)) %>%\n",
    "  select(day, file, ssc_a, bfp, yfp, rfp) %>%\n",
    "  print()"
   ]
  },
  {
   "cell_type": "markdown",
   "metadata": {},
   "source": [
    "## Join data with annotations"
   ]
  },
  {
   "cell_type": "code",
   "execution_count": null,
   "metadata": {
    "vscode": {
     "languageId": "r"
    }
   },
   "outputs": [],
   "source": [
    "data <- flowdata %>% \n",
    "     inner_join(annotations, by = \"file\") %>% \n",
    "     print() "
   ]
  },
  {
   "cell_type": "markdown",
   "metadata": {},
   "source": [
    "## Plot YFP expression over time"
   ]
  },
  {
   "cell_type": "code",
   "execution_count": null,
   "metadata": {
    "vscode": {
     "languageId": "r"
    }
   },
   "outputs": [],
   "source": [
    "options(repr.plot.width = 5.5, repr.plot.height = 2.5)\n",
    "\n",
    "plot_data <- data %>%\n",
    "  # collapse all channels\n",
    "  pivot_longer(c(\"bfp\", \"yfp\", \"rfp\", \"ssc_a\"), names_to = \"channel\") %>% \n",
    "  filter(channel %in% c(\"yfp\")) %>% \n",
    "  mutate(sgRNA = case_when(\n",
    "    sgRNA == \"parent\" ~ \"Parent\",\n",
    "    sgRNA == \"FLUC\" ~ \"sgCTRL\",\n",
    "    sgRNA == \"YFP\" ~ \"sgEYFP\",\n",
    "  )) %>%\n",
    "  # filter(sgrna == \"sgEYFP\") %>% \n",
    "  mutate(channel = case_when(\n",
    "    channel == \"yfp\" ~ \"EYFP\",\n",
    "  )) %>%\n",
    "  filter(value >= 1) %>%\n",
    "  print()\n",
    "\n",
    "plot_data %>%\n",
    "  ggplot(aes(x = value, y = as.factor(day), fill = sgRNA)) +\n",
    "  ggridges::geom_density_ridges(alpha = 0.8) +\n",
    "  facet_wrap(~cell_line) +\n",
    "  scale_x_log10(limits = c(1, 1e6), breaks = scales::trans_breaks(\"log10\", function(x) 100^x),\n",
    "  labels = scales::trans_format(\"log10\", scales::math_format(10^.x))) +\n",
    "  # annotation_logticks(sides = \"b\") +\n",
    "  scale_fill_manual(values = cbPalette[c(1,3,2)]) +\n",
    "  labs(x = \"Fluorescence (a.u.)\", y = \"Days post Cas9\", fill = \"\") +\n",
    "  theme(axis.line = element_line(color = \"grey\"),\n",
    "  axis.ticks = element_line(color = \"grey\")) +\n",
    "  NULL\n",
    "  \n",
    "ggsave(\"../figures/sgyfp_sgfluc_effects_for_validation.pdf\", width = 5.5, height = 2.5)"
   ]
  }
 ],
 "metadata": {
  "interpreter": {
   "hash": "3e70078cb6b15a307a9d5f52457bb5fd47aec8ae565b8757a34a1e75b81d4c4a"
  },
  "kernelspec": {
   "display_name": "R_project_repo_1.13.0",
   "language": "R",
   "name": "ir_project_repo_1.13.0"
  },
  "language_info": {
   "codemirror_mode": "r",
   "file_extension": ".r",
   "mimetype": "text/x-r-source",
   "name": "R",
   "pygments_lexer": "r",
   "version": "4.1.3"
  },
  "orig_nbformat": 4
 },
 "nbformat": 4,
 "nbformat_minor": 2
}
