{
 "cells": [
  {
   "cell_type": "code",
   "execution_count": 1,
   "metadata": {
    "vscode": {
     "languageId": "r"
    }
   },
   "outputs": [],
   "source": [
    "options(warn = -1)\n",
    "suppressPackageStartupMessages({\n",
    "  library(Biostrings)\n",
    "  library(plyranges)\n",
    "  library(tidyverse)\n",
    "  library(GenomicAlignments)\n",
    "})"
   ]
  },
  {
   "cell_type": "code",
   "execution_count": 9,
   "metadata": {
    "vscode": {
     "languageId": "r"
    }
   },
   "outputs": [],
   "source": [
    "args <- commandArgs(trailingOnly = TRUE)\n",
    "\n",
    "# intron_file <- \"../data/mane/MANE.GRCh38.v1.3.ensembl_genomic.tsv\"\n",
    "# alignment_file <- \"../data/alignments//genome_mane_183p1/Aligned.sortedByCoord.out.bam\"\n",
    "intron_file <- args[1]\n",
    "alignment_file <- args[2]\n",
    "output_file <- args[3]"
   ]
  },
  {
   "cell_type": "code",
   "execution_count": 11,
   "metadata": {
    "vscode": {
     "languageId": "r"
    }
   },
   "outputs": [],
   "source": [
    "sj <- read_tsv(intron_file, show_col_types = F) %>% \n",
    "  GRanges() %>% \n",
    "  setNames(seq(1, length(.))) %>% \n",
    "  filter(junction_type == \"annotated\") "
   ]
  },
  {
   "cell_type": "code",
   "execution_count": 10,
   "metadata": {
    "vscode": {
     "languageId": "r"
    }
   },
   "outputs": [],
   "source": [
    "aln <- readGAlignmentPairs(alignment_file) %>% \n",
    "  invertStrand()"
   ]
  },
  {
   "cell_type": "code",
   "execution_count": 11,
   "metadata": {
    "vscode": {
     "languageId": "r"
    }
   },
   "outputs": [
    {
     "data": {
      "text/html": [
       "<table class=\"dataframe\">\n",
       "<caption>A data.frame: 3 × 2</caption>\n",
       "<thead>\n",
       "\t<tr><th scope=col>intron</th><th scope=col>count</th></tr>\n",
       "\t<tr><th scope=col>&lt;fct&gt;</th><th scope=col>&lt;int&gt;</th></tr>\n",
       "</thead>\n",
       "<tbody>\n",
       "\t<tr><td>1</td><td> 97</td></tr>\n",
       "\t<tr><td>2</td><td>260</td></tr>\n",
       "\t<tr><td>4</td><td>542</td></tr>\n",
       "</tbody>\n",
       "</table>\n"
      ],
      "text/latex": [
       "A data.frame: 3 × 2\n",
       "\\begin{tabular}{ll}\n",
       " intron & count\\\\\n",
       " <fct> & <int>\\\\\n",
       "\\hline\n",
       "\t 1 &  97\\\\\n",
       "\t 2 & 260\\\\\n",
       "\t 4 & 542\\\\\n",
       "\\end{tabular}\n"
      ],
      "text/markdown": [
       "\n",
       "A data.frame: 3 × 2\n",
       "\n",
       "| intron &lt;fct&gt; | count &lt;int&gt; |\n",
       "|---|---|\n",
       "| 1 |  97 |\n",
       "| 2 | 260 |\n",
       "| 4 | 542 |\n",
       "\n"
      ],
      "text/plain": [
       "  intron count\n",
       "1 1       97  \n",
       "2 2      260  \n",
       "3 4      542  "
      ]
     },
     "metadata": {},
     "output_type": "display_data"
    }
   ],
   "source": [
    "sj %>% \n",
    "  findOverlaps(aln, ., minoverlap = 10L, ignore.strand = F) %>% \n",
    "  subjectHits() %>% \n",
    "  sj[.] %>%\n",
    "  names() %>%\n",
    "  table() %>%\n",
    "  as.data.frame() %>%\n",
    "  setNames(c(\"intron\", \"count\")) %>%\n",
    "  write_csv(output_file)"
   ]
  }
 ],
 "metadata": {
  "kernelspec": {
   "display_name": "R",
   "language": "R",
   "name": "ir"
  },
  "language_info": {
   "codemirror_mode": "r",
   "file_extension": ".r",
   "mimetype": "text/x-r-source",
   "name": "R",
   "pygments_lexer": "r",
   "version": "4.2.2"
  }
 },
 "nbformat": 4,
 "nbformat_minor": 2
}
