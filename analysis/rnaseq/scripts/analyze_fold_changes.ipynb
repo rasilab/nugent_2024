{
 "cells": [
  {
   "cell_type": "markdown",
   "metadata": {},
   "source": [
    "## Analyze transcript-specific fold changes in different studies"
   ]
  },
  {
   "cell_type": "markdown",
   "metadata": {},
   "source": [
    "## Load libraries"
   ]
  },
  {
   "cell_type": "code",
   "execution_count": 1,
   "metadata": {
    "vscode": {
     "languageId": "r"
    }
   },
   "outputs": [
    {
     "name": "stderr",
     "output_type": "stream",
     "text": [
      "Warning message:\n",
      "“package ‘ggplot2’ was built under R version 4.2.3”\n"
     ]
    }
   ],
   "source": [
    "suppressPackageStartupMessages({\n",
    "  # library(DESeq2)\n",
    "  library(tidyverse)\n",
    "  library(plyranges)\n",
    "  library(rasilabRtemplates)\n",
    "})\n",
    "\n",
    "options(repr.matrix.max.rows = 10, warn = -1)\n",
    "\n",
    "count_cutoff <- 1000\n",
    "\n",
    "gene_subset <- c(\"FOS\", \"JUN\", \"ATF3\", \"EGR1\", \"DUSP1\", \"IER2\", \"MYC\", \"GPR50\", \"ADAMST1\", \"RHOB\", \"TIMP3\", \"JUND\")\n",
    "\n",
    "theme_set(theme_rasilab() +\n",
    "  theme(\n",
    "    axis.line = element_line(color = \"grey\"),\n",
    "    axis.title.y = element_text(margin = margin(r = 10)),\n",
    "    axis.title.x = element_text(margin = margin(t = 10))\n",
    "  ))\n"
   ]
  },
  {
   "cell_type": "markdown",
   "metadata": {},
   "source": [
    "## Read sample annotations"
   ]
  },
  {
   "cell_type": "code",
   "execution_count": null,
   "metadata": {
    "vscode": {
     "languageId": "r"
    }
   },
   "outputs": [
    {
     "name": "stdout",
     "output_type": "stream",
     "text": [
      "\u001b[90m# A tibble: 12 × 8\u001b[39m\n",
      "   user  sample_name      sample_id map     index_primer study average…¹ plasmid\n",
      "   \u001b[3m\u001b[90m<chr>\u001b[39m\u001b[23m \u001b[3m\u001b[90m<chr>\u001b[39m\u001b[23m            \u001b[3m\u001b[90m<chr>\u001b[39m\u001b[23m     \u001b[3m\u001b[90m<chr>\u001b[39m\u001b[23m   \u001b[3m\u001b[90m<chr>\u001b[39m\u001b[23m        \u001b[3m\u001b[90m<chr>\u001b[39m\u001b[23m     \u001b[3m\u001b[90m<dbl>\u001b[39m\u001b[23m \u001b[3m\u001b[90m<chr>\u001b[39m\u001b[23m  \n",
      "\u001b[90m 1\u001b[39m pn    gcn1_1_2_rep1_0h 220p11    lpnhs25 oas112       i189        300 pHPHS2…\n",
      "\u001b[90m 2\u001b[39m pn    gcn1_1_2_rep2_0h 220p12    lpnhs25 oas113       i189        300 pHPHS2…\n",
      "\u001b[90m 3\u001b[39m pn    gcn1_3_4_rep1_0h 220p13    lpnhs25 oas114       i189        300 pHPHS2…\n",
      "\u001b[90m 4\u001b[39m pn    gcn1_3_4_rep2_0h 220p14    lpnhs25 oas115       i189        300 pHPHS2…\n",
      "\u001b[90m 5\u001b[39m pn    fluc_1_2_rep1_0h 220p15    lpnhs25 oas116       i189        300 pHPHS2…\n",
      "\u001b[90m 6\u001b[39m pn    fluc_1_2_rep2_0h 220p16    lpnhs25 oas117       i189        300 pHPHS2…\n",
      "\u001b[90m 7\u001b[39m pn    gcn1_3_4_rep1_6h 220p19    lpnhs25 oas130       i189        300 pHPHS2…\n",
      "\u001b[90m 8\u001b[39m pn    gcn1_3_4_rep2_6h 220p20    lpnhs25 oas131       i189        300 pHPHS2…\n",
      "\u001b[90m 9\u001b[39m pn    fluc_1_2_rep1_6h 220p21    lpnhs25 oas132       i189        300 pHPHS2…\n",
      "\u001b[90m10\u001b[39m pn    fluc_1_2_rep2_6h 220p22    lpnhs25 oas133       i189        300 pHPHS2…\n",
      "\u001b[90m11\u001b[39m pn    gcn1_1_2_rep1_6h 220p17    lpnhs25 oas134       i189        300 pHPHS2…\n",
      "\u001b[90m12\u001b[39m pn    gcn1_1_2_rep2_6h 220p18    lpnhs25 oas135       i189        300 pHPHS2…\n",
      "\u001b[90m# … with abbreviated variable name ¹​average_read_length\u001b[39m\n"
     ]
    }
   ],
   "source": [
    "sample_annotations <- read_csv(\"../../20231211_i202_splicing_factor_hits/annotations/sample_annotations.csv\", show_col_types = F) %>%\n",
    "  filter(str_detect(sample_id, \"^220\")) %>%\n",
    "  print()"
   ]
  },
  {
   "cell_type": "markdown",
   "metadata": {},
   "source": [
    "## Read gene annotations"
   ]
  },
  {
   "cell_type": "code",
   "execution_count": null,
   "metadata": {
    "vscode": {
     "languageId": "r"
    }
   },
   "outputs": [
    {
     "name": "stdout",
     "output_type": "stream",
     "text": [
      "\u001b[90m# A tibble: 19,967 × 14\u001b[39m\n",
      "   seqnames  start    end  width strand source type  score phase gene_id gene_…¹\n",
      "   \u001b[3m\u001b[90m<fct>\u001b[39m\u001b[23m     \u001b[3m\u001b[90m<int>\u001b[39m\u001b[23m  \u001b[3m\u001b[90m<int>\u001b[39m\u001b[23m  \u001b[3m\u001b[90m<int>\u001b[39m\u001b[23m \u001b[3m\u001b[90m<fct>\u001b[39m\u001b[23m  \u001b[3m\u001b[90m<fct>\u001b[39m\u001b[23m  \u001b[3m\u001b[90m<fct>\u001b[39m\u001b[23m \u001b[3m\u001b[90m<dbl>\u001b[39m\u001b[23m \u001b[3m\u001b[90m<int>\u001b[39m\u001b[23m \u001b[3m\u001b[90m<chr>\u001b[39m\u001b[23m   \u001b[3m\u001b[90m<chr>\u001b[39m\u001b[23m  \n",
      "\u001b[90m 1\u001b[39m 1        1.47\u001b[90me\u001b[39m6 1.50\u001b[90me\u001b[39m6  \u001b[4m2\u001b[24m\u001b[4m6\u001b[24m084 +      ensem… gene     \u001b[31mNA\u001b[39m    \u001b[31mNA\u001b[39m ENSG00… 20     \n",
      "\u001b[90m 2\u001b[39m 1        3.07\u001b[90me\u001b[39m6 3.44\u001b[90me\u001b[39m6 \u001b[4m3\u001b[24m\u001b[4m6\u001b[24m\u001b[4m9\u001b[24m454 +      ensem… gene     \u001b[31mNA\u001b[39m    \u001b[31mNA\u001b[39m ENSG00… 17     \n",
      "\u001b[90m 3\u001b[39m 1        2.40\u001b[90me\u001b[39m6 2.41\u001b[90me\u001b[39m6   \u001b[4m9\u001b[24m834 -      ensem… gene     \u001b[31mNA\u001b[39m    \u001b[31mNA\u001b[39m ENSG00… 11     \n",
      "\u001b[90m 4\u001b[39m 1        1.05\u001b[90me\u001b[39m7 1.06\u001b[90me\u001b[39m7 \u001b[4m1\u001b[24m\u001b[4m5\u001b[24m\u001b[4m8\u001b[24m471 +      ensem… gene     \u001b[31mNA\u001b[39m    \u001b[31mNA\u001b[39m ENSG00… 13     \n",
      "\u001b[90m 5\u001b[39m 1        2.43\u001b[90me\u001b[39m6 2.51\u001b[90me\u001b[39m6  \u001b[4m7\u001b[24m\u001b[4m9\u001b[24m553 +      ensem… gene     \u001b[31mNA\u001b[39m    \u001b[31mNA\u001b[39m ENSG00… 18     \n",
      "\u001b[90m 6\u001b[39m 1        9.29\u001b[90me\u001b[39m6 9.37\u001b[90me\u001b[39m6  \u001b[4m7\u001b[24m\u001b[4m6\u001b[24m639 +      ensem… gene     \u001b[31mNA\u001b[39m    \u001b[31mNA\u001b[39m ENSG00… 14     \n",
      "\u001b[90m 7\u001b[39m 1        6.16\u001b[90me\u001b[39m6 6.20\u001b[90me\u001b[39m6  \u001b[4m3\u001b[24m\u001b[4m8\u001b[24m328 -      havana gene     \u001b[31mNA\u001b[39m    \u001b[31mNA\u001b[39m ENSG00… 1      \n",
      "\u001b[90m 8\u001b[39m 1        6.24\u001b[90me\u001b[39m6 6.25\u001b[90me\u001b[39m6   \u001b[4m1\u001b[24m400 +      ensem… gene     \u001b[31mNA\u001b[39m    \u001b[31mNA\u001b[39m ENSG00… 8      \n",
      "\u001b[90m 9\u001b[39m 1        9.04\u001b[90me\u001b[39m6 9.09\u001b[90me\u001b[39m6  \u001b[4m5\u001b[24m\u001b[4m3\u001b[24m373 -      ensem… gene     \u001b[31mNA\u001b[39m    \u001b[31mNA\u001b[39m ENSG00… 18     \n",
      "\u001b[90m10\u001b[39m 1        1.57\u001b[90me\u001b[39m7 1.57\u001b[90me\u001b[39m7  \u001b[4m5\u001b[24m\u001b[4m0\u001b[24m450 +      ensem… gene     \u001b[31mNA\u001b[39m    \u001b[31mNA\u001b[39m ENSG00… 13     \n",
      "\u001b[90m# … with 19,957 more rows, 3 more variables: gene_name <chr>,\u001b[39m\n",
      "\u001b[90m#   gene_source <chr>, gene_biotype <chr>, and abbreviated variable name\u001b[39m\n",
      "\u001b[90m#   ¹​gene_version\u001b[39m\n"
     ]
    }
   ],
   "source": [
    "gene_annotations <- read_gff2(\"../../20231211_i202_splicing_factor_hits/data/ensembl/Homo_sapiens.GRCh38.108.genes.gtf\") %>%\n",
    "  as_tibble() %>%\n",
    "  filter(gene_biotype == \"protein_coding\") %>%\n",
    "  print()"
   ]
  },
  {
   "cell_type": "markdown",
   "metadata": {},
   "source": [
    "## Read in gene count data"
   ]
  },
  {
   "cell_type": "code",
   "execution_count": null,
   "metadata": {
    "vscode": {
     "languageId": "r"
    }
   },
   "outputs": [
    {
     "name": "stdout",
     "output_type": "stream",
     "text": [
      "\u001b[90m# A tibble: 745,152 × 3\u001b[39m\n",
      "   sample_id gene_id           rev\n",
      "   \u001b[3m\u001b[90m<chr>\u001b[39m\u001b[23m     \u001b[3m\u001b[90m<chr>\u001b[39m\u001b[23m           \u001b[3m\u001b[90m<dbl>\u001b[39m\u001b[23m\n",
      "\u001b[90m 1\u001b[39m 220p11    ENSG00000160072   585\n",
      "\u001b[90m 2\u001b[39m 220p11    ENSG00000279928     0\n",
      "\u001b[90m 3\u001b[39m 220p11    ENSG00000228037     0\n",
      "\u001b[90m 4\u001b[39m 220p11    ENSG00000142611    92\n",
      "\u001b[90m 5\u001b[39m 220p11    ENSG00000284616     0\n",
      "\u001b[90m 6\u001b[39m 220p11    ENSG00000157911   301\n",
      "\u001b[90m 7\u001b[39m 220p11    ENSG00000269896     9\n",
      "\u001b[90m 8\u001b[39m 220p11    ENSG00000228463     2\n",
      "\u001b[90m 9\u001b[39m 220p11    ENSG00000260972     0\n",
      "\u001b[90m10\u001b[39m 220p11    ENSG00000224340     0\n",
      "\u001b[90m# … with 745,142 more rows\u001b[39m\n"
     ]
    }
   ],
   "source": [
    "count_data <- \"../../20231211_i202_splicing_factor_hits/data/alignments/\" %>% \n",
    "  list.files(full.names = T, pattern = \"ReadsPerGene.out.tab\", recursive = T) %>% \n",
    "  as_tibble_col(\"file\") %>% \n",
    "  filter(str_detect(file, \"genome_220\")) %>%\n",
    "  mutate(sample_id = str_extract(file, \"220p[:digit:]+\")) %>%\n",
    "  mutate(data = map(file, ~read_tsv(.x, show_col_types = F, col_names = c(\"gene_id\", \"total\", \"fwd\", \"rev\")))) %>% \n",
    "  select(-file) %>%\n",
    "  unnest(data) %>%\n",
    "  select(-total, -fwd) %>%\n",
    "  filter(str_detect(gene_id, \"^ENSG\")) %>%\n",
    "  print()"
   ]
  },
  {
   "cell_type": "markdown",
   "metadata": {},
   "source": [
    "## Subset to transcripts that get summed counts across conditions greater than count cutoff"
   ]
  },
  {
   "cell_type": "code",
   "execution_count": null,
   "metadata": {
    "vscode": {
     "languageId": "r"
    }
   },
   "outputs": [
    {
     "name": "stdout",
     "output_type": "stream",
     "text": [
      "\u001b[90m# A tibble: 124,080 × 3\u001b[39m\n",
      "   sample_id gene_id           rev\n",
      "   \u001b[3m\u001b[90m<chr>\u001b[39m\u001b[23m     \u001b[3m\u001b[90m<chr>\u001b[39m\u001b[23m           \u001b[3m\u001b[90m<dbl>\u001b[39m\u001b[23m\n",
      "\u001b[90m 1\u001b[39m 220p11    ENSG00000160072   585\n",
      "\u001b[90m 2\u001b[39m 220p11    ENSG00000142611    92\n",
      "\u001b[90m 3\u001b[39m 220p11    ENSG00000157911   301\n",
      "\u001b[90m 4\u001b[39m 220p11    ENSG00000142655   248\n",
      "\u001b[90m 5\u001b[39m 220p11    ENSG00000116786   743\n",
      "\u001b[90m 6\u001b[39m 220p11    ENSG00000037637   450\n",
      "\u001b[90m 7\u001b[39m 220p11    ENSG00000159423   181\n",
      "\u001b[90m 8\u001b[39m 220p11    ENSG00000011021   213\n",
      "\u001b[90m 9\u001b[39m 220p11    ENSG00000157916   748\n",
      "\u001b[90m10\u001b[39m 220p11    ENSG00000157881   332\n",
      "\u001b[90m# … with 124,070 more rows\u001b[39m\n"
     ]
    }
   ],
   "source": [
    "count_data_above_cutoff <- count_data %>% \n",
    "  group_by(gene_id) %>% \n",
    "  mutate(total_study_counts = sum(rev)) %>% \n",
    "  ungroup() %>% \n",
    "  filter(total_study_counts >= count_cutoff) %>% \n",
    "  select(-total_study_counts) %>% \n",
    "  # separate(gene_id, c(\"gene_id\", \"gene_name\"), sep = \"\\\\|\") %>% \n",
    "  print()"
   ]
  },
  {
   "cell_type": "markdown",
   "metadata": {},
   "source": [
    "## Count data for GCN1-Harringtonine experiment"
   ]
  },
  {
   "cell_type": "code",
   "execution_count": null,
   "metadata": {
    "vscode": {
     "languageId": "r"
    }
   },
   "outputs": [
    {
     "data": {
      "text/html": [
       "<table class=\"dataframe\">\n",
       "<caption>A data.frame: 6 × 12</caption>\n",
       "<thead>\n",
       "\t<tr><th></th><th scope=col>gcn1_1_2_rep1_0h</th><th scope=col>gcn1_1_2_rep2_0h</th><th scope=col>gcn1_3_4_rep1_0h</th><th scope=col>gcn1_3_4_rep2_0h</th><th scope=col>fluc_1_2_rep1_0h</th><th scope=col>fluc_1_2_rep2_0h</th><th scope=col>gcn1_1_2_rep1_6h</th><th scope=col>gcn1_1_2_rep2_6h</th><th scope=col>gcn1_3_4_rep1_6h</th><th scope=col>gcn1_3_4_rep2_6h</th><th scope=col>fluc_1_2_rep1_6h</th><th scope=col>fluc_1_2_rep2_6h</th></tr>\n",
       "\t<tr><th></th><th scope=col>&lt;dbl&gt;</th><th scope=col>&lt;dbl&gt;</th><th scope=col>&lt;dbl&gt;</th><th scope=col>&lt;dbl&gt;</th><th scope=col>&lt;dbl&gt;</th><th scope=col>&lt;dbl&gt;</th><th scope=col>&lt;dbl&gt;</th><th scope=col>&lt;dbl&gt;</th><th scope=col>&lt;dbl&gt;</th><th scope=col>&lt;dbl&gt;</th><th scope=col>&lt;dbl&gt;</th><th scope=col>&lt;dbl&gt;</th></tr>\n",
       "</thead>\n",
       "<tbody>\n",
       "\t<tr><th scope=row>ENSG00000160072</th><td>585</td><td>675</td><td>712</td><td>733</td><td>739</td><td>756</td><td>1380</td><td>1362</td><td>1081</td><td>1026</td><td>1311</td><td>1109</td></tr>\n",
       "\t<tr><th scope=row>ENSG00000142611</th><td> 92</td><td>116</td><td>153</td><td>125</td><td>123</td><td>141</td><td> 148</td><td> 156</td><td> 152</td><td> 120</td><td> 202</td><td> 187</td></tr>\n",
       "\t<tr><th scope=row>ENSG00000157911</th><td>301</td><td>205</td><td>315</td><td>334</td><td>331</td><td>326</td><td> 427</td><td> 422</td><td> 358</td><td> 362</td><td> 497</td><td> 482</td></tr>\n",
       "\t<tr><th scope=row>ENSG00000142655</th><td>248</td><td>251</td><td>315</td><td>333</td><td>260</td><td>264</td><td> 434</td><td> 459</td><td> 316</td><td> 348</td><td> 384</td><td> 326</td></tr>\n",
       "\t<tr><th scope=row>ENSG00000116786</th><td>743</td><td>729</td><td>806</td><td>839</td><td>718</td><td>772</td><td>1102</td><td>1195</td><td> 954</td><td> 892</td><td> 835</td><td> 694</td></tr>\n",
       "\t<tr><th scope=row>ENSG00000037637</th><td>450</td><td>331</td><td>450</td><td>442</td><td>449</td><td>462</td><td> 664</td><td> 610</td><td> 536</td><td> 511</td><td> 712</td><td> 598</td></tr>\n",
       "</tbody>\n",
       "</table>\n"
      ],
      "text/latex": [
       "A data.frame: 6 × 12\n",
       "\\begin{tabular}{r|llllllllllll}\n",
       "  & gcn1\\_1\\_2\\_rep1\\_0h & gcn1\\_1\\_2\\_rep2\\_0h & gcn1\\_3\\_4\\_rep1\\_0h & gcn1\\_3\\_4\\_rep2\\_0h & fluc\\_1\\_2\\_rep1\\_0h & fluc\\_1\\_2\\_rep2\\_0h & gcn1\\_1\\_2\\_rep1\\_6h & gcn1\\_1\\_2\\_rep2\\_6h & gcn1\\_3\\_4\\_rep1\\_6h & gcn1\\_3\\_4\\_rep2\\_6h & fluc\\_1\\_2\\_rep1\\_6h & fluc\\_1\\_2\\_rep2\\_6h\\\\\n",
       "  & <dbl> & <dbl> & <dbl> & <dbl> & <dbl> & <dbl> & <dbl> & <dbl> & <dbl> & <dbl> & <dbl> & <dbl>\\\\\n",
       "\\hline\n",
       "\tENSG00000160072 & 585 & 675 & 712 & 733 & 739 & 756 & 1380 & 1362 & 1081 & 1026 & 1311 & 1109\\\\\n",
       "\tENSG00000142611 &  92 & 116 & 153 & 125 & 123 & 141 &  148 &  156 &  152 &  120 &  202 &  187\\\\\n",
       "\tENSG00000157911 & 301 & 205 & 315 & 334 & 331 & 326 &  427 &  422 &  358 &  362 &  497 &  482\\\\\n",
       "\tENSG00000142655 & 248 & 251 & 315 & 333 & 260 & 264 &  434 &  459 &  316 &  348 &  384 &  326\\\\\n",
       "\tENSG00000116786 & 743 & 729 & 806 & 839 & 718 & 772 & 1102 & 1195 &  954 &  892 &  835 &  694\\\\\n",
       "\tENSG00000037637 & 450 & 331 & 450 & 442 & 449 & 462 &  664 &  610 &  536 &  511 &  712 &  598\\\\\n",
       "\\end{tabular}\n"
      ],
      "text/markdown": [
       "\n",
       "A data.frame: 6 × 12\n",
       "\n",
       "| <!--/--> | gcn1_1_2_rep1_0h &lt;dbl&gt; | gcn1_1_2_rep2_0h &lt;dbl&gt; | gcn1_3_4_rep1_0h &lt;dbl&gt; | gcn1_3_4_rep2_0h &lt;dbl&gt; | fluc_1_2_rep1_0h &lt;dbl&gt; | fluc_1_2_rep2_0h &lt;dbl&gt; | gcn1_1_2_rep1_6h &lt;dbl&gt; | gcn1_1_2_rep2_6h &lt;dbl&gt; | gcn1_3_4_rep1_6h &lt;dbl&gt; | gcn1_3_4_rep2_6h &lt;dbl&gt; | fluc_1_2_rep1_6h &lt;dbl&gt; | fluc_1_2_rep2_6h &lt;dbl&gt; |\n",
       "|---|---|---|---|---|---|---|---|---|---|---|---|---|\n",
       "| ENSG00000160072 | 585 | 675 | 712 | 733 | 739 | 756 | 1380 | 1362 | 1081 | 1026 | 1311 | 1109 |\n",
       "| ENSG00000142611 |  92 | 116 | 153 | 125 | 123 | 141 |  148 |  156 |  152 |  120 |  202 |  187 |\n",
       "| ENSG00000157911 | 301 | 205 | 315 | 334 | 331 | 326 |  427 |  422 |  358 |  362 |  497 |  482 |\n",
       "| ENSG00000142655 | 248 | 251 | 315 | 333 | 260 | 264 |  434 |  459 |  316 |  348 |  384 |  326 |\n",
       "| ENSG00000116786 | 743 | 729 | 806 | 839 | 718 | 772 | 1102 | 1195 |  954 |  892 |  835 |  694 |\n",
       "| ENSG00000037637 | 450 | 331 | 450 | 442 | 449 | 462 |  664 |  610 |  536 |  511 |  712 |  598 |\n",
       "\n"
      ],
      "text/plain": [
       "                gcn1_1_2_rep1_0h gcn1_1_2_rep2_0h gcn1_3_4_rep1_0h\n",
       "ENSG00000160072 585              675              712             \n",
       "ENSG00000142611  92              116              153             \n",
       "ENSG00000157911 301              205              315             \n",
       "ENSG00000142655 248              251              315             \n",
       "ENSG00000116786 743              729              806             \n",
       "ENSG00000037637 450              331              450             \n",
       "                gcn1_3_4_rep2_0h fluc_1_2_rep1_0h fluc_1_2_rep2_0h\n",
       "ENSG00000160072 733              739              756             \n",
       "ENSG00000142611 125              123              141             \n",
       "ENSG00000157911 334              331              326             \n",
       "ENSG00000142655 333              260              264             \n",
       "ENSG00000116786 839              718              772             \n",
       "ENSG00000037637 442              449              462             \n",
       "                gcn1_1_2_rep1_6h gcn1_1_2_rep2_6h gcn1_3_4_rep1_6h\n",
       "ENSG00000160072 1380             1362             1081            \n",
       "ENSG00000142611  148              156              152            \n",
       "ENSG00000157911  427              422              358            \n",
       "ENSG00000142655  434              459              316            \n",
       "ENSG00000116786 1102             1195              954            \n",
       "ENSG00000037637  664              610              536            \n",
       "                gcn1_3_4_rep2_6h fluc_1_2_rep1_6h fluc_1_2_rep2_6h\n",
       "ENSG00000160072 1026             1311             1109            \n",
       "ENSG00000142611  120              202              187            \n",
       "ENSG00000157911  362              497              482            \n",
       "ENSG00000142655  348              384              326            \n",
       "ENSG00000116786  892              835              694            \n",
       "ENSG00000037637  511              712              598            "
      ]
     },
     "metadata": {},
     "output_type": "display_data"
    }
   ],
   "source": [
    "count_data <- count_data_above_cutoff %>% \n",
    "  left_join(sample_annotations %>% select(sample_id, sample_name), by = \"sample_id\") %>%\n",
    "  select(-sample_id) %>%\n",
    "  pivot_wider(values_from = \"rev\", names_from = \"sample_name\") %>% \n",
    "  column_to_rownames(\"gene_id\") \n",
    "\n",
    "\n",
    "head(count_data)"
   ]
  },
  {
   "cell_type": "markdown",
   "metadata": {},
   "source": [
    "## Col data for GCN1-Harringtonine experiment\n"
   ]
  },
  {
   "cell_type": "code",
   "execution_count": null,
   "metadata": {
    "vscode": {
     "languageId": "r"
    }
   },
   "outputs": [
    {
     "name": "stdout",
     "output_type": "stream",
     "text": [
      "                      sample  rep\n",
      "gcn1_1_2_rep1_0h gcn1_1_2_0h rep1\n",
      "gcn1_1_2_rep2_0h gcn1_1_2_0h rep2\n",
      "gcn1_3_4_rep1_0h gcn1_3_4_0h rep1\n",
      "gcn1_3_4_rep2_0h gcn1_3_4_0h rep2\n",
      "fluc_1_2_rep1_0h fluc_1_2_0h rep1\n",
      "fluc_1_2_rep2_0h fluc_1_2_0h rep2\n",
      "gcn1_1_2_rep1_6h gcn1_1_2_6h rep1\n",
      "gcn1_1_2_rep2_6h gcn1_1_2_6h rep2\n",
      "gcn1_3_4_rep1_6h gcn1_3_4_6h rep1\n",
      "gcn1_3_4_rep2_6h gcn1_3_4_6h rep2\n",
      "fluc_1_2_rep1_6h fluc_1_2_6h rep1\n",
      "fluc_1_2_rep2_6h fluc_1_2_6h rep2\n"
     ]
    }
   ],
   "source": [
    "col_data <- colnames(count_data) %>% \n",
    "  as_tibble_col(\"sample_name\") %>% \n",
    "  separate(sample_name, c(\"ko\", \"sgrna1\", \"sgrna2\", \"rep\", \"time\"), remove=F) %>%\n",
    "  unite(sample, ko, sgrna1, sgrna2, time, sep = \"_\") %>%\n",
    "  column_to_rownames(\"sample_name\") %>%\n",
    "  print()"
   ]
  },
  {
   "cell_type": "markdown",
   "metadata": {},
   "source": [
    "## Run DESeq2 for GCN1-Harringtonine experiment\n"
   ]
  },
  {
   "cell_type": "code",
   "execution_count": null,
   "metadata": {
    "vscode": {
     "languageId": "r"
    }
   },
   "outputs": [
    {
     "name": "stderr",
     "output_type": "stream",
     "text": [
      "converting counts to integer mode\n",
      "\n"
     ]
    },
    {
     "name": "stderr",
     "output_type": "stream",
     "text": [
      "estimating size factors\n",
      "\n",
      "estimating dispersions\n",
      "\n",
      "gene-wise dispersion estimates\n",
      "\n",
      "mean-dispersion relationship\n",
      "\n",
      "final dispersion estimates\n",
      "\n",
      "fitting model and testing\n",
      "\n"
     ]
    }
   ],
   "source": [
    "dds <- DESeqDataSetFromMatrix(countData = count_data, colData = col_data, design = ~ sample)\n",
    "dds <- DESeq(dds)"
   ]
  },
  {
   "cell_type": "markdown",
   "metadata": {},
   "source": [
    "## Get DESeq2 results for GCN1-Harringtonine experiment"
   ]
  },
  {
   "cell_type": "code",
   "execution_count": null,
   "metadata": {
    "vscode": {
     "languageId": "r"
    }
   },
   "outputs": [
    {
     "data": {
      "text/html": [
       "<style>\n",
       ".list-inline {list-style: none; margin:0; padding: 0}\n",
       ".list-inline>li {display: inline-block}\n",
       ".list-inline>li:not(:last-child)::after {content: \"\\00b7\"; padding: 0 .5ex}\n",
       "</style>\n",
       "<ol class=list-inline><li>'Intercept'</li><li>'sample_fluc_1_2_6h_vs_fluc_1_2_0h'</li><li>'sample_gcn1_1_2_0h_vs_fluc_1_2_0h'</li><li>'sample_gcn1_1_2_6h_vs_fluc_1_2_0h'</li><li>'sample_gcn1_3_4_0h_vs_fluc_1_2_0h'</li><li>'sample_gcn1_3_4_6h_vs_fluc_1_2_0h'</li></ol>\n"
      ],
      "text/latex": [
       "\\begin{enumerate*}\n",
       "\\item 'Intercept'\n",
       "\\item 'sample\\_fluc\\_1\\_2\\_6h\\_vs\\_fluc\\_1\\_2\\_0h'\n",
       "\\item 'sample\\_gcn1\\_1\\_2\\_0h\\_vs\\_fluc\\_1\\_2\\_0h'\n",
       "\\item 'sample\\_gcn1\\_1\\_2\\_6h\\_vs\\_fluc\\_1\\_2\\_0h'\n",
       "\\item 'sample\\_gcn1\\_3\\_4\\_0h\\_vs\\_fluc\\_1\\_2\\_0h'\n",
       "\\item 'sample\\_gcn1\\_3\\_4\\_6h\\_vs\\_fluc\\_1\\_2\\_0h'\n",
       "\\end{enumerate*}\n"
      ],
      "text/markdown": [
       "1. 'Intercept'\n",
       "2. 'sample_fluc_1_2_6h_vs_fluc_1_2_0h'\n",
       "3. 'sample_gcn1_1_2_0h_vs_fluc_1_2_0h'\n",
       "4. 'sample_gcn1_1_2_6h_vs_fluc_1_2_0h'\n",
       "5. 'sample_gcn1_3_4_0h_vs_fluc_1_2_0h'\n",
       "6. 'sample_gcn1_3_4_6h_vs_fluc_1_2_0h'\n",
       "\n",
       "\n"
      ],
      "text/plain": [
       "[1] \"Intercept\"                         \"sample_fluc_1_2_6h_vs_fluc_1_2_0h\"\n",
       "[3] \"sample_gcn1_1_2_0h_vs_fluc_1_2_0h\" \"sample_gcn1_1_2_6h_vs_fluc_1_2_0h\"\n",
       "[5] \"sample_gcn1_3_4_0h_vs_fluc_1_2_0h\" \"sample_gcn1_3_4_6h_vs_fluc_1_2_0h\""
      ]
     },
     "metadata": {},
     "output_type": "display_data"
    }
   ],
   "source": [
    "resultsNames(dds)"
   ]
  },
  {
   "cell_type": "markdown",
   "metadata": {},
   "source": [
    "## Write sgFLUC fold changes upon Harringtonine treatment to file"
   ]
  },
  {
   "cell_type": "code",
   "execution_count": null,
   "metadata": {
    "vscode": {
     "languageId": "r"
    }
   },
   "outputs": [
    {
     "name": "stdout",
     "output_type": "stream",
     "text": [
      "\u001b[90m# A tibble: 9,926 × 8\u001b[39m\n",
      "   gene_id         baseMean   lfc lfcSE  stat pvalue      padj gene_name\n",
      "   \u001b[3m\u001b[90m<chr>\u001b[39m\u001b[23m              \u001b[3m\u001b[90m<dbl>\u001b[39m\u001b[23m \u001b[3m\u001b[90m<dbl>\u001b[39m\u001b[23m \u001b[3m\u001b[90m<dbl>\u001b[39m\u001b[23m \u001b[3m\u001b[90m<dbl>\u001b[39m\u001b[23m  \u001b[3m\u001b[90m<dbl>\u001b[39m\u001b[23m     \u001b[3m\u001b[90m<dbl>\u001b[39m\u001b[23m \u001b[3m\u001b[90m<chr>\u001b[39m\u001b[23m    \n",
      "\u001b[90m 1\u001b[39m ENSG00000265972   \u001b[4m1\u001b[24m269.   2.95 0.16  18.5       0 6.20\u001b[90me\u001b[39m\u001b[31m- 73\u001b[39m TXNIP    \n",
      "\u001b[90m 2\u001b[39m ENSG00000163659   \u001b[4m1\u001b[24m002.   2.84 0.319  8.89      0 3.94\u001b[90me\u001b[39m\u001b[31m- 17\u001b[39m TIPARP   \n",
      "\u001b[90m 3\u001b[39m ENSG00000110031     94.6  2.73 0.297  9.18      0 3.14\u001b[90me\u001b[39m\u001b[31m- 18\u001b[39m LPXN     \n",
      "\u001b[90m 4\u001b[39m ENSG00000155090    811.   2.70 0.148 18.3       0 3.70\u001b[90me\u001b[39m\u001b[31m- 71\u001b[39m KLF10    \n",
      "\u001b[90m 5\u001b[39m ENSG00000114315   \u001b[4m1\u001b[24m954.   2.69 0.124 21.8       0 3.59\u001b[90me\u001b[39m\u001b[31m-101\u001b[39m HES1     \n",
      "\u001b[90m 6\u001b[39m ENSG00000277149    136.   2.58 0.262  9.85      0 6.32\u001b[90me\u001b[39m\u001b[31m- 21\u001b[39m TYW1B    \n",
      "\u001b[90m 7\u001b[39m ENSG00000083817    144.   2.56 0.253 10.1       0 6.01\u001b[90me\u001b[39m\u001b[31m- 22\u001b[39m ZNF416   \n",
      "\u001b[90m 8\u001b[39m ENSG00000204947    169.   2.47 0.23  10.7       0 9.89\u001b[90me\u001b[39m\u001b[31m- 25\u001b[39m ZNF425   \n",
      "\u001b[90m 9\u001b[39m ENSG00000170631    179.   2.43 0.232 10.5       0 1.13\u001b[90me\u001b[39m\u001b[31m- 23\u001b[39m ZNF16    \n",
      "\u001b[90m10\u001b[39m ENSG00000180573    438.   2.42 0.23  10.5       0 8.02\u001b[90me\u001b[39m\u001b[31m- 24\u001b[39m H2AC6    \n",
      "\u001b[90m# … with 9,916 more rows\u001b[39m\n"
     ]
    }
   ],
   "source": [
    "results(dds, \n",
    "    contrast = c(\"sample\", \"fluc_1_2_6h\", \"fluc_1_2_0h\")) %>%\n",
    "  as.data.frame() %>% \n",
    "  dplyr::rename(lfc = log2FoldChange) %>%\n",
    "  mutate(across(baseMean:pvalue, . %>% round(3))) %>% \n",
    "  arrange(-lfc) %>%\n",
    "  rownames_to_column(\"gene_id\") %>%\n",
    "  as_tibble() %>%\n",
    "  inner_join(gene_annotations %>% select(gene_id, gene_name), by = \"gene_id\") %>%\n",
    "  write_csv(\"../tables/sgfluc_1_2.6hvs0h.deseq2.csv\") %>%\n",
    "  print()"
   ]
  },
  {
   "cell_type": "markdown",
   "metadata": {},
   "source": [
    "## Write sgGCN1_1_2 fold changes upon Harringtonine treatment to file"
   ]
  },
  {
   "cell_type": "code",
   "execution_count": null,
   "metadata": {
    "vscode": {
     "languageId": "r"
    }
   },
   "outputs": [
    {
     "name": "stdout",
     "output_type": "stream",
     "text": [
      "\u001b[90m# A tibble: 9,926 × 8\u001b[39m\n",
      "   gene_id         baseMean   lfc lfcSE  stat pvalue      padj gene_name\n",
      "   \u001b[3m\u001b[90m<chr>\u001b[39m\u001b[23m              \u001b[3m\u001b[90m<dbl>\u001b[39m\u001b[23m \u001b[3m\u001b[90m<dbl>\u001b[39m\u001b[23m \u001b[3m\u001b[90m<dbl>\u001b[39m\u001b[23m \u001b[3m\u001b[90m<dbl>\u001b[39m\u001b[23m  \u001b[3m\u001b[90m<dbl>\u001b[39m\u001b[23m     \u001b[3m\u001b[90m<dbl>\u001b[39m\u001b[23m \u001b[3m\u001b[90m<chr>\u001b[39m\u001b[23m    \n",
      "\u001b[90m 1\u001b[39m ENSG00000120738    \u001b[4m7\u001b[24m360.  7.56 0.183 41.2       0 0   \u001b[90m \u001b[39m     EGR1     \n",
      "\u001b[90m 2\u001b[39m ENSG00000170345     791.  6.20 0.252 24.6       0 3.04\u001b[90me\u001b[39m\u001b[31m-130\u001b[39m FOS      \n",
      "\u001b[90m 3\u001b[39m ENSG00000120129    \u001b[4m3\u001b[24m808.  5.14 0.125 41.1       0 0   \u001b[90m \u001b[39m     DUSP1    \n",
      "\u001b[90m 4\u001b[39m ENSG00000162772    \u001b[4m6\u001b[24m515.  5.12 0.119 43.1       0 0   \u001b[90m \u001b[39m     ATF3     \n",
      "\u001b[90m 5\u001b[39m ENSG00000160888    \u001b[4m6\u001b[24m846.  4.96 0.161 30.8       0 5.57\u001b[90me\u001b[39m\u001b[31m-205\u001b[39m IER2     \n",
      "\u001b[90m 6\u001b[39m ENSG00000177606   \u001b[4m2\u001b[24m\u001b[4m3\u001b[24m358.  4.66 0.147 31.7       0 1.94\u001b[90me\u001b[39m\u001b[31m-217\u001b[39m JUN      \n",
      "\u001b[90m 7\u001b[39m ENSG00000184545     492.  3.58 0.417  8.59      0 3.74\u001b[90me\u001b[39m\u001b[31m- 16\u001b[39m DUSP8    \n",
      "\u001b[90m 8\u001b[39m ENSG00000143507     120.  3.57 0.33  10.8       0 3.71\u001b[90me\u001b[39m\u001b[31m- 25\u001b[39m DUSP10   \n",
      "\u001b[90m 9\u001b[39m ENSG00000100604     102.  3.43 0.337 10.2       0 2.11\u001b[90me\u001b[39m\u001b[31m- 22\u001b[39m CHGA     \n",
      "\u001b[90m10\u001b[39m ENSG00000277149     136.  3.2  0.296 10.8       0 3.77\u001b[90me\u001b[39m\u001b[31m- 25\u001b[39m TYW1B    \n",
      "\u001b[90m# … with 9,916 more rows\u001b[39m\n"
     ]
    }
   ],
   "source": [
    "results(dds, \n",
    "    contrast = c(\"sample\", \"gcn1_1_2_6h\", \"gcn1_1_2_0h\")) %>%\n",
    "  as.data.frame() %>% \n",
    "  dplyr::rename(lfc = log2FoldChange) %>%\n",
    "  mutate(across(baseMean:pvalue, . %>% round(3))) %>% \n",
    "  arrange(-lfc) %>%\n",
    "  rownames_to_column(\"gene_id\") %>%\n",
    "  as_tibble() %>%\n",
    "  inner_join(gene_annotations %>% select(gene_id, gene_name), by = \"gene_id\") %>%\n",
    "  write_csv(\"../tables/sggcn1_1_2.6hvs0h.deseq2.csv\") %>%\n",
    "  print()"
   ]
  },
  {
   "cell_type": "markdown",
   "metadata": {},
   "source": [
    "## Write sgGCN1_3_4 fold changes upon Harringtonine treatment to file"
   ]
  },
  {
   "cell_type": "code",
   "execution_count": null,
   "metadata": {
    "vscode": {
     "languageId": "r"
    }
   },
   "outputs": [
    {
     "name": "stdout",
     "output_type": "stream",
     "text": [
      "\u001b[90m# A tibble: 9,926 × 8\u001b[39m\n",
      "   gene_id         baseMean   lfc lfcSE  stat pvalue      padj gene_name\n",
      "   \u001b[3m\u001b[90m<chr>\u001b[39m\u001b[23m              \u001b[3m\u001b[90m<dbl>\u001b[39m\u001b[23m \u001b[3m\u001b[90m<dbl>\u001b[39m\u001b[23m \u001b[3m\u001b[90m<dbl>\u001b[39m\u001b[23m \u001b[3m\u001b[90m<dbl>\u001b[39m\u001b[23m  \u001b[3m\u001b[90m<dbl>\u001b[39m\u001b[23m     \u001b[3m\u001b[90m<dbl>\u001b[39m\u001b[23m \u001b[3m\u001b[90m<chr>\u001b[39m\u001b[23m    \n",
      "\u001b[90m 1\u001b[39m ENSG00000120738    \u001b[4m7\u001b[24m360.  7.87 0.183 43.0       0 0   \u001b[90m \u001b[39m     EGR1     \n",
      "\u001b[90m 2\u001b[39m ENSG00000170345     791.  6.16 0.222 27.7       0 8.00\u001b[90me\u001b[39m\u001b[31m-166\u001b[39m FOS      \n",
      "\u001b[90m 3\u001b[39m ENSG00000162772    \u001b[4m6\u001b[24m515.  5.40 0.117 46.1       0 0   \u001b[90m \u001b[39m     ATF3     \n",
      "\u001b[90m 4\u001b[39m ENSG00000160888    \u001b[4m6\u001b[24m846.  5.30 0.161 33.0       0 4.30\u001b[90me\u001b[39m\u001b[31m-235\u001b[39m IER2     \n",
      "\u001b[90m 5\u001b[39m ENSG00000120129    \u001b[4m3\u001b[24m808.  5.06 0.117 43.1       0 0   \u001b[90m \u001b[39m     DUSP1    \n",
      "\u001b[90m 6\u001b[39m ENSG00000177606   \u001b[4m2\u001b[24m\u001b[4m3\u001b[24m358.  4.78 0.147 32.6       0 4.77\u001b[90me\u001b[39m\u001b[31m-230\u001b[39m JUN      \n",
      "\u001b[90m 7\u001b[39m ENSG00000180573     438.  3.95 0.242 16.3       0 3.18\u001b[90me\u001b[39m\u001b[31m- 57\u001b[39m H2AC6    \n",
      "\u001b[90m 8\u001b[39m ENSG00000184545     492.  3.86 0.418  9.24      0 1.23\u001b[90me\u001b[39m\u001b[31m- 18\u001b[39m DUSP8    \n",
      "\u001b[90m 9\u001b[39m ENSG00000130522    \u001b[4m2\u001b[24m174.  3.51 0.298 11.8       0 9.06\u001b[90me\u001b[39m\u001b[31m- 30\u001b[39m JUND     \n",
      "\u001b[90m10\u001b[39m ENSG00000143507     120.  3.47 0.295 11.8       0 8.93\u001b[90me\u001b[39m\u001b[31m- 30\u001b[39m DUSP10   \n",
      "\u001b[90m# … with 9,916 more rows\u001b[39m\n"
     ]
    }
   ],
   "source": [
    "results(dds, \n",
    "    contrast = c(\"sample\", \"gcn1_3_4_6h\", \"gcn1_3_4_0h\")) %>%\n",
    "  as.data.frame() %>% \n",
    "  dplyr::rename(lfc = log2FoldChange) %>%\n",
    "  mutate(across(baseMean:pvalue, . %>% round(3))) %>% \n",
    "  arrange(-lfc) %>%\n",
    "  rownames_to_column(\"gene_id\") %>%\n",
    "  as_tibble() %>%\n",
    "  inner_join(gene_annotations %>% select(gene_id, gene_name), by = \"gene_id\") %>%\n",
    "  write_csv(\"../tables/sggcn1_3_4.6hvs0h.deseq2.csv\") %>%\n",
    "  print()"
   ]
  },
  {
   "cell_type": "markdown",
   "metadata": {},
   "source": [
    "## Write sgGCN1_1_2/sgFLuc fold changes at time 0 to file"
   ]
  },
  {
   "cell_type": "code",
   "execution_count": null,
   "metadata": {
    "vscode": {
     "languageId": "r"
    }
   },
   "outputs": [
    {
     "name": "stdout",
     "output_type": "stream",
     "text": [
      "\u001b[90m# A tibble: 9,926 × 8\u001b[39m\n",
      "   gene_id         baseMean   lfc lfcSE  stat pvalue         padj gene_name\n",
      "   \u001b[3m\u001b[90m<chr>\u001b[39m\u001b[23m              \u001b[3m\u001b[90m<dbl>\u001b[39m\u001b[23m \u001b[3m\u001b[90m<dbl>\u001b[39m\u001b[23m \u001b[3m\u001b[90m<dbl>\u001b[39m\u001b[23m \u001b[3m\u001b[90m<dbl>\u001b[39m\u001b[23m  \u001b[3m\u001b[90m<dbl>\u001b[39m\u001b[23m        \u001b[3m\u001b[90m<dbl>\u001b[39m\u001b[23m \u001b[3m\u001b[90m<chr>\u001b[39m\u001b[23m    \n",
      "\u001b[90m 1\u001b[39m ENSG00000125740    111.   1.64 0.374  4.38  0     0.006\u001b[4m3\u001b[24m\u001b[4m5\u001b[24m      FOSB     \n",
      "\u001b[90m 2\u001b[39m ENSG00000174307     96.9  1.58 0.365  4.31  0     0.008\u001b[4m0\u001b[24m\u001b[4m0\u001b[24m      PHLDA3   \n",
      "\u001b[90m 3\u001b[39m ENSG00000120738   \u001b[4m7\u001b[24m360.   1.44 0.239  6.02  0     0.000\u001b[4m0\u001b[24m\u001b[4m0\u001b[24m\u001b[4m5\u001b[24m93   EGR1     \n",
      "\u001b[90m 4\u001b[39m ENSG00000170345    791.   1.32 0.387  3.41  0.001 0.088\u001b[4m4\u001b[24m       FOS      \n",
      "\u001b[90m 5\u001b[39m ENSG00000198576    159.   1.30 0.327  3.98  0     0.021\u001b[4m0\u001b[24m       ARC      \n",
      "\u001b[90m 6\u001b[39m ENSG00000167619    118.   1.28 0.257  4.98  0     0.000\u001b[4m9\u001b[24m\u001b[4m9\u001b[24m\u001b[4m5\u001b[24m     TMEM145  \n",
      "\u001b[90m 7\u001b[39m ENSG00000102195    986.   1.26 0.185  6.82  0     0.000\u001b[4m0\u001b[24m\u001b[4m0\u001b[24m\u001b[4m0\u001b[24m047\u001b[4m6\u001b[24m GPR50    \n",
      "\u001b[90m 8\u001b[39m ENSG00000171617    100.   1.17 0.299  3.90  0     0.026\u001b[4m2\u001b[24m       ENC1     \n",
      "\u001b[90m 9\u001b[39m ENSG00000160469    117.   1.14 0.282  4.05  0     0.020\u001b[4m1\u001b[24m       BRSK1    \n",
      "\u001b[90m10\u001b[39m ENSG00000109063     86.8  1.11 0.332  3.35  0.001 0.098\u001b[4m7\u001b[24m       MYH3     \n",
      "\u001b[90m# … with 9,916 more rows\u001b[39m\n"
     ]
    }
   ],
   "source": [
    "results(dds, \n",
    "    contrast = c(\"sample\", \"gcn1_1_2_0h\", \"fluc_1_2_0h\")) %>%\n",
    "  as.data.frame() %>% \n",
    "  dplyr::rename(lfc = log2FoldChange) %>%\n",
    "  mutate(across(baseMean:pvalue, . %>% round(3))) %>% \n",
    "  arrange(-lfc) %>%\n",
    "  rownames_to_column(\"gene_id\") %>%\n",
    "  as_tibble() %>%\n",
    "  inner_join(gene_annotations %>% select(gene_id, gene_name), by = \"gene_id\") %>%\n",
    "  write_csv(\"../tables/sggcn1_1_2_vs_sgfluc_1_2.0h.deseq2.csv\") %>%\n",
    "  print()"
   ]
  },
  {
   "cell_type": "markdown",
   "metadata": {},
   "source": [
    "## Write sgGCN1_3_4/sgFLuc fold changes at time 0 to file"
   ]
  },
  {
   "cell_type": "code",
   "execution_count": null,
   "metadata": {
    "vscode": {
     "languageId": "r"
    }
   },
   "outputs": [
    {
     "name": "stdout",
     "output_type": "stream",
     "text": [
      "\u001b[90m# A tibble: 9,926 × 8\u001b[39m\n",
      "   gene_id         baseMean   lfc lfcSE  stat pvalue      padj gene_name\n",
      "   \u001b[3m\u001b[90m<chr>\u001b[39m\u001b[23m              \u001b[3m\u001b[90m<dbl>\u001b[39m\u001b[23m \u001b[3m\u001b[90m<dbl>\u001b[39m\u001b[23m \u001b[3m\u001b[90m<dbl>\u001b[39m\u001b[23m \u001b[3m\u001b[90m<dbl>\u001b[39m\u001b[23m  \u001b[3m\u001b[90m<dbl>\u001b[39m\u001b[23m     \u001b[3m\u001b[90m<dbl>\u001b[39m\u001b[23m \u001b[3m\u001b[90m<chr>\u001b[39m\u001b[23m    \n",
      "\u001b[90m 1\u001b[39m ENSG00000170345    791.  1.53  0.368  4.17  0     0.019\u001b[4m7\u001b[24m    FOS      \n",
      "\u001b[90m 2\u001b[39m ENSG00000198576    159.  1.44  0.317  4.52  0     0.006\u001b[4m3\u001b[24m\u001b[4m1\u001b[24m   ARC      \n",
      "\u001b[90m 3\u001b[39m ENSG00000125740    111.  1.37  0.372  3.69  0     0.079\u001b[4m3\u001b[24m    FOSB     \n",
      "\u001b[90m 4\u001b[39m ENSG00000102195    986.  1.09  0.183  5.94  0     0.000\u001b[4m0\u001b[24m\u001b[4m1\u001b[24m\u001b[4m5\u001b[24m0 GPR50    \n",
      "\u001b[90m 5\u001b[39m ENSG00000120738   \u001b[4m7\u001b[24m360.  1.08  0.239  4.53  0     0.006\u001b[4m3\u001b[24m\u001b[4m1\u001b[24m   EGR1     \n",
      "\u001b[90m 6\u001b[39m ENSG00000134070     93.4 0.995 0.301  3.31  0.001 0.255     IRAK2    \n",
      "\u001b[90m 7\u001b[39m ENSG00000165548    103.  0.968 0.262  3.70  0     0.079\u001b[4m3\u001b[24m    TMEM63C  \n",
      "\u001b[90m 8\u001b[39m ENSG00000167619    118.  0.908 0.257  3.53  0     0.139     TMEM145  \n",
      "\u001b[90m 9\u001b[39m ENSG00000134504    270.  0.874 0.188  4.65  0     0.005\u001b[4m6\u001b[24m\u001b[4m5\u001b[24m   KCTD1    \n",
      "\u001b[90m10\u001b[39m ENSG00000125845    204.  0.862 0.194  4.44  0     0.007\u001b[4m8\u001b[24m\u001b[4m0\u001b[24m   BMP2     \n",
      "\u001b[90m# … with 9,916 more rows\u001b[39m\n"
     ]
    }
   ],
   "source": [
    "results(dds, \n",
    "    contrast = c(\"sample\", \"gcn1_3_4_0h\", \"fluc_1_2_0h\")) %>%\n",
    "  as.data.frame() %>% \n",
    "  dplyr::rename(lfc = log2FoldChange) %>%\n",
    "  mutate(across(baseMean:pvalue, . %>% round(3))) %>% \n",
    "  arrange(-lfc) %>%\n",
    "  rownames_to_column(\"gene_id\") %>%\n",
    "  as_tibble() %>%\n",
    "  inner_join(gene_annotations %>% select(gene_id, gene_name), by = \"gene_id\") %>%\n",
    "  write_csv(\"../tables/sggcn1_3_4_vs_sgfluc_1_2.0h.deseq2.csv\") %>%\n",
    "  print()"
   ]
  },
  {
   "cell_type": "markdown",
   "metadata": {},
   "source": [
    "## Write sgGCN1_1_2/sgFLuc fold changes at time 6h to file"
   ]
  },
  {
   "cell_type": "code",
   "execution_count": null,
   "metadata": {
    "vscode": {
     "languageId": "r"
    }
   },
   "outputs": [
    {
     "name": "stdout",
     "output_type": "stream",
     "text": [
      "\u001b[90m# A tibble: 9,926 × 8\u001b[39m\n",
      "   gene_id         baseMean   lfc lfcSE  stat pvalue      padj gene_name\n",
      "   \u001b[3m\u001b[90m<chr>\u001b[39m\u001b[23m              \u001b[3m\u001b[90m<dbl>\u001b[39m\u001b[23m \u001b[3m\u001b[90m<dbl>\u001b[39m\u001b[23m \u001b[3m\u001b[90m<dbl>\u001b[39m\u001b[23m \u001b[3m\u001b[90m<dbl>\u001b[39m\u001b[23m  \u001b[3m\u001b[90m<dbl>\u001b[39m\u001b[23m     \u001b[3m\u001b[90m<dbl>\u001b[39m\u001b[23m \u001b[3m\u001b[90m<chr>\u001b[39m\u001b[23m    \n",
      "\u001b[90m 1\u001b[39m ENSG00000120738    \u001b[4m7\u001b[24m360.  7.34 0.17  43.2       0 0   \u001b[90m \u001b[39m     EGR1     \n",
      "\u001b[90m 2\u001b[39m ENSG00000170345     791.  5.69 0.201 28.3       0 2.80\u001b[90me\u001b[39m\u001b[31m-173\u001b[39m FOS      \n",
      "\u001b[90m 3\u001b[39m ENSG00000102195     986.  4.69 0.174 26.9       0 3.08\u001b[90me\u001b[39m\u001b[31m-156\u001b[39m GPR50    \n",
      "\u001b[90m 4\u001b[39m ENSG00000162772    \u001b[4m6\u001b[24m515.  4.50 0.112 40.0       0 0   \u001b[90m \u001b[39m     ATF3     \n",
      "\u001b[90m 5\u001b[39m ENSG00000198576     159.  4.28 0.298 14.4       0 4.30\u001b[90me\u001b[39m\u001b[31m- 44\u001b[39m ARC      \n",
      "\u001b[90m 6\u001b[39m ENSG00000125740     111.  3.71 0.303 12.2       0 9.99\u001b[90me\u001b[39m\u001b[31m- 32\u001b[39m FOSB     \n",
      "\u001b[90m 7\u001b[39m ENSG00000160888    \u001b[4m6\u001b[24m846.  3.71 0.156 23.8       0 7.32\u001b[90me\u001b[39m\u001b[31m-122\u001b[39m IER2     \n",
      "\u001b[90m 8\u001b[39m ENSG00000120129    \u001b[4m3\u001b[24m808.  3.57 0.109 32.7       0 3.93\u001b[90me\u001b[39m\u001b[31m-231\u001b[39m DUSP1    \n",
      "\u001b[90m 9\u001b[39m ENSG00000177606   \u001b[4m2\u001b[24m\u001b[4m3\u001b[24m358.  3.01 0.146 20.7       0 1.13\u001b[90me\u001b[39m\u001b[31m- 91\u001b[39m JUN      \n",
      "\u001b[90m10\u001b[39m ENSG00000100604     102.  2.70 0.284  9.51      0 4.74\u001b[90me\u001b[39m\u001b[31m- 19\u001b[39m CHGA     \n",
      "\u001b[90m# … with 9,916 more rows\u001b[39m\n"
     ]
    }
   ],
   "source": [
    "results(dds, \n",
    "    contrast = c(\"sample\", \"gcn1_1_2_6h\", \"fluc_1_2_6h\")) %>%\n",
    "  as.data.frame() %>% \n",
    "  dplyr::rename(lfc = log2FoldChange) %>%\n",
    "  mutate(across(baseMean:pvalue, . %>% round(3))) %>% \n",
    "  arrange(-lfc) %>%\n",
    "  rownames_to_column(\"gene_id\") %>%\n",
    "  as_tibble() %>%\n",
    "  inner_join(gene_annotations %>% select(gene_id, gene_name), by = \"gene_id\") %>%\n",
    "  write_csv(\"../tables/sggcn1_1_2_vs_sgfluc_1_2.6h.deseq2.csv\") %>%\n",
    "  print()"
   ]
  },
  {
   "cell_type": "markdown",
   "metadata": {},
   "source": [
    "## Write sgGCN1_3_4/sgFLuc fold changes at time 6 to file"
   ]
  },
  {
   "cell_type": "code",
   "execution_count": null,
   "metadata": {
    "vscode": {
     "languageId": "r"
    }
   },
   "outputs": [
    {
     "name": "stdout",
     "output_type": "stream",
     "text": [
      "\u001b[90m# A tibble: 9,926 × 8\u001b[39m\n",
      "   gene_id         baseMean   lfc lfcSE  stat pvalue      padj gene_name\n",
      "   \u001b[3m\u001b[90m<chr>\u001b[39m\u001b[23m              \u001b[3m\u001b[90m<dbl>\u001b[39m\u001b[23m \u001b[3m\u001b[90m<dbl>\u001b[39m\u001b[23m \u001b[3m\u001b[90m<dbl>\u001b[39m\u001b[23m \u001b[3m\u001b[90m<dbl>\u001b[39m\u001b[23m  \u001b[3m\u001b[90m<dbl>\u001b[39m\u001b[23m     \u001b[3m\u001b[90m<dbl>\u001b[39m\u001b[23m \u001b[3m\u001b[90m<chr>\u001b[39m\u001b[23m    \n",
      "\u001b[90m 1\u001b[39m ENSG00000120738    \u001b[4m7\u001b[24m360.  7.29 0.17  43.0       0 0   \u001b[90m \u001b[39m     EGR1     \n",
      "\u001b[90m 2\u001b[39m ENSG00000170345     791.  5.86 0.201 29.2       0 3.75\u001b[90me\u001b[39m\u001b[31m-184\u001b[39m FOS      \n",
      "\u001b[90m 3\u001b[39m ENSG00000102195     986.  4.82 0.174 27.7       0 2.15\u001b[90me\u001b[39m\u001b[31m-165\u001b[39m GPR50    \n",
      "\u001b[90m 4\u001b[39m ENSG00000162772    \u001b[4m6\u001b[24m515.  4.67 0.112 41.5       0 0   \u001b[90m \u001b[39m     ATF3     \n",
      "\u001b[90m 5\u001b[39m ENSG00000198576     159.  4.28 0.298 14.4       0 6.66\u001b[90me\u001b[39m\u001b[31m- 44\u001b[39m ARC      \n",
      "\u001b[90m 6\u001b[39m ENSG00000120129    \u001b[4m3\u001b[24m808.  3.82 0.109 35.1       0 9.09\u001b[90me\u001b[39m\u001b[31m-266\u001b[39m DUSP1    \n",
      "\u001b[90m 7\u001b[39m ENSG00000160888    \u001b[4m6\u001b[24m846.  3.72 0.156 23.8       0 3.58\u001b[90me\u001b[39m\u001b[31m-122\u001b[39m IER2     \n",
      "\u001b[90m 8\u001b[39m ENSG00000125740     111.  3.58 0.305 11.8       0 3.07\u001b[90me\u001b[39m\u001b[31m- 29\u001b[39m FOSB     \n",
      "\u001b[90m 9\u001b[39m ENSG00000177606   \u001b[4m2\u001b[24m\u001b[4m3\u001b[24m358.  3.03 0.146 20.8       0 2.72\u001b[90me\u001b[39m\u001b[31m- 93\u001b[39m JUN      \n",
      "\u001b[90m10\u001b[39m ENSG00000100604     102.  2.66 0.285  9.35      0 2.39\u001b[90me\u001b[39m\u001b[31m- 18\u001b[39m CHGA     \n",
      "\u001b[90m# … with 9,916 more rows\u001b[39m\n"
     ]
    }
   ],
   "source": [
    "results(dds, \n",
    "    contrast = c(\"sample\", \"gcn1_3_4_6h\", \"fluc_1_2_6h\")) %>%\n",
    "  as.data.frame() %>% \n",
    "  dplyr::rename(lfc = log2FoldChange) %>%\n",
    "  mutate(across(baseMean:pvalue, . %>% round(3))) %>% \n",
    "  arrange(-lfc) %>%\n",
    "  rownames_to_column(\"gene_id\") %>%\n",
    "  as_tibble() %>%\n",
    "  inner_join(gene_annotations %>% select(gene_id, gene_name), by = \"gene_id\") %>%\n",
    "  write_csv(\"../tables/sggcn1_3_4_vs_sgfluc_1_2.6h.deseq2.csv\") %>%\n",
    "  print()"
   ]
  },
  {
   "cell_type": "markdown",
   "metadata": {},
   "source": [
    "## Col data for GCN1-Harringtonine experiment with ko:time interaction term\n"
   ]
  },
  {
   "cell_type": "code",
   "execution_count": null,
   "metadata": {
    "vscode": {
     "languageId": "r"
    }
   },
   "outputs": [
    {
     "name": "stdout",
     "output_type": "stream",
     "text": [
      "                   sample  rep time\n",
      "gcn1_1_2_rep1_0h gcn1_1_2 rep1   0h\n",
      "gcn1_1_2_rep2_0h gcn1_1_2 rep2   0h\n",
      "gcn1_3_4_rep1_0h gcn1_3_4 rep1   0h\n",
      "gcn1_3_4_rep2_0h gcn1_3_4 rep2   0h\n",
      "fluc_1_2_rep1_0h fluc_1_2 rep1   0h\n",
      "fluc_1_2_rep2_0h fluc_1_2 rep2   0h\n",
      "gcn1_1_2_rep1_6h gcn1_1_2 rep1   6h\n",
      "gcn1_1_2_rep2_6h gcn1_1_2 rep2   6h\n",
      "gcn1_3_4_rep1_6h gcn1_3_4 rep1   6h\n",
      "gcn1_3_4_rep2_6h gcn1_3_4 rep2   6h\n",
      "fluc_1_2_rep1_6h fluc_1_2 rep1   6h\n",
      "fluc_1_2_rep2_6h fluc_1_2 rep2   6h\n"
     ]
    }
   ],
   "source": [
    "col_data <- colnames(count_data) %>% \n",
    "  as_tibble_col(\"sample_name\") %>% \n",
    "  separate(sample_name, c(\"ko\", \"sgrna1\", \"sgrna2\", \"rep\", \"time\"), remove=F) %>%\n",
    "  unite(sample, ko, sgrna1, sgrna2, sep = \"_\") %>%\n",
    "  column_to_rownames(\"sample_name\") %>%\n",
    "  print()"
   ]
  },
  {
   "cell_type": "markdown",
   "metadata": {},
   "source": [
    "## Run DESeq2 for GCN1-Harringtonine experiment\n"
   ]
  },
  {
   "cell_type": "code",
   "execution_count": null,
   "metadata": {
    "vscode": {
     "languageId": "r"
    }
   },
   "outputs": [
    {
     "name": "stderr",
     "output_type": "stream",
     "text": [
      "converting counts to integer mode\n",
      "\n"
     ]
    },
    {
     "name": "stderr",
     "output_type": "stream",
     "text": [
      "estimating size factors\n",
      "\n",
      "estimating dispersions\n",
      "\n",
      "gene-wise dispersion estimates\n",
      "\n",
      "mean-dispersion relationship\n",
      "\n",
      "final dispersion estimates\n",
      "\n",
      "fitting model and testing\n",
      "\n"
     ]
    }
   ],
   "source": [
    "dds <- DESeqDataSetFromMatrix(countData = count_data, colData = col_data, design = ~ sample + time + sample:time)\n",
    "dds <- DESeq(dds)"
   ]
  },
  {
   "cell_type": "markdown",
   "metadata": {},
   "source": [
    "## Get DESeq2 results for GCN1-Harringtonine experiment"
   ]
  },
  {
   "cell_type": "code",
   "execution_count": null,
   "metadata": {
    "vscode": {
     "languageId": "r"
    }
   },
   "outputs": [
    {
     "data": {
      "text/html": [
       "<style>\n",
       ".list-inline {list-style: none; margin:0; padding: 0}\n",
       ".list-inline>li {display: inline-block}\n",
       ".list-inline>li:not(:last-child)::after {content: \"\\00b7\"; padding: 0 .5ex}\n",
       "</style>\n",
       "<ol class=list-inline><li>'Intercept'</li><li>'sample_gcn1_1_2_vs_fluc_1_2'</li><li>'sample_gcn1_3_4_vs_fluc_1_2'</li><li>'time_6h_vs_0h'</li><li>'samplegcn1_1_2.time6h'</li><li>'samplegcn1_3_4.time6h'</li></ol>\n"
      ],
      "text/latex": [
       "\\begin{enumerate*}\n",
       "\\item 'Intercept'\n",
       "\\item 'sample\\_gcn1\\_1\\_2\\_vs\\_fluc\\_1\\_2'\n",
       "\\item 'sample\\_gcn1\\_3\\_4\\_vs\\_fluc\\_1\\_2'\n",
       "\\item 'time\\_6h\\_vs\\_0h'\n",
       "\\item 'samplegcn1\\_1\\_2.time6h'\n",
       "\\item 'samplegcn1\\_3\\_4.time6h'\n",
       "\\end{enumerate*}\n"
      ],
      "text/markdown": [
       "1. 'Intercept'\n",
       "2. 'sample_gcn1_1_2_vs_fluc_1_2'\n",
       "3. 'sample_gcn1_3_4_vs_fluc_1_2'\n",
       "4. 'time_6h_vs_0h'\n",
       "5. 'samplegcn1_1_2.time6h'\n",
       "6. 'samplegcn1_3_4.time6h'\n",
       "\n",
       "\n"
      ],
      "text/plain": [
       "[1] \"Intercept\"                   \"sample_gcn1_1_2_vs_fluc_1_2\"\n",
       "[3] \"sample_gcn1_3_4_vs_fluc_1_2\" \"time_6h_vs_0h\"              \n",
       "[5] \"samplegcn1_1_2.time6h\"       \"samplegcn1_3_4.time6h\"      "
      ]
     },
     "metadata": {},
     "output_type": "display_data"
    }
   ],
   "source": [
    "resultsNames(dds)"
   ]
  },
  {
   "cell_type": "markdown",
   "metadata": {},
   "source": [
    "## Write sgGCN1_1_2:6hr interaction fold change to file"
   ]
  },
  {
   "cell_type": "code",
   "execution_count": null,
   "metadata": {
    "vscode": {
     "languageId": "r"
    }
   },
   "outputs": [
    {
     "name": "stdout",
     "output_type": "stream",
     "text": [
      "\u001b[90m# A tibble: 9,926 × 8\u001b[39m\n",
      "   gene_id         baseMean   lfc lfcSE  stat pvalue      padj gene_name\n",
      "   \u001b[3m\u001b[90m<chr>\u001b[39m\u001b[23m              \u001b[3m\u001b[90m<dbl>\u001b[39m\u001b[23m \u001b[3m\u001b[90m<dbl>\u001b[39m\u001b[23m \u001b[3m\u001b[90m<dbl>\u001b[39m\u001b[23m \u001b[3m\u001b[90m<dbl>\u001b[39m\u001b[23m  \u001b[3m\u001b[90m<dbl>\u001b[39m\u001b[23m     \u001b[3m\u001b[90m<dbl>\u001b[39m\u001b[23m \u001b[3m\u001b[90m<chr>\u001b[39m\u001b[23m    \n",
      "\u001b[90m 1\u001b[39m ENSG00000120738   \u001b[4m7\u001b[24m360.   5.90 0.293 20.1       0 3.92\u001b[90me\u001b[39m\u001b[31m- 86\u001b[39m EGR1     \n",
      "\u001b[90m 2\u001b[39m ENSG00000170345    791.   4.37 0.436 10.0       0 1.22\u001b[90me\u001b[39m\u001b[31m- 20\u001b[39m FOS      \n",
      "\u001b[90m 3\u001b[39m ENSG00000162772   \u001b[4m6\u001b[24m515.   3.84 0.173 22.2       0 2.03\u001b[90me\u001b[39m\u001b[31m-105\u001b[39m ATF3     \n",
      "\u001b[90m 4\u001b[39m ENSG00000120129   \u001b[4m3\u001b[24m808.   3.52 0.177 19.9       0 2.14\u001b[90me\u001b[39m\u001b[31m- 84\u001b[39m DUSP1    \n",
      "\u001b[90m 5\u001b[39m ENSG00000102195    986.   3.43 0.254 13.5       0 3.82\u001b[90me\u001b[39m\u001b[31m- 38\u001b[39m GPR50    \n",
      "\u001b[90m 6\u001b[39m ENSG00000160888   \u001b[4m6\u001b[24m846.   3.23 0.229 14.1       0 1.33\u001b[90me\u001b[39m\u001b[31m- 41\u001b[39m IER2     \n",
      "\u001b[90m 7\u001b[39m ENSG00000198576    159.   2.98 0.442  6.74      0 6.26\u001b[90me\u001b[39m\u001b[31m-  9\u001b[39m ARC      \n",
      "\u001b[90m 8\u001b[39m ENSG00000177606  \u001b[4m2\u001b[24m\u001b[4m3\u001b[24m358.   2.49 0.208 11.9       0 9.69\u001b[90me\u001b[39m\u001b[31m- 30\u001b[39m JUN      \n",
      "\u001b[90m 9\u001b[39m ENSG00000136997   \u001b[4m1\u001b[24m875.   2.27 0.191 11.9       0 1.86\u001b[90me\u001b[39m\u001b[31m- 29\u001b[39m MYC      \n",
      "\u001b[90m10\u001b[39m ENSG00000213626     97.4  2.25 0.441  5.11      0 5.72\u001b[90me\u001b[39m\u001b[31m-  5\u001b[39m LBH      \n",
      "\u001b[90m# … with 9,916 more rows\u001b[39m\n"
     ]
    }
   ],
   "source": [
    "results(dds, \n",
    "    name = \"samplegcn1_1_2.time6h\") %>%\n",
    "  as.data.frame() %>% \n",
    "  dplyr::rename(lfc = log2FoldChange) %>%\n",
    "  mutate(across(baseMean:pvalue, . %>% round(3))) %>% \n",
    "  arrange(-lfc) %>%\n",
    "  rownames_to_column(\"gene_id\") %>%\n",
    "  as_tibble() %>%\n",
    "  inner_join(gene_annotations %>% select(gene_id, gene_name), by = \"gene_id\") %>%\n",
    "  write_csv(\"../tables/sggcn1_1_2.6h.interaction.deseq2.csv\") %>%\n",
    "  print()"
   ]
  },
  {
   "cell_type": "markdown",
   "metadata": {},
   "source": [
    "## Write sgGCN1_3_4:6hr interaction fold change to file"
   ]
  },
  {
   "cell_type": "code",
   "execution_count": null,
   "metadata": {
    "vscode": {
     "languageId": "r"
    }
   },
   "outputs": [
    {
     "name": "stdout",
     "output_type": "stream",
     "text": [
      "\u001b[90m# A tibble: 9,926 × 8\u001b[39m\n",
      "   gene_id         baseMean   lfc lfcSE  stat pvalue      padj gene_name\n",
      "   \u001b[3m\u001b[90m<chr>\u001b[39m\u001b[23m              \u001b[3m\u001b[90m<dbl>\u001b[39m\u001b[23m \u001b[3m\u001b[90m<dbl>\u001b[39m\u001b[23m \u001b[3m\u001b[90m<dbl>\u001b[39m\u001b[23m \u001b[3m\u001b[90m<dbl>\u001b[39m\u001b[23m  \u001b[3m\u001b[90m<dbl>\u001b[39m\u001b[23m     \u001b[3m\u001b[90m<dbl>\u001b[39m\u001b[23m \u001b[3m\u001b[90m<chr>\u001b[39m\u001b[23m    \n",
      "\u001b[90m 1\u001b[39m ENSG00000120738   \u001b[4m7\u001b[24m360.   6.21 0.293 21.2       0 8.84\u001b[90me\u001b[39m\u001b[31m- 96\u001b[39m EGR1     \n",
      "\u001b[90m 2\u001b[39m ENSG00000170345    791.   4.32 0.419 10.3       0 5.17\u001b[90me\u001b[39m\u001b[31m- 22\u001b[39m FOS      \n",
      "\u001b[90m 3\u001b[39m ENSG00000162772   \u001b[4m6\u001b[24m515.   4.12 0.172 24.0       0 1.76\u001b[90me\u001b[39m\u001b[31m-123\u001b[39m ATF3     \n",
      "\u001b[90m 4\u001b[39m ENSG00000102195    986.   3.74 0.253 14.8       0 5.00\u001b[90me\u001b[39m\u001b[31m- 46\u001b[39m GPR50    \n",
      "\u001b[90m 5\u001b[39m ENSG00000160888   \u001b[4m6\u001b[24m846.   3.57 0.229 15.6       0 2.17\u001b[90me\u001b[39m\u001b[31m- 51\u001b[39m IER2     \n",
      "\u001b[90m 6\u001b[39m ENSG00000120129   \u001b[4m3\u001b[24m808.   3.44 0.172 20.0       0 8.56\u001b[90me\u001b[39m\u001b[31m- 86\u001b[39m DUSP1    \n",
      "\u001b[90m 7\u001b[39m ENSG00000198576    159.   2.84 0.435  6.53      0 2.05\u001b[90me\u001b[39m\u001b[31m-  8\u001b[39m ARC      \n",
      "\u001b[90m 8\u001b[39m ENSG00000177606  \u001b[4m2\u001b[24m\u001b[4m3\u001b[24m358.   2.61 0.208 12.5       0 6.49\u001b[90me\u001b[39m\u001b[31m- 33\u001b[39m JUN      \n",
      "\u001b[90m 9\u001b[39m ENSG00000213626     97.4  2.47 0.438  5.62      0 3.99\u001b[90me\u001b[39m\u001b[31m-  6\u001b[39m LBH      \n",
      "\u001b[90m10\u001b[39m ENSG00000136997   \u001b[4m1\u001b[24m875.   2.25 0.19  11.8       0 3.64\u001b[90me\u001b[39m\u001b[31m- 29\u001b[39m MYC      \n",
      "\u001b[90m# … with 9,916 more rows\u001b[39m\n"
     ]
    }
   ],
   "source": [
    "results(dds, \n",
    "    name = \"samplegcn1_3_4.time6h\") %>%\n",
    "  as.data.frame() %>% \n",
    "  dplyr::rename(lfc = log2FoldChange) %>%\n",
    "  mutate(across(baseMean:pvalue, . %>% round(3))) %>% \n",
    "  arrange(-lfc) %>%\n",
    "  rownames_to_column(\"gene_id\") %>%\n",
    "  as_tibble() %>%\n",
    "  inner_join(gene_annotations %>% select(gene_id, gene_name), by = \"gene_id\") %>%\n",
    "  write_csv(\"../tables/sggcn1_3_4.6h.interaction.deseq2.csv\") %>%\n",
    "  print()"
   ]
  },
  {
   "cell_type": "markdown",
   "metadata": {},
   "source": [
    "## Read back DESeq2 results"
   ]
  },
  {
   "cell_type": "code",
   "execution_count": 2,
   "metadata": {
    "vscode": {
     "languageId": "r"
    }
   },
   "outputs": [
    {
     "name": "stdout",
     "output_type": "stream",
     "text": [
      "\u001b[90m# A tibble: 84,321 × 9\u001b[39m\n",
      "   gene_id         gene_name baseMean   lfc lfcSE  stat pvalue     padj compare \n",
      "   \u001b[3m\u001b[90m<chr>\u001b[39m\u001b[23m           \u001b[3m\u001b[90m<chr>\u001b[39m\u001b[23m        \u001b[3m\u001b[90m<dbl>\u001b[39m\u001b[23m \u001b[3m\u001b[90m<dbl>\u001b[39m\u001b[23m \u001b[3m\u001b[90m<dbl>\u001b[39m\u001b[23m \u001b[3m\u001b[90m<dbl>\u001b[39m\u001b[23m  \u001b[3m\u001b[90m<dbl>\u001b[39m\u001b[23m    \u001b[3m\u001b[90m<dbl>\u001b[39m\u001b[23m \u001b[3m\u001b[90m<chr>\u001b[39m\u001b[23m   \n",
      "\u001b[90m 1\u001b[39m ENSG00000282988 \u001b[31mNA\u001b[39m            81.9  8.67 1.46   5.93      0 4.67\u001b[90me\u001b[39m\u001b[31m- 8\u001b[39m sgfluc_…\n",
      "\u001b[90m 2\u001b[39m ENSG00000289720 \u001b[31mNA\u001b[39m           148.   5.18 0.5   10.4       0 6.33\u001b[90me\u001b[39m\u001b[31m-23\u001b[39m sgfluc_…\n",
      "\u001b[90m 3\u001b[39m ENSG00000288632 \u001b[31mNA\u001b[39m            91.4  3.20 0.334  9.57      0 1.23\u001b[90me\u001b[39m\u001b[31m-19\u001b[39m sgfluc_…\n",
      "\u001b[90m 4\u001b[39m ENSG00000285043 \u001b[31mNA\u001b[39m           392.   3.12 0.596  5.23      0 1.72\u001b[90me\u001b[39m\u001b[31m- 6\u001b[39m sgfluc_…\n",
      "\u001b[90m 5\u001b[39m ENSG00000180573 H2AC6        309.   3.08 0.219 14.1       0 2.03\u001b[90me\u001b[39m\u001b[31m-42\u001b[39m sgfluc_…\n",
      "\u001b[90m 6\u001b[39m ENSG00000265972 TXNIP        499.   2.94 0.181 16.2       0 4.25\u001b[90me\u001b[39m\u001b[31m-56\u001b[39m sgfluc_…\n",
      "\u001b[90m 7\u001b[39m ENSG00000163659 TIPARP       426.   2.85 0.206 13.8       0 8.32\u001b[90me\u001b[39m\u001b[31m-41\u001b[39m sgfluc_…\n",
      "\u001b[90m 8\u001b[39m ENSG00000083817 ZNF416       130.   2.74 0.258 10.6       0 4.72\u001b[90me\u001b[39m\u001b[31m-24\u001b[39m sgfluc_…\n",
      "\u001b[90m 9\u001b[39m ENSG00000155090 KLF10        324.   2.73 0.173 15.8       0 3.62\u001b[90me\u001b[39m\u001b[31m-53\u001b[39m sgfluc_…\n",
      "\u001b[90m10\u001b[39m ENSG00000291124 \u001b[31mNA\u001b[39m           209.   2.69 0.202 13.3       0 1.55\u001b[90me\u001b[39m\u001b[31m-37\u001b[39m sgfluc_…\n",
      "\u001b[90m# … with 84,311 more rows\u001b[39m\n"
     ]
    }
   ],
   "source": [
    "lfc <- list.files(\"../tables/\", full.names = T, pattern = \"deseq2\") %>% \n",
    "  as_tibble_col(\"file\") %>%\n",
    "  mutate(data = map(file, ~read_csv(.x, show_col_types = F))) %>%\n",
    "  mutate(compare = str_extract(file, \"[^/]+(?=\\\\.deseq2)\")) %>%\n",
    "  select(-file) %>% \n",
    "  unnest(data) %>% \n",
    "  separate(gene_id, c(\"gene_id\", \"gene_name\"), sep = \"\\\\|\") %>%\n",
    "  print()"
   ]
  },
  {
   "cell_type": "code",
   "execution_count": 10,
   "metadata": {
    "vscode": {
     "languageId": "r"
    }
   },
   "outputs": [
    {
     "data": {
      "text/html": [
       "<table class=\"dataframe\">\n",
       "<caption>A tibble: 9 × 4</caption>\n",
       "<thead>\n",
       "\t<tr><th scope=col>compare</th><th scope=col>down</th><th scope=col>no change</th><th scope=col>up</th></tr>\n",
       "\t<tr><th scope=col>&lt;chr&gt;</th><th scope=col>&lt;int&gt;</th><th scope=col>&lt;int&gt;</th><th scope=col>&lt;int&gt;</th></tr>\n",
       "</thead>\n",
       "<tbody>\n",
       "\t<tr><td>sgfluc_1_2.6hvs0h          </td><td>208</td><td>8598</td><td>425</td></tr>\n",
       "\t<tr><td>sggcn1_1_2_vs_sgfluc_1_2.0h</td><td>  7</td><td>9217</td><td>  7</td></tr>\n",
       "\t<tr><td>sggcn1_1_2_vs_sgfluc_1_2.6h</td><td> 77</td><td>9053</td><td>101</td></tr>\n",
       "\t<tr><td>sggcn1_1_2.6h.interaction  </td><td> 44</td><td>9106</td><td> 81</td></tr>\n",
       "\t<tr><td>sggcn1_1_2.6hvs0h          </td><td>249</td><td>8526</td><td>456</td></tr>\n",
       "\t<tr><td>sggcn1_3_4_vs_sgfluc_1_2.0h</td><td>  1</td><td>9227</td><td>  3</td></tr>\n",
       "\t<tr><td>sggcn1_3_4_vs_sgfluc_1_2.6h</td><td> 26</td><td>9113</td><td> 92</td></tr>\n",
       "\t<tr><td>sggcn1_3_4.6h.interaction  </td><td> 30</td><td>9105</td><td> 96</td></tr>\n",
       "\t<tr><td>sggcn1_3_4.6hvs0h          </td><td>223</td><td>8511</td><td>497</td></tr>\n",
       "</tbody>\n",
       "</table>\n"
      ],
      "text/latex": [
       "A tibble: 9 × 4\n",
       "\\begin{tabular}{llll}\n",
       " compare & down & no change & up\\\\\n",
       " <chr> & <int> & <int> & <int>\\\\\n",
       "\\hline\n",
       "\t sgfluc\\_1\\_2.6hvs0h           & 208 & 8598 & 425\\\\\n",
       "\t sggcn1\\_1\\_2\\_vs\\_sgfluc\\_1\\_2.0h &   7 & 9217 &   7\\\\\n",
       "\t sggcn1\\_1\\_2\\_vs\\_sgfluc\\_1\\_2.6h &  77 & 9053 & 101\\\\\n",
       "\t sggcn1\\_1\\_2.6h.interaction   &  44 & 9106 &  81\\\\\n",
       "\t sggcn1\\_1\\_2.6hvs0h           & 249 & 8526 & 456\\\\\n",
       "\t sggcn1\\_3\\_4\\_vs\\_sgfluc\\_1\\_2.0h &   1 & 9227 &   3\\\\\n",
       "\t sggcn1\\_3\\_4\\_vs\\_sgfluc\\_1\\_2.6h &  26 & 9113 &  92\\\\\n",
       "\t sggcn1\\_3\\_4.6h.interaction   &  30 & 9105 &  96\\\\\n",
       "\t sggcn1\\_3\\_4.6hvs0h           & 223 & 8511 & 497\\\\\n",
       "\\end{tabular}\n"
      ],
      "text/markdown": [
       "\n",
       "A tibble: 9 × 4\n",
       "\n",
       "| compare &lt;chr&gt; | down &lt;int&gt; | no change &lt;int&gt; | up &lt;int&gt; |\n",
       "|---|---|---|---|\n",
       "| sgfluc_1_2.6hvs0h           | 208 | 8598 | 425 |\n",
       "| sggcn1_1_2_vs_sgfluc_1_2.0h |   7 | 9217 |   7 |\n",
       "| sggcn1_1_2_vs_sgfluc_1_2.6h |  77 | 9053 | 101 |\n",
       "| sggcn1_1_2.6h.interaction   |  44 | 9106 |  81 |\n",
       "| sggcn1_1_2.6hvs0h           | 249 | 8526 | 456 |\n",
       "| sggcn1_3_4_vs_sgfluc_1_2.0h |   1 | 9227 |   3 |\n",
       "| sggcn1_3_4_vs_sgfluc_1_2.6h |  26 | 9113 |  92 |\n",
       "| sggcn1_3_4.6h.interaction   |  30 | 9105 |  96 |\n",
       "| sggcn1_3_4.6hvs0h           | 223 | 8511 | 497 |\n",
       "\n"
      ],
      "text/plain": [
       "  compare                     down no change up \n",
       "1 sgfluc_1_2.6hvs0h           208  8598      425\n",
       "2 sggcn1_1_2_vs_sgfluc_1_2.0h   7  9217        7\n",
       "3 sggcn1_1_2_vs_sgfluc_1_2.6h  77  9053      101\n",
       "4 sggcn1_1_2.6h.interaction    44  9106       81\n",
       "5 sggcn1_1_2.6hvs0h           249  8526      456\n",
       "6 sggcn1_3_4_vs_sgfluc_1_2.0h   1  9227        3\n",
       "7 sggcn1_3_4_vs_sgfluc_1_2.6h  26  9113       92\n",
       "8 sggcn1_3_4.6h.interaction    30  9105       96\n",
       "9 sggcn1_3_4.6hvs0h           223  8511      497"
      ]
     },
     "metadata": {},
     "output_type": "display_data"
    }
   ],
   "source": [
    "lfc  %>% \n",
    "  filter(!is.na(gene_name)) %>% \n",
    "  mutate(change = case_when(\n",
    "    lfc > 1 ~ \"up\",\n",
    "    lfc < -1 ~ \"down\",\n",
    "    TRUE ~ \"no change\"\n",
    "  )) %>%\n",
    "  group_by(compare, change) %>%\n",
    "  summarize(n = dplyr::n(), .groups = \"drop\") %>% \n",
    "  pivot_wider(names_from = \"change\", values_from = \"n\")"
   ]
  },
  {
   "cell_type": "markdown",
   "metadata": {},
   "source": [
    "## Volcano plot of RNA-seq fold changes upon Harringtonine treatment"
   ]
  },
  {
   "cell_type": "code",
   "execution_count": 4,
   "metadata": {
    "vscode": {
     "languageId": "r"
    }
   },
   "outputs": [
    {
     "data": {
      "image/png": "[encoded data removed]",
      "text/plain": [
       "plot without title"
      ]
     },
     "metadata": {
      "image/png": {
       "height": 180,
       "width": 420
      }
     },
     "output_type": "display_data"
    }
   ],
   "source": [
    "options(repr.plot.width = 7, repr.plot.height = 3)\n",
    "\n",
    "plot_data <- lfc %>% \n",
    "  filter(compare %in% c(\"sgfluc_1_2.6hvs0h\", \"sggcn1_1_2.6hvs0h\", \"sggcn1_3_4.6hvs0h\")) %>%\n",
    "  mutate(compare = str_extract(compare, \"^[^\\\\.]+\")) %>%\n",
    "  mutate(compare = str_replace(compare, \"sgfluc_1_2\", \"FLUC sgRNA 1,2\")) %>%\n",
    "  mutate(compare = str_replace(compare, \"sggcn1_1_2\", \"GCN1 sgRNA 1,2\")) %>%\n",
    "  mutate(compare = str_replace(compare, \"sggcn1_3_4\", \"GCN1 sgRNA 3,4\")) %>%\n",
    "  mutate(padj = if_else(padj < 1e-50, 1e-50, padj)) %>% \n",
    "  select(compare, padj, lfc, gene_id, gene_name, baseMean, lfcSE) %>% \n",
    "  filter(!is.na(gene_name))\n",
    "\n",
    "subset_data <- plot_data %>% \n",
    "  filter(gene_name %in% gene_subset)\n",
    "\n",
    "plot_data %>% \n",
    "  ggplot(aes(x = lfc, y = -log10(padj))) +\n",
    "  facet_wrap(~compare, ncol = 3) +\n",
    "  geom_point(alpha = 0.2, stroke = NA) +\n",
    "  geom_point(data = subset_data, color = cbPalette[4], size = 2) +\n",
    "  # scale_y_continuous(limits = c(0, 60)) +\n",
    "  ggrepel::geom_text_repel(data = subset_data, aes(label = gene_name), color = cbPalette[3], size = 3, max.overlaps = Inf) +\n",
    "  geom_hline(yintercept = -log10(0.05), linetype = \"dashed\") +\n",
    "  geom_vline(xintercept = c(-1, 1), linetype = \"dashed\") +\n",
    "  labs(x = \"log2 RNA-seq fold change (HHT/CTRL)\", y = \"-log10 adjusted p-value\")\n",
    "\n",
    "ggsave(\"../figures/volcano_plot_hht_treatment_padj_vs_lfc.pdf\", width = 7, height = 3)"
   ]
  },
  {
   "cell_type": "markdown",
   "metadata": {},
   "source": [
    "## Scatter plot of harringtonine fold changes between sgGCN1 and sgFLUC"
   ]
  },
  {
   "cell_type": "code",
   "execution_count": 63,
   "metadata": {
    "vscode": {
     "languageId": "r"
    }
   },
   "outputs": [
    {
     "data": {
      "image/png": "[encoded data removed]",
      "text/plain": [
       "plot without title"
      ]
     },
     "metadata": {
      "image/png": {
       "height": 168,
       "width": 270
      }
     },
     "output_type": "display_data"
    }
   ],
   "source": [
    "options(repr.plot.width = 4.5, repr.plot.height = 2.8)\n",
    "plot_data_2 <- plot_data %>% \n",
    "  # filter(padj < 0.05) %>%\n",
    "  mutate(lfc = if_else(lfc < -5, -5, lfc)) %>%\n",
    "  # mutate(lfc = if_else(lfc > 5, 5, lfc)) %>%\n",
    "  group_by(gene_id) %>% \n",
    "  filter(dplyr::n() == 3) %>%\n",
    "  mutate(lfc_ctrl = lfc[compare == \"FLUC sgRNA 1,2\"]) %>% \n",
    "  ungroup() %>% \n",
    "  filter(compare != \"FLUC sgRNA 1,2\")\n",
    "\n",
    "subset_data_2 <- plot_data_2 %>% \n",
    "  filter(gene_name %in% gene_subset)\n",
    "\n",
    "\n",
    "plot_data_2 %>%\n",
    "  ggplot(aes(x = lfc_ctrl, y = lfc)) +\n",
    "  facet_wrap(~compare, ncol = 2) +\n",
    "  geom_point(alpha = 0.2, color = \"grey\") +\n",
    "  geom_point(data = subset_data_2, stroke = NA, size = 2, color = \"black\") +\n",
    "  ggrepel::geom_text_repel(data = subset_data_2, aes(label = gene_name), color = \"black\", size = 3, max.overlaps = Inf) +\n",
    "  # geom_abline(slope = 1, linetype = \"dashed\") +\n",
    "  geom_hline(yintercept = 0, linetype = \"dashed\") +\n",
    "  geom_vline(xintercept = 0, linetype = \"dashed\") +\n",
    "  labs(x = \"log2 mRNA fold-change (HHT/CTRL)\\nsgFLUC\", y = \"log2 mRNA fold-change (HHT/CTRL)\\nsgGCN1\")\n",
    "\n",
    "ggsave(\"../figures/scatter_plot_hht_treatment_gcn1_vs_fluc.pdf\", width = 4.5, height = 2.8)"
   ]
  },
  {
   "cell_type": "code",
   "execution_count": 16,
   "metadata": {
    "vscode": {
     "languageId": "r"
    }
   },
   "outputs": [
    {
     "data": {
      "image/png": "[encoded data removed]",
      "text/plain": [
       "plot without title"
      ]
     },
     "metadata": {
      "image/png": {
       "height": 120,
       "width": 162
      }
     },
     "output_type": "display_data"
    }
   ],
   "source": [
    "options(repr.plot.width = 2.7, repr.plot.height = 2)\n",
    "\n",
    "plot_data <- lfc %>% \n",
    "  filter(compare %in% c(\"sgfluc_1_2.6hvs0h\", \"sggcn1_1_2.6hvs0h\", \"sggcn1_3_4.6hvs0h\")) %>%\n",
    "  mutate(compare = str_extract(compare, \"^[^\\\\.]+\")) %>%\n",
    "  mutate(compare = str_replace(compare, \"sgfluc_1_2\", \"FLUC\")) %>%\n",
    "  mutate(compare = str_replace(compare, \"sggcn1_1_2\", \"GCN1_1_2\")) %>%\n",
    "  mutate(compare = str_replace(compare, \"sggcn1_3_4\", \"GCN1_3_4\")) %>%\n",
    "  filter(compare != \"GCN1_3_4\") %>% \n",
    "  mutate(sgrna = str_replace(compare, \"GCN1_1_2\", \"GCN1\")) %>%\n",
    "  select(sgrna, padj, lfc, gene_id, gene_name, baseMean, lfcSE) %>% \n",
    "  filter(gene_name %in% gene_subset) %>% \n",
    "  group_by(gene_name) %>% \n",
    "  mutate(order = sum(lfc)) %>% \n",
    "  ungroup() %>% \n",
    "  mutate(gene_name = fct_reorder(gene_name, -order))\n",
    "\n",
    "plot_data %>% \n",
    "  ggplot(aes(x = gene_name, y = lfc, ymin = lfc - lfcSE, ymax = lfc + lfcSE, color = sgrna)) +\n",
    "  geom_point() +\n",
    "  geom_errorbar(width = 0.5) +\n",
    "  theme(axis.text.x = element_text(angle = 45, hjust = 1, size = 8.5), legend.position = \"top\") +\n",
    "  # geom_hline(yintercept = 0, linetype = \"dashed\") +\n",
    "  scale_y_continuous(breaks = c(0,4,8)) +\n",
    "  labs(y = \"log2 mRNA fold-change\\nHHT /  CTRL\", x = \"Gene\")\n",
    "\n",
    "ggsave(\"../figures/ieg_alone_plot_hht_treatment_gcn1_vs_fluc.pdf\", width = 2.7, height = 2)"
   ]
  },
  {
   "cell_type": "markdown",
   "metadata": {},
   "source": [
    "## Scatter plot of harringtonine + GCN1 KO interaction effect for two different GCN1 sgRNA pairs"
   ]
  },
  {
   "cell_type": "code",
   "execution_count": null,
   "metadata": {
    "vscode": {
     "languageId": "r"
    }
   },
   "outputs": [
    {
     "data": {
      "image/png": "[encoded data removed]",
      "text/plain": [
       "plot without title"
      ]
     },
     "metadata": {
      "image/png": {
       "height": 210,
       "width": 210
      }
     },
     "output_type": "display_data"
    }
   ],
   "source": [
    "options(repr.plot.width = 3.5, repr.plot.height = 3.5)\n",
    "\n",
    "plot_data <- lfc %>% \n",
    "  filter(compare %in% c(\"sggcn1_1_2.6h.interaction\", \"sggcn1_3_4.6h.interaction\")) %>%\n",
    "  mutate(compare = str_extract(compare, \"^[^\\\\.]+\")) %>%\n",
    "  select(compare, padj, lfc, gene_id, gene_name, baseMean) %>% \n",
    "  filter(padj < 0.05) %>% \n",
    "  select(-padj) %>% \n",
    "  pivot_wider(names_from = compare, values_from = lfc) %>% \n",
    "  drop_na() %>%\n",
    "  mutate(avg_effect_hht_gcn1 = round((sggcn1_1_2 + sggcn1_3_4)/2, 2)) %>% \n",
    "  arrange(desc(avg_effect_hht_gcn1)) %>%\n",
    "  write_csv(\"../tables/sggcn1_3_4_vs_sggcn1_1_2.6h.interaction.csv\")\n",
    "\n",
    "\n",
    "subset_data <- plot_data %>% \n",
    "  filter(gene_name %in% gene_subset)\n",
    "\n",
    "plot_data %>% \n",
    "  ggplot(aes(x = sggcn1_1_2, y = sggcn1_3_4)) +\n",
    "  geom_point(alpha = 0.2, stroke = NA) +\n",
    "  geom_point(data = subset_data, color = cbPalette[3], size = 2) +\n",
    "  ggrepel::geom_text_repel(data = subset_data, aes(label = gene_name), color = cbPalette[3], size = 3) +\n",
    "  geom_hline(yintercept = 0, linetype = \"dashed\") +\n",
    "  geom_vline(xintercept = 0, linetype = \"dashed\") +\n",
    "  labs(x = \"log2 RNA fold-change \\n HHT/CTRL, GCN1/FLUC sgRNA 1,2\",\n",
    "       y = \"log2 RNA fold-change \\n HHT/CTRL, GCN1/FLUC sgRNA 3,4\")\n",
    "\n",
    "ggsave(\"../figures/interaction_hht_treatment_sggcn1_12_vs_34.pdf\", width = 3.5, height = 3.5)"
   ]
  },
  {
   "cell_type": "code",
   "execution_count": null,
   "metadata": {
    "vscode": {
     "languageId": "r"
    }
   },
   "outputs": [
    {
     "name": "stdout",
     "output_type": "stream",
     "text": [
      "\u001b[90m# A tibble: 267 × 6\u001b[39m\n",
      "   gene_id         gene_name baseMean sggcn1_1_2 sggcn1_3_4 avg_effect_hht_gcn1\n",
      "   \u001b[3m\u001b[90m<chr>\u001b[39m\u001b[23m           \u001b[3m\u001b[90m<chr>\u001b[39m\u001b[23m        \u001b[3m\u001b[90m<dbl>\u001b[39m\u001b[23m      \u001b[3m\u001b[90m<dbl>\u001b[39m\u001b[23m      \u001b[3m\u001b[90m<dbl>\u001b[39m\u001b[23m               \u001b[3m\u001b[90m<dbl>\u001b[39m\u001b[23m\n",
      "\u001b[90m 1\u001b[39m ENSG00000120738 EGR1        \u001b[4m7\u001b[24m360.        5.90       6.21                6.05\n",
      "\u001b[90m 2\u001b[39m ENSG00000170345 FOS          791.        4.37       4.32                4.35\n",
      "\u001b[90m 3\u001b[39m ENSG00000162772 ATF3        \u001b[4m6\u001b[24m515.        3.84       4.12                3.98\n",
      "\u001b[90m 4\u001b[39m ENSG00000102195 GPR50        986.        3.43       3.74                3.58\n",
      "\u001b[90m 5\u001b[39m ENSG00000120129 DUSP1       \u001b[4m3\u001b[24m808.        3.52       3.44                3.48\n",
      "\u001b[90m 6\u001b[39m ENSG00000160888 IER2        \u001b[4m6\u001b[24m846.        3.23       3.57                3.4 \n",
      "\u001b[90m 7\u001b[39m ENSG00000198576 ARC          159.        2.98       2.84                2.91\n",
      "\u001b[90m 8\u001b[39m ENSG00000177606 JUN        \u001b[4m2\u001b[24m\u001b[4m3\u001b[24m358.        2.49       2.61                2.55\n",
      "\u001b[90m 9\u001b[39m ENSG00000213626 LBH           97.4       2.25       2.47                2.36\n",
      "\u001b[90m10\u001b[39m ENSG00000136997 MYC         \u001b[4m1\u001b[24m875.        2.27       2.25                2.26\n",
      "\u001b[90m# … with 257 more rows\u001b[39m\n"
     ]
    }
   ],
   "source": [
    "gcn1_hht_interaction_data <- read_csv(\"../tables/sggcn1_3_4_vs_sggcn1_1_2.6h.interaction.csv\", show_col_types = F) %>%\n",
    "  print()"
   ]
  },
  {
   "cell_type": "markdown",
   "metadata": {},
   "source": [
    "## Extract annotations and sequences for GCN1+HHT selective transcripts"
   ]
  },
  {
   "cell_type": "markdown",
   "metadata": {},
   "source": [
    "### Read ENSEMBL transcript annotations"
   ]
  },
  {
   "cell_type": "code",
   "execution_count": null,
   "metadata": {
    "vscode": {
     "languageId": "r"
    }
   },
   "outputs": [],
   "source": [
    "ensembl <- read_gff(\"../data/ensembl/Homo_sapiens.GRCh38.108.gtf\")"
   ]
  },
  {
   "cell_type": "markdown",
   "metadata": {},
   "source": [
    "## Extract MANE transcript annotations for top 12 GCN1+HHT hits + 3 controls"
   ]
  },
  {
   "cell_type": "code",
   "execution_count": null,
   "metadata": {
    "vscode": {
     "languageId": "r"
    }
   },
   "outputs": [],
   "source": [
    "gcn1_hht_hit_tx <- ensembl %>%\n",
    "  filter(str_detect(tag, \"MANE_Select\")) %>%\n",
    "  filter(type %in% c(\"CDS\", \"five_prime_utr\", \"three_prime_utr\")) %>%\n",
    "  filter(gene_id %in% gcn1_hht_interaction_data$gene_id[1:12] | gene_name %in% c(\"EEF1A1\", \"GAPDH\", \"ACTB\")) %>%\n",
    "  as_tibble() %>%\n",
    "  group_by(gene_id) %>%\n",
    "  arrange(start) %>%\n",
    "  mutate(order = if_else(strand == \"+\", seq(1, dplyr::n()), seq(dplyr::n(), 1))) %>%\n",
    "  arrange(order) %>%\n",
    "  ungroup() %>%\n",
    "  mutate(seqnames = paste0(\"chr\", seqnames)) %>%\n",
    "  GRanges() %>%\n",
    "  print()"
   ]
  },
  {
   "cell_type": "markdown",
   "metadata": {},
   "source": [
    "### Extract UTR5 sequences"
   ]
  },
  {
   "cell_type": "code",
   "execution_count": null,
   "metadata": {
    "vscode": {
     "languageId": "r"
    }
   },
   "outputs": [],
   "source": [
    "utr5_seq <- gcn1_hht_hit_tx  %>%\n",
    "  filter(type == \"five_prime_utr\") %>%\n",
    "  split(.$gene_name) %>%\n",
    "  GenomicFeatures::extractTranscriptSeqs(BSgenome.Hsapiens.UCSC.hg38::BSgenome.Hsapiens.UCSC.hg38, .)"
   ]
  },
  {
   "cell_type": "markdown",
   "metadata": {},
   "source": [
    "### Extract CDS"
   ]
  },
  {
   "cell_type": "code",
   "execution_count": null,
   "metadata": {
    "vscode": {
     "languageId": "r"
    }
   },
   "outputs": [],
   "source": [
    "cds_seq <- gcn1_hht_hit_tx  %>%\n",
    "  filter(type == \"CDS\") %>%\n",
    "  split(.$gene_name) %>%\n",
    "  GenomicFeatures::extractTranscriptSeqs(BSgenome.Hsapiens.UCSC.hg38::BSgenome.Hsapiens.UCSC.hg38, .)"
   ]
  },
  {
   "cell_type": "markdown",
   "metadata": {},
   "source": [
    "### Concatenate UTR5 and first 150 nt of CDS and write to file"
   ]
  },
  {
   "cell_type": "code",
   "execution_count": null,
   "metadata": {
    "vscode": {
     "languageId": "r"
    }
   },
   "outputs": [],
   "source": [
    "utr5_cds100_seq <- cds_seq %>% \n",
    "  Biostrings::subseq(start = 1, width = 150) %>%\n",
    "  Biostrings::xscat(utr5_seq, .) %>%\n",
    "  setNames(names(utr5_seq))\n",
    "  \n",
    "utr5_cds100_seq %>%\n",
    "  Biostrings::writeXStringSet(\"../annotations/cloned_utr5_and_cds_100.fasta\")"
   ]
  },
  {
   "cell_type": "markdown",
   "metadata": {},
   "source": [
    "### Check for NotI that we need for mix-n-match cloning with guides. We will mutate out this site during cloning\n",
    "\n",
    "Luckily both sites are close to the 5' end, so we can use a bridge primer to mutate them out"
   ]
  },
  {
   "cell_type": "code",
   "execution_count": null,
   "metadata": {
    "vscode": {
     "languageId": "r"
    }
   },
   "outputs": [],
   "source": [
    "utr5_cds100_seq  %>%\n",
    "  Biostrings::vmatchPattern(Biostrings::DNAString(\"GCGGCCGC\"), .) %>%\n",
    "  unlist() %>%\n",
    "  as.data.frame()"
   ]
  }
 ],
 "metadata": {
  "kernelspec": {
   "display_name": "R",
   "language": "R",
   "name": "ir"
  },
  "language_info": {
   "codemirror_mode": "r",
   "file_extension": ".r",
   "mimetype": "text/x-r-source",
   "name": "R",
   "pygments_lexer": "r",
   "version": "4.2.2"
  },
  "orig_nbformat": 4
 },
 "nbformat": 4,
 "nbformat_minor": 2
}
