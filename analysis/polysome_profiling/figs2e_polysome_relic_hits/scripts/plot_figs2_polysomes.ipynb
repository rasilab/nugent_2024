{
 "cells": [
  {
   "cell_type": "markdown",
   "id": "bef1a2c9-6d16-413b-b200-f3ec493b58c2",
   "metadata": {},
   "source": [
    "# Minimal code for Figure S2e polysome profiling panels"
   ]
  },
  {
   "cell_type": "code",
   "execution_count": null,
   "id": "4166efca-b2a5-4a10-b1d5-bb22efcfbd0e",
   "metadata": {
    "vscode": {
     "languageId": "r"
    }
   },
   "outputs": [],
   "source": [
    "# turn off warnings\n",
    "options(warn = -1)\n",
    "suppressPackageStartupMessages({\n",
    "  library(tidyverse)\n",
    "  library(rasilabRtemplates)\n",
    "})\n",
    "\n",
    "cbPalette_12 <- c(\n",
    "  \"#999999\", \"#CC6677\", \"#88CCEE\", \"#661100\", \"#117733\", \"#332288\", \n",
    "  \"#999933\",\"#AA4499\", \"#44AA99\", \"#882255\", \"#6699CC\", \"#DDCC77\"\n",
    ")\n",
    "\n",
    "theme_set(theme_rasilab() +\n",
    "  theme(\n",
    "    axis.line = element_line(color = \"grey\"),\n",
    "    axis.title.y = element_text(margin = margin(r = 10)),\n",
    "    axis.title.x = element_text(margin = margin(t = 10))\n",
    "  ))"
   ]
  },
  {
   "cell_type": "code",
   "execution_count": null,
   "id": "8ce0564b",
   "metadata": {
    "vscode": {
     "languageId": "r"
    }
   },
   "outputs": [],
   "source": [
    "if (!file.exists('../figures')){\n",
    "    dir.create('../figures')\n",
    "}"
   ]
  },
  {
   "cell_type": "markdown",
   "id": "7b34b68d-cfee-4ede-8402-10c45fc50a65",
   "metadata": {},
   "source": [
    "## Read annotations"
   ]
  },
  {
   "cell_type": "code",
   "execution_count": null,
   "id": "4ec98d36-8d09-45a3-a6c8-a28ce39e62b2",
   "metadata": {
    "vscode": {
     "languageId": "r"
    }
   },
   "outputs": [],
   "source": [
    "annotations <- read_csv(\"../annotations/sampleannotations.csv\", col_types = cols(.default = \"c\")) %>% \n",
    "  print()"
   ]
  },
  {
   "cell_type": "markdown",
   "id": "38cca649",
   "metadata": {},
   "source": [
    "## Read data"
   ]
  },
  {
   "cell_type": "code",
   "execution_count": null,
   "id": "345d7f97-68dd-413c-9ec3-fa674a0415da",
   "metadata": {
    "vscode": {
     "languageId": "r"
    }
   },
   "outputs": [],
   "source": [
    "counts <- list.files(\"../../../../data/polysome_profiling/polysome_relic_hits/\", pattern = \"\\\\d\\\\.csv\", full.names = T) %>% \n",
    "  enframe(\"sno\", \"file\") %>% \n",
    "  mutate(data = map(file, . %>%\n",
    "                      read_csv(., skip = 45, show_col_types = F) %>%\n",
    "                      select(`Position(mm)`, Absorbance, `Fraction Number`)\n",
    "                      ))%>%\n",
    "  unnest() %>%\n",
    "  rename(AbsA = Absorbance,\n",
    "       Fraction = `Fraction Number`,\n",
    "       Position = `Position(mm)`) %>%\n",
    "  mutate(file = str_extract(file, \"20241104_i287_\\\\d.csv\")) %>%\n",
    "  left_join(annotations) %>%\n",
    "  filter(!is.na(sample)) %>%\n",
    "  select(-sno, -file) %>%  \n",
    "  print()"
   ]
  },
  {
   "cell_type": "markdown",
   "id": "a885feb2",
   "metadata": {},
   "source": [
    "## Standardize traces"
   ]
  },
  {
   "cell_type": "code",
   "execution_count": null,
   "id": "c38daaad",
   "metadata": {
    "vscode": {
     "languageId": "r"
    }
   },
   "outputs": [],
   "source": [
    "standardized <- counts %>%\n",
    "    # remove all initial values < 0\n",
    "    filter(!(AbsA < 0 & Position < 10)) %>%\n",
    "    # make baseline equal to 0\n",
    "    group_by(sample) %>%\n",
    "    mutate(AbsA = AbsA - min(AbsA)) %>%\n",
    "    ungroup()"
   ]
  },
  {
   "cell_type": "markdown",
   "id": "e2afaecc",
   "metadata": {},
   "source": [
    "## Calculate P/M ratio"
   ]
  },
  {
   "cell_type": "code",
   "execution_count": null,
   "id": "1d61f180",
   "metadata": {
    "vscode": {
     "languageId": "r"
    }
   },
   "outputs": [],
   "source": [
    "PbyM <- standardized %>%\n",
    "    group_by(sample) %>%\n",
    "    # Pick a minimum position just short of 40S and 60S peaks\n",
    "    summarize(\n",
    "      M = sum(AbsA[Position > 10 & Position < 28]),\n",
    "      P = sum(AbsA[Position >= 28 & Position < 80])\n",
    "    ) %>% \n",
    "    mutate(PbyM = P/M)  %>% \n",
    "    mutate(PbyM = PbyM / PbyM[sample == \"sgFLUC\"])  %>% \n",
    "    mutate(PbyM = round(PbyM, 2))  %>% \n",
    "    arrange(desc(PbyM))\n",
    "\n",
    "PbyM"
   ]
  },
  {
   "cell_type": "markdown",
   "id": "32f20d90",
   "metadata": {},
   "source": [
    "## Normalize to approximate value of 80S"
   ]
  },
  {
   "cell_type": "code",
   "execution_count": null,
   "id": "c4d83ad3",
   "metadata": {
    "vscode": {
     "languageId": "r"
    }
   },
   "outputs": [],
   "source": [
    "normalized_counts <- standardized %>%\n",
    "    group_by(sample) %>%\n",
    "    mutate(AbsA = AbsA - min(AbsA)) %>%\n",
    "    mutate(MonoAbsA = max(AbsA[Position > 10])) %>%\n",
    "    mutate(AbsA = AbsA/MonoAbsA)"
   ]
  },
  {
   "cell_type": "markdown",
   "id": "a8a8bd74",
   "metadata": {},
   "source": [
    "## Plot normalized absorbance"
   ]
  },
  {
   "cell_type": "code",
   "execution_count": null,
   "id": "b031dd43",
   "metadata": {
    "vscode": {
     "languageId": "r"
    }
   },
   "outputs": [],
   "source": [
    "options(repr.plot.width=6, repr.plot.height=3)\n",
    "\n",
    "# put them all on one plot\n",
    "normalized_counts %>%\n",
    "  filter(Position > 10 & Position < 80, ! sample %in% c(\"sgRPL5\")) %>% \n",
    "  left_join(PbyM, by = \"sample\") %>%\n",
    "  mutate(sample = paste0(sample, \", \", PbyM)) %>%\n",
    "  ggplot(aes(x = Position, y = AbsA, color = sample)) +\n",
    "  geom_line(linewidth = 0.8) +\n",
    "  xlab(\"Position (mm)\") +\n",
    "  ylab(\"A260 (A.U.)\") +\n",
    "  scale_y_continuous(limits = c(0, 1.2), breaks = c(0, 0.4, 0.8, 1.2)) +\n",
    "  scale_color_manual(values = cbPalette_12[c(2,1,3,4,5)])\n",
    "\n",
    "ggsave(\"../figures/normalized_trace_with_PbyM.pdf\", width = 6, height = 3, units = \"in\")"
   ]
  }
 ],
 "metadata": {
  "kernelspec": {
   "display_name": "R_project_repo_1.13.0",
   "language": "R",
   "name": "ir_project_repo_1.13.0"
  },
  "language_info": {
   "codemirror_mode": "r",
   "file_extension": ".r",
   "mimetype": "text/x-r-source",
   "name": "R",
   "pygments_lexer": "r",
   "version": "4.1.3"
  }
 },
 "nbformat": 4,
 "nbformat_minor": 5
}
