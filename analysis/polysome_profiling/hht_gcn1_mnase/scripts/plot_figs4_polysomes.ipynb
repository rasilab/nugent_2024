{
 "cells": [
  {
   "attachments": {},
   "cell_type": "markdown",
   "metadata": {},
   "source": [
    "# Minimal code for Figure S4 polysome profiling panels"
   ]
  },
  {
   "attachments": {},
   "cell_type": "markdown",
   "metadata": {},
   "source": [
    "## Load libraries and define analysis-specific parameters"
   ]
  },
  {
   "cell_type": "code",
   "execution_count": 63,
   "metadata": {
    "vscode": {
     "languageId": "r"
    }
   },
   "outputs": [],
   "source": [
    "# standard analysis and plotting functions, includes dplyr, ggplot2\n",
    "suppressPackageStartupMessages(library(tidyverse))\n",
    "# loads lab default ggplot2 theme and provides color-blind friendly palette\n",
    "suppressPackageStartupMessages(library(rasilabRtemplates))"
   ]
  },
  {
   "cell_type": "code",
   "execution_count": 64,
   "metadata": {
    "vscode": {
     "languageId": "r"
    }
   },
   "outputs": [],
   "source": [
    "if (!file.exists('../figures')){\n",
    "    dir.create('../figures')\n",
    "}"
   ]
  },
  {
   "attachments": {},
   "cell_type": "markdown",
   "metadata": {},
   "source": [
    "## Read in annotations"
   ]
  },
  {
   "cell_type": "code",
   "execution_count": 65,
   "metadata": {
    "vscode": {
     "languageId": "r"
    }
   },
   "outputs": [
    {
     "name": "stdout",
     "output_type": "stream",
     "text": [
      "\u001b[90m# A tibble: 8 × 4\u001b[39m\n",
      "  file   sgRNA Treatment nuclease\n",
      "  \u001b[3m\u001b[90m<chr>\u001b[39m\u001b[23m  \u001b[3m\u001b[90m<chr>\u001b[39m\u001b[23m \u001b[3m\u001b[90m<chr>\u001b[39m\u001b[23m     \u001b[3m\u001b[90m<chr>\u001b[39m\u001b[23m   \n",
      "\u001b[90m1\u001b[39m 227l2  GCN1  HHT       no MNase\n",
      "\u001b[90m2\u001b[39m 227l3  GCN1  DMSO      no MNase\n",
      "\u001b[90m3\u001b[39m 227l5  FLUC  HHT       no MNase\n",
      "\u001b[90m4\u001b[39m 227l6  FLUC  DMSO      no MNase\n",
      "\u001b[90m5\u001b[39m 227l12 GCN1  HHT       MNase   \n",
      "\u001b[90m6\u001b[39m 227l13 GCN1  DMSO      MNase   \n",
      "\u001b[90m7\u001b[39m 227l15 FLUC  HHT       MNase   \n",
      "\u001b[90m8\u001b[39m 227l16 FLUC  DMSO      MNase   \n"
     ]
    }
   ],
   "source": [
    "annotations <- read_csv(\"../annotations/sampleannotations.csv\", col_types = cols(.default = \"c\")) %>% \n",
    "  print()"
   ]
  },
  {
   "attachments": {},
   "cell_type": "markdown",
   "metadata": {},
   "source": [
    "## Read in data; join with annotations"
   ]
  },
  {
   "cell_type": "code",
   "execution_count": 66,
   "metadata": {
    "vscode": {
     "languageId": "r"
    }
   },
   "outputs": [
    {
     "name": "stderr",
     "output_type": "stream",
     "text": [
      "\u001b[1mRows: \u001b[22m\u001b[34m781\u001b[39m \u001b[1mColumns: \u001b[22m\u001b[34m7\u001b[39m\n",
      "\u001b[36m──\u001b[39m \u001b[1mColumn specification\u001b[22m \u001b[36m────────────────────────────────────────────────────────\u001b[39m\n",
      "\u001b[1mDelimiter:\u001b[22m \",\"\n",
      "\u001b[31mchr\u001b[39m (1): Fraction Number\n",
      "\u001b[32mdbl\u001b[39m (6): SampleA, SourceA, SampleFluor, Position, AbsA, Fraction Volume (ml)\n",
      "\n",
      "\u001b[36mℹ\u001b[39m Use `spec()` to retrieve the full column specification for this data.\n",
      "\u001b[36mℹ\u001b[39m Specify the column types or set `show_col_types = FALSE` to quiet this message.\n",
      "\u001b[1mRows: \u001b[22m\u001b[34m781\u001b[39m \u001b[1mColumns: \u001b[22m\u001b[34m7\u001b[39m\n",
      "\u001b[36m──\u001b[39m \u001b[1mColumn specification\u001b[22m \u001b[36m────────────────────────────────────────────────────────\u001b[39m\n",
      "\u001b[1mDelimiter:\u001b[22m \",\"\n",
      "\u001b[31mchr\u001b[39m (1): Fraction Number\n",
      "\u001b[32mdbl\u001b[39m (6): SampleA, SourceA, SampleFluor, Position, AbsA, Fraction Volume (ml)\n",
      "\n",
      "\u001b[36mℹ\u001b[39m Use `spec()` to retrieve the full column specification for this data.\n",
      "\u001b[36mℹ\u001b[39m Specify the column types or set `show_col_types = FALSE` to quiet this message.\n",
      "\u001b[1mRows: \u001b[22m\u001b[34m781\u001b[39m \u001b[1mColumns: \u001b[22m\u001b[34m7\u001b[39m\n",
      "\u001b[36m──\u001b[39m \u001b[1mColumn specification\u001b[22m \u001b[36m────────────────────────────────────────────────────────\u001b[39m\n",
      "\u001b[1mDelimiter:\u001b[22m \",\"\n",
      "\u001b[31mchr\u001b[39m (1): Fraction Number\n",
      "\u001b[32mdbl\u001b[39m (6): SampleA, SourceA, SampleFluor, Position, AbsA, Fraction Volume (ml)\n",
      "\n",
      "\u001b[36mℹ\u001b[39m Use `spec()` to retrieve the full column specification for this data.\n",
      "\u001b[36mℹ\u001b[39m Specify the column types or set `show_col_types = FALSE` to quiet this message.\n",
      "\u001b[1mRows: \u001b[22m\u001b[34m780\u001b[39m \u001b[1mColumns: \u001b[22m\u001b[34m7\u001b[39m\n",
      "\u001b[36m──\u001b[39m \u001b[1mColumn specification\u001b[22m \u001b[36m────────────────────────────────────────────────────────\u001b[39m\n",
      "\u001b[1mDelimiter:\u001b[22m \",\"\n",
      "\u001b[31mchr\u001b[39m (1): Fraction Number\n",
      "\u001b[32mdbl\u001b[39m (6): SampleA, SourceA, SampleFluor, Position, AbsA, Fraction Volume (ml)\n",
      "\n",
      "\u001b[36mℹ\u001b[39m Use `spec()` to retrieve the full column specification for this data.\n",
      "\u001b[36mℹ\u001b[39m Specify the column types or set `show_col_types = FALSE` to quiet this message.\n",
      "\u001b[1mRows: \u001b[22m\u001b[34m780\u001b[39m \u001b[1mColumns: \u001b[22m\u001b[34m7\u001b[39m\n",
      "\u001b[36m──\u001b[39m \u001b[1mColumn specification\u001b[22m \u001b[36m────────────────────────────────────────────────────────\u001b[39m\n",
      "\u001b[1mDelimiter:\u001b[22m \",\"\n",
      "\u001b[31mchr\u001b[39m (1): Fraction Number\n",
      "\u001b[32mdbl\u001b[39m (6): SampleA, SourceA, SampleFluor, Position, AbsA, Fraction Volume (ml)\n",
      "\n",
      "\u001b[36mℹ\u001b[39m Use `spec()` to retrieve the full column specification for this data.\n",
      "\u001b[36mℹ\u001b[39m Specify the column types or set `show_col_types = FALSE` to quiet this message.\n",
      "\u001b[1mRows: \u001b[22m\u001b[34m780\u001b[39m \u001b[1mColumns: \u001b[22m\u001b[34m7\u001b[39m\n",
      "\u001b[36m──\u001b[39m \u001b[1mColumn specification\u001b[22m \u001b[36m────────────────────────────────────────────────────────\u001b[39m\n",
      "\u001b[1mDelimiter:\u001b[22m \",\"\n",
      "\u001b[31mchr\u001b[39m (1): Fraction Number\n",
      "\u001b[32mdbl\u001b[39m (6): SampleA, SourceA, SampleFluor, Position, AbsA, Fraction Volume (ml)\n",
      "\n",
      "\u001b[36mℹ\u001b[39m Use `spec()` to retrieve the full column specification for this data.\n",
      "\u001b[36mℹ\u001b[39m Specify the column types or set `show_col_types = FALSE` to quiet this message.\n",
      "\u001b[1mRows: \u001b[22m\u001b[34m780\u001b[39m \u001b[1mColumns: \u001b[22m\u001b[34m7\u001b[39m\n",
      "\u001b[36m──\u001b[39m \u001b[1mColumn specification\u001b[22m \u001b[36m────────────────────────────────────────────────────────\u001b[39m\n",
      "\u001b[1mDelimiter:\u001b[22m \",\"\n",
      "\u001b[31mchr\u001b[39m (1): Fraction Number\n",
      "\u001b[32mdbl\u001b[39m (6): SampleA, SourceA, SampleFluor, Position, AbsA, Fraction Volume (ml)\n",
      "\n",
      "\u001b[36mℹ\u001b[39m Use `spec()` to retrieve the full column specification for this data.\n",
      "\u001b[36mℹ\u001b[39m Specify the column types or set `show_col_types = FALSE` to quiet this message.\n",
      "\u001b[1mRows: \u001b[22m\u001b[34m780\u001b[39m \u001b[1mColumns: \u001b[22m\u001b[34m7\u001b[39m\n",
      "\u001b[36m──\u001b[39m \u001b[1mColumn specification\u001b[22m \u001b[36m────────────────────────────────────────────────────────\u001b[39m\n",
      "\u001b[1mDelimiter:\u001b[22m \",\"\n",
      "\u001b[31mchr\u001b[39m (1): Fraction Number\n",
      "\u001b[32mdbl\u001b[39m (6): SampleA, SourceA, SampleFluor, Position, AbsA, Fraction Volume (ml)\n",
      "\n",
      "\u001b[36mℹ\u001b[39m Use `spec()` to retrieve the full column specification for this data.\n",
      "\u001b[36mℹ\u001b[39m Specify the column types or set `show_col_types = FALSE` to quiet this message.\n",
      "Joining, by = \"file\"\n"
     ]
    },
    {
     "name": "stdout",
     "output_type": "stream",
     "text": [
      "\u001b[90m# A tibble: 6,243 × 5\u001b[39m\n",
      "   Position Absorbance sgRNA Treatment nuclease\n",
      "      \u001b[3m\u001b[90m<dbl>\u001b[39m\u001b[23m      \u001b[3m\u001b[90m<dbl>\u001b[39m\u001b[23m \u001b[3m\u001b[90m<chr>\u001b[39m\u001b[23m \u001b[3m\u001b[90m<chr>\u001b[39m\u001b[23m     \u001b[3m\u001b[90m<chr>\u001b[39m\u001b[23m   \n",
      "\u001b[90m 1\u001b[39m     0         0.365 GCN1  HHT       MNase   \n",
      "\u001b[90m 2\u001b[39m     0.17      0.415 GCN1  HHT       MNase   \n",
      "\u001b[90m 3\u001b[39m     0.27      1.72  GCN1  HHT       MNase   \n",
      "\u001b[90m 4\u001b[39m     0.37      3.65  GCN1  HHT       MNase   \n",
      "\u001b[90m 5\u001b[39m     0.47      3.75  GCN1  HHT       MNase   \n",
      "\u001b[90m 6\u001b[39m     0.57      3.82  GCN1  HHT       MNase   \n",
      "\u001b[90m 7\u001b[39m     0.66      3.90  GCN1  HHT       MNase   \n",
      "\u001b[90m 8\u001b[39m     0.77      3.97  GCN1  HHT       MNase   \n",
      "\u001b[90m 9\u001b[39m     0.86      4.02  GCN1  HHT       MNase   \n",
      "\u001b[90m10\u001b[39m     0.97      4.09  GCN1  HHT       MNase   \n",
      "\u001b[90m# … with 6,233 more rows\u001b[39m\n"
     ]
    }
   ],
   "source": [
    "counts <- list.files(\"../../../../data/polysome_profiling/hht_gcn1_mnase\", pattern = \"227l\\\\d+.csv\", full.names = T) %>% \n",
    "  enframe(\"sno\", \"file\") %>% \n",
    "  mutate(data = map(file, . %>%\n",
    "                      read_csv(., skip = 51) \n",
    "                      %>% select(Position, AbsA, `Fraction Number`)\n",
    "                      ))%>%\n",
    "  unnest(cols = c(data)) %>%\n",
    "  rename(Absorbance = AbsA,\n",
    "         Fraction = `Fraction Number`) %>%\n",
    "  mutate(file = str_extract(file, \"227l\\\\d+\"),\n",
    "         Absorbance = Absorbance - min(Absorbance)\n",
    "         ) %>%\n",
    "  left_join(annotations) %>%\n",
    "  select(-sno, -file, -Fraction) %>%\n",
    "  print()"
   ]
  },
  {
   "attachments": {},
   "cell_type": "markdown",
   "metadata": {},
   "source": [
    "## Plot polysome profiles"
   ]
  },
  {
   "cell_type": "code",
   "execution_count": 82,
   "metadata": {
    "vscode": {
     "languageId": "r"
    }
   },
   "outputs": [
    {
     "data": {
      "image/png": "[encoded data removed]",
      "text/plain": [
       "plot without title"
      ]
     },
     "metadata": {
      "image/png": {
       "height": 210,
       "width": 270
      }
     },
     "output_type": "display_data"
    }
   ],
   "source": [
    "options(repr.plot.width=4.5, repr.plot.height=3.5)\n",
    "\n",
    "counts %>%\n",
    "  filter(Position > 8 & Position < 75) %>% \n",
    "  rename(`Distance (mm)` = Position) %>%\n",
    "  mutate(nuclease = fct_relevel(nuclease, \"MNase\", after = Inf)) %>%\n",
    "  ggplot(aes(x = `Distance (mm)`, y = Absorbance, color = sgRNA)) +\n",
    "  facet_grid(Treatment~nuclease, scale = \"free\") +\n",
    "  geom_line() +\n",
    "  scale_color_manual(values = cbPalette) +\n",
    "  theme(legend.title=element_blank()) +\n",
    "  NULL\n",
    "\n",
    "ggsave(\"../figures/polysome_profiles_mnase.pdf\", width = 5, height = 3.5)"
   ]
  }
 ],
 "metadata": {
  "kernelspec": {
   "display_name": "R",
   "language": "R",
   "name": "ir"
  },
  "language_info": {
   "codemirror_mode": "r",
   "file_extension": ".r",
   "mimetype": "text/x-r-source",
   "name": "R",
   "pygments_lexer": "r",
   "version": "4.1.1"
  },
  "orig_nbformat": 4
 },
 "nbformat": 4,
 "nbformat_minor": 2
}
