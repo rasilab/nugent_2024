{
 "cells": [
  {
   "cell_type": "markdown",
   "metadata": {},
   "source": [
    "# Minimal code for Figure 2a polysome profiling panel"
   ]
  },
  {
   "attachments": {},
   "cell_type": "markdown",
   "metadata": {},
   "source": [
    "## Load libraries and define analysis-specific parameters"
   ]
  },
  {
   "cell_type": "code",
   "execution_count": null,
   "metadata": {
    "vscode": {
     "languageId": "r"
    }
   },
   "outputs": [],
   "source": [
    "suppressPackageStartupMessages({\n",
    "# standard analysis and plotting functions, includes dplyr, ggplot2 \n",
    "library(tidyverse)\n",
    "# loads lab default ggplot2 theme and provides color-blind friendly palette\n",
    "library(rasilabRtemplates)\n",
    "})\n",
    "\n",
    "theme_set(theme_rasilab() + \n",
    " theme(\n",
    "  axis.line = element_line(color = \"grey\"), \n",
    " axis.title.y = element_text(margin = margin(r=10)),\n",
    " axis.title.x = element_text(margin = margin(t=10))\n",
    "))"
   ]
  },
  {
   "cell_type": "code",
   "execution_count": 2,
   "metadata": {
    "vscode": {
     "languageId": "r"
    }
   },
   "outputs": [],
   "source": [
    "if (!file.exists('../figures')){\n",
    "    dir.create('../figures')\n",
    "}"
   ]
  },
  {
   "attachments": {},
   "cell_type": "markdown",
   "metadata": {},
   "source": [
    "## Read in data"
   ]
  },
  {
   "cell_type": "code",
   "execution_count": 22,
   "metadata": {
    "vscode": {
     "languageId": "r"
    }
   },
   "outputs": [
    {
     "name": "stderr",
     "output_type": "stream",
     "text": [
      "\n",
      "\u001b[36m──\u001b[39m \u001b[1mColumn specification\u001b[22m \u001b[36m────────────────────────────────────────────────────────\u001b[39m\n",
      "cols(\n",
      "  fraction_number = \u001b[31mcol_character()\u001b[39m\n",
      ")\n",
      "\n"
     ]
    },
    {
     "name": "stdout",
     "output_type": "stream",
     "text": [
      "\u001b[90m# A tibble: 2,474 × 4\u001b[39m\n",
      "   distance_mm absorbance fraction_number fraction_volume_ml\n",
      "         \u001b[3m\u001b[90m<dbl>\u001b[39m\u001b[23m      \u001b[3m\u001b[90m<dbl>\u001b[39m\u001b[23m \u001b[3m\u001b[90m<chr>\u001b[39m\u001b[23m                        \u001b[3m\u001b[90m<dbl>\u001b[39m\u001b[23m\n",
      "\u001b[90m 1\u001b[39m        6.03      0.834 \u001b[31mNA\u001b[39m                              \u001b[31mNA\u001b[39m\n",
      "\u001b[90m 2\u001b[39m        6.06      0.813 \u001b[31mNA\u001b[39m                              \u001b[31mNA\u001b[39m\n",
      "\u001b[90m 3\u001b[39m        6.09      0.797 \u001b[31mNA\u001b[39m                              \u001b[31mNA\u001b[39m\n",
      "\u001b[90m 4\u001b[39m        6.12      0.781 \u001b[31mNA\u001b[39m                              \u001b[31mNA\u001b[39m\n",
      "\u001b[90m 5\u001b[39m        6.15      0.763 \u001b[31mNA\u001b[39m                              \u001b[31mNA\u001b[39m\n",
      "\u001b[90m 6\u001b[39m        6.18      0.751 \u001b[31mNA\u001b[39m                              \u001b[31mNA\u001b[39m\n",
      "\u001b[90m 7\u001b[39m        6.21      0.734 \u001b[31mNA\u001b[39m                              \u001b[31mNA\u001b[39m\n",
      "\u001b[90m 8\u001b[39m        6.24      0.719 \u001b[31mNA\u001b[39m                              \u001b[31mNA\u001b[39m\n",
      "\u001b[90m 9\u001b[39m        6.27      0.706 \u001b[31mNA\u001b[39m                              \u001b[31mNA\u001b[39m\n",
      "\u001b[90m10\u001b[39m        6.3       0.690 \u001b[31mNA\u001b[39m                              \u001b[31mNA\u001b[39m\n",
      "\u001b[90m# … with 2,464 more rows\u001b[39m\n"
     ]
    }
   ],
   "source": [
    "counts <- read_csv(\"../../../../data/polysome_profiling/polysome_relic/306-1.csv.gz\", skip = 32, show_col_types = F)%>%\n",
    "  janitor::clean_names() %>%\n",
    "  type_convert() %>% \n",
    "  filter(!is.na(absorbance)) %>%\n",
    "  filter(distance_mm > 6) %>% \n",
    "  mutate(absorbance = absorbance - min(absorbance)) %>%\n",
    "  mutate(absorbance = absorbance / max(absorbance)) %>%\n",
    "  write_csv(\"../../../../source_data/figure_2a.csv\") %>%\n",
    "  print()\n",
    "\n",
    "# tail(counts)"
   ]
  },
  {
   "attachments": {},
   "cell_type": "markdown",
   "metadata": {},
   "source": [
    "## Plot polysome profiles"
   ]
  },
  {
   "cell_type": "code",
   "execution_count": 21,
   "metadata": {
    "vscode": {
     "languageId": "r"
    }
   },
   "outputs": [
    {
     "data": {
      "image/png": "[encoded data removed]",
      "text/plain": [
       "plot without title"
      ]
     },
     "metadata": {
      "image/png": {
       "height": 120,
       "width": 144
      }
     },
     "output_type": "display_data"
    }
   ],
   "source": [
    "options(repr.plot.width=2.4, repr.plot.height=2)\n",
    "\n",
    "label_data <- counts %>% \n",
    "  filter(!is.na(fraction_number)) %>% \n",
    "  filter(fraction_number %in% c(3,5,9,13))\n",
    "\n",
    "counts %>%\n",
    "  ggplot(aes(x = distance_mm, y = absorbance)) +\n",
    "  geom_line(show.legend = F, alpha = 0.5) +\n",
    "  geom_vline(aes(xintercept = distance_mm), label_data, alpha = 0.25) + \n",
    "  # geom_text(aes(label = fraction_number, x = distance_mm), y = 0.02, label_data) + \n",
    "  labs(x = \"Distance (mm)\", y = \"A260 (arb. units)\") +\n",
    "  scale_y_continuous(limits = c(0, 1), breaks = c(0.0, 0.5, 1.0)) \n",
    "\n",
    "ggsave(\"../figures/polysome_profiles.pdf\", width = 2.4, height = 2)"
   ]
  }
 ],
 "metadata": {
  "interpreter": {
   "hash": "3e70078cb6b15a307a9d5f52457bb5fd47aec8ae565b8757a34a1e75b81d4c4a"
  },
  "kernelspec": {
   "display_name": "R",
   "language": "R",
   "name": "ir"
  },
  "language_info": {
   "codemirror_mode": "r",
   "file_extension": ".r",
   "mimetype": "text/x-r-source",
   "name": "R",
   "pygments_lexer": "r",
   "version": "4.2.2"
  },
  "orig_nbformat": 4
 },
 "nbformat": 4,
 "nbformat_minor": 2
}
