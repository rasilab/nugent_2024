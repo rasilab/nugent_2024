{
 "cells": [
  {
   "cell_type": "markdown",
   "metadata": {},
   "source": [
    "# Analyze plasmid coverage of Ribo-seq reads"
   ]
  },
  {
   "cell_type": "markdown",
   "metadata": {},
   "source": [
    "## Load libraries"
   ]
  },
  {
   "cell_type": "code",
   "execution_count": 1,
   "metadata": {
    "vscode": {
     "languageId": "r"
    }
   },
   "outputs": [],
   "source": [
    "options(warn = -1, repr.matrix.max.rows = 15)\n",
    "\n",
    "suppressPackageStartupMessages({\n",
    "  library(rtracklayer)\n",
    "  library(GenomicAlignments)\n",
    "  library(plyranges)\n",
    "  library(tidyverse)\n",
    "  library(rasilabRtemplates)\n",
    "})\n",
    "\n",
    "cbPalette_12 <- c(\n",
    "  \"#DDCC77\", \"#CC6677\", \"#6699CC\", \"#661100\", \"#117733\", \"#999933\",\n",
    "  \"#332288\", \"#AA4499\", \"#44AA99\", \"#882255\", \"#88CCEE\", \"#999999\"\n",
    ")\n",
    "\n",
    "\n",
    "near_cognate_start_codons <- c(\"ATG\", \"CTG\", \"GTG\", \"TTG\", \"ATA\", \"ATC\", \"ATT\", \"AAG\", \"AGG\", \"ACG\")\n",
    "names(near_cognate_start_codons) <- near_cognate_start_codons\n",
    "\n",
    "theme_set(theme_rasilab() +\n",
    "  theme(\n",
    "    axis.line = element_line(color = \"grey\"),\n",
    "    axis.title.y = element_text(margin = margin(r = 10)),\n",
    "    axis.title.x = element_text(margin = margin(t = 10))\n",
    "  ))"
   ]
  },
  {
   "cell_type": "markdown",
   "metadata": {},
   "source": [
    "## Load sample annotations\n"
   ]
  },
  {
   "cell_type": "code",
   "execution_count": 2,
   "metadata": {
    "vscode": {
     "languageId": "r"
    }
   },
   "outputs": [
    {
     "data": {
      "text/html": [
       "<table class=\"dataframe\">\n",
       "<caption>A tibble: 8 × 3</caption>\n",
       "<thead>\n",
       "\t<tr><th scope=col>sample_id</th><th scope=col>sample_name</th><th scope=col>replicate</th></tr>\n",
       "\t<tr><th scope=col>&lt;chr&gt;</th><th scope=col>&lt;chr&gt;</th><th scope=col>&lt;chr&gt;</th></tr>\n",
       "</thead>\n",
       "<tbody>\n",
       "\t<tr><td>225p41</td><td>sggcn1_hht_mono </td><td>rep1</td></tr>\n",
       "\t<tr><td>225p43</td><td>sggcn1_dmso_mono</td><td>rep1</td></tr>\n",
       "\t<tr><td>225p45</td><td>sgfluc_hht_mono </td><td>rep1</td></tr>\n",
       "\t<tr><td>225p47</td><td>sgfluc_dmso_mono</td><td>rep1</td></tr>\n",
       "\t<tr><td>225p61</td><td>sggcn1_hht_mono </td><td>rep2</td></tr>\n",
       "\t<tr><td>225p62</td><td>sggcn1_dmso_mono</td><td>rep2</td></tr>\n",
       "\t<tr><td>225p63</td><td>sgfluc_hht_mono </td><td>rep2</td></tr>\n",
       "\t<tr><td>225p64</td><td>sgfluc_dmso_mono</td><td>rep2</td></tr>\n",
       "</tbody>\n",
       "</table>\n"
      ],
      "text/latex": [
       "A tibble: 8 × 3\n",
       "\\begin{tabular}{lll}\n",
       " sample\\_id & sample\\_name & replicate\\\\\n",
       " <chr> & <chr> & <chr>\\\\\n",
       "\\hline\n",
       "\t 225p41 & sggcn1\\_hht\\_mono  & rep1\\\\\n",
       "\t 225p43 & sggcn1\\_dmso\\_mono & rep1\\\\\n",
       "\t 225p45 & sgfluc\\_hht\\_mono  & rep1\\\\\n",
       "\t 225p47 & sgfluc\\_dmso\\_mono & rep1\\\\\n",
       "\t 225p61 & sggcn1\\_hht\\_mono  & rep2\\\\\n",
       "\t 225p62 & sggcn1\\_dmso\\_mono & rep2\\\\\n",
       "\t 225p63 & sgfluc\\_hht\\_mono  & rep2\\\\\n",
       "\t 225p64 & sgfluc\\_dmso\\_mono & rep2\\\\\n",
       "\\end{tabular}\n"
      ],
      "text/markdown": [
       "\n",
       "A tibble: 8 × 3\n",
       "\n",
       "| sample_id &lt;chr&gt; | sample_name &lt;chr&gt; | replicate &lt;chr&gt; |\n",
       "|---|---|---|\n",
       "| 225p41 | sggcn1_hht_mono  | rep1 |\n",
       "| 225p43 | sggcn1_dmso_mono | rep1 |\n",
       "| 225p45 | sgfluc_hht_mono  | rep1 |\n",
       "| 225p47 | sgfluc_dmso_mono | rep1 |\n",
       "| 225p61 | sggcn1_hht_mono  | rep2 |\n",
       "| 225p62 | sggcn1_dmso_mono | rep2 |\n",
       "| 225p63 | sgfluc_hht_mono  | rep2 |\n",
       "| 225p64 | sgfluc_dmso_mono | rep2 |\n",
       "\n"
      ],
      "text/plain": [
       "  sample_id sample_name      replicate\n",
       "1 225p41    sggcn1_hht_mono  rep1     \n",
       "2 225p43    sggcn1_dmso_mono rep1     \n",
       "3 225p45    sgfluc_hht_mono  rep1     \n",
       "4 225p47    sgfluc_dmso_mono rep1     \n",
       "5 225p61    sggcn1_hht_mono  rep2     \n",
       "6 225p62    sggcn1_dmso_mono rep2     \n",
       "7 225p63    sgfluc_hht_mono  rep2     \n",
       "8 225p64    sgfluc_dmso_mono rep2     "
      ]
     },
     "metadata": {},
     "output_type": "display_data"
    }
   ],
   "source": [
    "sample_annotations <- read_csv(\"../annotations/sample_annotations.csv\", show_col_types = F) %>% \n",
    "  filter(str_detect(sample_name, \"mono\")) %>% \n",
    "  extract(sample_name, c(\"sample_name\", \"replicate\"), \"(.*)_(.*)\") %>% \n",
    "  select(sample_id, sample_name, replicate)\n",
    "\n",
    "sample_annotations"
   ]
  },
  {
   "cell_type": "code",
   "execution_count": 3,
   "metadata": {
    "vscode": {
     "languageId": "r"
    }
   },
   "outputs": [
    {
     "data": {
      "text/plain": [
       "GRanges object with 32 ranges and 6 metadata columns:\n",
       "                     seqnames      ranges strand |      source       type\n",
       "                        <Rle>   <IRanges>  <Rle> |    <factor>   <factor>\n",
       "   [1] pHPHS232_pHPHS800_pP..   2983-4114      + | rtracklayer transcript\n",
       "   [2] pHPHS232_pHPHS800_pP..   2983-4114      + | rtracklayer exon      \n",
       "   [3] pHPHS232_pHPHS800_pP..   2983-3855      + | rtracklayer CDS       \n",
       "   [4] pHPHS232_pHPHS800_pP..   3856-4114      + | rtracklayer 3'UTR     \n",
       "   [5] pHPHS232_pHPHS800_pP..  5704-11226      + | rtracklayer transcript\n",
       "   ...                    ...         ...    ... .         ...        ...\n",
       "  [28] pHPHS232_pHPHS800_pP.. 28285-29236      + | rtracklayer transcript\n",
       "  [29] pHPHS232_pHPHS800_pP.. 28285-29236      + | rtracklayer exon      \n",
       "  [30] pHPHS232_pHPHS800_pP.. 28285-28398      + | rtracklayer 5'UTR     \n",
       "  [31] pHPHS232_pHPHS800_pP.. 28399-29106      + | rtracklayer CDS       \n",
       "  [32] pHPHS232_pHPHS800_pP.. 29107-29236      + | rtracklayer 3'UTR     \n",
       "           score     phase transcript_id     gene_id\n",
       "       <numeric> <integer>   <character> <character>\n",
       "   [1]        NA      <NA>          NeoR        NeoR\n",
       "   [2]        NA      <NA>          NeoR        NeoR\n",
       "   [3]        NA      <NA>          NeoR        NeoR\n",
       "   [4]        NA      <NA>          NeoR        NeoR\n",
       "   [5]        NA      <NA>          Cas9        Cas9\n",
       "   ...       ...       ...           ...         ...\n",
       "  [28]        NA      <NA>         rtta3       rtta3\n",
       "  [29]        NA      <NA>         rtta3       rtta3\n",
       "  [30]        NA      <NA>         rtta3       rtta3\n",
       "  [31]        NA      <NA>         rtta3       rtta3\n",
       "  [32]        NA      <NA>         rtta3       rtta3\n",
       "  -------\n",
       "  seqinfo: 1 sequence from an unspecified genome; no seqlengths"
      ]
     },
     "metadata": {},
     "output_type": "display_data"
    }
   ],
   "source": [
    "tx_annotations <- read_gff2(\"../annotations/plasmids/pHPHS232_pHPHS800_pPNHS189.cleaned.gtf\") \n",
    "\n",
    "tx_annotations"
   ]
  },
  {
   "cell_type": "code",
   "execution_count": 4,
   "metadata": {
    "vscode": {
     "languageId": "r"
    }
   },
   "outputs": [
    {
     "data": {
      "text/html": [
       "<table class=\"dataframe\">\n",
       "<caption>A tibble: 6 × 4</caption>\n",
       "<thead>\n",
       "\t<tr><th scope=col>transcript_id</th><th scope=col>gene_id</th><th scope=col>gene_name</th><th scope=col>transcript_name</th></tr>\n",
       "\t<tr><th scope=col>&lt;chr&gt;</th><th scope=col>&lt;chr&gt;</th><th scope=col>&lt;chr&gt;</th><th scope=col>&lt;chr&gt;</th></tr>\n",
       "</thead>\n",
       "<tbody>\n",
       "\t<tr><td>NeoR   </td><td>NeoR   </td><td>NeoR   </td><td>NeoR   </td></tr>\n",
       "\t<tr><td>Cas9   </td><td>Cas9   </td><td>Cas9   </td><td>Cas9   </td></tr>\n",
       "\t<tr><td>mcherry</td><td>mcherry</td><td>mcherry</td><td>mcherry</td></tr>\n",
       "\t<tr><td>eyfp   </td><td>eyfp   </td><td>eyfp   </td><td>eyfp   </td></tr>\n",
       "\t<tr><td>bfp    </td><td>bfp    </td><td>bfp    </td><td>bfp    </td></tr>\n",
       "\t<tr><td>rtta3  </td><td>rtta3  </td><td>rtta3  </td><td>rtta3  </td></tr>\n",
       "</tbody>\n",
       "</table>\n"
      ],
      "text/latex": [
       "A tibble: 6 × 4\n",
       "\\begin{tabular}{llll}\n",
       " transcript\\_id & gene\\_id & gene\\_name & transcript\\_name\\\\\n",
       " <chr> & <chr> & <chr> & <chr>\\\\\n",
       "\\hline\n",
       "\t NeoR    & NeoR    & NeoR    & NeoR   \\\\\n",
       "\t Cas9    & Cas9    & Cas9    & Cas9   \\\\\n",
       "\t mcherry & mcherry & mcherry & mcherry\\\\\n",
       "\t eyfp    & eyfp    & eyfp    & eyfp   \\\\\n",
       "\t bfp     & bfp     & bfp     & bfp    \\\\\n",
       "\t rtta3   & rtta3   & rtta3   & rtta3  \\\\\n",
       "\\end{tabular}\n"
      ],
      "text/markdown": [
       "\n",
       "A tibble: 6 × 4\n",
       "\n",
       "| transcript_id &lt;chr&gt; | gene_id &lt;chr&gt; | gene_name &lt;chr&gt; | transcript_name &lt;chr&gt; |\n",
       "|---|---|---|---|\n",
       "| NeoR    | NeoR    | NeoR    | NeoR    |\n",
       "| Cas9    | Cas9    | Cas9    | Cas9    |\n",
       "| mcherry | mcherry | mcherry | mcherry |\n",
       "| eyfp    | eyfp    | eyfp    | eyfp    |\n",
       "| bfp     | bfp     | bfp     | bfp     |\n",
       "| rtta3   | rtta3   | rtta3   | rtta3   |\n",
       "\n"
      ],
      "text/plain": [
       "  transcript_id gene_id gene_name transcript_name\n",
       "1 NeoR          NeoR    NeoR      NeoR           \n",
       "2 Cas9          Cas9    Cas9      Cas9           \n",
       "3 mcherry       mcherry mcherry   mcherry        \n",
       "4 eyfp          eyfp    eyfp      eyfp           \n",
       "5 bfp           bfp     bfp       bfp            \n",
       "6 rtta3         rtta3   rtta3     rtta3          "
      ]
     },
     "metadata": {},
     "output_type": "display_data"
    }
   ],
   "source": [
    "tx_gene_names <- tx_annotations %>% \n",
    "  filter(type == \"transcript\") %>% \n",
    "  as_tibble() %>% \n",
    "  select(transcript_id, gene_id) %>% \n",
    "  mutate(gene_name = gene_id, transcript_name = transcript_id)\n",
    "\n",
    "tx_gene_names"
   ]
  },
  {
   "cell_type": "code",
   "execution_count": 5,
   "metadata": {
    "vscode": {
     "languageId": "r"
    }
   },
   "outputs": [
    {
     "data": {
      "text/plain": [
       "GRangesList object of length 6:\n",
       "$Cas9\n",
       "GRanges object with 1 range and 6 metadata columns:\n",
       "                    seqnames     ranges strand |      source     type     score\n",
       "                       <Rle>  <IRanges>  <Rle> |    <factor> <factor> <numeric>\n",
       "  [1] pHPHS232_pHPHS800_pP.. 5704-11226      + | rtracklayer     exon        NA\n",
       "          phase transcript_id     gene_id\n",
       "      <integer>   <character> <character>\n",
       "  [1]      <NA>          Cas9        Cas9\n",
       "  -------\n",
       "  seqinfo: 1 sequence from an unspecified genome; no seqlengths\n",
       "\n",
       "$NeoR\n",
       "GRanges object with 1 range and 6 metadata columns:\n",
       "                    seqnames    ranges strand |      source     type     score\n",
       "                       <Rle> <IRanges>  <Rle> |    <factor> <factor> <numeric>\n",
       "  [1] pHPHS232_pHPHS800_pP.. 2983-4114      + | rtracklayer     exon        NA\n",
       "          phase transcript_id     gene_id\n",
       "      <integer>   <character> <character>\n",
       "  [1]      <NA>          NeoR        NeoR\n",
       "  -------\n",
       "  seqinfo: 1 sequence from an unspecified genome; no seqlengths\n",
       "\n",
       "$bfp\n",
       "GRanges object with 1 range and 6 metadata columns:\n",
       "                    seqnames      ranges strand |      source     type\n",
       "                       <Rle>   <IRanges>  <Rle> |    <factor> <factor>\n",
       "  [1] pHPHS232_pHPHS800_pP.. 23437-26465      + | rtracklayer     exon\n",
       "          score     phase transcript_id     gene_id\n",
       "      <numeric> <integer>   <character> <character>\n",
       "  [1]        NA      <NA>           bfp         bfp\n",
       "  -------\n",
       "  seqinfo: 1 sequence from an unspecified genome; no seqlengths\n",
       "\n",
       "...\n",
       "<3 more elements>"
      ]
     },
     "metadata": {},
     "output_type": "display_data"
    }
   ],
   "source": [
    "tx <- tx_annotations %>% \n",
    "  filter(type == \"exon\") %>% \n",
    "  split(.$transcript_id)\n",
    "\n",
    "tx"
   ]
  },
  {
   "cell_type": "code",
   "execution_count": 6,
   "metadata": {
    "vscode": {
     "languageId": "r"
    }
   },
   "outputs": [
    {
     "data": {
      "text/html": [
       "<table class=\"dataframe\">\n",
       "<caption>A tibble: 108148 × 11</caption>\n",
       "<thead>\n",
       "\t<tr><th scope=col>sample_id</th><th scope=col>sample_name</th><th scope=col>replicate</th><th scope=col>seqnames</th><th scope=col>strand</th><th scope=col>cigar</th><th scope=col>qwidth</th><th scope=col>start</th><th scope=col>end</th><th scope=col>width</th><th scope=col>njunc</th></tr>\n",
       "\t<tr><th scope=col>&lt;chr&gt;</th><th scope=col>&lt;chr&gt;</th><th scope=col>&lt;chr&gt;</th><th scope=col>&lt;fct&gt;</th><th scope=col>&lt;fct&gt;</th><th scope=col>&lt;chr&gt;</th><th scope=col>&lt;int&gt;</th><th scope=col>&lt;int&gt;</th><th scope=col>&lt;int&gt;</th><th scope=col>&lt;int&gt;</th><th scope=col>&lt;int&gt;</th></tr>\n",
       "</thead>\n",
       "<tbody>\n",
       "\t<tr><td>225p41</td><td>sggcn1_hht_mono</td><td>rep1</td><td>pHPHS232_pHPHS800_pPNHS189</td><td>+</td><td>60M</td><td>60</td><td> 552</td><td> 611</td><td>60</td><td>0</td></tr>\n",
       "\t<tr><td>225p41</td><td>sggcn1_hht_mono</td><td>rep1</td><td>pHPHS232_pHPHS800_pPNHS189</td><td>+</td><td>57M</td><td>57</td><td> 796</td><td> 852</td><td>57</td><td>0</td></tr>\n",
       "\t<tr><td>225p41</td><td>sggcn1_hht_mono</td><td>rep1</td><td>pHPHS232_pHPHS800_pPNHS189</td><td>+</td><td>31M</td><td>31</td><td>1372</td><td>1402</td><td>31</td><td>0</td></tr>\n",
       "\t<tr><td>225p41</td><td>sggcn1_hht_mono</td><td>rep1</td><td>pHPHS232_pHPHS800_pPNHS189</td><td>+</td><td>31M</td><td>31</td><td>1687</td><td>1717</td><td>31</td><td>0</td></tr>\n",
       "\t<tr><td>225p41</td><td>sggcn1_hht_mono</td><td>rep1</td><td>pHPHS232_pHPHS800_pPNHS189</td><td>+</td><td>24M</td><td>24</td><td>1745</td><td>1768</td><td>24</td><td>0</td></tr>\n",
       "\t<tr><td>⋮</td><td>⋮</td><td>⋮</td><td>⋮</td><td>⋮</td><td>⋮</td><td>⋮</td><td>⋮</td><td>⋮</td><td>⋮</td><td>⋮</td></tr>\n",
       "\t<tr><td>225p64</td><td>sgfluc_dmso_mono</td><td>rep2</td><td>pHPHS232_pHPHS800_pPNHS189</td><td>+</td><td>30M</td><td>30</td><td>30303</td><td>30332</td><td>30</td><td>0</td></tr>\n",
       "\t<tr><td>225p64</td><td>sgfluc_dmso_mono</td><td>rep2</td><td>pHPHS232_pHPHS800_pPNHS189</td><td>+</td><td>27M</td><td>27</td><td>30308</td><td>30334</td><td>27</td><td>0</td></tr>\n",
       "\t<tr><td>225p64</td><td>sgfluc_dmso_mono</td><td>rep2</td><td>pHPHS232_pHPHS800_pPNHS189</td><td>+</td><td>29M</td><td>29</td><td>30312</td><td>30340</td><td>29</td><td>0</td></tr>\n",
       "\t<tr><td>225p64</td><td>sgfluc_dmso_mono</td><td>rep2</td><td>pHPHS232_pHPHS800_pPNHS189</td><td>+</td><td>29M</td><td>29</td><td>30312</td><td>30340</td><td>29</td><td>0</td></tr>\n",
       "\t<tr><td>225p64</td><td>sgfluc_dmso_mono</td><td>rep2</td><td>pHPHS232_pHPHS800_pPNHS189</td><td>+</td><td>27M</td><td>27</td><td>30312</td><td>30338</td><td>27</td><td>0</td></tr>\n",
       "</tbody>\n",
       "</table>\n"
      ],
      "text/latex": [
       "A tibble: 108148 × 11\n",
       "\\begin{tabular}{lllllllllll}\n",
       " sample\\_id & sample\\_name & replicate & seqnames & strand & cigar & qwidth & start & end & width & njunc\\\\\n",
       " <chr> & <chr> & <chr> & <fct> & <fct> & <chr> & <int> & <int> & <int> & <int> & <int>\\\\\n",
       "\\hline\n",
       "\t 225p41 & sggcn1\\_hht\\_mono & rep1 & pHPHS232\\_pHPHS800\\_pPNHS189 & + & 60M & 60 &  552 &  611 & 60 & 0\\\\\n",
       "\t 225p41 & sggcn1\\_hht\\_mono & rep1 & pHPHS232\\_pHPHS800\\_pPNHS189 & + & 57M & 57 &  796 &  852 & 57 & 0\\\\\n",
       "\t 225p41 & sggcn1\\_hht\\_mono & rep1 & pHPHS232\\_pHPHS800\\_pPNHS189 & + & 31M & 31 & 1372 & 1402 & 31 & 0\\\\\n",
       "\t 225p41 & sggcn1\\_hht\\_mono & rep1 & pHPHS232\\_pHPHS800\\_pPNHS189 & + & 31M & 31 & 1687 & 1717 & 31 & 0\\\\\n",
       "\t 225p41 & sggcn1\\_hht\\_mono & rep1 & pHPHS232\\_pHPHS800\\_pPNHS189 & + & 24M & 24 & 1745 & 1768 & 24 & 0\\\\\n",
       "\t ⋮ & ⋮ & ⋮ & ⋮ & ⋮ & ⋮ & ⋮ & ⋮ & ⋮ & ⋮ & ⋮\\\\\n",
       "\t 225p64 & sgfluc\\_dmso\\_mono & rep2 & pHPHS232\\_pHPHS800\\_pPNHS189 & + & 30M & 30 & 30303 & 30332 & 30 & 0\\\\\n",
       "\t 225p64 & sgfluc\\_dmso\\_mono & rep2 & pHPHS232\\_pHPHS800\\_pPNHS189 & + & 27M & 27 & 30308 & 30334 & 27 & 0\\\\\n",
       "\t 225p64 & sgfluc\\_dmso\\_mono & rep2 & pHPHS232\\_pHPHS800\\_pPNHS189 & + & 29M & 29 & 30312 & 30340 & 29 & 0\\\\\n",
       "\t 225p64 & sgfluc\\_dmso\\_mono & rep2 & pHPHS232\\_pHPHS800\\_pPNHS189 & + & 29M & 29 & 30312 & 30340 & 29 & 0\\\\\n",
       "\t 225p64 & sgfluc\\_dmso\\_mono & rep2 & pHPHS232\\_pHPHS800\\_pPNHS189 & + & 27M & 27 & 30312 & 30338 & 27 & 0\\\\\n",
       "\\end{tabular}\n"
      ],
      "text/markdown": [
       "\n",
       "A tibble: 108148 × 11\n",
       "\n",
       "| sample_id &lt;chr&gt; | sample_name &lt;chr&gt; | replicate &lt;chr&gt; | seqnames &lt;fct&gt; | strand &lt;fct&gt; | cigar &lt;chr&gt; | qwidth &lt;int&gt; | start &lt;int&gt; | end &lt;int&gt; | width &lt;int&gt; | njunc &lt;int&gt; |\n",
       "|---|---|---|---|---|---|---|---|---|---|---|\n",
       "| 225p41 | sggcn1_hht_mono | rep1 | pHPHS232_pHPHS800_pPNHS189 | + | 60M | 60 |  552 |  611 | 60 | 0 |\n",
       "| 225p41 | sggcn1_hht_mono | rep1 | pHPHS232_pHPHS800_pPNHS189 | + | 57M | 57 |  796 |  852 | 57 | 0 |\n",
       "| 225p41 | sggcn1_hht_mono | rep1 | pHPHS232_pHPHS800_pPNHS189 | + | 31M | 31 | 1372 | 1402 | 31 | 0 |\n",
       "| 225p41 | sggcn1_hht_mono | rep1 | pHPHS232_pHPHS800_pPNHS189 | + | 31M | 31 | 1687 | 1717 | 31 | 0 |\n",
       "| 225p41 | sggcn1_hht_mono | rep1 | pHPHS232_pHPHS800_pPNHS189 | + | 24M | 24 | 1745 | 1768 | 24 | 0 |\n",
       "| ⋮ | ⋮ | ⋮ | ⋮ | ⋮ | ⋮ | ⋮ | ⋮ | ⋮ | ⋮ | ⋮ |\n",
       "| 225p64 | sgfluc_dmso_mono | rep2 | pHPHS232_pHPHS800_pPNHS189 | + | 30M | 30 | 30303 | 30332 | 30 | 0 |\n",
       "| 225p64 | sgfluc_dmso_mono | rep2 | pHPHS232_pHPHS800_pPNHS189 | + | 27M | 27 | 30308 | 30334 | 27 | 0 |\n",
       "| 225p64 | sgfluc_dmso_mono | rep2 | pHPHS232_pHPHS800_pPNHS189 | + | 29M | 29 | 30312 | 30340 | 29 | 0 |\n",
       "| 225p64 | sgfluc_dmso_mono | rep2 | pHPHS232_pHPHS800_pPNHS189 | + | 29M | 29 | 30312 | 30340 | 29 | 0 |\n",
       "| 225p64 | sgfluc_dmso_mono | rep2 | pHPHS232_pHPHS800_pPNHS189 | + | 27M | 27 | 30312 | 30338 | 27 | 0 |\n",
       "\n"
      ],
      "text/plain": [
       "       sample_id sample_name      replicate seqnames                   strand\n",
       "1      225p41    sggcn1_hht_mono  rep1      pHPHS232_pHPHS800_pPNHS189 +     \n",
       "2      225p41    sggcn1_hht_mono  rep1      pHPHS232_pHPHS800_pPNHS189 +     \n",
       "3      225p41    sggcn1_hht_mono  rep1      pHPHS232_pHPHS800_pPNHS189 +     \n",
       "4      225p41    sggcn1_hht_mono  rep1      pHPHS232_pHPHS800_pPNHS189 +     \n",
       "5      225p41    sggcn1_hht_mono  rep1      pHPHS232_pHPHS800_pPNHS189 +     \n",
       "⋮      ⋮         ⋮                ⋮         ⋮                          ⋮     \n",
       "108144 225p64    sgfluc_dmso_mono rep2      pHPHS232_pHPHS800_pPNHS189 +     \n",
       "108145 225p64    sgfluc_dmso_mono rep2      pHPHS232_pHPHS800_pPNHS189 +     \n",
       "108146 225p64    sgfluc_dmso_mono rep2      pHPHS232_pHPHS800_pPNHS189 +     \n",
       "108147 225p64    sgfluc_dmso_mono rep2      pHPHS232_pHPHS800_pPNHS189 +     \n",
       "108148 225p64    sgfluc_dmso_mono rep2      pHPHS232_pHPHS800_pPNHS189 +     \n",
       "       cigar qwidth start end   width njunc\n",
       "1      60M   60      552   611  60    0    \n",
       "2      57M   57      796   852  57    0    \n",
       "3      31M   31     1372  1402  31    0    \n",
       "4      31M   31     1687  1717  31    0    \n",
       "5      24M   24     1745  1768  24    0    \n",
       "⋮      ⋮     ⋮      ⋮     ⋮     ⋮     ⋮    \n",
       "108144 30M   30     30303 30332 30    0    \n",
       "108145 27M   27     30308 30334 27    0    \n",
       "108146 29M   29     30312 30340 29    0    \n",
       "108147 29M   29     30312 30340 29    0    \n",
       "108148 27M   27     30312 30338 27    0    "
      ]
     },
     "metadata": {},
     "output_type": "display_data"
    }
   ],
   "source": [
    "aln <- list.files(\"../data/alignments/\", pattern = \"_plasmid.bam$\", full.names = T) %>% \n",
    "  as_tibble_col(\"file\") %>% \n",
    "  mutate(sample_id = str_extract(file, \"225p\\\\d+\")) %>% \n",
    "  inner_join(sample_annotations, by = \"sample_id\") %>% \n",
    "  mutate(aln = map(file, . %>% readGAlignments %>% as_data_frame)) %>% \n",
    "  select(-file) %>% \n",
    "  unnest(aln)\n",
    "\n",
    "aln"
   ]
  },
  {
   "cell_type": "code",
   "execution_count": 7,
   "metadata": {
    "vscode": {
     "languageId": "r"
    }
   },
   "outputs": [
    {
     "name": "stdout",
     "output_type": "stream",
     "text": [
      "GRanges object with 8929 ranges and 3 metadata columns:\n",
      "         seqnames    ranges strand |      sample_name     score     psite\n",
      "            <Rle> <IRanges>  <Rle> |      <character> <integer> <integer>\n",
      "     [1]     Cas9        14      * |  sgfluc_hht_mono         2        14\n",
      "     [2]     Cas9        15      * |  sggcn1_hht_mono         1        15\n",
      "     [3]     Cas9        16      * |  sgfluc_hht_mono         2        16\n",
      "     [4]     Cas9        19      * |  sgfluc_hht_mono         5        19\n",
      "     [5]     Cas9        20      * |  sgfluc_hht_mono        10        20\n",
      "     ...      ...       ...    ... .              ...       ...       ...\n",
      "  [8925]    rtta3       823      * | sggcn1_dmso_mono         3       823\n",
      "  [8926]    rtta3       832      * |  sgfluc_hht_mono         2       832\n",
      "  [8927]    rtta3       834      * | sgfluc_dmso_mono         1       834\n",
      "  [8928]    rtta3       839      * |  sgfluc_hht_mono         1       839\n",
      "  [8929]    rtta3       840      * |  sggcn1_hht_mono         2       840\n",
      "  -------\n",
      "  seqinfo: 6 sequences from an unspecified genome; no seqlengths\n"
     ]
    }
   ],
   "source": [
    "aln_counts <- aln %>% \n",
    "  GRanges() %>% \n",
    "  filter(width >= 27, width <= 33) %>% \n",
    "  # we remove an extra nt so that we can look for overlap with any 3 nt in the codon\n",
    "  narrow(start = 15, width = 1)\n",
    "\n",
    "aln_counts <- aln_counts %>%\n",
    "  GenomicFeatures::mapToTranscripts(tx) %>%\n",
    "  as_tibble() %>%\n",
    "  mutate(sample_name = aln_counts[xHits]$sample_name) %>%\n",
    "  select(-xHits, -transcriptsHits) %>% \n",
    "  as_tibble() %>% \n",
    "  group_by(seqnames, start, end, sample_name) %>%\n",
    "  summarize(score = sum(width), .groups = \"drop\") %>%\n",
    "  ungroup() %>% \n",
    "  mutate(psite = start) %>%\n",
    "  GRanges() %>%\n",
    "  print()"
   ]
  },
  {
   "cell_type": "code",
   "execution_count": 8,
   "metadata": {
    "vscode": {
     "languageId": "r"
    }
   },
   "outputs": [
    {
     "name": "stdout",
     "output_type": "stream",
     "text": [
      "30476-letter DNAString object\n",
      "seq: \u001b[47m\u001b[30mT\u001b[39m\u001b[49m\u001b[47m\u001b[30mG\u001b[39m\u001b[49m\u001b[47m\u001b[30mC\u001b[39m\u001b[49m\u001b[47m\u001b[30mA\u001b[39m\u001b[49m\u001b[47m\u001b[30mG\u001b[39m\u001b[49m\u001b[47m\u001b[30mC\u001b[39m\u001b[49m\u001b[47m\u001b[30mT\u001b[39m\u001b[49m\u001b[47m\u001b[30mC\u001b[39m\u001b[49m\u001b[47m\u001b[30mT\u001b[39m\u001b[49m\u001b[47m\u001b[30mG\u001b[39m\u001b[49m\u001b[47m\u001b[30mG\u001b[39m\u001b[49m\u001b[47m\u001b[30mC\u001b[39m\u001b[49m\u001b[47m\u001b[30mC\u001b[39m\u001b[49m\u001b[47m\u001b[30mC\u001b[39m\u001b[49m\u001b[47m\u001b[30mG\u001b[39m\u001b[49m\u001b[47m\u001b[30mT\u001b[39m\u001b[49m\u001b[47m\u001b[30mG\u001b[39m\u001b[49m\u001b[47m\u001b[30mT\u001b[39m\u001b[49m\u001b[47m\u001b[30mC\u001b[39m\u001b[49m\u001b[47m\u001b[30mT\u001b[39m\u001b[49m\u001b[47m\u001b[30mC\u001b[39m\u001b[49m\u001b[47m\u001b[30mA\u001b[39m\u001b[49m\u001b[47m\u001b[30mA\u001b[39m\u001b[49m\u001b[47m\u001b[30mA\u001b[39m\u001b[49m\u001b[47m\u001b[30mA\u001b[39m\u001b[49m\u001b[47m\u001b[30mT\u001b[39m\u001b[49m\u001b[47m\u001b[30mC\u001b[39m\u001b[49m\u001b[47m\u001b[30mT\u001b[39m\u001b[49m\u001b[47m\u001b[30mC\u001b[39m\u001b[49m\u001b[47m\u001b[30mT\u001b[39m\u001b[49m\u001b[47m\u001b[30mG\u001b[39m\u001b[49m\u001b[47m\u001b[30mA\u001b[39m\u001b[49m\u001b[47m\u001b[30mT\u001b[39m\u001b[49m\u001b[47m\u001b[30mG\u001b[39m\u001b[49m\u001b[47m\u001b[30mT\u001b[39m\u001b[49m\u001b[47m\u001b[30mT\u001b[39m\u001b[49m...\u001b[47m\u001b[30mG\u001b[39m\u001b[49m\u001b[47m\u001b[30mT\u001b[39m\u001b[49m\u001b[47m\u001b[30mC\u001b[39m\u001b[49m\u001b[47m\u001b[30mA\u001b[39m\u001b[49m\u001b[47m\u001b[30mG\u001b[39m\u001b[49m\u001b[47m\u001b[30mA\u001b[39m\u001b[49m\u001b[47m\u001b[30mG\u001b[39m\u001b[49m\u001b[47m\u001b[30mG\u001b[39m\u001b[49m\u001b[47m\u001b[30mT\u001b[39m\u001b[49m\u001b[47m\u001b[30mT\u001b[39m\u001b[49m\u001b[47m\u001b[30mT\u001b[39m\u001b[49m\u001b[47m\u001b[30mT\u001b[39m\u001b[49m\u001b[47m\u001b[30mC\u001b[39m\u001b[49m\u001b[47m\u001b[30mA\u001b[39m\u001b[49m\u001b[47m\u001b[30mC\u001b[39m\u001b[49m\u001b[47m\u001b[30mC\u001b[39m\u001b[49m\u001b[47m\u001b[30mG\u001b[39m\u001b[49m\u001b[47m\u001b[30mT\u001b[39m\u001b[49m\u001b[47m\u001b[30mC\u001b[39m\u001b[49m\u001b[47m\u001b[30mA\u001b[39m\u001b[49m\u001b[47m\u001b[30mT\u001b[39m\u001b[49m\u001b[47m\u001b[30mC\u001b[39m\u001b[49m\u001b[47m\u001b[30mA\u001b[39m\u001b[49m\u001b[47m\u001b[30mC\u001b[39m\u001b[49m\u001b[47m\u001b[30mC\u001b[39m\u001b[49m\u001b[47m\u001b[30mG\u001b[39m\u001b[49m\u001b[47m\u001b[30mA\u001b[39m\u001b[49m\u001b[47m\u001b[30mA\u001b[39m\u001b[49m\u001b[47m\u001b[30mA\u001b[39m\u001b[49m\u001b[47m\u001b[30mC\u001b[39m\u001b[49m\u001b[47m\u001b[30mG\u001b[39m\u001b[49m\u001b[47m\u001b[30mC\u001b[39m\u001b[49m\u001b[47m\u001b[30mG\u001b[39m\u001b[49m\u001b[47m\u001b[30mC\u001b[39m\u001b[49m\u001b[47m\u001b[30mG\u001b[39m\u001b[49m\u001b[47m\u001b[30mA\u001b[39m\u001b[49m\n"
     ]
    }
   ],
   "source": [
    "genome <- readDNAStringSet(\"../annotations/plasmids/pHPHS232_pHPHS800_pPNHS189.fa\") %>% \n",
    "  unlist() %>% \n",
    "  print()"
   ]
  },
  {
   "cell_type": "code",
   "execution_count": 9,
   "metadata": {
    "vscode": {
     "languageId": "r"
    }
   },
   "outputs": [
    {
     "name": "stdout",
     "output_type": "stream",
     "text": [
      "DNAStringSet object of length 6:\n",
      "    width seq                                               names               \n",
      "[1]  5523 \u001b[47m\u001b[30mG\u001b[39m\u001b[49m\u001b[47m\u001b[30mT\u001b[39m\u001b[49m\u001b[47m\u001b[30mC\u001b[39m\u001b[49m\u001b[47m\u001b[30mA\u001b[39m\u001b[49m\u001b[47m\u001b[30mG\u001b[39m\u001b[49m\u001b[47m\u001b[30mA\u001b[39m\u001b[49m\u001b[47m\u001b[30mT\u001b[39m\u001b[49m\u001b[47m\u001b[30mC\u001b[39m\u001b[49m\u001b[47m\u001b[30mG\u001b[39m\u001b[49m\u001b[47m\u001b[30mC\u001b[39m\u001b[49m\u001b[47m\u001b[30mC\u001b[39m\u001b[49m\u001b[47m\u001b[30mT\u001b[39m\u001b[49m\u001b[47m\u001b[30mG\u001b[39m\u001b[49m\u001b[47m\u001b[30mG\u001b[39m\u001b[49m\u001b[47m\u001b[30mA\u001b[39m\u001b[49m\u001b[47m\u001b[30mG\u001b[39m\u001b[49m\u001b[47m\u001b[30mC\u001b[39m\u001b[49m\u001b[47m\u001b[30mA\u001b[39m\u001b[49m\u001b[47m\u001b[30mA\u001b[39m\u001b[49m\u001b[47m\u001b[30mT\u001b[39m\u001b[49m\u001b[47m\u001b[30mT\u001b[39m\u001b[49m\u001b[47m\u001b[30mC\u001b[39m\u001b[49m\u001b[47m\u001b[30mC\u001b[39m\u001b[49m...\u001b[47m\u001b[30mA\u001b[39m\u001b[49m\u001b[47m\u001b[30mA\u001b[39m\u001b[49m\u001b[47m\u001b[30mC\u001b[39m\u001b[49m\u001b[47m\u001b[30mC\u001b[39m\u001b[49m\u001b[47m\u001b[30mA\u001b[39m\u001b[49m\u001b[47m\u001b[30mT\u001b[39m\u001b[49m\u001b[47m\u001b[30mT\u001b[39m\u001b[49m\u001b[47m\u001b[30mA\u001b[39m\u001b[49m\u001b[47m\u001b[30mT\u001b[39m\u001b[49m\u001b[47m\u001b[30mA\u001b[39m\u001b[49m\u001b[47m\u001b[30mA\u001b[39m\u001b[49m\u001b[47m\u001b[30mG\u001b[39m\u001b[49m\u001b[47m\u001b[30mC\u001b[39m\u001b[49m\u001b[47m\u001b[30mT\u001b[39m\u001b[49m\u001b[47m\u001b[30mG\u001b[39m\u001b[49m\u001b[47m\u001b[30mC\u001b[39m\u001b[49m\u001b[47m\u001b[30mA\u001b[39m\u001b[49m\u001b[47m\u001b[30mA\u001b[39m\u001b[49m\u001b[47m\u001b[30mT\u001b[39m\u001b[49m\u001b[47m\u001b[30mA\u001b[39m\u001b[49m\u001b[47m\u001b[30mA\u001b[39m\u001b[49m\u001b[47m\u001b[30mA\u001b[39m\u001b[49m\u001b[47m\u001b[30mC\u001b[39m\u001b[49m Cas9\n",
      "[2]  1132 \u001b[47m\u001b[30mG\u001b[39m\u001b[49m\u001b[47m\u001b[30mG\u001b[39m\u001b[49m\u001b[47m\u001b[30mC\u001b[39m\u001b[49m\u001b[47m\u001b[30mC\u001b[39m\u001b[49m\u001b[47m\u001b[30mT\u001b[39m\u001b[49m\u001b[47m\u001b[30mC\u001b[39m\u001b[49m\u001b[47m\u001b[30mG\u001b[39m\u001b[49m\u001b[47m\u001b[30mA\u001b[39m\u001b[49m\u001b[47m\u001b[30mG\u001b[39m\u001b[49m\u001b[47m\u001b[30mA\u001b[39m\u001b[49m\u001b[47m\u001b[30mG\u001b[39m\u001b[49m\u001b[47m\u001b[30mA\u001b[39m\u001b[49m\u001b[47m\u001b[30mT\u001b[39m\u001b[49m\u001b[47m\u001b[30mC\u001b[39m\u001b[49m\u001b[47m\u001b[30mT\u001b[39m\u001b[49m\u001b[47m\u001b[30mG\u001b[39m\u001b[49m\u001b[47m\u001b[30mG\u001b[39m\u001b[49m\u001b[47m\u001b[30mC\u001b[39m\u001b[49m\u001b[47m\u001b[30mA\u001b[39m\u001b[49m\u001b[47m\u001b[30mG\u001b[39m\u001b[49m\u001b[47m\u001b[30mC\u001b[39m\u001b[49m\u001b[47m\u001b[30mG\u001b[39m\u001b[49m\u001b[47m\u001b[30mG\u001b[39m\u001b[49m...\u001b[47m\u001b[30mT\u001b[39m\u001b[49m\u001b[47m\u001b[30mG\u001b[39m\u001b[49m\u001b[47m\u001b[30mG\u001b[39m\u001b[49m\u001b[47m\u001b[30mG\u001b[39m\u001b[49m\u001b[47m\u001b[30mG\u001b[39m\u001b[49m\u001b[47m\u001b[30mA\u001b[39m\u001b[49m\u001b[47m\u001b[30mT\u001b[39m\u001b[49m\u001b[47m\u001b[30mG\u001b[39m\u001b[49m\u001b[47m\u001b[30mC\u001b[39m\u001b[49m\u001b[47m\u001b[30mG\u001b[39m\u001b[49m\u001b[47m\u001b[30mG\u001b[39m\u001b[49m\u001b[47m\u001b[30mT\u001b[39m\u001b[49m\u001b[47m\u001b[30mG\u001b[39m\u001b[49m\u001b[47m\u001b[30mG\u001b[39m\u001b[49m\u001b[47m\u001b[30mG\u001b[39m\u001b[49m\u001b[47m\u001b[30mC\u001b[39m\u001b[49m\u001b[47m\u001b[30mT\u001b[39m\u001b[49m\u001b[47m\u001b[30mC\u001b[39m\u001b[49m\u001b[47m\u001b[30mT\u001b[39m\u001b[49m\u001b[47m\u001b[30mA\u001b[39m\u001b[49m\u001b[47m\u001b[30mT\u001b[39m\u001b[49m\u001b[47m\u001b[30mG\u001b[39m\u001b[49m\u001b[47m\u001b[30mG\u001b[39m\u001b[49m NeoR\n",
      "[3]  3029 \u001b[47m\u001b[30mG\u001b[39m\u001b[49m\u001b[47m\u001b[30mC\u001b[39m\u001b[49m\u001b[47m\u001b[30mC\u001b[39m\u001b[49m\u001b[47m\u001b[30mA\u001b[39m\u001b[49m\u001b[47m\u001b[30mC\u001b[39m\u001b[49m\u001b[47m\u001b[30mC\u001b[39m\u001b[49m\u001b[47m\u001b[30mA\u001b[39m\u001b[49m\u001b[47m\u001b[30mT\u001b[39m\u001b[49m\u001b[47m\u001b[30mG\u001b[39m\u001b[49m\u001b[47m\u001b[30mG\u001b[39m\u001b[49m\u001b[47m\u001b[30mT\u001b[39m\u001b[49m\u001b[47m\u001b[30mG\u001b[39m\u001b[49m\u001b[47m\u001b[30mT\u001b[39m\u001b[49m\u001b[47m\u001b[30mC\u001b[39m\u001b[49m\u001b[47m\u001b[30mT\u001b[39m\u001b[49m\u001b[47m\u001b[30mA\u001b[39m\u001b[49m\u001b[47m\u001b[30mA\u001b[39m\u001b[49m\u001b[47m\u001b[30mG\u001b[39m\u001b[49m\u001b[47m\u001b[30mG\u001b[39m\u001b[49m\u001b[47m\u001b[30mG\u001b[39m\u001b[49m\u001b[47m\u001b[30mC\u001b[39m\u001b[49m\u001b[47m\u001b[30mG\u001b[39m\u001b[49m\u001b[47m\u001b[30mA\u001b[39m\u001b[49m...\u001b[47m\u001b[30mG\u001b[39m\u001b[49m\u001b[47m\u001b[30mT\u001b[39m\u001b[49m\u001b[47m\u001b[30mC\u001b[39m\u001b[49m\u001b[47m\u001b[30mC\u001b[39m\u001b[49m\u001b[47m\u001b[30mC\u001b[39m\u001b[49m\u001b[47m\u001b[30mT\u001b[39m\u001b[49m\u001b[47m\u001b[30mC\u001b[39m\u001b[49m\u001b[47m\u001b[30mT\u001b[39m\u001b[49m\u001b[47m\u001b[30mT\u001b[39m\u001b[49m\u001b[47m\u001b[30mC\u001b[39m\u001b[49m\u001b[47m\u001b[30mT\u001b[39m\u001b[49m\u001b[47m\u001b[30mC\u001b[39m\u001b[49m\u001b[47m\u001b[30mT\u001b[39m\u001b[49m\u001b[47m\u001b[30mT\u001b[39m\u001b[49m\u001b[47m\u001b[30mA\u001b[39m\u001b[49m\u001b[47m\u001b[30mT\u001b[39m\u001b[49m\u001b[47m\u001b[30mG\u001b[39m\u001b[49m\u001b[47m\u001b[30mG\u001b[39m\u001b[49m\u001b[47m\u001b[30mA\u001b[39m\u001b[49m\u001b[47m\u001b[30mG\u001b[39m\u001b[49m\u001b[47m\u001b[30mA\u001b[39m\u001b[49m\u001b[47m\u001b[30mT\u001b[39m\u001b[49m\u001b[47m\u001b[30mC\u001b[39m\u001b[49m bfp\n",
      "[4]  1094 \u001b[47m\u001b[30mA\u001b[39m\u001b[49m\u001b[47m\u001b[30mA\u001b[39m\u001b[49m\u001b[47m\u001b[30mT\u001b[39m\u001b[49m\u001b[47m\u001b[30mT\u001b[39m\u001b[49m\u001b[47m\u001b[30mC\u001b[39m\u001b[49m\u001b[47m\u001b[30mA\u001b[39m\u001b[49m\u001b[47m\u001b[30mG\u001b[39m\u001b[49m\u001b[47m\u001b[30mA\u001b[39m\u001b[49m\u001b[47m\u001b[30mT\u001b[39m\u001b[49m\u001b[47m\u001b[30mC\u001b[39m\u001b[49m\u001b[47m\u001b[30mG\u001b[39m\u001b[49m\u001b[47m\u001b[30mC\u001b[39m\u001b[49m\u001b[47m\u001b[30mC\u001b[39m\u001b[49m\u001b[47m\u001b[30mT\u001b[39m\u001b[49m\u001b[47m\u001b[30mG\u001b[39m\u001b[49m\u001b[47m\u001b[30mG\u001b[39m\u001b[49m\u001b[47m\u001b[30mA\u001b[39m\u001b[49m\u001b[47m\u001b[30mG\u001b[39m\u001b[49m\u001b[47m\u001b[30mC\u001b[39m\u001b[49m\u001b[47m\u001b[30mA\u001b[39m\u001b[49m\u001b[47m\u001b[30mA\u001b[39m\u001b[49m\u001b[47m\u001b[30mT\u001b[39m\u001b[49m\u001b[47m\u001b[30mT\u001b[39m\u001b[49m...\u001b[47m\u001b[30mT\u001b[39m\u001b[49m\u001b[47m\u001b[30mG\u001b[39m\u001b[49m\u001b[47m\u001b[30mG\u001b[39m\u001b[49m\u001b[47m\u001b[30mG\u001b[39m\u001b[49m\u001b[47m\u001b[30mG\u001b[39m\u001b[49m\u001b[47m\u001b[30mA\u001b[39m\u001b[49m\u001b[47m\u001b[30mT\u001b[39m\u001b[49m\u001b[47m\u001b[30mG\u001b[39m\u001b[49m\u001b[47m\u001b[30mC\u001b[39m\u001b[49m\u001b[47m\u001b[30mG\u001b[39m\u001b[49m\u001b[47m\u001b[30mG\u001b[39m\u001b[49m\u001b[47m\u001b[30mT\u001b[39m\u001b[49m\u001b[47m\u001b[30mG\u001b[39m\u001b[49m\u001b[47m\u001b[30mG\u001b[39m\u001b[49m\u001b[47m\u001b[30mG\u001b[39m\u001b[49m\u001b[47m\u001b[30mC\u001b[39m\u001b[49m\u001b[47m\u001b[30mT\u001b[39m\u001b[49m\u001b[47m\u001b[30mC\u001b[39m\u001b[49m\u001b[47m\u001b[30mT\u001b[39m\u001b[49m\u001b[47m\u001b[30mA\u001b[39m\u001b[49m\u001b[47m\u001b[30mT\u001b[39m\u001b[49m\u001b[47m\u001b[30mG\u001b[39m\u001b[49m\u001b[47m\u001b[30mG\u001b[39m\u001b[49m eyfp\n",
      "[5]  1625 \u001b[47m\u001b[30mC\u001b[39m\u001b[49m\u001b[47m\u001b[30mT\u001b[39m\u001b[49m\u001b[47m\u001b[30mT\u001b[39m\u001b[49m\u001b[47m\u001b[30mT\u001b[39m\u001b[49m\u001b[47m\u001b[30mT\u001b[39m\u001b[49m\u001b[47m\u001b[30mT\u001b[39m\u001b[49m\u001b[47m\u001b[30mC\u001b[39m\u001b[49m\u001b[47m\u001b[30mG\u001b[39m\u001b[49m\u001b[47m\u001b[30mC\u001b[39m\u001b[49m\u001b[47m\u001b[30mA\u001b[39m\u001b[49m\u001b[47m\u001b[30mA\u001b[39m\u001b[49m\u001b[47m\u001b[30mC\u001b[39m\u001b[49m\u001b[47m\u001b[30mG\u001b[39m\u001b[49m\u001b[47m\u001b[30mG\u001b[39m\u001b[49m\u001b[47m\u001b[30mG\u001b[39m\u001b[49m\u001b[47m\u001b[30mT\u001b[39m\u001b[49m\u001b[47m\u001b[30mT\u001b[39m\u001b[49m\u001b[47m\u001b[30mT\u001b[39m\u001b[49m\u001b[47m\u001b[30mG\u001b[39m\u001b[49m\u001b[47m\u001b[30mC\u001b[39m\u001b[49m\u001b[47m\u001b[30mC\u001b[39m\u001b[49m\u001b[47m\u001b[30mG\u001b[39m\u001b[49m\u001b[47m\u001b[30mC\u001b[39m\u001b[49m...\u001b[47m\u001b[30mA\u001b[39m\u001b[49m\u001b[47m\u001b[30mA\u001b[39m\u001b[49m\u001b[47m\u001b[30mC\u001b[39m\u001b[49m\u001b[47m\u001b[30mC\u001b[39m\u001b[49m\u001b[47m\u001b[30mA\u001b[39m\u001b[49m\u001b[47m\u001b[30mT\u001b[39m\u001b[49m\u001b[47m\u001b[30mT\u001b[39m\u001b[49m\u001b[47m\u001b[30mA\u001b[39m\u001b[49m\u001b[47m\u001b[30mT\u001b[39m\u001b[49m\u001b[47m\u001b[30mA\u001b[39m\u001b[49m\u001b[47m\u001b[30mA\u001b[39m\u001b[49m\u001b[47m\u001b[30mG\u001b[39m\u001b[49m\u001b[47m\u001b[30mC\u001b[39m\u001b[49m\u001b[47m\u001b[30mT\u001b[39m\u001b[49m\u001b[47m\u001b[30mG\u001b[39m\u001b[49m\u001b[47m\u001b[30mC\u001b[39m\u001b[49m\u001b[47m\u001b[30mA\u001b[39m\u001b[49m\u001b[47m\u001b[30mA\u001b[39m\u001b[49m\u001b[47m\u001b[30mT\u001b[39m\u001b[49m\u001b[47m\u001b[30mA\u001b[39m\u001b[49m\u001b[47m\u001b[30mA\u001b[39m\u001b[49m\u001b[47m\u001b[30mA\u001b[39m\u001b[49m\u001b[47m\u001b[30mC\u001b[39m\u001b[49m mcherry\n",
      "[6]   952 \u001b[47m\u001b[30mG\u001b[39m\u001b[49m\u001b[47m\u001b[30mA\u001b[39m\u001b[49m\u001b[47m\u001b[30mT\u001b[39m\u001b[49m\u001b[47m\u001b[30mC\u001b[39m\u001b[49m\u001b[47m\u001b[30mG\u001b[39m\u001b[49m\u001b[47m\u001b[30mC\u001b[39m\u001b[49m\u001b[47m\u001b[30mC\u001b[39m\u001b[49m\u001b[47m\u001b[30mT\u001b[39m\u001b[49m\u001b[47m\u001b[30mG\u001b[39m\u001b[49m\u001b[47m\u001b[30mG\u001b[39m\u001b[49m\u001b[47m\u001b[30mA\u001b[39m\u001b[49m\u001b[47m\u001b[30mG\u001b[39m\u001b[49m\u001b[47m\u001b[30mA\u001b[39m\u001b[49m\u001b[47m\u001b[30mC\u001b[39m\u001b[49m\u001b[47m\u001b[30mG\u001b[39m\u001b[49m\u001b[47m\u001b[30mC\u001b[39m\u001b[49m\u001b[47m\u001b[30mC\u001b[39m\u001b[49m\u001b[47m\u001b[30mA\u001b[39m\u001b[49m\u001b[47m\u001b[30mT\u001b[39m\u001b[49m\u001b[47m\u001b[30mC\u001b[39m\u001b[49m\u001b[47m\u001b[30mC\u001b[39m\u001b[49m\u001b[47m\u001b[30mA\u001b[39m\u001b[49m\u001b[47m\u001b[30mC\u001b[39m\u001b[49m...\u001b[47m\u001b[30mA\u001b[39m\u001b[49m\u001b[47m\u001b[30mA\u001b[39m\u001b[49m\u001b[47m\u001b[30mC\u001b[39m\u001b[49m\u001b[47m\u001b[30mC\u001b[39m\u001b[49m\u001b[47m\u001b[30mA\u001b[39m\u001b[49m\u001b[47m\u001b[30mT\u001b[39m\u001b[49m\u001b[47m\u001b[30mT\u001b[39m\u001b[49m\u001b[47m\u001b[30mA\u001b[39m\u001b[49m\u001b[47m\u001b[30mT\u001b[39m\u001b[49m\u001b[47m\u001b[30mA\u001b[39m\u001b[49m\u001b[47m\u001b[30mA\u001b[39m\u001b[49m\u001b[47m\u001b[30mG\u001b[39m\u001b[49m\u001b[47m\u001b[30mC\u001b[39m\u001b[49m\u001b[47m\u001b[30mT\u001b[39m\u001b[49m\u001b[47m\u001b[30mG\u001b[39m\u001b[49m\u001b[47m\u001b[30mC\u001b[39m\u001b[49m\u001b[47m\u001b[30mA\u001b[39m\u001b[49m\u001b[47m\u001b[30mA\u001b[39m\u001b[49m\u001b[47m\u001b[30mT\u001b[39m\u001b[49m\u001b[47m\u001b[30mA\u001b[39m\u001b[49m\u001b[47m\u001b[30mA\u001b[39m\u001b[49m\u001b[47m\u001b[30mA\u001b[39m\u001b[49m\u001b[47m\u001b[30mC\u001b[39m\u001b[49m rtta3\n"
     ]
    }
   ],
   "source": [
    "tx_seq <- GenomicFeatures::extractTranscriptSeqs(genome, as(tx, \"IntegerRangesList\")) %>% \n",
    "  print()"
   ]
  },
  {
   "cell_type": "code",
   "execution_count": 10,
   "metadata": {
    "vscode": {
     "languageId": "r"
    }
   },
   "outputs": [
    {
     "name": "stdout",
     "output_type": "stream",
     "text": [
      "\u001b[90m# A tibble: 1 × 3\u001b[39m\n",
      "  seqnames start   end\n",
      "  \u001b[3m\u001b[90m<fct>\u001b[39m\u001b[23m    \u001b[3m\u001b[90m<int>\u001b[39m\u001b[23m \u001b[3m\u001b[90m<int>\u001b[39m\u001b[23m\n",
      "\u001b[90m1\u001b[39m eyfp        60    62\n"
     ]
    }
   ],
   "source": [
    "start_codons_tx <- tx_annotations %>% \n",
    "  filter(type == \"start_codon\") %>% \n",
    "  GenomicFeatures::mapToTranscripts(tx) %>%\n",
    "  as_tibble() %>% \n",
    "  select(seqnames, start, end) %>%\n",
    "  print()"
   ]
  },
  {
   "cell_type": "code",
   "execution_count": 11,
   "metadata": {
    "vscode": {
     "languageId": "r"
    }
   },
   "outputs": [
    {
     "name": "stdout",
     "output_type": "stream",
     "text": [
      "\u001b[90m# A tibble: 6 × 3\u001b[39m\n",
      "  gene_name type  start\n",
      "  \u001b[3m\u001b[90m<chr>\u001b[39m\u001b[23m     \u001b[3m\u001b[90m<chr>\u001b[39m\u001b[23m \u001b[3m\u001b[90m<int>\u001b[39m\u001b[23m\n",
      "\u001b[90m1\u001b[39m bfp       CDS       7\n",
      "\u001b[90m2\u001b[39m Cas9      CDS     100\n",
      "\u001b[90m3\u001b[39m eyfp      CDS      60\n",
      "\u001b[90m4\u001b[39m mcherry   CDS     106\n",
      "\u001b[90m5\u001b[39m NeoR      CDS       1\n",
      "\u001b[90m6\u001b[39m rtta3     CDS     115\n"
     ]
    }
   ],
   "source": [
    "utr_cds_annotations <- tx_annotations %>% \n",
    "  filter(type %in% c(\"UTR\", \"CDS\")) \n",
    "\n",
    "utr_cds_length <- utr_cds_annotations %>%\n",
    "  GenomicFeatures::mapToTranscripts(tx) %>%\n",
    "  as_tibble() %>% \n",
    "  mutate(type = utr_cds_annotations$type[xHits]) %>%\n",
    "  left_join(start_codons_tx, by = \"seqnames\", suffix = c(\"\", \"_start\")) %>%\n",
    "  left_join(tx_gene_names, by = c(\"seqnames\" = \"transcript_id\")) %>%\n",
    "  mutate(type = case_when(\n",
    "    type == \"UTR\" & start < start_start ~ \"UTR5\",\n",
    "    type == \"UTR\" & start > start_start ~ \"UTR3\",\n",
    "    TRUE ~ \"CDS\"\n",
    "  )) %>%\n",
    "  group_by(gene_name, type) %>%\n",
    "  summarize(start = min(start), .groups = \"drop\") %>%\n",
    "  print()"
   ]
  },
  {
   "cell_type": "code",
   "execution_count": 12,
   "metadata": {
    "vscode": {
     "languageId": "r"
    }
   },
   "outputs": [
    {
     "data": {
      "image/png": "[encoded data removed]",
      "text/plain": [
       "plot without title"
      ]
     },
     "metadata": {
      "image/png": {
       "height": 240,
       "width": 240
      }
     },
     "output_type": "display_data"
    }
   ],
   "source": [
    "options(repr.plot.width = 4, repr.plot.height = 4)\n",
    "\n",
    "gene <- \"eyfp\"\n",
    "\n",
    "plot_data <- aln_counts %>%\n",
    "  as_tibble() %>%\n",
    "  left_join(tx_gene_names, by = c(\"seqnames\" = \"transcript_id\")) %>%\n",
    "  filter(gene_name == gene)\n",
    "\n",
    "tx_width <- tx_gene_names %>%\n",
    "  filter(gene_name == gene) %>%\n",
    "  pull(transcript_id) %>%\n",
    "  tx_seq[.] %>%\n",
    "  width()\n",
    "\n",
    "plot_data <- tx_width %>%\n",
    "  seq(1, .) %>%\n",
    "  as_tibble_col(column_name = \"start\") %>%\n",
    "  left_join(plot_data, by = \"start\") %>% \n",
    "  complete(sample_name, start) %>%\n",
    "  mutate(score = ifelse(is.na(score), 0, score)) %>%\n",
    "  filter(!is.na(sample_name)) %>%\n",
    "  mutate(drug = str_extract(sample_name, \"dmso|hht\")) %>%\n",
    "  mutate(sgrna = str_extract(sample_name, \"gcn1|fluc\"))\n",
    "\n",
    "gene_plot <- plot_data  %>%\n",
    "  inner_join(utr_cds_length, by = c(\"psite\" = \"start\", \"gene_name\"))\n",
    "\n",
    "\n",
    "plot_data %>%\n",
    "  ggplot(aes(x = psite, y = score, fill = sgrna, color = sgrna)) +\n",
    "  facet_wrap(~ drug + sgrna, scales = \"free_y\", ncol = 1) +\n",
    "  geom_col() +\n",
    "  geom_point(aes(x = psite, y = 0), size = 1, shape = \"plus\", color = \"red\", data = gene_plot, vjust = 1, hjust = 0.5) +\n",
    "  labs(title = gene) +\n",
    "  theme(strip.text.x = element_blank(),\n",
    "  #   axis.title.y = element_blank(),\n",
    "  # axis.text.y = element_blank(),\n",
    "  # axis.ticks.y = element_blank(),\n",
    "  # axis.line.y = element_blank()\n",
    "  ) +\n",
    "  scale_x_continuous(limits=c(1, tx_width)) +\n",
    "  scale_y_continuous(breaks = scales::pretty_breaks(n=3))\n",
    "\n",
    "ggsave(\"../figures/eyfp_riboseq.pdf\", width = 4, height = 4)\n"
   ]
  }
 ],
 "metadata": {
  "kernelspec": {
   "display_name": "R",
   "language": "R",
   "name": "ir"
  },
  "language_info": {
   "codemirror_mode": "r",
   "file_extension": ".r",
   "mimetype": "text/x-r-source",
   "name": "R",
   "pygments_lexer": "r",
   "version": "4.2.2"
  }
 },
 "nbformat": 4,
 "nbformat_minor": 2
}
