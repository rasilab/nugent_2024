{
 "cells": [
  {
   "cell_type": "code",
   "execution_count": 6,
   "metadata": {
    "vscode": {
     "languageId": "r"
    }
   },
   "outputs": [],
   "source": [
    "options(warn = -1)\n",
    "suppressPackageStartupMessages(library(tidyverse))"
   ]
  },
  {
   "cell_type": "code",
   "execution_count": 7,
   "metadata": {
    "vscode": {
     "languageId": "r"
    }
   },
   "outputs": [
    {
     "name": "stdout",
     "output_type": "stream",
     "text": [
      "\u001b[90m# A tibble: 65 × 5\u001b[39m\n",
      "   biosample    sra         sample_name             sample_title         sampl…¹\n",
      "   \u001b[3m\u001b[90m<chr>\u001b[39m\u001b[23m        \u001b[3m\u001b[90m<chr>\u001b[39m\u001b[23m       \u001b[3m\u001b[90m<chr>\u001b[39m\u001b[23m                   \u001b[3m\u001b[90m<chr>\u001b[39m\u001b[23m                \u001b[3m\u001b[90m<chr>\u001b[39m\u001b[23m  \n",
      "\u001b[90m 1\u001b[39m SAMN41635751 SRR29254892 ntc_day1_bc1_grna       NTC day 1 barcode 1… 219p138\n",
      "\u001b[90m 2\u001b[39m SAMN41635752 SRR29254891 ntc_day5_bc1_grna       NTC day 5 barcode 1… 219p139\n",
      "\u001b[90m 3\u001b[39m SAMN41635753 SRR29254880 ntc_day13_bc1_grna      NTC day 13 barcode … 219p140\n",
      "\u001b[90m 4\u001b[39m SAMN41635754 SRR29254869 ntc_day21_bc1_grna      NTC day 21 barcode … 219p141\n",
      "\u001b[90m 5\u001b[39m SAMN41635755 SRR29254861 ntc_day1_bc1_total      NTC day 1 barcode 1… 219p27 \n",
      "\u001b[90m 6\u001b[39m SAMN41635756 SRR29254860 ntc_day3_bc1_total      NTC day 3 barcode 1… 219p29 \n",
      "\u001b[90m 7\u001b[39m SAMN41635757 SRR29254859 ntc_day5_bc1_total      NTC day 5 barcode 1… 219p31 \n",
      "\u001b[90m 8\u001b[39m SAMN41635758 SRR29254858 ntc_day7_dmso_bc1_total NTC day 7 barcode 1… 219p3  \n",
      "\u001b[90m 9\u001b[39m SAMN41635759 SRR29254857 ntc_day13_bc1_total     NTC day 13 barcode … 219p33 \n",
      "\u001b[90m10\u001b[39m SAMN41635760 SRR29254856 ntc_day21_bc1_total     NTC day 21 barcode … 219p34 \n",
      "\u001b[90m# … with 55 more rows, and abbreviated variable name ¹​sample_id\u001b[39m\n"
     ]
    }
   ],
   "source": [
    "sra_annotations <- read_csv(\"./table_s5_sra_accession_numbers.csv\", show_col_types = F) %>% \n",
    "  print()"
   ]
  },
  {
   "cell_type": "code",
   "execution_count": 8,
   "metadata": {
    "vscode": {
     "languageId": "r"
    }
   },
   "outputs": [
    {
     "name": "stdout",
     "output_type": "stream",
     "text": [
      "\u001b[90m# A tibble: 326,297 × 6\u001b[39m\n",
      "   sample_id sample_name   insert_num barcode_count umi_count read_count\n",
      "   \u001b[3m\u001b[90m<chr>\u001b[39m\u001b[23m     \u001b[3m\u001b[90m<chr>\u001b[39m\u001b[23m              \u001b[3m\u001b[90m<dbl>\u001b[39m\u001b[23m         \u001b[3m\u001b[90m<dbl>\u001b[39m\u001b[23m     \u001b[3m\u001b[90m<dbl>\u001b[39m\u001b[23m      \u001b[3m\u001b[90m<dbl>\u001b[39m\u001b[23m\n",
      "\u001b[90m 1\u001b[39m 179p2     ntc_bc1_total       \u001b[4m7\u001b[24m003           149     \u001b[4m9\u001b[24m\u001b[4m1\u001b[24m673     \u001b[4m1\u001b[24m\u001b[4m4\u001b[24m\u001b[4m4\u001b[24m196\n",
      "\u001b[90m 2\u001b[39m 179p2     ntc_bc1_total       \u001b[4m3\u001b[24m648            12     \u001b[4m2\u001b[24m\u001b[4m5\u001b[24m844      \u001b[4m4\u001b[24m\u001b[4m6\u001b[24m554\n",
      "\u001b[90m 3\u001b[39m 179p2     ntc_bc1_total        507            15     \u001b[4m2\u001b[24m\u001b[4m5\u001b[24m516      \u001b[4m4\u001b[24m\u001b[4m4\u001b[24m083\n",
      "\u001b[90m 4\u001b[39m 179p2     ntc_bc1_total       \u001b[4m4\u001b[24m221             8     \u001b[4m2\u001b[24m\u001b[4m2\u001b[24m694      \u001b[4m4\u001b[24m\u001b[4m0\u001b[24m340\n",
      "\u001b[90m 5\u001b[39m 179p2     ntc_bc1_total       \u001b[4m8\u001b[24m540            10     \u001b[4m2\u001b[24m\u001b[4m2\u001b[24m694      \u001b[4m4\u001b[24m\u001b[4m3\u001b[24m321\n",
      "\u001b[90m 6\u001b[39m 179p2     ntc_bc1_total       \u001b[4m3\u001b[24m268            12     \u001b[4m2\u001b[24m\u001b[4m2\u001b[24m670      \u001b[4m4\u001b[24m\u001b[4m7\u001b[24m235\n",
      "\u001b[90m 7\u001b[39m 179p2     ntc_bc1_total       \u001b[4m7\u001b[24m535            16     \u001b[4m2\u001b[24m\u001b[4m1\u001b[24m601      \u001b[4m3\u001b[24m\u001b[4m6\u001b[24m266\n",
      "\u001b[90m 8\u001b[39m 179p2     ntc_bc1_total       \u001b[4m7\u001b[24m513            14     \u001b[4m2\u001b[24m\u001b[4m1\u001b[24m314      \u001b[4m3\u001b[24m\u001b[4m5\u001b[24m989\n",
      "\u001b[90m 9\u001b[39m 179p2     ntc_bc1_total       \u001b[4m1\u001b[24m508            18     \u001b[4m2\u001b[24m\u001b[4m1\u001b[24m000      \u001b[4m3\u001b[24m\u001b[4m6\u001b[24m022\n",
      "\u001b[90m10\u001b[39m 179p2     ntc_bc1_total        178            11     \u001b[4m2\u001b[24m\u001b[4m0\u001b[24m698      \u001b[4m3\u001b[24m\u001b[4m6\u001b[24m627\n",
      "\u001b[90m# … with 326,287 more rows\u001b[39m\n"
     ]
    }
   ],
   "source": [
    "insert_counts <- list.files(\"../../analysis/barcodeseq/rbp_barcode_screens/data/insert_counts\", full.names = T, pattern = \"csv\") %>% \n",
    "  read_csv(show_col_types = F, id = \"sample_id\") %>% \n",
    "  mutate(sample_id = str_extract(sample_id, '[^/]+(?=.csv)')) %>% \n",
    "  left_join(sra_annotations  %>% select(sample_id, sample_name), by = \"sample_id\") %>%\n",
    "  select(sample_id, sample_name, everything()) %>% \n",
    "  write_csv(\"table_s6_sgrna_counts.csv.gz\") %>% \n",
    "  print()"
   ]
  },
  {
   "cell_type": "code",
   "execution_count": 9,
   "metadata": {
    "vscode": {
     "languageId": "r"
    }
   },
   "outputs": [
    {
     "name": "stdout",
     "output_type": "stream",
     "text": [
      "\u001b[90m# A tibble: 331,973 × 16\u001b[39m\n",
      "   comparison sgrna gene  contr…¹ treat…² contr…³ treat…⁴    lfc contr…⁵ adj_var\n",
      "   \u001b[3m\u001b[90m<chr>\u001b[39m\u001b[23m      \u001b[3m\u001b[90m<chr>\u001b[39m\u001b[23m \u001b[3m\u001b[90m<chr>\u001b[39m\u001b[23m   \u001b[3m\u001b[90m<dbl>\u001b[39m\u001b[23m   \u001b[3m\u001b[90m<dbl>\u001b[39m\u001b[23m   \u001b[3m\u001b[90m<dbl>\u001b[39m\u001b[23m   \u001b[3m\u001b[90m<dbl>\u001b[39m\u001b[23m  \u001b[3m\u001b[90m<dbl>\u001b[39m\u001b[23m   \u001b[3m\u001b[90m<dbl>\u001b[39m\u001b[23m   \u001b[3m\u001b[90m<dbl>\u001b[39m\u001b[23m\n",
      "\u001b[90m 1\u001b[39m eyfpwt_ho… PTCD… PTCD2  \u001b[4m1\u001b[24m632.    \u001b[4m5\u001b[24m281   \u001b[4m1\u001b[24m632.    \u001b[4m5\u001b[24m281   1.69  6\u001b[4m6\u001b[24m\u001b[4m5\u001b[24m\u001b[4m6\u001b[24m700  \u001b[4m2\u001b[24m\u001b[4m1\u001b[24m545 \n",
      "\u001b[90m 2\u001b[39m eyfpwt_ho… EIF3… EIF3A    50.2    472.    50.2    472.  3.21    \u001b[4m8\u001b[24m\u001b[4m9\u001b[24m069    663.\n",
      "\u001b[90m 3\u001b[39m eyfpwt_ho… GTF3… GTF3A  \u001b[4m5\u001b[24m434.    \u001b[4m1\u001b[24m980.  \u001b[4m5\u001b[24m434.    \u001b[4m1\u001b[24m980. -\u001b[31m1\u001b[39m\u001b[31m.\u001b[39m\u001b[31m46\u001b[39m  5\u001b[4m9\u001b[24m\u001b[4m6\u001b[24m\u001b[4m5\u001b[24m000  \u001b[4m7\u001b[24m\u001b[4m1\u001b[24m731 \n",
      "\u001b[90m 4\u001b[39m eyfpwt_ho… POLR… POLR…    42.5    290.    42.5    290.  2.74    \u001b[4m3\u001b[24m\u001b[4m0\u001b[24m532    561.\n",
      "\u001b[90m 5\u001b[39m eyfpwt_ho… RBM2… RBM25   155.     624.   155.     624.  2.00   \u001b[4m1\u001b[24m\u001b[4m0\u001b[24m\u001b[4m9\u001b[24m700   \u001b[4m2\u001b[24m051.\n",
      "\u001b[90m 6\u001b[39m eyfpwt_ho… METT… METT…   670.    \u001b[4m1\u001b[24m523.   670.    \u001b[4m1\u001b[24m523.  1.18   \u001b[4m3\u001b[24m\u001b[4m6\u001b[24m\u001b[4m3\u001b[24m600   \u001b[4m8\u001b[24m842.\n",
      "\u001b[90m 7\u001b[39m eyfpwt_ho… CCT7… CCT7     94.6    414.    94.6    414.  2.12    \u001b[4m5\u001b[24m\u001b[4m1\u001b[24m053   \u001b[4m1\u001b[24m249.\n",
      "\u001b[90m 8\u001b[39m eyfpwt_ho… PDIA… PDIA4  \u001b[4m2\u001b[24m432.    \u001b[4m3\u001b[24m965.  \u001b[4m2\u001b[24m432.    \u001b[4m3\u001b[24m965.  0.705 1\u001b[4m1\u001b[24m\u001b[4m7\u001b[24m\u001b[4m4\u001b[24m200  \u001b[4m3\u001b[24m\u001b[4m2\u001b[24m107 \n",
      "\u001b[90m 9\u001b[39m eyfpwt_ho… USO1… USO1   \u001b[4m2\u001b[24m288.    \u001b[4m3\u001b[24m770.  \u001b[4m2\u001b[24m288.    \u001b[4m3\u001b[24m770.  0.720 1\u001b[4m0\u001b[24m\u001b[4m9\u001b[24m\u001b[4m8\u001b[24m300  \u001b[4m3\u001b[24m\u001b[4m0\u001b[24m196 \n",
      "\u001b[90m10\u001b[39m eyfpwt_ho… FTSJ… FTSJ1    63.7    306.    63.7    306.  2.25    \u001b[4m2\u001b[24m\u001b[4m9\u001b[24m399    841.\n",
      "\u001b[90m# … with 331,963 more rows, 6 more variables: score <dbl>, p_low <dbl>,\u001b[39m\n",
      "\u001b[90m#   p_high <dbl>, p_twosided <dbl>, fdr <dbl>, high_in_treatment <lgl>, and\u001b[39m\n",
      "\u001b[90m#   abbreviated variable names ¹​control_count, ²​treatment_count, ³​control_mean,\u001b[39m\n",
      "\u001b[90m#   ⁴​treat_mean, ⁵​control_var\u001b[39m\n"
     ]
    }
   ],
   "source": [
    "mageck_sgrna_summary <- list.files(\"../../analysis/barcodeseq/rbp_barcode_screens/data/mageck\", full.names = T, pattern = \"sgrna_summary.tsv\", recursive = T) %>% \n",
    "  read_tsv(show_col_types = F, id = \"file\") %>% \n",
    "  mutate(comparison = str_extract(file, '[^/]+(?=/[^/]+tsv)')) %>% \n",
    "  select(comparison, everything(), -file) %>% \n",
    "  janitor::clean_names() %>% \n",
    "  write_csv(\"table_s7_mageck_sgrna_summary.csv.gz\") %>% \n",
    "  print()"
   ]
  },
  {
   "cell_type": "code",
   "execution_count": 10,
   "metadata": {
    "vscode": {
     "languageId": "r"
    }
   },
   "outputs": [
    {
     "name": "stdout",
     "output_type": "stream",
     "text": [
      "\u001b[90m# A tibble: 85,181 × 15\u001b[39m\n",
      "   compar…¹ id      num neg_s…² neg_p…³ neg_fdr neg_r…⁴ neg_g…⁵ neg_lfc pos_sc…⁶\n",
      "   \u001b[3m\u001b[90m<chr>\u001b[39m\u001b[23m    \u001b[3m\u001b[90m<chr>\u001b[39m\u001b[23m \u001b[3m\u001b[90m<dbl>\u001b[39m\u001b[23m   \u001b[3m\u001b[90m<dbl>\u001b[39m\u001b[23m   \u001b[3m\u001b[90m<dbl>\u001b[39m\u001b[23m   \u001b[3m\u001b[90m<dbl>\u001b[39m\u001b[23m   \u001b[3m\u001b[90m<dbl>\u001b[39m\u001b[23m   \u001b[3m\u001b[90m<dbl>\u001b[39m\u001b[23m   \u001b[3m\u001b[90m<dbl>\u001b[39m\u001b[23m    \u001b[3m\u001b[90m<dbl>\u001b[39m\u001b[23m\n",
      "\u001b[90m 1\u001b[39m eyfpwt_… GCN1      4  1       1           \u001b[31mNA\u001b[39m    \u001b[4m2\u001b[24m186       0   0.642 7.76\u001b[90me\u001b[39m\u001b[31m-10\u001b[39m\n",
      "\u001b[90m 2\u001b[39m eyfpwt_… PDIA4     4  0.020\u001b[4m1\u001b[24m  0.058\u001b[4m6\u001b[24m      \u001b[31mNA\u001b[39m     140       2   0.266 1.59\u001b[90me\u001b[39m\u001b[31m- 4\u001b[39m\n",
      "\u001b[90m 3\u001b[39m eyfpwt_… PTCD2     4  0.047\u001b[4m2\u001b[24m  0.114       \u001b[31mNA\u001b[39m     249       1   0.173 2.32\u001b[90me\u001b[39m\u001b[31m- 4\u001b[39m\n",
      "\u001b[90m 4\u001b[39m eyfpwt_… TNPO3     4  0.901   0.902       \u001b[31mNA\u001b[39m    \u001b[4m1\u001b[24m960       0   0.398 3.12\u001b[90me\u001b[39m\u001b[31m- 4\u001b[39m\n",
      "\u001b[90m 5\u001b[39m eyfpwt_… EIF3A     3  0.607   0.618       \u001b[31mNA\u001b[39m    \u001b[4m1\u001b[24m425       1   0.753 5.22\u001b[90me\u001b[39m\u001b[31m- 4\u001b[39m\n",
      "\u001b[90m 6\u001b[39m eyfpwt_… NXF2B     4  0.998   0.998       \u001b[31mNA\u001b[39m    \u001b[4m2\u001b[24m182       0   0.369 6.43\u001b[90me\u001b[39m\u001b[31m- 4\u001b[39m\n",
      "\u001b[90m 7\u001b[39m eyfpwt_… CISD2     4  0.550   0.630       \u001b[31mNA\u001b[39m    \u001b[4m1\u001b[24m348       1   0.277 6.63\u001b[90me\u001b[39m\u001b[31m- 4\u001b[39m\n",
      "\u001b[90m 8\u001b[39m eyfpwt_… NOL7      4  0.656   0.691       \u001b[31mNA\u001b[39m    \u001b[4m1\u001b[24m492       1   0.270 6.81\u001b[90me\u001b[39m\u001b[31m- 4\u001b[39m\n",
      "\u001b[90m 9\u001b[39m eyfpwt_… EIF5…     4  0.999   0.999       \u001b[31mNA\u001b[39m    \u001b[4m2\u001b[24m185       0   0.275 6.84\u001b[90me\u001b[39m\u001b[31m- 4\u001b[39m\n",
      "\u001b[90m10\u001b[39m eyfpwt_… FAST…     4  0.999   0.999       \u001b[31mNA\u001b[39m    \u001b[4m2\u001b[24m184       0   0.394 7.66\u001b[90me\u001b[39m\u001b[31m- 4\u001b[39m\n",
      "\u001b[90m# … with 85,171 more rows, 5 more variables: pos_p_value <dbl>, pos_fdr <dbl>,\u001b[39m\n",
      "\u001b[90m#   pos_rank <dbl>, pos_goodsgrna <dbl>, pos_lfc <dbl>, and abbreviated\u001b[39m\n",
      "\u001b[90m#   variable names ¹​comparison, ²​neg_score, ³​neg_p_value, ⁴​neg_rank,\u001b[39m\n",
      "\u001b[90m#   ⁵​neg_goodsgrna, ⁶​pos_score\u001b[39m\n"
     ]
    }
   ],
   "source": [
    "mageck_gene_summary <- list.files(\"../../analysis/barcodeseq/rbp_barcode_screens/data/mageck\", full.names = T, pattern = \"gene_summary.tsv\", recursive = T) %>% \n",
    "  read_tsv(show_col_types = F, id = \"file\") %>% \n",
    "  mutate(comparison = str_extract(file, '[^/]+(?=/[^/]+tsv)')) %>% \n",
    "  select(comparison, everything(), -file) %>% \n",
    "  janitor::clean_names() %>% \n",
    "  write_csv(\"table_s8_mageck_gene_summary.csv.gz\") %>% \n",
    "  print()"
   ]
  }
 ],
 "metadata": {
  "kernelspec": {
   "display_name": "R",
   "language": "R",
   "name": "ir"
  },
  "language_info": {
   "codemirror_mode": "r",
   "file_extension": ".r",
   "mimetype": "text/x-r-source",
   "name": "R",
   "pygments_lexer": "r",
   "version": "4.2.2"
  }
 },
 "nbformat": 4,
 "nbformat_minor": 2
}
